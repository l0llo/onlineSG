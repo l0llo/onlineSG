{
 "cells": [
  {
   "cell_type": "code",
   "execution_count": 1,
   "metadata": {
    "collapsed": false
   },
   "outputs": [
    {
     "data": {
      "text/html": [
       "<style>.container { width:100% !important; }</style>"
      ],
      "text/plain": [
       "<IPython.core.display.HTML object>"
      ]
     },
     "metadata": {},
     "output_type": "display_data"
    }
   ],
   "source": [
    "from IPython.core.display import display, HTML\n",
    "display(HTML(\"<style>.container { width:100% !important; }</style>\"))"
   ]
  },
  {
   "cell_type": "code",
   "execution_count": 2,
   "metadata": {
    "collapsed": true
   },
   "outputs": [],
   "source": [
    "import pandas as pd\n",
    "import os\n",
    "import numpy as np"
   ]
  },
  {
   "cell_type": "code",
   "execution_count": 3,
   "metadata": {
    "collapsed": false
   },
   "outputs": [],
   "source": [
    "experiments = \"../Experiments/suqr_usto_B2B/t2/p1/b2bw2w1_mb2bw2w1_fb2bw2w1_mfb2bw2w1/b2bw2w1_vs_suqr/experiments\""
   ]
  },
  {
   "cell_type": "code",
   "execution_count": 4,
   "metadata": {
    "collapsed": false
   },
   "outputs": [
    {
     "name": "stdout",
     "output_type": "stream",
     "text": [
      "107489  176097  274200  39519   506972  656612  793423  859673  964798\r\n",
      "132903  195650  276589  399519  515112  657028  795440  88809   966047\r\n",
      "137459  225207  292568  4081    542952  68344   807412  905657  seeds.txt\r\n",
      "155637  225794  311319  411379  557238  708037  811932  913679\r\n",
      "157517  240066  322717  422614  615021  710701  83334   959923\r\n",
      "170832  264858  330161  443091  638965  769012  836296  962382\r\n"
     ]
    }
   ],
   "source": [
    "ls $experiments"
   ]
  },
  {
   "cell_type": "code",
   "execution_count": 51,
   "metadata": {
    "collapsed": false
   },
   "outputs": [],
   "source": [
    "df = pd.read_csv(experiments+\"/107489\", index_col=0)"
   ]
  },
  {
   "cell_type": "code",
   "execution_count": 61,
   "metadata": {
    "collapsed": false,
    "scrolled": false
   },
   "outputs": [
    {
     "data": {
      "text/plain": [
       "-1.2199466625784086e-07"
      ]
     },
     "execution_count": 61,
     "metadata": {},
     "output_type": "execute_result"
    }
   ],
   "source": [
    "float(df.iloc[0]['exp_regret'])"
   ]
  },
  {
   "cell_type": "code",
   "execution_count": 86,
   "metadata": {
    "collapsed": true
   },
   "outputs": [],
   "source": [
    "from math import sqrt"
   ]
  },
  {
   "cell_type": "code",
   "execution_count": 78,
   "metadata": {
    "collapsed": false
   },
   "outputs": [],
   "source": [
    "d = experiments\n",
    "exp_regrets = [np.array(pd.read_csv(os.path.join(d, f))[\"exp_regret\"]) for f in os.listdir(d)\n",
    "               if os.path.isfile(os.path.join(d, f)) and f != \"seeds.txt\"]"
   ]
  },
  {
   "cell_type": "code",
   "execution_count": 82,
   "metadata": {
    "collapsed": false
   },
   "outputs": [],
   "source": [
    "avg_regrets = sum(exp_regrets, np.zeros(len(exp_regrets[0]))) / len(exp_regrets)"
   ]
  },
  {
   "cell_type": "code",
   "execution_count": 88,
   "metadata": {
    "collapsed": false
   },
   "outputs": [],
   "source": [
    "variances = [np.array([(r-avg_regrets[i]) ** 2 for i, r in enumerate(e)]) for e in exp_regrets]"
   ]
  },
  {
   "cell_type": "code",
   "execution_count": 91,
   "metadata": {
    "collapsed": false
   },
   "outputs": [],
   "source": [
    "avg_var = sum(variances, np.zeros(len(variances[0]))) / len(variances)"
   ]
  },
  {
   "cell_type": "code",
   "execution_count": 92,
   "metadata": {
    "collapsed": false
   },
   "outputs": [],
   "source": [
    "z = 1.96\n",
    "upper_bound = [a + z * sqrt(avg_var[i] / len(variances))\n",
    "               for i, a in enumerate(avg_regrets)]\n",
    "lower_bound = [a - z * sqrt(avg_var[i] / len(variances))\n",
    "               for i, a in enumerate(avg_regrets)]"
   ]
  },
  {
   "cell_type": "code",
   "execution_count": 97,
   "metadata": {
    "collapsed": false
   },
   "outputs": [
    {
     "data": {
      "text/plain": [
       "0.22414060465568661"
      ]
     },
     "execution_count": 97,
     "metadata": {},
     "output_type": "execute_result"
    }
   ],
   "source": [
    "folders = \n",
    "for root, dirs, files in os.walk(experiment_folder):"
   ]
  },
  {
   "cell_type": "code",
   "execution_count": null,
   "metadata": {
    "collapsed": true
   },
   "outputs": [],
   "source": []
  },
  {
   "cell_type": "code",
   "execution_count": 23,
   "metadata": {
    "collapsed": true
   },
   "outputs": [],
   "source": [
    "def avg_r(d):\n",
    "    d = experiments\n",
    "    exp_regrets = [np.array(pd.read_csv(os.path.join(d, f))[\"exp_regret\"]) for f in os.listdir(d)\n",
    "                   if os.path.isfile(os.path.join(d, f)) and f != \"seeds.txt\"]\n",
    "    avg_regrets = sum(exp_regrets, np.zeros(len(exp_regrets[0]))) / len(exp_regrets)\n",
    "    return avg_regrets"
   ]
  },
  {
   "cell_type": "code",
   "execution_count": 34,
   "metadata": {
    "collapsed": true
   },
   "outputs": [],
   "source": [
    "def avg_with_conf(lst):\n",
    "    avgs = sum(lst, np.zeros(len(lst[0]))) / len(lst)\n",
    "    variances = [np.array([(r-avgs[i]) ** 2 for i, r in enumerate(e)]) for e in avgs]\n",
    "    avg_var = sum(variances, np.zeros(len(variances[0]))) / len(variances)\n",
    "    z = 1.96\n",
    "    upper_bound = [a + z * sqrt(avg_var[i] / len(variances))\n",
    "                   for i, a in enumerate(avgs)]\n",
    "    lower_bound = [a - z * sqrt(avg_var[i] / len(variances))\n",
    "                   for i, a in enumerate(avgs)]\n",
    "    return {\"avgs\": avgs, \"ub\": upper_bound, \"lb\": lower_bound}"
   ]
  },
  {
   "cell_type": "code",
   "execution_count": 103,
   "metadata": {
    "collapsed": false
   },
   "outputs": [
    {
     "name": "stdout",
     "output_type": "stream",
     "text": [
      "\u001b[0m\u001b[01;34mb2bw2w1_vs_suqr\u001b[0m/  \u001b[01;35mexp_regret.png\u001b[0m     \u001b[01;34mmb2bw2w1_vs_suqr\u001b[0m/   plot\r\n",
      "batch.csv         \u001b[01;34mfb2bw2w1_vs_suqr\u001b[0m/  \u001b[01;34mmfb2bw2w1_vs_suqr\u001b[0m/\r\n"
     ]
    }
   ],
   "source": [
    "ls $experiments/../../"
   ]
  },
  {
   "cell_type": "code",
   "execution_count": 5,
   "metadata": {
    "collapsed": true
   },
   "outputs": [],
   "source": [
    "import os"
   ]
  },
  {
   "cell_type": "code",
   "execution_count": 7,
   "metadata": {
    "collapsed": true
   },
   "outputs": [],
   "source": [
    "folder =  \"../Experiments/suqr_usto_B2B\""
   ]
  },
  {
   "cell_type": "code",
   "execution_count": 10,
   "metadata": {
    "collapsed": true
   },
   "outputs": [],
   "source": [
    "import re"
   ]
  },
  {
   "cell_type": "code",
   "execution_count": 11,
   "metadata": {
    "collapsed": true
   },
   "outputs": [],
   "source": [
    "i_pattern = re.compile(\"^i[0-9]$\")"
   ]
  },
  {
   "cell_type": "code",
   "execution_count": 25,
   "metadata": {
    "collapsed": true
   },
   "outputs": [],
   "source": [
    "def id_tuple(d):\n",
    "    idl = [x for x in d.split(\"/\") if not i_pattern.match(x)]\n",
    "    idl[-1] = idl[-1].split(\"_vs\")[0]\n",
    "    return tuple(idl)"
   ]
  },
  {
   "cell_type": "code",
   "execution_count": 26,
   "metadata": {
    "collapsed": false
   },
   "outputs": [],
   "source": [
    "confs = dict()\n",
    "for root, dirs, files in os.walk(folder):\n",
    "    if os.path.isdir(root) and \"experiments\" in dirs:\n",
    "        idt = id_tuple(root)\n",
    "        if idt not in confs:\n",
    "            confs[idt] = [root]\n",
    "        else:\n",
    "            confs[idt].append(root)"
   ]
  },
  {
   "cell_type": "code",
   "execution_count": 35,
   "metadata": {
    "collapsed": true
   },
   "outputs": [],
   "source": [
    "def gen_results(src_t_p, dst):\n",
    "    confs = dict()\n",
    "    for root, dirs, files in os.walk(folder):\n",
    "        if os.path.isdir(root) and \"experiments\" in dirs:\n",
    "            idt = id_tuple(root)\n",
    "            if idt not in confs:\n",
    "                confs[idt] = [root]\n",
    "            else:\n",
    "                confs[idt].append(root)\n",
    "    for c in confs:\n",
    "        avg_regrets = [avg_r[i] for i in confs[c]]\n",
    "        d = avg_with_conf(avg_regrets)\n",
    "        file = os.path.join(dst, c[-1]+\".csv\")\n",
    "        pd.DataFrame(d).to_csv(file)"
   ]
  },
  {
   "cell_type": "code",
   "execution_count": 29,
   "metadata": {
    "collapsed": true
   },
   "outputs": [],
   "source": [
    "a,b,c = [1,2,3], [4,5,6], [7,8,9]"
   ]
  },
  {
   "cell_type": "code",
   "execution_count": 32,
   "metadata": {
    "collapsed": false
   },
   "outputs": [],
   "source": [
    "d = {1: a, 2:b, 3:c}"
   ]
  },
  {
   "cell_type": "code",
   "execution_count": 33,
   "metadata": {
    "collapsed": false
   },
   "outputs": [
    {
     "data": {
      "text/html": [
       "<div>\n",
       "<table border=\"1\" class=\"dataframe\">\n",
       "  <thead>\n",
       "    <tr style=\"text-align: right;\">\n",
       "      <th></th>\n",
       "      <th>1</th>\n",
       "      <th>2</th>\n",
       "      <th>3</th>\n",
       "    </tr>\n",
       "  </thead>\n",
       "  <tbody>\n",
       "    <tr>\n",
       "      <th>0</th>\n",
       "      <td>1</td>\n",
       "      <td>4</td>\n",
       "      <td>7</td>\n",
       "    </tr>\n",
       "    <tr>\n",
       "      <th>1</th>\n",
       "      <td>2</td>\n",
       "      <td>5</td>\n",
       "      <td>8</td>\n",
       "    </tr>\n",
       "    <tr>\n",
       "      <th>2</th>\n",
       "      <td>3</td>\n",
       "      <td>6</td>\n",
       "      <td>9</td>\n",
       "    </tr>\n",
       "  </tbody>\n",
       "</table>\n",
       "</div>"
      ],
      "text/plain": [
       "   1  2  3\n",
       "0  1  4  7\n",
       "1  2  5  8\n",
       "2  3  6  9"
      ]
     },
     "execution_count": 33,
     "metadata": {},
     "output_type": "execute_result"
    }
   ],
   "source": [
    "pd.DataFrame(d)"
   ]
  }
 ],
 "metadata": {
  "kernelspec": {
   "display_name": "Python 3",
   "language": "python",
   "name": "python3"
  },
  "language_info": {
   "codemirror_mode": {
    "name": "ipython",
    "version": 3
   },
   "file_extension": ".py",
   "mimetype": "text/x-python",
   "name": "python",
   "nbconvert_exporter": "python",
   "pygments_lexer": "ipython3",
   "version": "3.5.3"
  }
 },
 "nbformat": 4,
 "nbformat_minor": 2
}
