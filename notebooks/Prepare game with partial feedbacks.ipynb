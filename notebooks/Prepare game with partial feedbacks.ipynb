{
 "cells": [
  {
   "cell_type": "markdown",
   "metadata": {},
   "source": [
    "# Creating batch to test partial feedback setting"
   ]
  },
  {
   "cell_type": "code",
   "execution_count": 1,
   "metadata": {},
   "outputs": [
    {
     "data": {
      "text/html": [
       "<style>.container { width:100% !important; }</style>"
      ],
      "text/plain": [
       "<IPython.core.display.HTML object>"
      ]
     },
     "metadata": {},
     "output_type": "display_data"
    }
   ],
   "source": [
    "from IPython.core.display import display, HTML\n",
    "display(HTML(\"<style>.container { width:100% !important; }</style>\"))"
   ]
  },
  {
   "cell_type": "code",
   "execution_count": 2,
   "metadata": {},
   "outputs": [],
   "source": [
    "import sys\n",
    "sys.path.append('../')"
   ]
  },
  {
   "cell_type": "code",
   "execution_count": 5,
   "metadata": {},
   "outputs": [],
   "source": [
    "import source.players as pl\n",
    "import source.parsers as parsers\n",
    "import source.game as game\n",
    "import source.player as player\n",
    "import source.environment as environment\n",
    "import source.errors as errors\n",
    "import source.runner as runner\n",
    "import source.util as util\n",
    "import source.players.attackers as attackers\n",
    "import source.players.base_defenders as base_defenders\n",
    "import source.players.defenders as defenders\n",
    "import source.players.holmes as holmes\n",
    "import source.players.sad as sad\n",
    "import source.players.b2bw2w as b2bw2w\n",
    "import source.players.belief_max as bm\n",
    "import source.players.dmd as dmd\n",
    "import source.players.bayesian_approximator as ba\n",
    "\n",
    "import concurrent.futures\n",
    "import pkgutil\n",
    "import logging\n",
    "import sys\n",
    "from source.util import *\n",
    "import numpy as np\n",
    "import pandas as pd\n",
    "from importlib import *\n",
    "import time\n",
    "import os\n",
    "import re\n",
    "from copy import deepcopy, copy\n",
    "import datetime\n",
    "from contextlib import redirect_stdout\n",
    "from random import shuffle"
   ]
  },
  {
   "cell_type": "code",
   "execution_count": 6,
   "metadata": {},
   "outputs": [],
   "source": [
    "# run once\n",
    "\n",
    "lvl = logging.DEBUG\n",
    "logger = logging.getLogger(\"source\")\n",
    "logger.setLevel(lvl)\n",
    "#ch = logging.StreamHandler(sys.stdout)\n",
    "ch = logging.FileHandler(\"status\", mode='w')\n",
    "ch.setLevel(lvl)\n",
    "#formatter = logging.Formatter('%(asctime)s - %(name)s - %(levelname)s - %(message)s')\n",
    "formatter = logging.Formatter('%(message)s')\n",
    "ch.setFormatter(formatter)\n",
    "logger.addHandler(ch)"
   ]
  },
  {
   "cell_type": "code",
   "execution_count": 7,
   "metadata": {},
   "outputs": [],
   "source": [
    "lvl = logging.WARNING\n",
    "logger.setLevel(lvl)\n",
    "ch.setLevel(lvl)"
   ]
  },
  {
   "cell_type": "code",
   "execution_count": 69,
   "metadata": {},
   "outputs": [
    {
     "data": {
      "text/plain": [
       "<module 'source.players.dmd' from '..\\\\source\\\\players\\\\dmd.py'>"
      ]
     },
     "execution_count": 69,
     "metadata": {},
     "output_type": "execute_result"
    }
   ],
   "source": [
    "# if you change something in the files, don't forget to reload\n",
    "reload(player)\n",
    "reload(base_defenders)\n",
    "reload(attackers)\n",
    "reload(defenders)\n",
    "reload(errors)\n",
    "reload(environment)\n",
    "reload(runner)\n",
    "reload(parsers)\n",
    "reload(game)\n",
    "reload(holmes)\n",
    "reload(sad)\n",
    "reload(b2bw2w)\n",
    "reload(util)\n",
    "reload(bm)\n",
    "reload(dmd)"
   ]
  },
  {
   "cell_type": "markdown",
   "metadata": {},
   "source": [
    "### Creating configurations to save into a csv file"
   ]
  },
  {
   "cell_type": "code",
   "execution_count": 93,
   "metadata": {},
   "outputs": [
    {
     "name": "stdout",
     "output_type": "stream",
     "text": [
      "[(0.06006006006006005, 0.1301301301301301, 0.3333333333333333, 0.2262262262262262, 0.01101101101101101, 0.11711711711711711, 0.0, 0.07207207207207206, 0.04004004004004004, 0.01001001001001001), (0.04804804804804804, 0.2652652652652652, 0.10210210210210209, 0.2382382382382382, 0.004004004004004004, 0.025025025025025023, 0.09109109109109108, 0.18318318318318316, 0.04204204204204204, 0.001001001001001001), (0.031, 0.098, 0.015, 0.114, 0.078, 0.043, 0.347, 0.23, 0.033, 0.011), (0.022022022022022022, 0.026026026026026026, 0.06606606606606608, 0.056056056056056056, 0.03203203203203203, 0.041041041041041046, 0.01001001001001001, 0.01701701701701702, 0.5155155155155156, 0.21421421421421422), (0.26600000000000007, 0.06300000000000001, 0.17100000000000004, 0.09700000000000002, 0.06800000000000002, 0.013000000000000001, 0.036000000000000004, 0.09100000000000001, 0.11000000000000001, 0.08500000000000002), (0.076, 0.16, 0.181, 0.073, 0.225, 0.007, 0.047, 0.081, 0.067, 0.083), (0.06006006006006005, 0.10210210210210209, 0.13613613613613612, 0.1131131131131131, 0.06506506506506506, 0.007007007007007006, 0.09009009009009007, 0.05505505505505505, 0.03603603603603603, 0.3353353353353353), (0.059000000000000004, 0.23900000000000002, 0.010000000000000002, 0.06800000000000002, 0.11100000000000002, 0.04900000000000001, 0.07000000000000002, 0.0, 0.30200000000000005, 0.09200000000000001), (0.4495504495504496, 0.0, 0.013986013986013988, 0.1048951048951049, 0.04095904095904097, 0.07392607392607393, 0.1118881118881119, 0.10689310689310691, 0.07492507492507493, 0.02297702297702298)]\n",
      "chosen =  (0.287, 0.061, 0.011, 0.02, 0.0, 0.034, 0.144, 0.172, 0.201, 0.07)\n"
     ]
    }
   ],
   "source": [
    "time_horizon = 100\n",
    "T = 10\n",
    "targets = []\n",
    "for i in range(2):\n",
    "    targets = targets + util.gen_tar_with_len(5)\n",
    "#targets = [1 for i in range(T)]\n",
    "values = tuple((v, v) for v in targets)\n",
    "#val_ls = [values[i][0] for i in range(T)]\n",
    "#print(val_ls)\n",
    "feedback_prob = [1 for i in range(T)]\n",
    "observabilities = [1 for i in range(T)]\n",
    "feedback_type = \"mab\"\n",
    "distributions = []\n",
    "for i in range(9):\n",
    "    distributions.append(tuple(util.gen_distr(T)))\n",
    "print(distributions)\n",
    "#distributions.append(tuple([1/T for i in range(T)]))\n",
    "chosen_distr = tuple(util.gen_distr(T))\n",
    "#chosen_distr = tuple([1/T for i in range(T)])\n",
    "#chosen_distr = tuple([0.031] + [0.051 for i in range(19)])\n",
    "print(\"chosen = \", chosen_distr)\n",
    "#len(chosen_distr)"
   ]
  },
  {
   "cell_type": "code",
   "execution_count": 94,
   "metadata": {},
   "outputs": [],
   "source": [
    "g = game.PartialFeedbackGame(values, time_horizon, observabilities, feedback_prob, feedback_type = \"full\")\n",
    "g.attackers = [1]\n",
    "g.defenders = [0]\n",
    "d = [bm.FB(g, 0)]\n",
    "prof = []\n",
    "for distr in distributions:\n",
    "    prof.append(attackers.StochasticAttacker(g, 1, 1, *distr))\n",
    "prof.append(attackers.StochasticAttacker(g, 1, 1, *chosen_distr))\n",
    "prof.append(attackers.StackelbergAttacker(g, 1, 1))\n",
    "for i in range(10):\n",
    "    prof.append(attackers.SUQR(g,1))\n",
    "#chosen_a_prof = (attackers.FrequentistUnknownStochasticAttacker(g, 1, 1))\n",
    "#chosen_a_prof = attackers.SUQR(g,1)\n",
    "#prof.append(attackers.FrequentistUnknownStochasticAttacker(g, 1, 1))\n",
    "#a = [deepcopy(chosen_a_prof)]\n",
    "#prof.append(chosen_a_prof)\n",
    "a = [attackers.StochasticAttacker(g, 1, 1, *chosen_distr)]\n",
    "#a = [attackers.StackelbergAttacker(g, 1, 1)]\n",
    "#shuffle(prof)\n",
    "#print(\"Real attacker is: \", a[0])\n",
    "g.set_players(d, a, prof)"
   ]
  },
  {
   "cell_type": "code",
   "execution_count": 95,
   "metadata": {},
   "outputs": [],
   "source": [
    "def print_header(targets, profiles):\n",
    "    return \"Name,T,\" + \",\".join(str(i) for i in range(len(targets))) + \",Defender,Attacker,\" + \",\".join([\"Profile\" for x in range(len(profiles))]) + \",\" + \",\".join([\"Obs\" + str(x) for x in range(len(targets))]) + \",\" + \",\".join([\"Feed_prob\" + str(x) for x in range(len(targets))]) + \",Feed_type\" + \"\\n\" "
   ]
  },
  {
   "cell_type": "code",
   "execution_count": 96,
   "metadata": {},
   "outputs": [],
   "source": [
    "def print_row(targets, time_horizon, d, a, p, obs, fprob, ftype):\n",
    "    return \",\".join([str(i) for i in ([d+\"_vs_\"+a] + [time_horizon] + targets + [d] + [a] + [x for x in p] + [o for o in obs] + [fp for fp in fprob] + [ftype]) ])+\"\\n\""
   ]
  },
  {
   "cell_type": "code",
   "execution_count": 97,
   "metadata": {},
   "outputs": [
    {
     "data": {
      "text/plain": [
       "'Name,T,0,1,2,3,4,5,6,7,8,9,Defender,Attacker,Profile,Profile,Profile,Profile,Profile,Profile,Profile,Profile,Profile,Profile,Profile,Profile,Profile,Profile,Profile,Profile,Profile,Profile,Profile,Profile,Profile,Obs0,Obs1,Obs2,Obs3,Obs4,Obs5,Obs6,Obs7,Obs8,Obs9,Feed_prob0,Feed_prob1,Feed_prob2,Feed_prob3,Feed_prob4,Feed_prob5,Feed_prob6,Feed_prob7,Feed_prob8,Feed_prob9,Feed_type\\n'"
      ]
     },
     "execution_count": 97,
     "metadata": {},
     "output_type": "execute_result"
    }
   ],
   "source": [
    "(print_header(targets, prof))"
   ]
  },
  {
   "cell_type": "code",
   "execution_count": 98,
   "metadata": {},
   "outputs": [],
   "source": [
    "defender =[\"FB1\"]"
   ]
  },
  {
   "cell_type": "code",
   "execution_count": 99,
   "metadata": {},
   "outputs": [],
   "source": [
    "profile_strings = []\n",
    "for p in prof:\n",
    "    profile_strings.append(util.print_adv(p))"
   ]
  },
  {
   "cell_type": "code",
   "execution_count": 100,
   "metadata": {},
   "outputs": [],
   "source": [
    "experiments_folder = \"../NewExperiments\"\n",
    "exp_subfolder = \"/Experiments\"\n",
    "batch_name = \"MAB_sto_10_tar\"\n",
    "batch_file = batch_name + \".csv\"\n",
    "batch_path = experiments_folder + exp_subfolder + \"/\" + batch_file"
   ]
  },
  {
   "cell_type": "markdown",
   "metadata": {},
   "source": [
    "### Generating the csv and checking everything is fine"
   ]
  },
  {
   "cell_type": "code",
   "execution_count": 101,
   "metadata": {},
   "outputs": [],
   "source": [
    "with open(batch_path, \"w+\") as f:\n",
    "    f.write(print_header(targets, prof))\n",
    "    f.write(print_row(targets, time_horizon,defender[0],util.print_adv(a[0]),profile_strings,observabilities,feedback_prob,feedback_type))"
   ]
  },
  {
   "cell_type": "code",
   "execution_count": 125,
   "metadata": {},
   "outputs": [
    {
     "data": {
      "text/html": [
       "<div>\n",
       "<style scoped>\n",
       "    .dataframe tbody tr th:only-of-type {\n",
       "        vertical-align: middle;\n",
       "    }\n",
       "\n",
       "    .dataframe tbody tr th {\n",
       "        vertical-align: top;\n",
       "    }\n",
       "\n",
       "    .dataframe thead th {\n",
       "        text-align: right;\n",
       "    }\n",
       "</style>\n",
       "<table border=\"1\" class=\"dataframe\">\n",
       "  <thead>\n",
       "    <tr style=\"text-align: right;\">\n",
       "      <th></th>\n",
       "      <th>Name</th>\n",
       "      <th>T</th>\n",
       "      <th>0</th>\n",
       "      <th>1</th>\n",
       "      <th>2</th>\n",
       "      <th>3</th>\n",
       "      <th>4</th>\n",
       "      <th>5</th>\n",
       "      <th>6</th>\n",
       "      <th>7</th>\n",
       "      <th>...</th>\n",
       "      <th>Feed_prob16</th>\n",
       "      <th>Feed_prob17</th>\n",
       "      <th>Feed_prob18</th>\n",
       "      <th>Feed_prob19</th>\n",
       "      <th>Feed_prob20</th>\n",
       "      <th>Feed_prob21</th>\n",
       "      <th>Feed_prob22</th>\n",
       "      <th>Feed_prob23</th>\n",
       "      <th>Feed_prob24</th>\n",
       "      <th>Feed_type</th>\n",
       "    </tr>\n",
       "  </thead>\n",
       "  <tbody>\n",
       "    <tr>\n",
       "      <th>0</th>\n",
       "      <td>FB1_vs_sto1-0.04-0.04-0.04-0.04-0.04-0.04-0.04...</td>\n",
       "      <td>100</td>\n",
       "      <td>0.896</td>\n",
       "      <td>0.704</td>\n",
       "      <td>0.817</td>\n",
       "      <td>0.889</td>\n",
       "      <td>0.811</td>\n",
       "      <td>0.96</td>\n",
       "      <td>0.98</td>\n",
       "      <td>0.865</td>\n",
       "      <td>...</td>\n",
       "      <td>1</td>\n",
       "      <td>1</td>\n",
       "      <td>1</td>\n",
       "      <td>1</td>\n",
       "      <td>1</td>\n",
       "      <td>1</td>\n",
       "      <td>1</td>\n",
       "      <td>1</td>\n",
       "      <td>1</td>\n",
       "      <td>full</td>\n",
       "    </tr>\n",
       "  </tbody>\n",
       "</table>\n",
       "<p>1 rows × 91 columns</p>\n",
       "</div>"
      ],
      "text/plain": [
       "                                                Name    T      0      1  \\\n",
       "0  FB1_vs_sto1-0.04-0.04-0.04-0.04-0.04-0.04-0.04...  100  0.896  0.704   \n",
       "\n",
       "       2      3      4     5     6      7    ...      Feed_prob16  \\\n",
       "0  0.817  0.889  0.811  0.96  0.98  0.865    ...                1   \n",
       "\n",
       "   Feed_prob17  Feed_prob18  Feed_prob19  Feed_prob20  Feed_prob21  \\\n",
       "0            1            1            1            1            1   \n",
       "\n",
       "   Feed_prob22  Feed_prob23  Feed_prob24  Feed_type  \n",
       "0            1            1            1       full  \n",
       "\n",
       "[1 rows x 91 columns]"
      ]
     },
     "execution_count": 125,
     "metadata": {},
     "output_type": "execute_result"
    }
   ],
   "source": [
    "pd.read_csv(batch_path)"
   ]
  },
  {
   "cell_type": "code",
   "execution_count": 39,
   "metadata": {},
   "outputs": [
    {
     "name": "stdout",
     "output_type": "stream",
     "text": [
      "['sto1-0.472-0.014-0.037-0.004-0.473', 'sto1-0.349-0.354-0.045-0.183-0.069', 'sto1-0.285-0.155-0.157-0.219-0.184', 'sto1-0.001-0.287-0.518-0.117-0.077', 'sto1-0.20300000000000004-0.5760000000000001-0.031000000000000003-0.10600000000000001-0.08400000000000002', 'sto1-0.167-0.324-0.051-0.262-0.196', 'sto1-0.058941058941058944-0.06793206793206795-0.04295704295704296-0.07392607392607393-0.7562437562437563', 'sto1-0.11411411411411411-0.11411411411411411-0.28828828828828823-0.4534534534534534-0.030030030030030026', 'sto1-0.029-0.113-0.708-0.124-0.026', 'sto1-0.32567432567432564-0.12987012987012986-0.1748251748251748-0.1928071928071928-0.1768231768231768', 'sto1-0.209-0.069-0.336-0.196-0.19', 'sto1-0.17082917082917087-0.007992007992007994-0.19180819180819184-0.48251748251748255-0.14685314685314685', 'sto1-0.13000000000000003-0.26000000000000006-0.3360000000000001-0.19600000000000004-0.07800000000000001', 'sto1-0.366-0.066-0.481-0.069-0.018', 'sto1-0.14185814185814183-0.06393606393606394-0.1988011988011988-0.30769230769230765-0.2877122877122877', 'sto1-0.38361638361638356-0.26073926073926074-0.22277722277722276-0.045954045954045945-0.0869130869130869', 'sto1-0.07292707292707293-0.05394605394605395-0.3676323676323677-0.32767232767232773-0.17782217782217782', 'sto1-0.005994005994005995-0.1058941058941059-0.24775224775224777-0.5124875124875126-0.1278721278721279', 'sto1-0.02797202797202797-0.3116883116883116-0.0799200799200799-0.49550449550449543-0.08491508491508491', 'sto1-0.018981018981018984-0.08291708291708293-0.28071928071928076-0.05294705294705295-0.5644355644355644', 'sto1-0.2607392607392608-0.03796203796203797-0.16783216783216787-0.16683316683316687-0.36663336663336665', 'sto1-0.22522522522522523-0.22122122122122123-0.1891891891891892-0.22922922922922923-0.13513513513513514', 'sto1-0.15184815184815187-0.43556443556443564-0.3436563436563437-0.04795204795204796-0.020979020979020983', 'sto1-0.007-0.276-0.217-0.104-0.396', 'sto1-0.2307692307692308-0.031968031968031975-0.04195804195804197-0.04095904095904097-0.6543456543456544', 'sto1-0.194-0.009-0.504-0.105-0.188', 'sto1-0.075-0.5-0.047-0.362-0.016', 'sto1-0.376-0.046-0.039-0.227-0.312', 'sto1-0.128-0.185-0.408-0.167-0.112', 'sto1-0.2867132867132867-0.06193806193806194-0.18281718281718284-0.19580419580419584-0.27272727272727276', 'sto1-0.15484515484515485-0.032967032967032975-0.4305694305694306-0.2167832167832168-0.16483516483516486', 'sto1-0.06893106893106893-0.30569430569430567-0.11388611388611387-0.4675324675324675-0.043956043956043946', 'sto1-0.5185185185185185-0.004004004004004004-0.06206206206206206-0.3243243243243243-0.09109109109109108', 'sto1-0.33666333666333664-0.06593406593406594-0.5204795204795204-0.042957042957042946-0.03396603396603397', 'sto1-0.2747252747252747-0.38661338661338657-0.04095904095904095-0.20679320679320676-0.0909090909090909', 'sto1-0.20820820820820818-0.5315315315315315-0.02102102102102102-0.038038038038038034-0.2012012012012012', 'sto1-0.04004004004004004-0.4614614614614615-0.11411411411411412-0.36536536536536535-0.019019019019019017', 'sto1-0.2957042957042957-0.24575424575424573-0.2777222777222777-0.16283716283716282-0.01798201798201798', 'sto1-0.08000000000000002-0.14600000000000002-0.08900000000000001-0.31900000000000006-0.36600000000000005', 'sto1-0.115-0.613-0.018-0.115-0.139', 'sto1-0.239-0.323-0.137-0.135-0.166', 'sto1-0.395-0.294-0.038-0.211-0.062', 'sto1-0.21300000000000002-0.5010000000000001-0.06300000000000001-0.21400000000000002-0.009000000000000001', 'sto1-0.065-0.113-0.19-0.348-0.284', 'sto1-0.014014014014014016-0.2922922922922923-0.0020020020020020024-0.2842842842842843-0.40740740740740744']\n"
     ]
    }
   ],
   "source": [
    "d = []\n",
    "for i in range(45):\n",
    "    d.append(tuple(util.gen_distr(T)))\n",
    "pr = [attackers.StochasticAttacker(g, 1, 1, *x) for x in d]\n"
   ]
  },
  {
   "cell_type": "code",
   "execution_count": 82,
   "metadata": {},
   "outputs": [
    {
     "name": "stdout",
     "output_type": "stream",
     "text": [
      "['sto1-0.008008008008008008-0.016016016016016016-0.08008008008008008-0.058058058058058054-0.02302302302302302-0.04304304304304304-0.035035035035035036-0.04104104104104104-0.10010010010010009-0.06706706706706707-0.0-0.006006006006006005-0.001001001001001001-0.13913913913913914-0.027027027027027025-0.14614614614614613-0.04104104104104104-0.015015015015015013-0.04004004004004004-0.01201201201201201-0.01201201201201201-0.035035035035035036-0.008008008008008008-0.02402402402402402-0.02202202202202202', 'sto1-0.058941058941058944-0.07692307692307693-0.007992007992007994-0.012987012987012988-0.03796203796203797-0.03596403596403597-0.04695304695304696-0.02197802197802198-0.03596403596403597-0.0019980019980019984-0.019980019980019983-0.014985014985014986-0.07992007992007993-0.016983016983016987-0.09690309690309691-0.029970029970029972-0.003996003996003997-0.0-0.09890109890109891-0.15284715284715286-0.0029970029970029974-0.02497502497502498-0.04995004995004996-0.06093906093906094-0.008991008991008992', 'sto1-0.035-0.076-0.016-0.046-0.006-0.001-0.043-0.003-0.033-0.052-0.042-0.053-0.049-0.009-0.049-0.003-0.059-0.083-0.014-0.064-0.081-0.042-0.016-0.014-0.111', 'sto1-0.03106212424849699-0.013026052104208414-0.1372745490981964-0.014028056112224447-0.03907815631262525-0.1342685370741483-0.007014028056112224-0.0-0.033066132264529056-0.014028056112224447-0.01002004008016032-0.0751503006012024-0.009018036072144287-0.0751503006012024-0.10821643286573145-0.001002004008016032-0.001002004008016032-0.0781563126252505-0.02605210420841683-0.0030060120240480957-0.05410821643286572-0.0060120240480961915-0.12725450901803606-0.002004008016032064-0.001002004008016032']\n"
     ]
    }
   ],
   "source": [
    "print([util.print_adv(k) for k in prof[:4]])"
   ]
  },
  {
   "cell_type": "code",
   "execution_count": null,
   "metadata": {},
   "outputs": [],
   "source": [
    "print([])"
   ]
  }
 ],
 "metadata": {
  "kernelspec": {
   "display_name": "Python 3",
   "language": "python",
   "name": "python3"
  },
  "language_info": {
   "codemirror_mode": {
    "name": "ipython",
    "version": 3
   },
   "file_extension": ".py",
   "mimetype": "text/x-python",
   "name": "python",
   "nbconvert_exporter": "python",
   "pygments_lexer": "ipython3",
   "version": "3.7.0"
  }
 },
 "nbformat": 4,
 "nbformat_minor": 2
}
