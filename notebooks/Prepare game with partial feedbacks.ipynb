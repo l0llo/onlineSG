{
 "cells": [
  {
   "cell_type": "markdown",
   "metadata": {},
   "source": [
    "# Creating batch to test partial feedback setting"
   ]
  },
  {
   "cell_type": "code",
   "execution_count": 1,
   "metadata": {},
   "outputs": [
    {
     "data": {
      "text/html": [
       "<style>.container { width:100% !important; }</style>"
      ],
      "text/plain": [
       "<IPython.core.display.HTML object>"
      ]
     },
     "metadata": {},
     "output_type": "display_data"
    }
   ],
   "source": [
    "from IPython.core.display import display, HTML\n",
    "display(HTML(\"<style>.container { width:100% !important; }</style>\"))"
   ]
  },
  {
   "cell_type": "code",
   "execution_count": 2,
   "metadata": {},
   "outputs": [],
   "source": [
    "import sys\n",
    "sys.path.append('../')"
   ]
  },
  {
   "cell_type": "code",
   "execution_count": 3,
   "metadata": {},
   "outputs": [],
   "source": [
    "import source.players as pl\n",
    "import source.parsers as parsers\n",
    "import source.game as game\n",
    "import source.player as player\n",
    "import source.environment as environment\n",
    "import source.errors as errors\n",
    "import source.runner as runner\n",
    "import source.util as util\n",
    "import source.players.attackers as attackers\n",
    "import source.players.base_defenders as base_defenders\n",
    "import source.players.defenders as defenders\n",
    "import source.players.holmes as holmes\n",
    "import source.players.sad as sad\n",
    "import source.players.b2bw2w as b2bw2w\n",
    "import source.players.belief_max as bm\n",
    "import source.players.dmd as dmd\n",
    "import source.players.bayesian_approximator as ba\n",
    "\n",
    "import concurrent.futures\n",
    "import pkgutil\n",
    "import logging\n",
    "import sys\n",
    "from source.util import *\n",
    "import numpy as np\n",
    "import pandas as pd\n",
    "from importlib import *\n",
    "import time\n",
    "import os\n",
    "import re\n",
    "from copy import deepcopy, copy\n",
    "import datetime\n",
    "from contextlib import redirect_stdout\n",
    "from random import shuffle"
   ]
  },
  {
   "cell_type": "code",
   "execution_count": 4,
   "metadata": {},
   "outputs": [],
   "source": [
    "# run once\n",
    "\n",
    "lvl = logging.DEBUG\n",
    "logger = logging.getLogger(\"source\")\n",
    "logger.setLevel(lvl)\n",
    "#ch = logging.StreamHandler(sys.stdout)\n",
    "ch = logging.FileHandler(\"status\", mode='w')\n",
    "ch.setLevel(lvl)\n",
    "#formatter = logging.Formatter('%(asctime)s - %(name)s - %(levelname)s - %(message)s')\n",
    "formatter = logging.Formatter('%(message)s')\n",
    "ch.setFormatter(formatter)\n",
    "logger.addHandler(ch)"
   ]
  },
  {
   "cell_type": "code",
   "execution_count": 5,
   "metadata": {},
   "outputs": [],
   "source": [
    "lvl = logging.WARNING\n",
    "logger.setLevel(lvl)\n",
    "ch.setLevel(lvl)"
   ]
  },
  {
   "cell_type": "code",
   "execution_count": 6,
   "metadata": {},
   "outputs": [
    {
     "data": {
      "text/plain": [
       "<module 'source.players.dmd' from '..\\\\source\\\\players\\\\dmd.py'>"
      ]
     },
     "execution_count": 6,
     "metadata": {},
     "output_type": "execute_result"
    }
   ],
   "source": [
    "# if you change something in the files, don't forget to reload\n",
    "reload(player)\n",
    "reload(base_defenders)\n",
    "reload(attackers)\n",
    "reload(defenders)\n",
    "reload(errors)\n",
    "reload(environment)\n",
    "reload(runner)\n",
    "reload(parsers)\n",
    "reload(game)\n",
    "reload(holmes)\n",
    "reload(sad)\n",
    "reload(b2bw2w)\n",
    "reload(util)\n",
    "reload(bm)\n",
    "reload(dmd)"
   ]
  },
  {
   "cell_type": "markdown",
   "metadata": {},
   "source": [
    "### Creating configurations to save into a csv file"
   ]
  },
  {
   "cell_type": "code",
   "execution_count": 16,
   "metadata": {},
   "outputs": [],
   "source": [
    "time_horizon = 100\n",
    "T = 20\n",
    "#targets = util.gen_tar_with_len(T)\n",
    "targets = [1 for i in range(T)]\n",
    "values = tuple((v, v) for v in targets)\n",
    "#val_ls = [values[i][0] for i in range(T)]\n",
    "#print(val_ls)\n",
    "feedback_prob = [1 for i in range(T)]\n",
    "observabilities = [1 for i in range(T)]\n",
    "feedback_type = \"full\"\n",
    "distributions = []\n",
    "#for i in range(5):\n",
    "#    distributions.append(tuple(util.gen_distr(T)))\n",
    "#print(distributions)\n",
    "distributions.append(tuple([1/T for i in range(T)]))\n",
    "#chosen_distr = tuple(util.gen_distr(T))\n",
    "#chosen_distr = tuple([1/T for i in range(T)])\n",
    "chosen_distr = tuple([0.031] + [0.051 for i in range(19)])\n",
    "#print(\"chosen = \", chosen_distr)\n",
    "#len(chosen_distr)"
   ]
  },
  {
   "cell_type": "code",
   "execution_count": 17,
   "metadata": {},
   "outputs": [],
   "source": [
    "g = game.GameWithObservabilities(values, time_horizon, observabilities, feedback_prob, feedback_type = \"mab\")\n",
    "g.attackers = [1]\n",
    "g.defenders = [0]\n",
    "d = [bm.FB(g, 0)]\n",
    "prof = []\n",
    "for distr in distributions:\n",
    "    prof.append(attackers.StochasticAttacker(g, 1, 1, *distr))\n",
    "prof.append(attackers.StochasticAttacker(g, 1, 1, *chosen_distr))\n",
    "prof.append(attackers.StackelbergAttacker(g, 1, 1))\n",
    "#for i in range(5):\n",
    "#    prof.append(attackers.SUQR(g,1))\n",
    "#chosen_a_prof = (attackers.FrequentistUnknownStochasticAttacker(g, 1, 1))\n",
    "#chosen_a_prof = attackers.SUQR(g,1)\n",
    "#prof.append(attackers.FrequentistUnknownStochasticAttacker(g, 1, 1))\n",
    "#a = [deepcopy(chosen_a_prof)]\n",
    "#prof.append(chosen_a_prof)\n",
    "a = [attackers.StochasticAttacker(g, 1, 1, *chosen_distr)]\n",
    "#a = [attackers.StackelbergAttacker(g, 1, 1)]\n",
    "#shuffle(prof)\n",
    "#print(\"Real attacker is: \", a[0])\n",
    "g.set_players(d, a, prof)"
   ]
  },
  {
   "cell_type": "code",
   "execution_count": 18,
   "metadata": {},
   "outputs": [],
   "source": [
    "def print_header(targets, profiles):\n",
    "    return \"Name,T,\" + \",\".join(str(i) for i in range(len(targets))) + \",Defender,Attacker,\" + \",\".join([\"Profile\" for x in range(len(profiles))]) + \",\" + \",\".join([\"Obs\" + str(x) for x in range(len(targets))]) + \",\" + \",\".join([\"Feed_prob\" + str(x) for x in range(len(targets))]) + \",Feed_type\" + \"\\n\" "
   ]
  },
  {
   "cell_type": "code",
   "execution_count": 19,
   "metadata": {},
   "outputs": [],
   "source": [
    "def print_row(targets, time_horizon, d, a, p, obs, fprob, ftype):\n",
    "    return \",\".join([str(i) for i in ([d+\"_vs_\"+a] + [time_horizon] + targets + [d] + [a] + [x for x in p] + [o for o in obs] + [fp for fp in fprob] + [ftype]) ])+\"\\n\""
   ]
  },
  {
   "cell_type": "code",
   "execution_count": 20,
   "metadata": {},
   "outputs": [
    {
     "data": {
      "text/plain": [
       "'Name,T,0,1,2,3,4,5,6,7,8,9,10,11,12,13,14,15,16,17,18,19,Defender,Attacker,Profile,Profile,Profile,Obs0,Obs1,Obs2,Obs3,Obs4,Obs5,Obs6,Obs7,Obs8,Obs9,Obs10,Obs11,Obs12,Obs13,Obs14,Obs15,Obs16,Obs17,Obs18,Obs19,Feed_prob0,Feed_prob1,Feed_prob2,Feed_prob3,Feed_prob4,Feed_prob5,Feed_prob6,Feed_prob7,Feed_prob8,Feed_prob9,Feed_prob10,Feed_prob11,Feed_prob12,Feed_prob13,Feed_prob14,Feed_prob15,Feed_prob16,Feed_prob17,Feed_prob18,Feed_prob19,Feed_type\\n'"
      ]
     },
     "execution_count": 20,
     "metadata": {},
     "output_type": "execute_result"
    }
   ],
   "source": [
    "(print_header(targets, prof))"
   ]
  },
  {
   "cell_type": "code",
   "execution_count": 21,
   "metadata": {},
   "outputs": [],
   "source": [
    "defender =[\"FB1\"]"
   ]
  },
  {
   "cell_type": "code",
   "execution_count": 22,
   "metadata": {},
   "outputs": [],
   "source": [
    "profile_strings = []\n",
    "for p in prof:\n",
    "    profile_strings.append(util.print_adv(p))"
   ]
  },
  {
   "cell_type": "code",
   "execution_count": 23,
   "metadata": {},
   "outputs": [],
   "source": [
    "experiments_folder = \"../NewExperiments\"\n",
    "exp_subfolder = \"/Full_vs_MAB\"\n",
    "batch_name = \"extreme_case_6\"\n",
    "batch_file = batch_name + \".csv\"\n",
    "batch_path = experiments_folder + exp_subfolder + \"/\" + batch_file"
   ]
  },
  {
   "cell_type": "markdown",
   "metadata": {},
   "source": [
    "### Generating the csv and checking everything is fine"
   ]
  },
  {
   "cell_type": "code",
   "execution_count": 24,
   "metadata": {},
   "outputs": [],
   "source": [
    "with open(batch_path, \"w+\") as f:\n",
    "    f.write(print_header(targets, prof))\n",
    "    f.write(print_row(targets, time_horizon,defender[0],util.print_adv(a[0]),profile_strings,observabilities,feedback_prob,feedback_type))"
   ]
  },
  {
   "cell_type": "code",
   "execution_count": 18,
   "metadata": {},
   "outputs": [
    {
     "data": {
      "text/html": [
       "<div>\n",
       "<style scoped>\n",
       "    .dataframe tbody tr th:only-of-type {\n",
       "        vertical-align: middle;\n",
       "    }\n",
       "\n",
       "    .dataframe tbody tr th {\n",
       "        vertical-align: top;\n",
       "    }\n",
       "\n",
       "    .dataframe thead th {\n",
       "        text-align: right;\n",
       "    }\n",
       "</style>\n",
       "<table border=\"1\" class=\"dataframe\">\n",
       "  <thead>\n",
       "    <tr style=\"text-align: right;\">\n",
       "      <th></th>\n",
       "      <th>Name</th>\n",
       "      <th>T</th>\n",
       "      <th>0</th>\n",
       "      <th>1</th>\n",
       "      <th>2</th>\n",
       "      <th>3</th>\n",
       "      <th>4</th>\n",
       "      <th>5</th>\n",
       "      <th>Defender</th>\n",
       "      <th>Attacker</th>\n",
       "      <th>...</th>\n",
       "      <th>Obs3</th>\n",
       "      <th>Obs4</th>\n",
       "      <th>Obs5</th>\n",
       "      <th>Feed_prob0</th>\n",
       "      <th>Feed_prob1</th>\n",
       "      <th>Feed_prob2</th>\n",
       "      <th>Feed_prob3</th>\n",
       "      <th>Feed_prob4</th>\n",
       "      <th>Feed_prob5</th>\n",
       "      <th>Feed_type</th>\n",
       "    </tr>\n",
       "  </thead>\n",
       "  <tbody>\n",
       "    <tr>\n",
       "      <th>0</th>\n",
       "      <td>FB1_vs_sto1-0.4984984984984984-0.1481481481481...</td>\n",
       "      <td>100</td>\n",
       "      <td>0.711</td>\n",
       "      <td>0.61</td>\n",
       "      <td>0.791</td>\n",
       "      <td>0.63</td>\n",
       "      <td>0.544</td>\n",
       "      <td>0.664</td>\n",
       "      <td>FB1</td>\n",
       "      <td>sto1-0.4984984984984984-0.1481481481481481-0.1...</td>\n",
       "      <td>...</td>\n",
       "      <td>1</td>\n",
       "      <td>1</td>\n",
       "      <td>1</td>\n",
       "      <td>1</td>\n",
       "      <td>1</td>\n",
       "      <td>1</td>\n",
       "      <td>1</td>\n",
       "      <td>1</td>\n",
       "      <td>1</td>\n",
       "      <td>full</td>\n",
       "    </tr>\n",
       "  </tbody>\n",
       "</table>\n",
       "<p>1 rows × 34 columns</p>\n",
       "</div>"
      ],
      "text/plain": [
       "                                                Name    T      0     1      2  \\\n",
       "0  FB1_vs_sto1-0.4984984984984984-0.1481481481481...  100  0.711  0.61  0.791   \n",
       "\n",
       "      3      4      5 Defender  \\\n",
       "0  0.63  0.544  0.664      FB1   \n",
       "\n",
       "                                            Attacker    ...    Obs3 Obs4 Obs5  \\\n",
       "0  sto1-0.4984984984984984-0.1481481481481481-0.1...    ...       1    1    1   \n",
       "\n",
       "  Feed_prob0 Feed_prob1 Feed_prob2 Feed_prob3 Feed_prob4 Feed_prob5 Feed_type  \n",
       "0          1          1          1          1          1          1      full  \n",
       "\n",
       "[1 rows x 34 columns]"
      ]
     },
     "execution_count": 18,
     "metadata": {},
     "output_type": "execute_result"
    }
   ],
   "source": [
    "pd.read_csv(batch_path)"
   ]
  },
  {
   "cell_type": "code",
   "execution_count": null,
   "metadata": {},
   "outputs": [],
   "source": []
  }
 ],
 "metadata": {
  "kernelspec": {
   "display_name": "Python 3",
   "language": "python",
   "name": "python3"
  },
  "language_info": {
   "codemirror_mode": {
    "name": "ipython",
    "version": 3
   },
   "file_extension": ".py",
   "mimetype": "text/x-python",
   "name": "python",
   "nbconvert_exporter": "python",
   "pygments_lexer": "ipython3",
   "version": "3.7.0"
  }
 },
 "nbformat": 4,
 "nbformat_minor": 2
}
