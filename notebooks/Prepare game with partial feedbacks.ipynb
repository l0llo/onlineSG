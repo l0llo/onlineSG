{
 "cells": [
  {
   "cell_type": "markdown",
   "metadata": {},
   "source": [
    "# Creating batch to test partial feedback setting"
   ]
  },
  {
   "cell_type": "code",
   "execution_count": 1,
   "metadata": {},
   "outputs": [
    {
     "data": {
      "text/html": [
       "<style>.container { width:100% !important; }</style>"
      ],
      "text/plain": [
       "<IPython.core.display.HTML object>"
      ]
     },
     "metadata": {},
     "output_type": "display_data"
    }
   ],
   "source": [
    "from IPython.core.display import display, HTML\n",
    "display(HTML(\"<style>.container { width:100% !important; }</style>\"))"
   ]
  },
  {
   "cell_type": "code",
   "execution_count": 2,
   "metadata": {},
   "outputs": [],
   "source": [
    "import sys\n",
    "sys.path.append('../')"
   ]
  },
  {
   "cell_type": "code",
   "execution_count": 3,
   "metadata": {},
   "outputs": [],
   "source": [
    "import source.players as pl\n",
    "import source.parsers as parsers\n",
    "import source.game as game\n",
    "import source.player as player\n",
    "import source.environment as environment\n",
    "import source.errors as errors\n",
    "import source.runner as runner\n",
    "import source.util as util\n",
    "import source.players.attackers as attackers\n",
    "import source.players.base_defenders as base_defenders\n",
    "import source.players.defenders as defenders\n",
    "import source.players.holmes as holmes\n",
    "import source.players.sad as sad\n",
    "import source.players.b2bw2w as b2bw2w\n",
    "import source.players.belief_max as bm\n",
    "import source.players.dmd as dmd\n",
    "\n",
    "import concurrent.futures\n",
    "import pkgutil\n",
    "import logging\n",
    "import sys\n",
    "from source.util import *\n",
    "import numpy as np\n",
    "import pandas as pd\n",
    "from importlib import *\n",
    "import time\n",
    "import os\n",
    "import re\n",
    "from copy import deepcopy, copy\n",
    "import datetime\n",
    "from contextlib import redirect_stdout\n",
    "from random import shuffle"
   ]
  },
  {
   "cell_type": "code",
   "execution_count": 4,
   "metadata": {},
   "outputs": [],
   "source": [
    "# run once\n",
    "\n",
    "lvl = logging.DEBUG\n",
    "logger = logging.getLogger(\"source\")\n",
    "logger.setLevel(lvl)\n",
    "#ch = logging.StreamHandler(sys.stdout)\n",
    "ch = logging.FileHandler(\"status\", mode='w')\n",
    "ch.setLevel(lvl)\n",
    "#formatter = logging.Formatter('%(asctime)s - %(name)s - %(levelname)s - %(message)s')\n",
    "formatter = logging.Formatter('%(message)s')\n",
    "ch.setFormatter(formatter)\n",
    "logger.addHandler(ch)"
   ]
  },
  {
   "cell_type": "code",
   "execution_count": 5,
   "metadata": {},
   "outputs": [],
   "source": [
    "lvl = logging.WARNING\n",
    "logger.setLevel(lvl)\n",
    "ch.setLevel(lvl)"
   ]
  },
  {
   "cell_type": "code",
   "execution_count": 6,
   "metadata": {},
   "outputs": [
    {
     "data": {
      "text/plain": [
       "<module 'source.players.dmd' from '..\\\\source\\\\players\\\\dmd.py'>"
      ]
     },
     "execution_count": 6,
     "metadata": {},
     "output_type": "execute_result"
    }
   ],
   "source": [
    "# if you change something in the files, don't forget to reload\n",
    "reload(player)\n",
    "reload(base_defenders)\n",
    "reload(attackers)\n",
    "reload(defenders)\n",
    "reload(errors)\n",
    "reload(environment)\n",
    "reload(runner)\n",
    "reload(parsers)\n",
    "reload(game)\n",
    "reload(holmes)\n",
    "reload(sad)\n",
    "reload(b2bw2w)\n",
    "reload(util)\n",
    "reload(bm)\n",
    "reload(dmd)"
   ]
  },
  {
   "cell_type": "markdown",
   "metadata": {},
   "source": [
    "### Creating configurations to save into a csv file"
   ]
  },
  {
   "cell_type": "code",
   "execution_count": 7,
   "metadata": {},
   "outputs": [
    {
     "name": "stdout",
     "output_type": "stream",
     "text": [
      "((0.809, 0.809), (0.842, 0.842), (0.933, 0.933), (0.875, 0.875), (0.986, 0.986), (0.876, 0.876))\n",
      "[(0.15, 0.116, 0.139, 0.433, 0.014, 0.148), (0.231, 0.125, 0.164, 0.055, 0.066, 0.359), (0.2672672672672673, 0.2122122122122122, 0.07907907907907907, 0.12212212212212212, 0.06606606606606608, 0.25325325325325326), (0.006993006993006994, 0.1228771228771229, 0.1098901098901099, 0.6083916083916084, 0.025974025974025976, 0.1258741258741259), (0.046, 0.398, 0.024, 0.334, 0.056, 0.142), (0.237, 0.001, 0.174, 0.054, 0.249, 0.285), (0.4744744744744745, 0.0890890890890891, 0.11011011011011013, 0.1811811811811812, 0.13913913913913917, 0.006006006006006007), (0.177, 0.316, 0.198, 0.099, 0.104, 0.106), (0.1018981018981019, 0.15084915084915085, 0.17882117882117884, 0.25974025974025977, 0.18481518481518483, 0.12387612387612389), (0.07, 0.06, 0.152, 0.497, 0.111, 0.11), (0.02, 0.171, 0.292, 0.187, 0.151, 0.179), (0.33, 0.285, 0.27, 0.039, 0.034, 0.042), (0.020020020020020023, 0.19619619619619622, 0.4914914914914915, 0.18718718718718722, 0.06506506506506507, 0.04004004004004005), (0.452, 0.159, 0.005, 0.003, 0.251, 0.13), (0.27672327672327673, 0.10789210789210787, 0.35964035964035956, 0.2017982017982018, 0.043956043956043946, 0.009990009990009988), (0.377, 0.118, 0.054, 0.153, 0.297, 0.001), (0.1691691691691692, 0.20520520520520522, 0.036036036036036036, 0.38138138138138145, 0.11011011011011013, 0.09809809809809811), (0.188, 0.114, 0.189, 0.246, 0.235, 0.028), (0.6963036963036964, 0.15984015984015987, 0.02297702297702298, 0.07392607392607393, 0.03796203796203797, 0.008991008991008992)]\n",
      "chosen =  (0.1898101898101898, 0.05894105894105893, 0.13486513486513485, 0.045954045954045945, 0.33966033966033965, 0.23076923076923075)\n"
     ]
    }
   ],
   "source": [
    "time_horizon = 100\n",
    "T = 6\n",
    "targets = util.gen_tar_with_len(T)\n",
    "values = tuple((v, v) for v in targets)\n",
    "print(values)\n",
    "feedback_prob = [1 for i in range(T)]\n",
    "observabilities = [1 for i in range(T)]\n",
    "feedback_type = \"mab\"\n",
    "distributions = []\n",
    "for i in range(19):\n",
    "    distributions.append(tuple(util.gen_distr(T)))\n",
    "print(distributions)\n",
    "chosen_distr = tuple(util.gen_distr(T))\n",
    "print(\"chosen = \", chosen_distr)"
   ]
  },
  {
   "cell_type": "code",
   "execution_count": 9,
   "metadata": {},
   "outputs": [
    {
     "name": "stdout",
     "output_type": "stream",
     "text": [
      "Real attacker is:  sto1-(0.1898101898101898, 0.05894105894105893, 0.13486513486513485, 0.045954045954045945, 0.33966033966033965, 0.23076923076923075)\n"
     ]
    }
   ],
   "source": [
    "g = game.GameWithObservabilities(values, time_horizon, observabilities, feedback_prob, feedback_type = \"mab\")\n",
    "g.attackers = [1]\n",
    "g.defenders = [0]\n",
    "d = [bm.FB(g, 0)]\n",
    "prof = []\n",
    "for distr in distributions:\n",
    "    prof.append(attackers.StochasticAttacker(g, 1, 1, *distr))\n",
    "prof.append(attackers.StochasticAttacker(g, 1, 1, chosen_distr))\n",
    "prof.append(attackers.StackelbergAttacker(g, 1, 1))\n",
    "a = [attackers.StochasticAttacker(g, 1, 1, chosen_distr)]\n",
    "shuffle(prof)\n",
    "print(\"Real attacker is: \", a[0])\n",
    "g.set_players(d, a, prof)"
   ]
  },
  {
   "cell_type": "code",
   "execution_count": 10,
   "metadata": {},
   "outputs": [],
   "source": [
    "def print_header(targets, profiles):\n",
    "    return \"Name,T,\" + \",\".join(str(i) for i in range(len(targets))) + \",Defender,Attacker,\" + \",\".join([\"Profile\" for x in range(len(profiles))]) + \",\" + \",\".join([\"Obs\" + str(x) for x in range(len(targets))]) + \",\" + \",\".join([\"Feed_prob\" + str(x) for x in range(len(targets))]) + \",Feed_type\" + \"\\n\" "
   ]
  },
  {
   "cell_type": "code",
   "execution_count": 11,
   "metadata": {},
   "outputs": [],
   "source": [
    "def print_row(targets, time_horizon, d, a, p, obs, fprob, ftype):\n",
    "    return \",\".join([str(i) for i in ([d+\"_vs_\"+a] + [time_horizon] + targets + [d] + [a] + [x for x in p] + [o for o in obs] + [fp for fp in fprob] + [ftype]) ])+\"\\n\""
   ]
  },
  {
   "cell_type": "code",
   "execution_count": 12,
   "metadata": {},
   "outputs": [
    {
     "data": {
      "text/plain": [
       "'Name,T,0,1,2,3,4,5,Defender,Attacker,Profile,Profile,Profile,Profile,Profile,Profile,Profile,Profile,Profile,Profile,Profile,Profile,Profile,Profile,Profile,Profile,Profile,Profile,Profile,Profile,Profile,Obs0,Obs1,Obs2,Obs3,Obs4,Obs5,Feed_prob0,Feed_prob1,Feed_prob2,Feed_prob3,Feed_prob4,Feed_prob5,Feed_type\\n'"
      ]
     },
     "execution_count": 12,
     "metadata": {},
     "output_type": "execute_result"
    }
   ],
   "source": [
    "(print_header(targets, prof))"
   ]
  },
  {
   "cell_type": "code",
   "execution_count": 13,
   "metadata": {},
   "outputs": [],
   "source": [
    "defender =[\"FB1\"]"
   ]
  },
  {
   "cell_type": "code",
   "execution_count": 14,
   "metadata": {},
   "outputs": [],
   "source": [
    "profile_strings = []\n",
    "for p in prof:\n",
    "    profile_strings.append(util.print_adv(p))"
   ]
  },
  {
   "cell_type": "code",
   "execution_count": 15,
   "metadata": {},
   "outputs": [],
   "source": [
    "experiments_folder = \"../NewExperiments\"\n",
    "exp_subfolder = \"/FB MAB feedback\"\n",
    "batch_name = \"fb_mab_feedback\"\n",
    "batch_file = batch_name + \".csv\"\n",
    "batch_path = experiments_folder + exp_subfolder + \"/\" + batch_file"
   ]
  },
  {
   "cell_type": "markdown",
   "metadata": {},
   "source": [
    "### Generating the csv and checking everything is fine"
   ]
  },
  {
   "cell_type": "code",
   "execution_count": 16,
   "metadata": {},
   "outputs": [],
   "source": [
    "with open(batch_path, \"w+\") as f:\n",
    "    f.write(print_header(targets, prof))\n",
    "    f.write(print_row(targets, time_horizon,defender[0],util.print_adv(a[0]),profile_strings,observabilities,feedback_prob,feedback_type))"
   ]
  },
  {
   "cell_type": "code",
   "execution_count": 17,
   "metadata": {},
   "outputs": [
    {
     "data": {
      "text/html": [
       "<div>\n",
       "<style scoped>\n",
       "    .dataframe tbody tr th:only-of-type {\n",
       "        vertical-align: middle;\n",
       "    }\n",
       "\n",
       "    .dataframe tbody tr th {\n",
       "        vertical-align: top;\n",
       "    }\n",
       "\n",
       "    .dataframe thead th {\n",
       "        text-align: right;\n",
       "    }\n",
       "</style>\n",
       "<table border=\"1\" class=\"dataframe\">\n",
       "  <thead>\n",
       "    <tr style=\"text-align: right;\">\n",
       "      <th></th>\n",
       "      <th></th>\n",
       "      <th></th>\n",
       "      <th></th>\n",
       "      <th></th>\n",
       "      <th></th>\n",
       "      <th></th>\n",
       "      <th></th>\n",
       "      <th></th>\n",
       "      <th></th>\n",
       "      <th></th>\n",
       "      <th></th>\n",
       "      <th></th>\n",
       "      <th></th>\n",
       "      <th></th>\n",
       "      <th>Name</th>\n",
       "      <th>T</th>\n",
       "      <th>0</th>\n",
       "      <th>1</th>\n",
       "      <th>2</th>\n",
       "      <th>3</th>\n",
       "      <th>4</th>\n",
       "      <th>5</th>\n",
       "      <th>Defender</th>\n",
       "      <th>Attacker</th>\n",
       "      <th>...</th>\n",
       "      <th>Obs3</th>\n",
       "      <th>Obs4</th>\n",
       "      <th>Obs5</th>\n",
       "      <th>Feed_prob0</th>\n",
       "      <th>Feed_prob1</th>\n",
       "      <th>Feed_prob2</th>\n",
       "      <th>Feed_prob3</th>\n",
       "      <th>Feed_prob4</th>\n",
       "      <th>Feed_prob5</th>\n",
       "      <th>Feed_type</th>\n",
       "    </tr>\n",
       "  </thead>\n",
       "  <tbody>\n",
       "    <tr>\n",
       "      <th>FB1_vs_sto1-(0.1898101898101898</th>\n",
       "      <th>0.058941</th>\n",
       "      <th>0.134865</th>\n",
       "      <th>0.045954</th>\n",
       "      <th>0.33966</th>\n",
       "      <th>0.23076923076923075)</th>\n",
       "      <th>100</th>\n",
       "      <th>0.809</th>\n",
       "      <th>0.842</th>\n",
       "      <th>0.933</th>\n",
       "      <th>0.875</th>\n",
       "      <th>0.986</th>\n",
       "      <th>0.876</th>\n",
       "      <th>FB1</th>\n",
       "      <th>sto1-(0.1898101898101898</th>\n",
       "      <td>0.058941</td>\n",
       "      <td>0.134865</td>\n",
       "      <td>0.045954</td>\n",
       "      <td>0.33966</td>\n",
       "      <td>0.23076923076923075)</td>\n",
       "      <td>sto1-0.1018981018981019-0.15084915084915085-0....</td>\n",
       "      <td>sto1-0.020020020020020023-0.19619619619619622-...</td>\n",
       "      <td>sto1-0.15-0.116-0.139-0.433-0.014-0.148</td>\n",
       "      <td>sto1-0.33-0.285-0.27-0.039-0.034-0.042</td>\n",
       "      <td>sto1-0.046-0.398-0.024-0.334-0.056-0.142</td>\n",
       "      <td>...</td>\n",
       "      <td>1</td>\n",
       "      <td>1</td>\n",
       "      <td>1</td>\n",
       "      <td>1</td>\n",
       "      <td>1</td>\n",
       "      <td>1</td>\n",
       "      <td>1</td>\n",
       "      <td>1</td>\n",
       "      <td>1</td>\n",
       "      <td>mab</td>\n",
       "    </tr>\n",
       "  </tbody>\n",
       "</table>\n",
       "<p>1 rows × 44 columns</p>\n",
       "</div>"
      ],
      "text/plain": [
       "                                                                                                                                                                   Name  \\\n",
       "FB1_vs_sto1-(0.1898101898101898 0.058941 0.134865 0.045954 0.33966  0.23076923076923075) 100 0.809 0.842 0.933 0.875 0.986 0.876 FB1 sto1-(0.1898101898101898  0.058941   \n",
       "\n",
       "                                                                                                                                                                      T  \\\n",
       "FB1_vs_sto1-(0.1898101898101898 0.058941 0.134865 0.045954 0.33966  0.23076923076923075) 100 0.809 0.842 0.933 0.875 0.986 0.876 FB1 sto1-(0.1898101898101898  0.134865   \n",
       "\n",
       "                                                                                                                                                                      0  \\\n",
       "FB1_vs_sto1-(0.1898101898101898 0.058941 0.134865 0.045954 0.33966  0.23076923076923075) 100 0.809 0.842 0.933 0.875 0.986 0.876 FB1 sto1-(0.1898101898101898  0.045954   \n",
       "\n",
       "                                                                                                                                                                     1  \\\n",
       "FB1_vs_sto1-(0.1898101898101898 0.058941 0.134865 0.045954 0.33966  0.23076923076923075) 100 0.809 0.842 0.933 0.875 0.986 0.876 FB1 sto1-(0.1898101898101898  0.33966   \n",
       "\n",
       "                                                                                                                                                                                   2  \\\n",
       "FB1_vs_sto1-(0.1898101898101898 0.058941 0.134865 0.045954 0.33966  0.23076923076923075) 100 0.809 0.842 0.933 0.875 0.986 0.876 FB1 sto1-(0.1898101898101898   0.23076923076923075)   \n",
       "\n",
       "                                                                                                                                                                                                               3  \\\n",
       "FB1_vs_sto1-(0.1898101898101898 0.058941 0.134865 0.045954 0.33966  0.23076923076923075) 100 0.809 0.842 0.933 0.875 0.986 0.876 FB1 sto1-(0.1898101898101898  sto1-0.1018981018981019-0.15084915084915085-0....   \n",
       "\n",
       "                                                                                                                                                                                                               4  \\\n",
       "FB1_vs_sto1-(0.1898101898101898 0.058941 0.134865 0.045954 0.33966  0.23076923076923075) 100 0.809 0.842 0.933 0.875 0.986 0.876 FB1 sto1-(0.1898101898101898  sto1-0.020020020020020023-0.19619619619619622-...   \n",
       "\n",
       "                                                                                                                                                                                                     5  \\\n",
       "FB1_vs_sto1-(0.1898101898101898 0.058941 0.134865 0.045954 0.33966  0.23076923076923075) 100 0.809 0.842 0.933 0.875 0.986 0.876 FB1 sto1-(0.1898101898101898  sto1-0.15-0.116-0.139-0.433-0.014-0.148   \n",
       "\n",
       "                                                                                                                                                                                             Defender  \\\n",
       "FB1_vs_sto1-(0.1898101898101898 0.058941 0.134865 0.045954 0.33966  0.23076923076923075) 100 0.809 0.842 0.933 0.875 0.986 0.876 FB1 sto1-(0.1898101898101898  sto1-0.33-0.285-0.27-0.039-0.034-0.042   \n",
       "\n",
       "                                                                                                                                                                                               Attacker  \\\n",
       "FB1_vs_sto1-(0.1898101898101898 0.058941 0.134865 0.045954 0.33966  0.23076923076923075) 100 0.809 0.842 0.933 0.875 0.986 0.876 FB1 sto1-(0.1898101898101898  sto1-0.046-0.398-0.024-0.334-0.056-0.142   \n",
       "\n",
       "                                                                                                                                                                 ...     \\\n",
       "FB1_vs_sto1-(0.1898101898101898 0.058941 0.134865 0.045954 0.33966  0.23076923076923075) 100 0.809 0.842 0.933 0.875 0.986 0.876 FB1 sto1-(0.1898101898101898    ...      \n",
       "\n",
       "                                                                                                                                                              Obs3  \\\n",
       "FB1_vs_sto1-(0.1898101898101898 0.058941 0.134865 0.045954 0.33966  0.23076923076923075) 100 0.809 0.842 0.933 0.875 0.986 0.876 FB1 sto1-(0.1898101898101898    1   \n",
       "\n",
       "                                                                                                                                                              Obs4  \\\n",
       "FB1_vs_sto1-(0.1898101898101898 0.058941 0.134865 0.045954 0.33966  0.23076923076923075) 100 0.809 0.842 0.933 0.875 0.986 0.876 FB1 sto1-(0.1898101898101898    1   \n",
       "\n",
       "                                                                                                                                                              Obs5  \\\n",
       "FB1_vs_sto1-(0.1898101898101898 0.058941 0.134865 0.045954 0.33966  0.23076923076923075) 100 0.809 0.842 0.933 0.875 0.986 0.876 FB1 sto1-(0.1898101898101898    1   \n",
       "\n",
       "                                                                                                                                                              Feed_prob0  \\\n",
       "FB1_vs_sto1-(0.1898101898101898 0.058941 0.134865 0.045954 0.33966  0.23076923076923075) 100 0.809 0.842 0.933 0.875 0.986 0.876 FB1 sto1-(0.1898101898101898          1   \n",
       "\n",
       "                                                                                                                                                              Feed_prob1  \\\n",
       "FB1_vs_sto1-(0.1898101898101898 0.058941 0.134865 0.045954 0.33966  0.23076923076923075) 100 0.809 0.842 0.933 0.875 0.986 0.876 FB1 sto1-(0.1898101898101898          1   \n",
       "\n",
       "                                                                                                                                                              Feed_prob2  \\\n",
       "FB1_vs_sto1-(0.1898101898101898 0.058941 0.134865 0.045954 0.33966  0.23076923076923075) 100 0.809 0.842 0.933 0.875 0.986 0.876 FB1 sto1-(0.1898101898101898          1   \n",
       "\n",
       "                                                                                                                                                              Feed_prob3  \\\n",
       "FB1_vs_sto1-(0.1898101898101898 0.058941 0.134865 0.045954 0.33966  0.23076923076923075) 100 0.809 0.842 0.933 0.875 0.986 0.876 FB1 sto1-(0.1898101898101898          1   \n",
       "\n",
       "                                                                                                                                                              Feed_prob4  \\\n",
       "FB1_vs_sto1-(0.1898101898101898 0.058941 0.134865 0.045954 0.33966  0.23076923076923075) 100 0.809 0.842 0.933 0.875 0.986 0.876 FB1 sto1-(0.1898101898101898          1   \n",
       "\n",
       "                                                                                                                                                              Feed_prob5  \\\n",
       "FB1_vs_sto1-(0.1898101898101898 0.058941 0.134865 0.045954 0.33966  0.23076923076923075) 100 0.809 0.842 0.933 0.875 0.986 0.876 FB1 sto1-(0.1898101898101898          1   \n",
       "\n",
       "                                                                                                                                                              Feed_type  \n",
       "FB1_vs_sto1-(0.1898101898101898 0.058941 0.134865 0.045954 0.33966  0.23076923076923075) 100 0.809 0.842 0.933 0.875 0.986 0.876 FB1 sto1-(0.1898101898101898       mab  \n",
       "\n",
       "[1 rows x 44 columns]"
      ]
     },
     "execution_count": 17,
     "metadata": {},
     "output_type": "execute_result"
    }
   ],
   "source": [
    "pd.read_csv(batch_path)"
   ]
  },
  {
   "cell_type": "code",
   "execution_count": null,
   "metadata": {},
   "outputs": [],
   "source": []
  }
 ],
 "metadata": {
  "kernelspec": {
   "display_name": "Python 3",
   "language": "python",
   "name": "python3"
  },
  "language_info": {
   "codemirror_mode": {
    "name": "ipython",
    "version": 3
   },
   "file_extension": ".py",
   "mimetype": "text/x-python",
   "name": "python",
   "nbconvert_exporter": "python",
   "pygments_lexer": "ipython3",
   "version": "3.7.0"
  }
 },
 "nbformat": 4,
 "nbformat_minor": 2
}
