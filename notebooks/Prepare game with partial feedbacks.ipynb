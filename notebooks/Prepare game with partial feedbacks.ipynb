{
 "cells": [
  {
   "cell_type": "markdown",
   "metadata": {},
   "source": [
    "# Creating batch to test partial feedback setting"
   ]
  },
  {
   "cell_type": "code",
   "execution_count": 48,
   "metadata": {},
   "outputs": [
    {
     "data": {
      "text/html": [
       "<style>.container { width:100% !important; }</style>"
      ],
      "text/plain": [
       "<IPython.core.display.HTML object>"
      ]
     },
     "metadata": {},
     "output_type": "display_data"
    }
   ],
   "source": [
    "from IPython.core.display import display, HTML\n",
    "display(HTML(\"<style>.container { width:100% !important; }</style>\"))"
   ]
  },
  {
   "cell_type": "code",
   "execution_count": 49,
   "metadata": {},
   "outputs": [],
   "source": [
    "import sys\n",
    "sys.path.append('../')"
   ]
  },
  {
   "cell_type": "code",
   "execution_count": 50,
   "metadata": {},
   "outputs": [],
   "source": [
    "import source.players as pl\n",
    "import source.parsers as parsers\n",
    "import source.game as game\n",
    "import source.player as player\n",
    "import source.environment as environment\n",
    "import source.errors as errors\n",
    "import source.runner as runner\n",
    "import source.util as util\n",
    "import source.players.attackers as attackers\n",
    "import source.players.base_defenders as base_defenders\n",
    "import source.players.defenders as defenders\n",
    "import source.players.holmes as holmes\n",
    "import source.players.sad as sad\n",
    "import source.players.b2bw2w as b2bw2w\n",
    "import source.players.belief_max as bm\n",
    "import source.players.dmd as dmd\n",
    "\n",
    "import concurrent.futures\n",
    "import pkgutil\n",
    "import logging\n",
    "import sys\n",
    "from source.util import *\n",
    "import numpy as np\n",
    "import pandas as pd\n",
    "from importlib import *\n",
    "import time\n",
    "import os\n",
    "import re\n",
    "from copy import deepcopy, copy\n",
    "import datetime\n",
    "from contextlib import redirect_stdout\n",
    "from random import shuffle"
   ]
  },
  {
   "cell_type": "code",
   "execution_count": 51,
   "metadata": {},
   "outputs": [],
   "source": [
    "# run once\n",
    "\n",
    "lvl = logging.DEBUG\n",
    "logger = logging.getLogger(\"source\")\n",
    "logger.setLevel(lvl)\n",
    "#ch = logging.StreamHandler(sys.stdout)\n",
    "ch = logging.FileHandler(\"status\", mode='w')\n",
    "ch.setLevel(lvl)\n",
    "#formatter = logging.Formatter('%(asctime)s - %(name)s - %(levelname)s - %(message)s')\n",
    "formatter = logging.Formatter('%(message)s')\n",
    "ch.setFormatter(formatter)\n",
    "logger.addHandler(ch)"
   ]
  },
  {
   "cell_type": "code",
   "execution_count": 52,
   "metadata": {},
   "outputs": [],
   "source": [
    "lvl = logging.WARNING\n",
    "logger.setLevel(lvl)\n",
    "ch.setLevel(lvl)"
   ]
  },
  {
   "cell_type": "code",
   "execution_count": 53,
   "metadata": {},
   "outputs": [
    {
     "data": {
      "text/plain": [
       "<module 'source.players.dmd' from '..\\\\source\\\\players\\\\dmd.py'>"
      ]
     },
     "execution_count": 53,
     "metadata": {},
     "output_type": "execute_result"
    }
   ],
   "source": [
    "# if you change something in the files, don't forget to reload\n",
    "reload(player)\n",
    "reload(base_defenders)\n",
    "reload(attackers)\n",
    "reload(defenders)\n",
    "reload(errors)\n",
    "reload(environment)\n",
    "reload(runner)\n",
    "reload(parsers)\n",
    "reload(game)\n",
    "reload(holmes)\n",
    "reload(sad)\n",
    "reload(b2bw2w)\n",
    "reload(util)\n",
    "reload(bm)\n",
    "reload(dmd)"
   ]
  },
  {
   "cell_type": "markdown",
   "metadata": {},
   "source": [
    "### Creating configurations to save into a csv file"
   ]
  },
  {
   "cell_type": "code",
   "execution_count": 54,
   "metadata": {},
   "outputs": [
    {
     "name": "stdout",
     "output_type": "stream",
     "text": [
      "((0.704, 0.704), (0.959, 0.959), (0.734, 0.734), (0.99, 0.99), (0.744, 0.744), (0.997, 0.997))\n",
      "[(0.313, 0.156, 0.283, 0.121, 0.119, 0.008), (0.079, 0.335, 0.414, 0.086, 0.027, 0.059), (0.49700000000000005, 0.08700000000000001, 0.15100000000000002, 0.06400000000000002, 0.11200000000000002, 0.08900000000000001), (0.302, 0.252, 0.224, 0.014, 0.084, 0.124), (0.2882882882882883, 0.2172172172172172, 0.1001001001001001, 0.23523523523523523, 0.1061061061061061, 0.05305305305305305), (0.2642642642642643, 0.08908908908908908, 0.3053053053053053, 0.019019019019019017, 0.26626626626626626, 0.056056056056056056), (0.128, 0.127, 0.199, 0.101, 0.061, 0.384), (0.255, 0.296, 0.203, 0.056, 0.052, 0.138), (0.48951048951048953, 0.020979020979020983, 0.19880119880119884, 0.1188811188811189, 0.10689310689310691, 0.06493506493506494), (0.14214214214214213, 0.022022022022022022, 0.001001001001001001, 0.15715715715715717, 0.5405405405405406, 0.13713713713713716)]\n"
     ]
    }
   ],
   "source": [
    "time_horizon = 1000\n",
    "T = 6\n",
    "targets = util.gen_tar_with_len(T)\n",
    "values = tuple((v, v) for v in targets)\n",
    "print(values)\n",
    "feedback_prob = [1 for i in range(T)]\n",
    "observabilities = [1 for i in range(T)]\n",
    "feedback_type = \"mab\"\n",
    "distributions = []\n",
    "for i in range(10):\n",
    "    distributions.append(tuple(util.gen_distr(T)))\n",
    "print(distributions)\n",
    "#chosen_distr = tuple(util.gen_distr(T))\n",
    "#print(\"chosen = \", chosen_distr)"
   ]
  },
  {
   "cell_type": "code",
   "execution_count": 40,
   "metadata": {},
   "outputs": [],
   "source": [
    "g = game.GameWithObservabilities(values, time_horizon, observabilities, feedback_prob, feedback_type = \"mab\")\n",
    "g.attackers = [1]\n",
    "g.defenders = [0]\n",
    "d = [bm.FB(g, 0)]\n",
    "prof = []\n",
    "#for distr in distributions:\n",
    "#    prof.append(attackers.StochasticAttacker(g, 1, 1, *distr))\n",
    "#prof.append(attackers.StochasticAttacker(g, 1, 1, *chosen_distr))\n",
    "prof.append(attackers.StackelbergAttacker(g, 1, 1))\n",
    "#for i in range(10):\n",
    "#    prof.append(attackers.SUQR(g,1))\n",
    "chosen_a_prof = (attackers.BayesianUnknownStochasticAttacker(g, 1, 1))\n",
    "#chosen_a_prof = attackers.SUQR(g,1)\n",
    "a = [deepcopy(chosen_a_prof)]\n",
    "prof.append(chosen_a_prof)\n",
    "#a = [attackers.StackelbergAttacker(g, 1, 1)]\n",
    "shuffle(prof)\n",
    "#print(\"Real attacker is: \", a[0])\n",
    "g.set_players(d, a, prof)"
   ]
  },
  {
   "cell_type": "code",
   "execution_count": 41,
   "metadata": {},
   "outputs": [],
   "source": [
    "def print_header(targets, profiles):\n",
    "    return \"Name,T,\" + \",\".join(str(i) for i in range(len(targets))) + \",Defender,Attacker,\" + \",\".join([\"Profile\" for x in range(len(profiles))]) + \",\" + \",\".join([\"Obs\" + str(x) for x in range(len(targets))]) + \",\" + \",\".join([\"Feed_prob\" + str(x) for x in range(len(targets))]) + \",Feed_type\" + \"\\n\" "
   ]
  },
  {
   "cell_type": "code",
   "execution_count": 42,
   "metadata": {},
   "outputs": [],
   "source": [
    "def print_row(targets, time_horizon, d, a, p, obs, fprob, ftype):\n",
    "    return \",\".join([str(i) for i in ([d+\"_vs_\"+a] + [time_horizon] + targets + [d] + [a] + [x for x in p] + [o for o in obs] + [fp for fp in fprob] + [ftype]) ])+\"\\n\""
   ]
  },
  {
   "cell_type": "code",
   "execution_count": 43,
   "metadata": {},
   "outputs": [
    {
     "data": {
      "text/plain": [
       "'Name,T,0,1,2,3,4,5,Defender,Attacker,Profile,Profile,Obs0,Obs1,Obs2,Obs3,Obs4,Obs5,Feed_prob0,Feed_prob1,Feed_prob2,Feed_prob3,Feed_prob4,Feed_prob5,Feed_type\\n'"
      ]
     },
     "execution_count": 43,
     "metadata": {},
     "output_type": "execute_result"
    }
   ],
   "source": [
    "(print_header(targets, prof))"
   ]
  },
  {
   "cell_type": "code",
   "execution_count": 44,
   "metadata": {},
   "outputs": [],
   "source": [
    "defender =[\"FB1\"]"
   ]
  },
  {
   "cell_type": "code",
   "execution_count": 45,
   "metadata": {},
   "outputs": [],
   "source": [
    "profile_strings = []\n",
    "for p in prof:\n",
    "    profile_strings.append(util.print_adv(p))"
   ]
  },
  {
   "cell_type": "code",
   "execution_count": 46,
   "metadata": {},
   "outputs": [],
   "source": [
    "experiments_folder = \"../NewExperiments\"\n",
    "exp_subfolder = \"/Bayesian vs FB\"\n",
    "batch_name = \"bd_vs_sto_2\"\n",
    "batch_file = batch_name + \".csv\"\n",
    "batch_path = experiments_folder + exp_subfolder + \"/\" + batch_file"
   ]
  },
  {
   "cell_type": "markdown",
   "metadata": {},
   "source": [
    "### Generating the csv and checking everything is fine"
   ]
  },
  {
   "cell_type": "code",
   "execution_count": 47,
   "metadata": {},
   "outputs": [],
   "source": [
    "with open(batch_path, \"w+\") as f:\n",
    "    f.write(print_header(targets, prof))\n",
    "    f.write(print_row(targets, time_horizon,defender[0],util.print_adv(a[0]),profile_strings,observabilities,feedback_prob,feedback_type))"
   ]
  },
  {
   "cell_type": "code",
   "execution_count": 32,
   "metadata": {},
   "outputs": [
    {
     "data": {
      "text/html": [
       "<div>\n",
       "<style scoped>\n",
       "    .dataframe tbody tr th:only-of-type {\n",
       "        vertical-align: middle;\n",
       "    }\n",
       "\n",
       "    .dataframe tbody tr th {\n",
       "        vertical-align: top;\n",
       "    }\n",
       "\n",
       "    .dataframe thead th {\n",
       "        text-align: right;\n",
       "    }\n",
       "</style>\n",
       "<table border=\"1\" class=\"dataframe\">\n",
       "  <thead>\n",
       "    <tr style=\"text-align: right;\">\n",
       "      <th></th>\n",
       "      <th>Name</th>\n",
       "      <th>T</th>\n",
       "      <th>0</th>\n",
       "      <th>1</th>\n",
       "      <th>2</th>\n",
       "      <th>3</th>\n",
       "      <th>4</th>\n",
       "      <th>5</th>\n",
       "      <th>Defender</th>\n",
       "      <th>Attacker</th>\n",
       "      <th>...</th>\n",
       "      <th>Obs3</th>\n",
       "      <th>Obs4</th>\n",
       "      <th>Obs5</th>\n",
       "      <th>Feed_prob0</th>\n",
       "      <th>Feed_prob1</th>\n",
       "      <th>Feed_prob2</th>\n",
       "      <th>Feed_prob3</th>\n",
       "      <th>Feed_prob4</th>\n",
       "      <th>Feed_prob5</th>\n",
       "      <th>Feed_type</th>\n",
       "    </tr>\n",
       "  </thead>\n",
       "  <tbody>\n",
       "    <tr>\n",
       "      <th>0</th>\n",
       "      <td>FB1_vs_sto1-0.042-0.196-0.596-0.041-0.092-0.033</td>\n",
       "      <td>1000</td>\n",
       "      <td>0.966</td>\n",
       "      <td>0.87</td>\n",
       "      <td>0.756</td>\n",
       "      <td>0.76</td>\n",
       "      <td>0.956</td>\n",
       "      <td>0.763</td>\n",
       "      <td>FB1</td>\n",
       "      <td>sto1-0.042-0.196-0.596-0.041-0.092-0.033</td>\n",
       "      <td>...</td>\n",
       "      <td>1</td>\n",
       "      <td>1</td>\n",
       "      <td>1</td>\n",
       "      <td>1</td>\n",
       "      <td>1</td>\n",
       "      <td>1</td>\n",
       "      <td>1</td>\n",
       "      <td>1</td>\n",
       "      <td>1</td>\n",
       "      <td>mab</td>\n",
       "    </tr>\n",
       "  </tbody>\n",
       "</table>\n",
       "<p>1 rows × 44 columns</p>\n",
       "</div>"
      ],
      "text/plain": [
       "                                              Name     T      0     1      2  \\\n",
       "0  FB1_vs_sto1-0.042-0.196-0.596-0.041-0.092-0.033  1000  0.966  0.87  0.756   \n",
       "\n",
       "      3      4      5 Defender                                  Attacker  \\\n",
       "0  0.76  0.956  0.763      FB1  sto1-0.042-0.196-0.596-0.041-0.092-0.033   \n",
       "\n",
       "     ...    Obs3 Obs4 Obs5 Feed_prob0 Feed_prob1 Feed_prob2 Feed_prob3  \\\n",
       "0    ...       1    1    1          1          1          1          1   \n",
       "\n",
       "  Feed_prob4 Feed_prob5 Feed_type  \n",
       "0          1          1       mab  \n",
       "\n",
       "[1 rows x 44 columns]"
      ]
     },
     "execution_count": 32,
     "metadata": {},
     "output_type": "execute_result"
    }
   ],
   "source": [
    "pd.read_csv(batch_path)"
   ]
  },
  {
   "cell_type": "code",
   "execution_count": null,
   "metadata": {},
   "outputs": [],
   "source": []
  }
 ],
 "metadata": {
  "kernelspec": {
   "display_name": "Python 3",
   "language": "python",
   "name": "python3"
  },
  "language_info": {
   "codemirror_mode": {
    "name": "ipython",
    "version": 3
   },
   "file_extension": ".py",
   "mimetype": "text/x-python",
   "name": "python",
   "nbconvert_exporter": "python",
   "pygments_lexer": "ipython3",
   "version": "3.7.0"
  }
 },
 "nbformat": 4,
 "nbformat_minor": 2
}
