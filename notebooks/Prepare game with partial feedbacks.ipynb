{
 "cells": [
  {
   "cell_type": "markdown",
   "metadata": {},
   "source": [
    "# Creating batch to test partial feedback setting"
   ]
  },
  {
   "cell_type": "code",
   "execution_count": 34,
   "metadata": {},
   "outputs": [
    {
     "data": {
      "text/html": [
       "<style>.container { width:100% !important; }</style>"
      ],
      "text/plain": [
       "<IPython.core.display.HTML object>"
      ]
     },
     "metadata": {},
     "output_type": "display_data"
    }
   ],
   "source": [
    "from IPython.core.display import display, HTML\n",
    "display(HTML(\"<style>.container { width:100% !important; }</style>\"))"
   ]
  },
  {
   "cell_type": "code",
   "execution_count": 35,
   "metadata": {},
   "outputs": [],
   "source": [
    "import sys\n",
    "sys.path.append('../')"
   ]
  },
  {
   "cell_type": "code",
   "execution_count": 36,
   "metadata": {},
   "outputs": [],
   "source": [
    "import source.players as pl\n",
    "import source.parsers as parsers\n",
    "import source.game as game\n",
    "import source.player as player\n",
    "import source.environment as environment\n",
    "import source.errors as errors\n",
    "import source.runner as runner\n",
    "import source.util as util\n",
    "import source.players.attackers as attackers\n",
    "import source.players.base_defenders as base_defenders\n",
    "import source.players.defenders as defenders\n",
    "import source.players.holmes as holmes\n",
    "import source.players.sad as sad\n",
    "import source.players.b2bw2w as b2bw2w\n",
    "import source.players.belief_max as bm\n",
    "import source.players.dmd as dmd\n",
    "import source.players.bayesian_approximator as ba\n",
    "\n",
    "import concurrent.futures\n",
    "import pkgutil\n",
    "import logging\n",
    "import sys\n",
    "from source.util import *\n",
    "import numpy as np\n",
    "import pandas as pd\n",
    "from importlib import *\n",
    "import time\n",
    "import os\n",
    "import re\n",
    "from copy import deepcopy, copy\n",
    "import datetime\n",
    "from contextlib import redirect_stdout\n",
    "from random import shuffle"
   ]
  },
  {
   "cell_type": "code",
   "execution_count": 37,
   "metadata": {},
   "outputs": [],
   "source": [
    "# run once\n",
    "\n",
    "lvl = logging.DEBUG\n",
    "logger = logging.getLogger(\"source\")\n",
    "logger.setLevel(lvl)\n",
    "#ch = logging.StreamHandler(sys.stdout)\n",
    "ch = logging.FileHandler(\"status\", mode='w')\n",
    "ch.setLevel(lvl)\n",
    "#formatter = logging.Formatter('%(asctime)s - %(name)s - %(levelname)s - %(message)s')\n",
    "formatter = logging.Formatter('%(message)s')\n",
    "ch.setFormatter(formatter)\n",
    "logger.addHandler(ch)"
   ]
  },
  {
   "cell_type": "code",
   "execution_count": 38,
   "metadata": {},
   "outputs": [],
   "source": [
    "lvl = logging.WARNING\n",
    "logger.setLevel(lvl)\n",
    "ch.setLevel(lvl)"
   ]
  },
  {
   "cell_type": "code",
   "execution_count": 39,
   "metadata": {},
   "outputs": [
    {
     "data": {
      "text/plain": [
       "<module 'source.players.dmd' from '..\\\\source\\\\players\\\\dmd.py'>"
      ]
     },
     "execution_count": 39,
     "metadata": {},
     "output_type": "execute_result"
    }
   ],
   "source": [
    "# if you change something in the files, don't forget to reload\n",
    "reload(player)\n",
    "reload(base_defenders)\n",
    "reload(attackers)\n",
    "reload(defenders)\n",
    "reload(errors)\n",
    "reload(environment)\n",
    "reload(runner)\n",
    "reload(parsers)\n",
    "reload(game)\n",
    "reload(holmes)\n",
    "reload(sad)\n",
    "reload(b2bw2w)\n",
    "reload(util)\n",
    "reload(bm)\n",
    "reload(dmd)"
   ]
  },
  {
   "cell_type": "markdown",
   "metadata": {},
   "source": [
    "### Creating configurations to save into a csv file"
   ]
  },
  {
   "cell_type": "code",
   "execution_count": 119,
   "metadata": {},
   "outputs": [
    {
     "name": "stdout",
     "output_type": "stream",
     "text": [
      "((0.973, 0.973), (0.753, 0.753), (0.968, 0.968), (0.987, 0.987), (0.744, 0.744), (0.882, 0.882))\n"
     ]
    }
   ],
   "source": [
    "time_horizon = 100\n",
    "T = 6\n",
    "targets = util.gen_tar_with_len(T)\n",
    "values = tuple((v, v) for v in targets)\n",
    "print(values)\n",
    "feedback_prob = [1 for i in range(T)]\n",
    "observabilities = [1 for i in range(T)]\n",
    "feedback_type = \"full\"\n",
    "distributions = []\n",
    "for i in range(10):\n",
    "    distributions.append(tuple(util.gen_distr(T)))\n",
    "#print(distributions)\n",
    "#chosen_distr = tuple(util.gen_distr(T))\n",
    "#print(\"chosen = \", chosen_distr)\n",
    "#len(chosen_distr)"
   ]
  },
  {
   "cell_type": "code",
   "execution_count": 120,
   "metadata": {},
   "outputs": [],
   "source": [
    "g = game.GameWithObservabilities(values, time_horizon, observabilities, feedback_prob, feedback_type = \"mab\")\n",
    "g.attackers = [1]\n",
    "g.defenders = [0]\n",
    "d = [bm.FB(g, 0)]\n",
    "prof = []\n",
    "for distr in distributions:\n",
    "    prof.append(attackers.StochasticAttacker(g, 1, 1, *distr))\n",
    "#prof.append(attackers.StochasticAttacker(g, 1, 1, *chosen_distr))\n",
    "prof.append(attackers.StackelbergAttacker(g, 1, 1))\n",
    "for i in range(10):\n",
    "    prof.append(attackers.SUQR(g,1))\n",
    "#chosen_a_prof = (attackers.FrequentistUnknownStochasticAttacker(g, 1, 1))\n",
    "#chosen_a_prof = attackers.SUQR(g,1)\n",
    "#prof.append(attackers.FrequentistUnknownStochasticAttacker(g, 1, 1))\n",
    "#a = [deepcopy(chosen_a_prof)]\n",
    "#prof.append(chosen_a_prof)\n",
    "#a = [attackers.StochasticAttacker(g, 1, 1, *chosen_distr)]\n",
    "a = [attackers.StackelbergAttacker(g, 1, 1)]\n",
    "#shuffle(prof)\n",
    "#print(\"Real attacker is: \", a[0])\n",
    "g.set_players(d, a, prof)"
   ]
  },
  {
   "cell_type": "code",
   "execution_count": 121,
   "metadata": {},
   "outputs": [],
   "source": [
    "def print_header(targets, profiles):\n",
    "    return \"Name,T,\" + \",\".join(str(i) for i in range(len(targets))) + \",Defender,Attacker,\" + \",\".join([\"Profile\" for x in range(len(profiles))]) + \",\" + \",\".join([\"Obs\" + str(x) for x in range(len(targets))]) + \",\" + \",\".join([\"Feed_prob\" + str(x) for x in range(len(targets))]) + \",Feed_type\" + \"\\n\" "
   ]
  },
  {
   "cell_type": "code",
   "execution_count": 122,
   "metadata": {},
   "outputs": [],
   "source": [
    "def print_row(targets, time_horizon, d, a, p, obs, fprob, ftype):\n",
    "    return \",\".join([str(i) for i in ([d+\"_vs_\"+a] + [time_horizon] + targets + [d] + [a] + [x for x in p] + [o for o in obs] + [fp for fp in fprob] + [ftype]) ])+\"\\n\""
   ]
  },
  {
   "cell_type": "code",
   "execution_count": 123,
   "metadata": {},
   "outputs": [
    {
     "data": {
      "text/plain": [
       "'Name,T,0,1,2,3,4,5,Defender,Attacker,Profile,Profile,Profile,Profile,Profile,Profile,Profile,Profile,Profile,Profile,Profile,Profile,Profile,Profile,Profile,Profile,Profile,Profile,Profile,Profile,Profile,Obs0,Obs1,Obs2,Obs3,Obs4,Obs5,Feed_prob0,Feed_prob1,Feed_prob2,Feed_prob3,Feed_prob4,Feed_prob5,Feed_type\\n'"
      ]
     },
     "execution_count": 123,
     "metadata": {},
     "output_type": "execute_result"
    }
   ],
   "source": [
    "(print_header(targets, prof))"
   ]
  },
  {
   "cell_type": "code",
   "execution_count": 124,
   "metadata": {},
   "outputs": [],
   "source": [
    "defender =[\"FB1\"]"
   ]
  },
  {
   "cell_type": "code",
   "execution_count": 125,
   "metadata": {},
   "outputs": [],
   "source": [
    "profile_strings = []\n",
    "for p in prof:\n",
    "    profile_strings.append(util.print_adv(p))"
   ]
  },
  {
   "cell_type": "code",
   "execution_count": 126,
   "metadata": {},
   "outputs": [],
   "source": [
    "experiments_folder = \"../NewExperiments\"\n",
    "exp_subfolder = \"/FRL\"\n",
    "batch_name = \"frl_vs_sta_2\"\n",
    "batch_file = batch_name + \".csv\"\n",
    "batch_path = experiments_folder + exp_subfolder + \"/\" + batch_file"
   ]
  },
  {
   "cell_type": "markdown",
   "metadata": {},
   "source": [
    "### Generating the csv and checking everything is fine"
   ]
  },
  {
   "cell_type": "code",
   "execution_count": 127,
   "metadata": {},
   "outputs": [],
   "source": [
    "with open(batch_path, \"w+\") as f:\n",
    "    f.write(print_header(targets, prof))\n",
    "    f.write(print_row(targets, time_horizon,defender[0],util.print_adv(a[0]),profile_strings,observabilities,feedback_prob,feedback_type))"
   ]
  },
  {
   "cell_type": "code",
   "execution_count": 118,
   "metadata": {},
   "outputs": [
    {
     "data": {
      "text/html": [
       "<div>\n",
       "<style scoped>\n",
       "    .dataframe tbody tr th:only-of-type {\n",
       "        vertical-align: middle;\n",
       "    }\n",
       "\n",
       "    .dataframe tbody tr th {\n",
       "        vertical-align: top;\n",
       "    }\n",
       "\n",
       "    .dataframe thead th {\n",
       "        text-align: right;\n",
       "    }\n",
       "</style>\n",
       "<table border=\"1\" class=\"dataframe\">\n",
       "  <thead>\n",
       "    <tr style=\"text-align: right;\">\n",
       "      <th></th>\n",
       "      <th>Name</th>\n",
       "      <th>T</th>\n",
       "      <th>0</th>\n",
       "      <th>1</th>\n",
       "      <th>2</th>\n",
       "      <th>3</th>\n",
       "      <th>4</th>\n",
       "      <th>5</th>\n",
       "      <th>Defender</th>\n",
       "      <th>Attacker</th>\n",
       "      <th>...</th>\n",
       "      <th>Obs3</th>\n",
       "      <th>Obs4</th>\n",
       "      <th>Obs5</th>\n",
       "      <th>Feed_prob0</th>\n",
       "      <th>Feed_prob1</th>\n",
       "      <th>Feed_prob2</th>\n",
       "      <th>Feed_prob3</th>\n",
       "      <th>Feed_prob4</th>\n",
       "      <th>Feed_prob5</th>\n",
       "      <th>Feed_type</th>\n",
       "    </tr>\n",
       "  </thead>\n",
       "  <tbody>\n",
       "    <tr>\n",
       "      <th>0</th>\n",
       "      <td>FB1_vs_sta1</td>\n",
       "      <td>100</td>\n",
       "      <td>0.777</td>\n",
       "      <td>0.792</td>\n",
       "      <td>0.88</td>\n",
       "      <td>0.928</td>\n",
       "      <td>0.992</td>\n",
       "      <td>0.99</td>\n",
       "      <td>FB1</td>\n",
       "      <td>sta1</td>\n",
       "      <td>...</td>\n",
       "      <td>1</td>\n",
       "      <td>1</td>\n",
       "      <td>1</td>\n",
       "      <td>1</td>\n",
       "      <td>1</td>\n",
       "      <td>1</td>\n",
       "      <td>1</td>\n",
       "      <td>1</td>\n",
       "      <td>1</td>\n",
       "      <td>full</td>\n",
       "    </tr>\n",
       "  </tbody>\n",
       "</table>\n",
       "<p>1 rows × 44 columns</p>\n",
       "</div>"
      ],
      "text/plain": [
       "          Name    T      0      1     2      3      4     5 Defender Attacker  \\\n",
       "0  FB1_vs_sta1  100  0.777  0.792  0.88  0.928  0.992  0.99      FB1     sta1   \n",
       "\n",
       "     ...    Obs3 Obs4 Obs5 Feed_prob0 Feed_prob1 Feed_prob2 Feed_prob3  \\\n",
       "0    ...       1    1    1          1          1          1          1   \n",
       "\n",
       "  Feed_prob4 Feed_prob5 Feed_type  \n",
       "0          1          1      full  \n",
       "\n",
       "[1 rows x 44 columns]"
      ]
     },
     "execution_count": 118,
     "metadata": {},
     "output_type": "execute_result"
    }
   ],
   "source": [
    "pd.read_csv(batch_path)"
   ]
  }
 ],
 "metadata": {
  "kernelspec": {
   "display_name": "Python 3",
   "language": "python",
   "name": "python3"
  },
  "language_info": {
   "codemirror_mode": {
    "name": "ipython",
    "version": 3
   },
   "file_extension": ".py",
   "mimetype": "text/x-python",
   "name": "python",
   "nbconvert_exporter": "python",
   "pygments_lexer": "ipython3",
   "version": "3.7.0"
  }
 },
 "nbformat": 4,
 "nbformat_minor": 2
}
