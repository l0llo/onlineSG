{
 "cells": [
  {
   "cell_type": "markdown",
   "metadata": {},
   "source": [
    "# Stackelberg vs Observing Stackelberg"
   ]
  },
  {
   "cell_type": "code",
   "execution_count": 1,
   "metadata": {},
   "outputs": [
    {
     "data": {
      "text/html": [
       "<style>.container { width:100% !important; }</style>"
      ],
      "text/plain": [
       "<IPython.core.display.HTML object>"
      ]
     },
     "metadata": {},
     "output_type": "display_data"
    }
   ],
   "source": [
    "from IPython.core.display import display, HTML\n",
    "display(HTML(\"<style>.container { width:100% !important; }</style>\"))"
   ]
  },
  {
   "cell_type": "code",
   "execution_count": 2,
   "metadata": {},
   "outputs": [],
   "source": [
    "import sys\n",
    "sys.path.append('../')"
   ]
  },
  {
   "cell_type": "code",
   "execution_count": 3,
   "metadata": {},
   "outputs": [],
   "source": [
    "import source.players as pl\n",
    "import source.parsers as parsers\n",
    "import source.game as game\n",
    "import source.player as player\n",
    "import source.environment as environment\n",
    "import source.errors as errors\n",
    "import source.players.attackers as attackers\n",
    "import source.players.base_defenders as base_defenders\n",
    "import source.players.defenders as defenders\n",
    "import source.runner as runner\n",
    "import source.players.holmes as holmes\n",
    "import source.players.sad as sad\n",
    "import source.players.b2bw2w as b2bw2w\n",
    "import source.util as util\n",
    "\n",
    "import concurrent.futures\n",
    "import pkgutil\n",
    "import logging\n",
    "import sys\n",
    "from source.util import *\n",
    "import numpy as np\n",
    "import pandas as pd\n",
    "from importlib import *\n",
    "import time\n",
    "import os\n",
    "import re\n",
    "from copy import deepcopy, copy\n",
    "import datetime\n",
    "from contextlib import redirect_stdout"
   ]
  },
  {
   "cell_type": "code",
   "execution_count": 4,
   "metadata": {},
   "outputs": [],
   "source": [
    "# run once\n",
    "\n",
    "lvl = logging.DEBUG\n",
    "logger = logging.getLogger(\"source\")\n",
    "logger.setLevel(lvl)\n",
    "#ch = logging.StreamHandler(sys.stdout)\n",
    "ch = logging.FileHandler(\"status\", mode='w')\n",
    "ch.setLevel(lvl)\n",
    "#formatter = logging.Formatter('%(asctime)s - %(name)s - %(levelname)s - %(message)s')\n",
    "formatter = logging.Formatter('%(message)s')\n",
    "ch.setFormatter(formatter)\n",
    "logger.addHandler(ch)"
   ]
  },
  {
   "cell_type": "code",
   "execution_count": 5,
   "metadata": {},
   "outputs": [],
   "source": [
    "lvl = logging.WARNING\n",
    "logger.setLevel(lvl)\n",
    "ch.setLevel(lvl)"
   ]
  },
  {
   "cell_type": "code",
   "execution_count": 6,
   "metadata": {},
   "outputs": [
    {
     "data": {
      "text/plain": [
       "<module 'source.util' from '..\\\\source\\\\util.py'>"
      ]
     },
     "execution_count": 6,
     "metadata": {},
     "output_type": "execute_result"
    }
   ],
   "source": [
    "# if you change something in the files, don't forget to reload\n",
    "reload(player)\n",
    "reload(base_defenders)\n",
    "reload(attackers)\n",
    "reload(defenders)\n",
    "reload(errors)\n",
    "reload(environment)\n",
    "reload(runner)\n",
    "reload(parsers)\n",
    "reload(game)\n",
    "reload(holmes)\n",
    "reload(sad)\n",
    "reload(b2bw2w)\n",
    "reload(util)"
   ]
  },
  {
   "cell_type": "code",
   "execution_count": 7,
   "metadata": {},
   "outputs": [],
   "source": [
    "time_horizon = 1000\n",
    "T = 5\n",
    "#targets = util.gen_targets(T, low=1, high=10)\n",
    "targets = [10, 2, 2, 2, 2]\n",
    "values = tuple((v, v) for v in targets)\n",
    "#obs = gen_observabilities_correlated_with_values(values)\n",
    "g = game.Game(values, time_horizon)\n",
    "g.attackers = [1]\n",
    "g.defenders = [0]\n",
    "a = [attackers.StackelbergAttacker(g, 1)]\n",
    "d = [base_defenders.StackelbergDefender(g, 0)]\n",
    "p = [attackers.ObservingStackelbergAttacker(g, 1, 1), attackers.StackelbergAttacker(g, 1)]\n",
    "g.set_players(d, a, p)"
   ]
  },
  {
   "cell_type": "code",
   "execution_count": 8,
   "metadata": {},
   "outputs": [
    {
     "name": "stdout",
     "output_type": "stream",
     "text": [
      "Academic license - for non-commercial use only\n",
      "[0.8095238095238093, 0.047619047619047616, 0.04761904761904767, 0.04761904761904767, 0.04761904761904767]\n"
     ]
    }
   ],
   "source": [
    "d[0].br_stackelberg()\n",
    "print(d[0].br_stackelberg_strategy)"
   ]
  },
  {
   "cell_type": "code",
   "execution_count": 9,
   "metadata": {},
   "outputs": [],
   "source": [
    "obs = {0: 1, 1: 0.1, 2: 0.1, 3: 0.1, 4: 0.1}\n",
    "obs_vect = [obs.get(i) for i in range(len(targets))]\n",
    "go1 = game.GameWithObservabilities(values, time_horizon)\n",
    "go1.attackers = [1]\n",
    "go1.defenders = [0]\n",
    "a1 = [attackers.ObservingStackelbergAttacker(go1, 1)]\n",
    "d1 = [base_defenders.ObservingStackelbergDefender(go1, 0)]\n",
    "p1 = [attackers.StackelbergAttacker(go1, 1), attackers.ObservingStackelbergAttacker(go1, 1)]\n",
    "go1.set_players(d1, a1, p1)\n",
    "go1.set_observabilities(obs)"
   ]
  },
  {
   "cell_type": "code",
   "execution_count": 10,
   "metadata": {},
   "outputs": [
    {
     "name": "stdout",
     "output_type": "stream",
     "text": [
      "[0.8009950248756219, 0.049751243781093954, 0.04975124378109552, 0.049751243781094315, 0.049751243781094315]\n"
     ]
    }
   ],
   "source": [
    "d1[0].br_stackelberg()\n",
    "print(d1[0].br_stackelberg_strategy)"
   ]
  },
  {
   "cell_type": "code",
   "execution_count": 11,
   "metadata": {},
   "outputs": [],
   "source": [
    "e = runner.Experiment(go1)"
   ]
  },
  {
   "cell_type": "code",
   "execution_count": 15,
   "metadata": {},
   "outputs": [],
   "source": [
    "e.run_interaction_with_observations()"
   ]
  },
  {
   "cell_type": "code",
   "execution_count": 16,
   "metadata": {},
   "outputs": [
    {
     "name": "stdout",
     "output_type": "stream",
     "text": [
      "[{0: [0.8009950248756219, 0.049751243781093954, 0.04975124378109552, 0.049751243781094315, 0.049751243781094315], 1: [0, 1, 0, 0, 0]}, {0: [0.8009950248756219, 0.049751243781093954, 0.04975124378109552, 0.049751243781094315, 0.049751243781094315], 1: [0, 1, 0, 0, 0]}, {0: [0.8009950248756219, 0.049751243781093954, 0.04975124378109552, 0.049751243781094315, 0.049751243781094315], 1: [0, 1, 0, 0, 0]}, {0: [0.8009950248756219, 0.049751243781093954, 0.04975124378109552, 0.049751243781094315, 0.049751243781094315], 1: [0, 1, 0, 0, 0]}]\n",
      "[{1: [1], 0: [0]}, {1: [1], 0: [0]}, {1: [1], 0: [0]}, {1: [1], 0: [4]}]\n",
      "[{0: 1, 1: 0, 2: 0, 3: 0, 4: 0}, {0: 1, 1: 0, 2: 0, 3: 0, 4: 0}, {0: 1, 1: 0, 2: 0, 3: 0, 4: 0}, {0: 1, 1: 0, 2: 0, 3: 0, 4: 0}]\n",
      "1.900497512437812\n",
      "1.904761904761905\n"
     ]
    }
   ],
   "source": [
    "print(e.game.strategy_history)\n",
    "print(e.game.history)\n",
    "print(e.game.observation_history)\n",
    "print(e.environment.last_exp_loss)\n",
    "print(e.environment.last_opt_loss)"
   ]
  },
  {
   "cell_type": "code",
   "execution_count": 20,
   "metadata": {},
   "outputs": [
    {
     "data": {
      "text/plain": [
       "1"
      ]
     },
     "execution_count": 20,
     "metadata": {},
     "output_type": "execute_result"
    }
   ],
   "source": [
    "go1.history[-1][1][0]"
   ]
  },
  {
   "cell_type": "code",
   "execution_count": 22,
   "metadata": {},
   "outputs": [
    {
     "data": {
      "text/plain": [
       "1"
      ]
     },
     "execution_count": 22,
     "metadata": {},
     "output_type": "execute_result"
    }
   ],
   "source": [
    "a1[0].last_strategy[1]"
   ]
  },
  {
   "cell_type": "code",
   "execution_count": 26,
   "metadata": {},
   "outputs": [],
   "source": [
    "from math import log"
   ]
  },
  {
   "cell_type": "code",
   "execution_count": 27,
   "metadata": {},
   "outputs": [
    {
     "data": {
      "text/plain": [
       "0.0"
      ]
     },
     "execution_count": 27,
     "metadata": {},
     "output_type": "execute_result"
    }
   ],
   "source": [
    "log(1)"
   ]
  },
  {
   "cell_type": "code",
   "execution_count": null,
   "metadata": {},
   "outputs": [],
   "source": []
  }
 ],
 "metadata": {
  "kernelspec": {
   "display_name": "Python 3",
   "language": "python",
   "name": "python3"
  },
  "language_info": {
   "codemirror_mode": {
    "name": "ipython",
    "version": 3
   },
   "file_extension": ".py",
   "mimetype": "text/x-python",
   "name": "python",
   "nbconvert_exporter": "python",
   "pygments_lexer": "ipython3",
   "version": "3.7.0"
  }
 },
 "nbformat": 4,
 "nbformat_minor": 2
}
