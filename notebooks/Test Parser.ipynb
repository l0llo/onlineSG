{
 "cells": [
  {
   "cell_type": "markdown",
   "metadata": {},
   "source": [
    "# Test parser"
   ]
  },
  {
   "cell_type": "code",
   "execution_count": 1,
   "metadata": {},
   "outputs": [],
   "source": [
    "import sys\n",
    "sys.path.append(\"../\")"
   ]
  },
  {
   "cell_type": "code",
   "execution_count": 2,
   "metadata": {},
   "outputs": [],
   "source": [
    "from source.game import Game\n",
    "from source.player import *\n",
    "from source.runner import Experiment\n",
    "from source.runner import Batch\n",
    "from source.parsers import Parser"
   ]
  },
  {
   "cell_type": "code",
   "execution_count": 3,
   "metadata": {},
   "outputs": [
    {
     "name": "stdout",
     "output_type": "stream",
     "text": [
      "Name,T,0,1,2,3,4,Defender,Attacker,Attacker,Obs0,Obs1,Obs2,Obs3,Obs4\n",
      "g1,5,(1 7 1),(1 1 12),(12 1 1),(1 1 2),(2 2 3),defender,player,obsta,0.4236,0.65,0.972,0.65686,0.12\n",
      "g2,3,1,1,1,1,1,defender,,obsuqr,0.5,-9,50,0.5,0.5\n",
      "g3,6,1,3,1,2,1,sta_def,sta,,0.6,0.6,0.6,a,b\n",
      "g4,5,1,12,13,1,1,defender,player,sta,0.7,,,0.7,0.7\n",
      "\n"
     ]
    }
   ],
   "source": [
    "with open(\"../games/conf_with_obs.csv\", \"r\") as f:\n",
    "    print(f.read())"
   ]
  },
  {
   "cell_type": "code",
   "execution_count": 4,
   "metadata": {},
   "outputs": [],
   "source": [
    "conf = \"../games/conf_with_obs.csv\"\n",
    "b = Batch(conf, \".\", print_results=False)\n",
    "b.parse_batch()"
   ]
  },
  {
   "cell_type": "code",
   "execution_count": 5,
   "metadata": {},
   "outputs": [
    {
     "data": {
      "text/plain": [
       "<Configuration game:5,1,1,12,1,2,player1,obsta1,defender1 experiments:[] stats:{}>"
      ]
     },
     "execution_count": 5,
     "metadata": {},
     "output_type": "execute_result"
    }
   ],
   "source": [
    "b.configurations[0]"
   ]
  },
  {
   "cell_type": "code",
   "execution_count": 6,
   "metadata": {},
   "outputs": [
    {
     "data": {
      "text/plain": [
       "<GameWithObservabilities values:[[1, 7, 1], [1, 1, 12], [12, 1, 1], [1, 1, 2], [2, 2, 3]] players{1: <Attacker id:1 resources:1>, 2: <ObservingStackelbergAttacker id:2 resources:1>, 0: <Defender id:0 resources:1>} time_horizon:5>"
      ]
     },
     "execution_count": 6,
     "metadata": {},
     "output_type": "execute_result"
    }
   ],
   "source": [
    "b.configurations[0].game"
   ]
  },
  {
   "cell_type": "code",
   "execution_count": 7,
   "metadata": {},
   "outputs": [
    {
     "data": {
      "text/plain": [
       "<GameWithObservabilities values:[[1.0, 1.0], [1.0, 1.0], [1.0, 1.0], [1.0, 1.0], [1.0, 1.0]] players{1: <ObservingSUQR id:1 resources:1>, 0: <Defender id:0 resources:1>} time_horizon:3>"
      ]
     },
     "execution_count": 7,
     "metadata": {},
     "output_type": "execute_result"
    }
   ],
   "source": [
    "b.configurations[1].game"
   ]
  },
  {
   "cell_type": "code",
   "execution_count": 8,
   "metadata": {},
   "outputs": [
    {
     "data": {
      "text/plain": [
       "<GameWithObservabilities values:[[1.0, 1.0], [3.0, 3.0], [1.0, 1.0], [2.0, 2.0], [1.0, 1.0]] players{1: <StackelbergAttacker id:1 resources:1>, 0: <StackelbergDefender id:0 resources:1>} time_horizon:6>"
      ]
     },
     "execution_count": 8,
     "metadata": {},
     "output_type": "execute_result"
    }
   ],
   "source": [
    "b.configurations[2].game"
   ]
  },
  {
   "cell_type": "code",
   "execution_count": 9,
   "metadata": {},
   "outputs": [
    {
     "data": {
      "text/plain": [
       "<GameWithObservabilities values:[[1.0, 1.0, 1.0], [12.0, 12.0, 12.0], [13.0, 13.0, 13.0], [1.0, 1.0, 1.0], [1.0, 1.0, 1.0]] players{1: <Attacker id:1 resources:1>, 2: <StackelbergAttacker id:2 resources:1>, 0: <Defender id:0 resources:1>} time_horizon:5>"
      ]
     },
     "execution_count": 9,
     "metadata": {},
     "output_type": "execute_result"
    }
   ],
   "source": [
    "b.configurations[3].game"
   ]
  },
  {
   "cell_type": "code",
   "execution_count": 10,
   "metadata": {},
   "outputs": [
    {
     "data": {
      "text/plain": [
       "{0: 0.424, 1: 0.65, 2: 0.972, 3: 0.657, 4: 0.12}"
      ]
     },
     "execution_count": 10,
     "metadata": {},
     "output_type": "execute_result"
    }
   ],
   "source": [
    "b.configurations[0].game.observabilities"
   ]
  },
  {
   "cell_type": "code",
   "execution_count": 11,
   "metadata": {},
   "outputs": [
    {
     "data": {
      "text/plain": [
       "{0: 0.5, 1: 1.0, 2: 1.0, 3: 0.5, 4: 0.5}"
      ]
     },
     "execution_count": 11,
     "metadata": {},
     "output_type": "execute_result"
    }
   ],
   "source": [
    "b.configurations[1].game.observabilities"
   ]
  },
  {
   "cell_type": "code",
   "execution_count": 12,
   "metadata": {},
   "outputs": [
    {
     "data": {
      "text/plain": [
       "{0: 0.6, 1: 0.6, 2: 0.6, 3: 1.0, 4: 1.0}"
      ]
     },
     "execution_count": 12,
     "metadata": {},
     "output_type": "execute_result"
    }
   ],
   "source": [
    "b.configurations[2].game.observabilities"
   ]
  },
  {
   "cell_type": "code",
   "execution_count": 13,
   "metadata": {},
   "outputs": [
    {
     "data": {
      "text/plain": [
       "{0: 0.7, 1: 1.0, 2: 1.0, 3: 0.7, 4: 0.7}"
      ]
     },
     "execution_count": 13,
     "metadata": {},
     "output_type": "execute_result"
    }
   ],
   "source": [
    "b.configurations[3].game.observabilities"
   ]
  },
  {
   "cell_type": "code",
   "execution_count": null,
   "metadata": {},
   "outputs": [],
   "source": []
  }
 ],
 "metadata": {
  "kernelspec": {
   "display_name": "Python 3",
   "language": "python",
   "name": "python3"
  },
  "language_info": {
   "codemirror_mode": {
    "name": "ipython",
    "version": 3
   },
   "file_extension": ".py",
   "mimetype": "text/x-python",
   "name": "python",
   "nbconvert_exporter": "python",
   "pygments_lexer": "ipython3",
   "version": "3.7.0"
  }
 },
 "nbformat": 4,
 "nbformat_minor": 2
}
