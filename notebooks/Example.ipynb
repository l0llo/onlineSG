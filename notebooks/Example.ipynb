{
 "cells": [
  {
   "cell_type": "code",
   "execution_count": 1,
   "metadata": {
    "collapsed": false
   },
   "outputs": [],
   "source": [
    "import game\n",
    "import player\n",
    "import environment\n",
    "import parsers\n",
    "import runner\n",
    "import numpy as np\n",
    "import pandas as pd\n",
    "from importlib import *"
   ]
  },
  {
   "cell_type": "code",
   "execution_count": 2,
   "metadata": {
    "collapsed": false
   },
   "outputs": [
    {
     "data": {
      "text/plain": [
       "2"
      ]
     },
     "execution_count": 2,
     "metadata": {},
     "output_type": "execute_result"
    }
   ],
   "source": [
    "values = [(1, 1), (2, 2), (3, 3)]\n",
    "targets = range(len(values))\n",
    "max(targets, key=lambda x: values[x][0])"
   ]
  },
  {
   "cell_type": "markdown",
   "metadata": {},
   "source": [
    "let's initialize a game with a Stackelberg attacker and a Uniform defender"
   ]
  },
  {
   "cell_type": "code",
   "execution_count": 3,
   "metadata": {
    "collapsed": false
   },
   "outputs": [],
   "source": [
    "g = game.Game(((1, 1), (2, 2), (3, 3)), 10)\n",
    "d = player.Defender(g, 0, 1)\n",
    "a = player.StackelbergAttacker(g, 1, 1)\n",
    "g.players[0] = d\n",
    "g.players[1] = a\n",
    "g.defenders.append(0)\n",
    "g.attackers.append(1)\n",
    "e = environment.Environment(g, 0)\n",
    "agent = d"
   ]
  },
  {
   "cell_type": "markdown",
   "metadata": {},
   "source": [
    "we can now play the game"
   ]
  },
  {
   "cell_type": "code",
   "execution_count": 4,
   "metadata": {
    "collapsed": false
   },
   "outputs": [],
   "source": [
    "for t in range(g.time_horizon):\n",
    "    strategy = agent.compute_strategy()\n",
    "    e.observe_strategy(strategy)\n",
    "    realization = agent.sample_strategy()\n",
    "    e.observe_realization(realization)\n",
    "    feedback = e.feedback(\"expert\")\n",
    "    agent.receive_feedback(feedback)"
   ]
  },
  {
   "cell_type": "code",
   "execution_count": 5,
   "metadata": {
    "collapsed": false
   },
   "outputs": [
    {
     "data": {
      "text/plain": [
       "[{0: 0, 1: 0, 2: 0},\n",
       " {0: 0, 1: 0, 2: 0},\n",
       " {0: 0, 1: 0, 2: -3},\n",
       " {0: 0, 1: 0, 2: -3},\n",
       " {0: 0, 1: 0, 2: -3},\n",
       " {0: 0, 1: 0, 2: 0},\n",
       " {0: 0, 1: 0, 2: -3},\n",
       " {0: 0, 1: 0, 2: -3},\n",
       " {0: 0, 1: 0, 2: -3},\n",
       " {0: 0, 1: 0, 2: -3}]"
      ]
     },
     "execution_count": 5,
     "metadata": {},
     "output_type": "execute_result"
    }
   ],
   "source": [
    "agent.feedbacks"
   ]
  },
  {
   "cell_type": "markdown",
   "metadata": {},
   "source": [
    "and here is how it has gone"
   ]
  },
  {
   "cell_type": "code",
   "execution_count": 6,
   "metadata": {
    "collapsed": false
   },
   "outputs": [
    {
     "data": {
      "text/plain": [
       "[{0: [2], 1: [2]},\n",
       " {0: [2], 1: [2]},\n",
       " {0: [1], 1: [2]},\n",
       " {0: [0], 1: [2]},\n",
       " {0: [1], 1: [2]},\n",
       " {0: [2], 1: [2]},\n",
       " {0: [1], 1: [2]},\n",
       " {0: [1], 1: [2]},\n",
       " {0: [1], 1: [2]},\n",
       " {0: [1], 1: [2]}]"
      ]
     },
     "execution_count": 6,
     "metadata": {},
     "output_type": "execute_result"
    }
   ],
   "source": [
    "g.history"
   ]
  },
  {
   "cell_type": "code",
   "execution_count": 7,
   "metadata": {
    "collapsed": false
   },
   "outputs": [
    {
     "data": {
      "text/plain": [
       "[{0: [0.3333333333333333, 0.3333333333333333, 0.3333333333333333],\n",
       "  1: [0, 0, 1]},\n",
       " {0: [0.3333333333333333, 0.3333333333333333, 0.3333333333333333],\n",
       "  1: [0, 0, 1]},\n",
       " {0: [0.3333333333333333, 0.3333333333333333, 0.3333333333333333],\n",
       "  1: [0, 0, 1]},\n",
       " {0: [0.3333333333333333, 0.3333333333333333, 0.3333333333333333],\n",
       "  1: [0, 0, 1]},\n",
       " {0: [0.3333333333333333, 0.3333333333333333, 0.3333333333333333],\n",
       "  1: [0, 0, 1]},\n",
       " {0: [0.3333333333333333, 0.3333333333333333, 0.3333333333333333],\n",
       "  1: [0, 0, 1]},\n",
       " {0: [0.3333333333333333, 0.3333333333333333, 0.3333333333333333],\n",
       "  1: [0, 0, 1]},\n",
       " {0: [0.3333333333333333, 0.3333333333333333, 0.3333333333333333],\n",
       "  1: [0, 0, 1]},\n",
       " {0: [0.3333333333333333, 0.3333333333333333, 0.3333333333333333],\n",
       "  1: [0, 0, 1]},\n",
       " {0: [0.3333333333333333, 0.3333333333333333, 0.3333333333333333],\n",
       "  1: [0, 0, 1]}]"
      ]
     },
     "execution_count": 7,
     "metadata": {},
     "output_type": "execute_result"
    }
   ],
   "source": [
    "g.strategy_history"
   ]
  },
  {
   "cell_type": "markdown",
   "metadata": {},
   "source": [
    "## Configuration Files\n",
    "\n",
    "we can also set a configuration file as below"
   ]
  },
  {
   "cell_type": "code",
   "execution_count": 8,
   "metadata": {
    "collapsed": false
   },
   "outputs": [],
   "source": [
    "df = pd.read_csv(\"conf.csv\")"
   ]
  },
  {
   "cell_type": "code",
   "execution_count": 9,
   "metadata": {
    "collapsed": false
   },
   "outputs": [
    {
     "data": {
      "text/html": [
       "<div>\n",
       "<table border=\"1\" class=\"dataframe\">\n",
       "  <thead>\n",
       "    <tr style=\"text-align: right;\">\n",
       "      <th></th>\n",
       "      <th>T</th>\n",
       "      <th>0</th>\n",
       "      <th>1</th>\n",
       "      <th>2</th>\n",
       "      <th>3</th>\n",
       "      <th>4</th>\n",
       "      <th>Defender</th>\n",
       "      <th>Attacker</th>\n",
       "      <th>Attacker.1</th>\n",
       "    </tr>\n",
       "  </thead>\n",
       "  <tbody>\n",
       "    <tr>\n",
       "      <th>0</th>\n",
       "      <td>5</td>\n",
       "      <td>2</td>\n",
       "      <td>1</td>\n",
       "      <td>3</td>\n",
       "      <td>1</td>\n",
       "      <td>1</td>\n",
       "      <td>defender</td>\n",
       "      <td>player</td>\n",
       "      <td>stackelberg</td>\n",
       "    </tr>\n",
       "    <tr>\n",
       "      <th>1</th>\n",
       "      <td>3</td>\n",
       "      <td>1</td>\n",
       "      <td>1</td>\n",
       "      <td>1</td>\n",
       "      <td>1</td>\n",
       "      <td>1</td>\n",
       "      <td>defender</td>\n",
       "      <td>NaN</td>\n",
       "      <td>stackelberg</td>\n",
       "    </tr>\n",
       "    <tr>\n",
       "      <th>2</th>\n",
       "      <td>6</td>\n",
       "      <td>1</td>\n",
       "      <td>3</td>\n",
       "      <td>1</td>\n",
       "      <td>2</td>\n",
       "      <td>1</td>\n",
       "      <td>stu_defender</td>\n",
       "      <td>stackelberg</td>\n",
       "      <td>NaN</td>\n",
       "    </tr>\n",
       "    <tr>\n",
       "      <th>3</th>\n",
       "      <td>5</td>\n",
       "      <td>1</td>\n",
       "      <td>12</td>\n",
       "      <td>13</td>\n",
       "      <td>1</td>\n",
       "      <td>1</td>\n",
       "      <td>defender</td>\n",
       "      <td>player</td>\n",
       "      <td>stackelberg</td>\n",
       "    </tr>\n",
       "  </tbody>\n",
       "</table>\n",
       "</div>"
      ],
      "text/plain": [
       "   T  0   1   2  3  4      Defender     Attacker   Attacker.1\n",
       "0  5  2   1   3  1  1      defender       player  stackelberg\n",
       "1  3  1   1   1  1  1      defender          NaN  stackelberg\n",
       "2  6  1   3   1  2  1  stu_defender  stackelberg          NaN\n",
       "3  5  1  12  13  1  1      defender       player  stackelberg"
      ]
     },
     "execution_count": 9,
     "metadata": {},
     "output_type": "execute_result"
    }
   ],
   "source": [
    "df"
   ]
  },
  {
   "cell_type": "code",
   "execution_count": 10,
   "metadata": {
    "collapsed": true
   },
   "outputs": [],
   "source": [
    "mypath = \"/home/lorenzo/Scrivania/Polimi/Thesis/code/onlineSG/games\""
   ]
  },
  {
   "cell_type": "markdown",
   "metadata": {},
   "source": [
    "and use the *Runner* class to run all the configuration files in a folder"
   ]
  },
  {
   "cell_type": "code",
   "execution_count": 20,
   "metadata": {
    "collapsed": false
   },
   "outputs": [],
   "source": [
    "r = runner.Runner(mypath)"
   ]
  },
  {
   "cell_type": "code",
   "execution_count": 21,
   "metadata": {
    "collapsed": false
   },
   "outputs": [],
   "source": [
    "r.run()"
   ]
  },
  {
   "cell_type": "code",
   "execution_count": 23,
   "metadata": {
    "collapsed": false
   },
   "outputs": [
    {
     "data": {
      "text/plain": [
       "[{0: [0, 1, 0, 0, 0], 1: [0, 0, 0, 1, 0]},\n",
       " {0: [0, 1, 0, 0, 0], 1: [0, 0, 0, 1, 0]},\n",
       " {0: [0, 1, 0, 0, 0], 1: [0, 0, 0, 1, 0]},\n",
       " {0: [0, 1, 0, 0, 0], 1: [0, 0, 0, 1, 0]},\n",
       " {0: [0, 1, 0, 0, 0], 1: [0, 0, 0, 1, 0]},\n",
       " {0: [0, 1, 0, 0, 0], 1: [0, 0, 0, 1, 0]}]"
      ]
     },
     "execution_count": 23,
     "metadata": {},
     "output_type": "execute_result"
    }
   ],
   "source": [
    "r.batches[0].experiments[2].game.strategy_history"
   ]
  },
  {
   "cell_type": "code",
   "execution_count": 24,
   "metadata": {
    "collapsed": false
   },
   "outputs": [
    {
     "data": {
      "text/plain": [
       "[{0: 0, 1: 0, 2: 0, 3: -2, 4: 0},\n",
       " {0: 0, 1: 0, 2: 0, 3: -2, 4: 0},\n",
       " {0: 0, 1: 0, 2: 0, 3: -2, 4: 0},\n",
       " {0: 0, 1: 0, 2: 0, 3: -2, 4: 0},\n",
       " {0: 0, 1: 0, 2: 0, 3: -2, 4: 0},\n",
       " {0: 0, 1: 0, 2: 0, 3: -2, 4: 0}]"
      ]
     },
     "execution_count": 24,
     "metadata": {},
     "output_type": "execute_result"
    }
   ],
   "source": [
    "r.batches[0].experiments[2].agent.feedbacks"
   ]
  },
  {
   "cell_type": "code",
   "execution_count": 25,
   "metadata": {
    "collapsed": false
   },
   "outputs": [
    {
     "data": {
      "text/plain": [
       "[{0: [1], 1: [3]},\n",
       " {0: [1], 1: [3]},\n",
       " {0: [1], 1: [3]},\n",
       " {0: [1], 1: [3]},\n",
       " {0: [1], 1: [3]},\n",
       " {0: [1], 1: [3]}]"
      ]
     },
     "execution_count": 25,
     "metadata": {},
     "output_type": "execute_result"
    }
   ],
   "source": [
    "r.batches[0].experiments[2].game.history"
   ]
  },
  {
   "cell_type": "code",
   "execution_count": 26,
   "metadata": {
    "collapsed": false
   },
   "outputs": [
    {
     "data": {
      "text/plain": [
       "<player.StUDefender at 0x7fd7f360e630>"
      ]
     },
     "execution_count": 26,
     "metadata": {},
     "output_type": "execute_result"
    }
   ],
   "source": [
    "r.batches[0].experiments[2].agent"
   ]
  },
  {
   "cell_type": "code",
   "execution_count": 27,
   "metadata": {
    "collapsed": false
   },
   "outputs": [
    {
     "data": {
      "text/plain": [
       "<module 'runner' from '/home/lorenzo/Scrivania/Polimi/Thesis/code/onlineSG/runner.py'>"
      ]
     },
     "execution_count": 27,
     "metadata": {},
     "output_type": "execute_result"
    }
   ],
   "source": [
    "# if you change something, don't forget to reload\n",
    "\n",
    "reload(player)\n",
    "reload(parsers)\n",
    "reload(game)\n",
    "reload(environment)\n",
    "reload(runner)"
   ]
  },
  {
   "cell_type": "code",
   "execution_count": 28,
   "metadata": {
    "collapsed": true
   },
   "outputs": [],
   "source": [
    "from gurobipy import *"
   ]
  },
  {
   "cell_type": "code",
   "execution_count": 88,
   "metadata": {
    "collapsed": true
   },
   "outputs": [],
   "source": [
    "m = Model()"
   ]
  },
  {
   "cell_type": "code",
   "execution_count": 89,
   "metadata": {
    "collapsed": true
   },
   "outputs": [],
   "source": [
    "v0 = m.addVar()"
   ]
  },
  {
   "cell_type": "code",
   "execution_count": 90,
   "metadata": {
    "collapsed": true
   },
   "outputs": [],
   "source": [
    "v1 = m.addVar()"
   ]
  },
  {
   "cell_type": "code",
   "execution_count": 91,
   "metadata": {
    "collapsed": true
   },
   "outputs": [],
   "source": [
    "m.update()"
   ]
  },
  {
   "cell_type": "code",
   "execution_count": 92,
   "metadata": {
    "collapsed": false
   },
   "outputs": [],
   "source": [
    "m.addConstr(v0-v1 <= 4)\n",
    "m.addConstr(v0+v1 <= 4)\n",
    "m.addConstr(-0.25*v0+v1 <= 1)\n",
    "m.setObjective(v1, GRB.MAXIMIZE)"
   ]
  },
  {
   "cell_type": "code",
   "execution_count": 93,
   "metadata": {
    "collapsed": true
   },
   "outputs": [],
   "source": [
    "m.params.outputflag = 0"
   ]
  },
  {
   "cell_type": "code",
   "execution_count": 94,
   "metadata": {
    "collapsed": true
   },
   "outputs": [],
   "source": [
    "m.optimize()"
   ]
  },
  {
   "cell_type": "code",
   "execution_count": 97,
   "metadata": {
    "collapsed": false
   },
   "outputs": [],
   "source": [
    "import matplotlib.pyplot as pyplot\n",
    "pyplot.plot([0,4], [0,4])\n",
    "pyplot.plot([4,0], [0,4])\n",
    "pyplot.plot([0,4], [1,2])\n",
    "pyplot.plot([v0.x], [v1.x], 'ro')\n",
    "pyplot.show()"
   ]
  },
  {
   "cell_type": "code",
   "execution_count": 96,
   "metadata": {
    "collapsed": false
   },
   "outputs": [
    {
     "name": "stdout",
     "output_type": "stream",
     "text": [
      "C0 2.4\n",
      "C1 1.6\n"
     ]
    }
   ],
   "source": [
    "for v in m.getVars():\n",
    "    print(v.varName, v.x)"
   ]
  },
  {
   "cell_type": "code",
   "execution_count": 75,
   "metadata": {
    "collapsed": false
   },
   "outputs": [
    {
     "name": "stdout",
     "output_type": "stream",
     "text": [
      "int(x=0) -> integer\n",
      "int(x, base=10) -> integer\n",
      "\n",
      "Convert a number or string to an integer, or return 0 if no arguments\n",
      "are given.  If x is a number, return x.__int__().  For floating point\n",
      "numbers, this truncates towards zero.\n",
      "\n",
      "If x is not a number or if base is given, then x must be a string,\n",
      "bytes, or bytearray instance representing an integer literal in the\n",
      "given base.  The literal can be preceded by '+' or '-' and be surrounded\n",
      "by whitespace.  The base defaults to 10.  Valid bases are 0 and 2-36.\n",
      "Base 0 means to interpret the base from the string as an integer literal.\n",
      ">>> int('0b100', base=0)\n",
      "4\n"
     ]
    }
   ],
   "source": [
    "help(m.params.outputflag)"
   ]
  },
  {
   "cell_type": "code",
   "execution_count": 60,
   "metadata": {
    "collapsed": false
   },
   "outputs": [
    {
     "name": "stdout",
     "output_type": "stream",
     "text": [
      "\n",
      "  Gurobi variable object.  Variables have a number of attributes.\n",
      "  Some can be set (e.g., v.ub = 0.0), while others can only be queried\n",
      "  (e.g., print v.x). The most commonly used variable attributes are:\n",
      "    obj: Linear objective coefficient.\n",
      "    lb: Lower bound.\n",
      "    ub: Upper bound.\n",
      "    varName: Variable name.\n",
      "    vType: Variable type ('C', 'B', 'I', 'S', or 'N').\n",
      "    x: Solution value.\n",
      "    rc: Solution reduced cost.\n",
      "    xn: Solution value in an alternate MIP solution.\n",
      "\n",
      "  Type \"help(GRB.attr)\" for a list of all available attributes.\n",
      "\n",
      "  Note that attribute modifications are handled in a lazy fashion.  You\n",
      "  won't see the effect of a change until after the next call to Model.update()\n",
      "  or Model.optimize().\n",
      "  \n"
     ]
    }
   ],
   "source": [
    "help(v0)"
   ]
  },
  {
   "cell_type": "code",
   "execution_count": 74,
   "metadata": {
    "collapsed": false
   },
   "outputs": [
    {
     "data": {
      "text/plain": [
       "<gurobi.Var C0>"
      ]
     },
     "execution_count": 74,
     "metadata": {},
     "output_type": "execute_result"
    }
   ],
   "source": [
    "v0"
   ]
  },
  {
   "cell_type": "code",
   "execution_count": 100,
   "metadata": {
    "collapsed": false
   },
   "outputs": [
    {
     "name": "stdout",
     "output_type": "stream",
     "text": [
      "Optimize a model with 3 rows, 2 columns and 4 nonzeros\n",
      "Coefficient statistics:\n",
      "  Matrix range     [1e+00, 3e+00]\n",
      "  Objective range  [3e+00, 5e+00]\n",
      "  Bounds range     [0e+00, 0e+00]\n",
      "  RHS range        [4e+00, 2e+01]\n",
      "Presolve removed 2 rows and 0 columns\n",
      "Presolve time: 0.01s\n",
      "Presolved: 1 rows, 2 columns, 2 nonzeros\n",
      "\n",
      "Iteration    Objective       Primal Inf.    Dual Inf.      Time\n",
      "       0    4.2000000e+01   1.500000e+00   0.000000e+00      0s\n",
      "       1    3.6000000e+01   0.000000e+00   0.000000e+00      0s\n",
      "\n",
      "Solved in 1 iterations and 0.02 seconds\n",
      "Optimal objective  3.600000000e+01\n",
      "x 2.0\n",
      "y 6.0\n",
      "Obj: 36.0\n"
     ]
    }
   ],
   "source": [
    "try:\n",
    "\n",
    "    # Create a new model\n",
    "    m = Model(\"glasses\")\n",
    "\n",
    "    # Create variables\n",
    "    x = m.addVar(vtype=GRB.CONTINUOUS, name=\"x\")\n",
    "    y = m.addVar(vtype=GRB.CONTINUOUS, name=\"y\")\n",
    "\n",
    "    # Set objective\n",
    "    m.setObjective(3 * x + 5 * y, GRB.MAXIMIZE)\n",
    "\n",
    "    # Add constraint:\n",
    "    m.addConstr(x <= 4, \"c0\")\n",
    "\n",
    "    # Add constraint:\n",
    "    m.addConstr(y <= 6, \"c1\")\n",
    "    \n",
    "    # Add constraint:\n",
    "    m.addConstr(3 * x + 2 * y <= 18, \"c2\")\n",
    "\n",
    "    m.optimize()\n",
    "\n",
    "    for v in m.getVars():\n",
    "        print(v.varName, v.x)\n",
    "\n",
    "    print('Obj:', m.objVal)\n",
    "\n",
    "except GurobiError:\n",
    "    print('Error reported')\n"
   ]
  }
 ],
 "metadata": {
  "kernelspec": {
   "display_name": "Python 3",
   "language": "python",
   "name": "python3"
  },
  "language_info": {
   "codemirror_mode": {
    "name": "ipython",
    "version": 3
   },
   "file_extension": ".py",
   "mimetype": "text/x-python",
   "name": "python",
   "nbconvert_exporter": "python",
   "pygments_lexer": "ipython3",
   "version": "3.5.2"
  }
 },
 "nbformat": 4,
 "nbformat_minor": 0
}
