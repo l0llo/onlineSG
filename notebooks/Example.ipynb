{
 "cells": [
  {
   "cell_type": "markdown",
   "metadata": {
    "collapsed": true,
    "deletable": true,
    "editable": true,
    "slideshow": {
     "slide_type": "-"
    }
   },
   "source": [
    "# Example\n",
    "of the last added functionalities in onlineSG"
   ]
  },
  {
   "cell_type": "code",
   "execution_count": 1,
   "metadata": {
    "collapsed": false,
    "deletable": true,
    "editable": true
   },
   "outputs": [
    {
     "data": {
      "text/html": [
       "<style>.container { width:100% !important; }</style>"
      ],
      "text/plain": [
       "<IPython.core.display.HTML object>"
      ]
     },
     "metadata": {},
     "output_type": "display_data"
    }
   ],
   "source": [
    "from IPython.core.display import display, HTML\n",
    "display(HTML(\"<style>.container { width:100% !important; }</style>\"))"
   ]
  },
  {
   "cell_type": "code",
   "execution_count": 1,
   "metadata": {
    "collapsed": true,
    "deletable": true,
    "editable": true
   },
   "outputs": [],
   "source": [
    "import sys\n",
    "sys.path.append('../')  # uncomment to add the path to the onlineSG folder \n",
    "# You have to change the path if you move this file.\n",
    "# Alternatevely add the onlineSG folder to your PYTHONPATH\n",
    "# e.g. On Linux add this line on .bashrc:\n",
    "# export PYTHONPATH=\"<absolute-path-to-onlineSG>:PYTHONPATH\"\n",
    "# then you can use onlineSG library from everywhere"
   ]
  },
  {
   "cell_type": "code",
   "execution_count": 14,
   "metadata": {
    "collapsed": false,
    "deletable": true,
    "editable": true
   },
   "outputs": [],
   "source": [
    "import source.game as game\n",
    "import source.player as player\n",
    "import source.environment as environment\n",
    "import source.errors as errors\n",
    "import source.parsers as parsers\n",
    "import source.players.attackers as attackers\n",
    "import source.players.base_defenders as base_defenders\n",
    "import source.players.defenders as defenders\n",
    "import source.runner as runner\n",
    "import source.players.detection as detection \n",
    "import source.util as util\n",
    "\n",
    "from source.util import *\n",
    "import numpy as np\n",
    "import pandas as pd\n",
    "from importlib import *\n",
    "import time"
   ]
  },
  {
   "cell_type": "code",
   "execution_count": 90,
   "metadata": {
    "collapsed": false,
    "deletable": true,
    "editable": true
   },
   "outputs": [
    {
     "data": {
      "text/plain": [
       "<module 'source.util' from '/home/onlinesg/onlineSG/source/util.py'>"
      ]
     },
     "execution_count": 90,
     "metadata": {},
     "output_type": "execute_result"
    }
   ],
   "source": [
    "# if you change something in the files, don't forget to reload\n",
    "reload(player)\n",
    "reload(base_defenders)\n",
    "reload(attackers)\n",
    "reload(defenders)\n",
    "reload(errors)\n",
    "reload(runner)\n",
    "reload(parsers)\n",
    "reload(game)\n",
    "#reload(environment)\n",
    "reload(detection)\n",
    "reload(util)"
   ]
  },
  {
   "cell_type": "code",
   "execution_count": 12,
   "metadata": {
    "collapsed": false
   },
   "outputs": [
    {
     "data": {
      "text/plain": [
       "[0.312405, 0.324887, 0.084612]"
      ]
     },
     "execution_count": 12,
     "metadata": {},
     "output_type": "execute_result"
    }
   ],
   "source": []
  },
  {
   "cell_type": "code",
   "execution_count": 16,
   "metadata": {
    "collapsed": false
   },
   "outputs": [],
   "source": [
    "targets_dict = {i:[] for i in range(2,13)}\n",
    "T = 15 #np.random.randint(2,10)\n",
    "time_horizon =1000\n",
    "while sum([len(targets_dict[x]) for x in range(2,13)]) < 9:\n",
    "    targets = [round(x,3) for x in util.gen_norm_targets(T)]\n",
    "    values = tuple((v, v) for v in targets)\n",
    "    g = game.Game(values, time_horizon)\n",
    "    g.attackers = [1]\n",
    "    g.defenders = [0]\n",
    "    s = util.support(g)\n",
    "    if len(targets_dict[len(s)])==0:\n",
    "        targets_dict[len(s)].append(s)"
   ]
  },
  {
   "cell_type": "code",
   "execution_count": 87,
   "metadata": {
    "collapsed": false
   },
   "outputs": [],
   "source": [
    "T = 3\n",
    "P = 2\n",
    "targets = translate(targets_dict[T][0])\n",
    "distributions = []\n",
    "for i in range(P):\n",
    "    distributions.append(tuple(gen_distr(T)))\n",
    "values = tuple((v, v) for v in targets)\n",
    "g = game.Game(values, time_horizon)\n",
    "#print(T, targets)\n",
    "profiles = [attackers.StackelbergAttacker(g, 1)]\n",
    "for d in distributions:\n",
    "    #print(d)\n",
    "    profiles.append(attackers.StochasticAttacker(g, 1, 1, *d))\n",
    "agent = detection.HOLMES(g, 0, 1, 1)\n",
    "attacker = profiles[0]\n",
    "g.set_players([agent], [attacker], [p for p in profiles if p != attacker])"
   ]
  },
  {
   "cell_type": "code",
   "execution_count": 58,
   "metadata": {
    "collapsed": false
   },
   "outputs": [
    {
     "data": {
      "text/plain": [
       "66"
      ]
     },
     "execution_count": 58,
     "metadata": {},
     "output_type": "execute_result"
    }
   ],
   "source": [
    "T = 3\n",
    "P * P * T + T * T * T * P"
   ]
  },
  {
   "cell_type": "code",
   "execution_count": 59,
   "metadata": {
    "collapsed": false
   },
   "outputs": [
    {
     "data": {
      "text/plain": [
       "14.923636363636366"
      ]
     },
     "execution_count": 59,
     "metadata": {},
     "output_type": "execute_result"
    }
   ],
   "source": [
    "2.16 * (456 / 66)"
   ]
  },
  {
   "cell_type": "code",
   "execution_count": 70,
   "metadata": {
    "collapsed": false
   },
   "outputs": [
    {
     "data": {
      "text/plain": [
       "[[0.18666680128528187,\n",
       "  0.2751403007000473,\n",
       "  0.3278924162835406,\n",
       "  0.025855477191970767,\n",
       "  0.18444500453915935],\n",
       " [0.057268665858167929,\n",
       "  0.22328435876112757,\n",
       "  0.25615541905852562,\n",
       "  0.17377864495579171,\n",
       "  0.28951291136638713]]"
      ]
     },
     "execution_count": 70,
     "metadata": {},
     "output_type": "execute_result"
    }
   ],
   "source": [
    "[p.distribution for p in e.game.profiles if p != e.game.players[1]]"
   ]
  },
  {
   "cell_type": "code",
   "execution_count": null,
   "metadata": {
    "collapsed": true
   },
   "outputs": [],
   "source": []
  },
  {
   "cell_type": "code",
   "execution_count": 88,
   "metadata": {
    "collapsed": true,
    "deletable": true,
    "editable": true
   },
   "outputs": [],
   "source": [
    "e = runner.Experiment(g)"
   ]
  },
  {
   "cell_type": "code",
   "execution_count": 84,
   "metadata": {
    "collapsed": false,
    "deletable": true,
    "editable": true,
    "scrolled": true
   },
   "outputs": [
    {
     "name": "stdout",
     "output_type": "stream",
     "text": [
      "□\t \t \t\n",
      "0.665\t0.727\t0.54\t\n",
      " \t \t△\t\n",
      "{<StochasticAttacker id:1 resources:1>: 0.0046744694796351741, <StackelbergAttacker id:1 resources:1>: 0.0, <StochasticAttacker id:1 resources:1>: 0.99532553052036488}\n",
      "{0: (0.3643124030976371, 0.4185251004950875, 0.21716249640727533), 1: [0, 0, 1]}\n",
      "2.069589853286743\n"
     ]
    }
   ],
   "source": [
    "start_time = time.time()\n",
    "e.run_interaction()\n",
    "print(game_str(e.game, lenght=7))\n",
    "print(e.agent.belief)\n",
    "print(e.game.strategy_history[-1])\n",
    "print(time.time() - start_time)"
   ]
  },
  {
   "cell_type": "code",
   "execution_count": 89,
   "metadata": {
    "collapsed": true
   },
   "outputs": [],
   "source": [
    "e.run_interaction()"
   ]
  },
  {
   "cell_type": "code",
   "execution_count": 79,
   "metadata": {
    "collapsed": false
   },
   "outputs": [
    {
     "data": {
      "text/plain": [
       "{0: (0.3690684156632389, 0.4282480801547355, 0.20268350418202563),\n",
       " 1: [0, 0, 1]}"
      ]
     },
     "execution_count": 79,
     "metadata": {},
     "output_type": "execute_result"
    }
   ],
   "source": [
    "e.game.players[1].game.strategy_history[-1]"
   ]
  },
  {
   "cell_type": "code",
   "execution_count": 80,
   "metadata": {
    "collapsed": false
   },
   "outputs": [
    {
     "data": {
      "text/plain": [
       "{0: (0.3690684156632389, 0.4282480801547355, 0.20268350418202563),\n",
       " 1: [0, 0, 1]}"
      ]
     },
     "execution_count": 80,
     "metadata": {},
     "output_type": "execute_result"
    }
   ],
   "source": [
    "e.game.strategy_history[-1]"
   ]
  },
  {
   "cell_type": "code",
   "execution_count": 78,
   "metadata": {
    "collapsed": false
   },
   "outputs": [
    {
     "data": {
      "text/plain": [
       "{0: (0, 1, 0), 1: [0, 0, 1]}"
      ]
     },
     "execution_count": 78,
     "metadata": {},
     "output_type": "execute_result"
    }
   ],
   "source": [
    "e.agent.profiles[0].game.strategy_history[-1]"
   ]
  },
  {
   "cell_type": "code",
   "execution_count": 65,
   "metadata": {
    "collapsed": false
   },
   "outputs": [
    {
     "data": {
      "text/plain": [
       "{0: (0.07000285365649891,\n",
       "  0.30581066825329867,\n",
       "  0.14416530551802176,\n",
       "  0.3511386294556226,\n",
       "  0.1288825431165581),\n",
       " 1: [1, 0, 0, 0, 0]}"
      ]
     },
     "execution_count": 65,
     "metadata": {},
     "output_type": "execute_result"
    }
   ],
   "source": [
    "e.game.strategy_history[-1] "
   ]
  },
  {
   "cell_type": "code",
   "execution_count": 37,
   "metadata": {
    "collapsed": false,
    "deletable": true,
    "editable": true
   },
   "outputs": [
    {
     "name": "stdout",
     "output_type": "stream",
     "text": [
      "378.01570677757263\n"
     ]
    }
   ],
   "source": [
    "start_time = time.time()\n",
    "e.run()\n",
    "print(time.time() - start_time)"
   ]
  },
  {
   "cell_type": "code",
   "execution_count": null,
   "metadata": {
    "collapsed": true,
    "deletable": true,
    "editable": true
   },
   "outputs": [],
   "source": [
    "start_time = time.time()"
   ]
  },
  {
   "cell_type": "code",
   "execution_count": 24,
   "metadata": {
    "collapsed": false,
    "deletable": true,
    "editable": true
   },
   "outputs": [],
   "source": [
    "time_horizon = 100\n",
    "targets = (1,2,3)\n",
    "values = tuple((v, v) for v in targets)\n",
    "distribution1 = (0,0.5,0.5)\n",
    "distribution2 = (0,0.1,0.9)\n",
    "g = game.Game(values, time_horizon)\n",
    "#profiles = [attackers.StackelbergAttacker(g, 1, 1)] #,\n",
    "profiles = [attackers.StochasticAttacker(g, 1, 1, *distribution1)]#, attackers.StochasticAttacker(g, 1, 1, *distribution2)] #,\n",
    "agent = detection.StrategyAwareDetector(g, 0, 1)\n",
    "attacker = attackers.StackelbergAttacker(g, 1, 1)\n",
    "#attacker = attackers.StochasticAttacker(g, 1, 1, *distribution1)\n",
    "g.set_players([agent], [attacker], profiles)"
   ]
  },
  {
   "cell_type": "code",
   "execution_count": 26,
   "metadata": {
    "collapsed": false,
    "deletable": true,
    "editable": true
   },
   "outputs": [],
   "source": [
    "c = runner.Configuration(g, \"concurrent\", \"prova\", False)"
   ]
  },
  {
   "cell_type": "code",
   "execution_count": 25,
   "metadata": {
    "collapsed": true,
    "deletable": true,
    "editable": true
   },
   "outputs": [],
   "source": [
    "rm -rf concurrent"
   ]
  },
  {
   "cell_type": "code",
   "execution_count": 27,
   "metadata": {
    "collapsed": false,
    "deletable": true,
    "editable": true
   },
   "outputs": [],
   "source": [
    "c.run(3)"
   ]
  },
  {
   "cell_type": "code",
   "execution_count": 724,
   "metadata": {
    "collapsed": true,
    "deletable": true,
    "editable": true
   },
   "outputs": [],
   "source": [
    "e = runner.Experiment(g)"
   ]
  },
  {
   "cell_type": "code",
   "execution_count": 756,
   "metadata": {
    "collapsed": false,
    "deletable": true,
    "editable": true,
    "scrolled": true
   },
   "outputs": [
    {
     "name": "stdout",
     "output_type": "stream",
     "text": [
      "[0, 0.9, 0.1]\n",
      "0.0\n",
      "False\n",
      "0.5\n",
      "False\n",
      "0.5\n",
      "False\n",
      "{<StochasticAttacker id:1 resources:1>: 1.853020188851843e-17, <StackelbergAttacker id:1 resources:1>: 1.0} None\n",
      "{0: [0.0, 0.39, 0.61], 1: [0, 1, 0]}\n"
     ]
    }
   ],
   "source": [
    "e.run_interaction()\n",
    "#print(game_str(e.game, lenght=7))\n",
    "print(e.agent.belief, e.agent.detection)\n",
    "print(e.game.strategy_history[-1])"
   ]
  },
  {
   "cell_type": "code",
   "execution_count": 757,
   "metadata": {
    "collapsed": false,
    "deletable": true,
    "editable": true
   },
   "outputs": [
    {
     "data": {
      "text/plain": [
       "32"
      ]
     },
     "execution_count": 757,
     "metadata": {},
     "output_type": "execute_result"
    }
   ],
   "source": [
    "e.agent.tau"
   ]
  },
  {
   "cell_type": "code",
   "execution_count": 720,
   "metadata": {
    "collapsed": false,
    "deletable": true,
    "editable": true
   },
   "outputs": [
    {
     "name": "stdout",
     "output_type": "stream",
     "text": [
      "[0, 0.01, 0.99]\n",
      "0.0\n",
      "False\n",
      "1.0\n",
      "False\n",
      "0.0\n",
      "False\n",
      "[0, 0.01, 0.99]\n",
      "0.0\n",
      "False\n",
      "1.0\n",
      "False\n",
      "0.0\n",
      "False\n",
      "[0, 0.01, 0.99]\n",
      "0.0\n",
      "False\n",
      "1.0\n",
      "False\n",
      "0.0\n",
      "False\n",
      "[0, 0.01, 0.99]\n",
      "0.0\n",
      "False\n",
      "1.0\n",
      "False\n",
      "0.0\n",
      "False\n",
      "[0, 0.01, 0.99]\n",
      "0.0\n",
      "False\n",
      "1.0\n",
      "False\n",
      "0.0\n",
      "False\n",
      "[0, 0.01, 0.99]\n",
      "0.0\n",
      "False\n",
      "1.0\n",
      "False\n",
      "0.0\n",
      "False\n",
      "[0, 0.01, 0.99]\n",
      "0.0\n",
      "False\n",
      "1.0\n",
      "False\n",
      "0.0\n",
      "False\n",
      "[0, 0.01, 0.99]\n",
      "0.0\n",
      "False\n",
      "1.0\n",
      "False\n",
      "0.0\n",
      "False\n",
      "[0, 0.01, 0.99]\n",
      "0.0\n",
      "False\n",
      "1.0\n",
      "False\n",
      "0.0\n",
      "False\n",
      "[0, 0.01, 0.99]\n",
      "0.0\n",
      "False\n",
      "1.0\n",
      "False\n",
      "0.0\n",
      "False\n",
      "[0, 0.01, 0.99]\n",
      "0.0\n",
      "False\n",
      "1.0\n",
      "False\n",
      "0.0\n",
      "False\n",
      "[0, 0.01, 0.99]\n",
      "0.0\n",
      "False\n",
      "1.0\n",
      "False\n",
      "0.0\n",
      "False\n",
      "[0, 0.01, 0.99]\n",
      "0.0\n",
      "False\n",
      "1.0\n",
      "False\n",
      "0.0\n",
      "False\n",
      "[0, 0.01, 0.99]\n",
      "0.0\n",
      "False\n",
      "1.0\n",
      "False\n",
      "0.0\n",
      "False\n",
      "[0, 0.01, 0.99]\n",
      "0.0\n",
      "False\n",
      "1.0\n",
      "False\n",
      "0.0\n",
      "False\n",
      "[0, 0.01, 0.99]\n",
      "0.0\n",
      "False\n",
      "1.0\n",
      "False\n",
      "0.0\n",
      "False\n",
      "[0, 0.01, 0.99]\n",
      "0.0\n",
      "False\n",
      "1.0\n",
      "False\n",
      "0.0\n",
      "False\n",
      "[0, 0.01, 0.99]\n",
      "0.0\n",
      "False\n",
      "1.0\n",
      "False\n",
      "0.0\n",
      "False\n",
      "[0, 0.01, 0.99]\n",
      "0.0\n",
      "False\n",
      "1.0\n",
      "False\n",
      "0.0\n",
      "False\n",
      "[0, 0.01, 0.99]\n",
      "0.0\n",
      "False\n",
      "1.0\n",
      "False\n",
      "0.0\n",
      "False\n",
      "[0, 0.01, 0.99]\n",
      "0.0\n",
      "False\n",
      "1.0\n",
      "False\n",
      "0.0\n",
      "False\n",
      "[0, 0.01, 0.99]\n",
      "0.0\n",
      "False\n",
      "1.0\n",
      "False\n",
      "0.0\n",
      "False\n",
      "[0, 0.01, 0.99]\n",
      "0.0\n",
      "False\n",
      "1.0\n",
      "False\n",
      "0.0\n",
      "False\n",
      "[0, 0.01, 0.99]\n",
      "0.0\n",
      "False\n",
      "1.0\n",
      "False\n",
      "0.0\n",
      "False\n",
      "[0, 0.01, 0.99]\n",
      "0.0\n",
      "False\n",
      "1.0\n",
      "True\n",
      "0.0\n",
      "True\n"
     ]
    }
   ],
   "source": [
    "e.run()"
   ]
  },
  {
   "cell_type": "code",
   "execution_count": 74,
   "metadata": {
    "collapsed": false,
    "deletable": true,
    "editable": true
   },
   "outputs": [],
   "source": [
    "time_horizon = 100\n",
    "T = 4\n",
    "targets = (5,4,8,1)\n",
    "values = tuple((v, v) for v in targets)\n",
    "distribution1 = (0.17,0.8, 0.01, 0.02)\n",
    "g = game.Game(values, time_horizon)\n",
    "\n",
    "other_kinds = [attackers.StochasticAttacker(g, 1, 1, *distribution1)] #,\n",
    "strategy_aware = attackers.StackelbergAttacker(g, 1, 1)\n",
    "L = 2\n",
    "agent = detection.StrategyAwareDetector.parse(\"sad1-0.01@stackelberg@stochastic_attacker1-0.17-0.8-0.01-0.02\", g, 0) \n",
    "#agent = detection.HOLMES(g, 0, 1, strategy_aware, other_kinds, L)\n",
    "# attacker = attackers.StackelbergAttacker(g, 1, 1)\n",
    "attacker = attackers.StochasticAttacker(g, 1, 1, *distribution1)\n",
    "g.set_players([agent], [attacker])"
   ]
  },
  {
   "cell_type": "code",
   "execution_count": 76,
   "metadata": {
    "collapsed": true,
    "deletable": true,
    "editable": true
   },
   "outputs": [],
   "source": [
    "e1 = runner.Experiment(g)"
   ]
  },
  {
   "cell_type": "code",
   "execution_count": 77,
   "metadata": {
    "collapsed": false,
    "deletable": true,
    "editable": true
   },
   "outputs": [
    {
     "name": "stdout",
     "output_type": "stream",
     "text": [
      "□\t \t \t \t\n",
      "5\t4\t8\t1\t\n",
      " \t△\t \t \t\n",
      "{<StackelbergAttacker id:1 resources:1>: 0.0, <StochasticAttacker id:1 resources:1>: 1.0}\n",
      "{0: [0.30934782608695643, 0.13543478260869565, 0.5552173913043479, 0.0], 1: [0.17, 0.8, 0.01, 0.02]}\n"
     ]
    }
   ],
   "source": [
    "e1.run_interaction()\n",
    "print(game_str(e1.game, lenght=7))\n",
    "print(e1.agent.belief)\n",
    "print(e1.game.strategy_history[-1])"
   ]
  }
 ],
 "metadata": {
  "kernelspec": {
   "display_name": "Python 3",
   "language": "python",
   "name": "python3"
  },
  "language_info": {
   "codemirror_mode": {
    "name": "ipython",
    "version": 3
   },
   "file_extension": ".py",
   "mimetype": "text/x-python",
   "name": "python",
   "nbconvert_exporter": "python",
   "pygments_lexer": "ipython3",
   "version": "3.5.2"
  }
 },
 "nbformat": 4,
 "nbformat_minor": 0
}
