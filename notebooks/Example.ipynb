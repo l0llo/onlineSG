{
 "cells": [
  {
   "cell_type": "code",
   "execution_count": 183,
   "metadata": {
    "collapsed": true
   },
   "outputs": [],
   "source": [
    "import sys\n",
    "sys.path.append('../')"
   ]
  },
  {
   "cell_type": "code",
   "execution_count": 184,
   "metadata": {
    "collapsed": false
   },
   "outputs": [],
   "source": [
    "import source.game as game\n",
    "import source.player as player\n",
    "import source.environment as environment\n",
    "import source.parsers as parsers\n",
    "import source.runner as runner\n",
    "import source.errors as errors\n",
    "import numpy as np\n",
    "import pandas as pd\n",
    "from importlib import *"
   ]
  },
  {
   "cell_type": "markdown",
   "metadata": {},
   "source": [
    "## Configuration Files\n",
    "\n",
    "we can also set a configuration file as below"
   ]
  },
  {
   "cell_type": "code",
   "execution_count": 192,
   "metadata": {
    "collapsed": true
   },
   "outputs": [],
   "source": [
    "mypath = \"/home/lorenzo/Scrivania/Polimi/Thesis/code/onlineSG/games\""
   ]
  },
  {
   "cell_type": "markdown",
   "metadata": {},
   "source": [
    "and use the *Runner* class to run all the configuration files in a folder"
   ]
  },
  {
   "cell_type": "code",
   "execution_count": 385,
   "metadata": {
    "collapsed": false
   },
   "outputs": [],
   "source": [
    "r = runner.Runner(mypath)"
   ]
  },
  {
   "cell_type": "code",
   "execution_count": 386,
   "metadata": {
    "collapsed": false
   },
   "outputs": [],
   "source": [
    "r.run()"
   ]
  },
  {
   "cell_type": "code",
   "execution_count": 387,
   "metadata": {
    "collapsed": false
   },
   "outputs": [
    {
     "data": {
      "text/plain": [
       "[experiment(environment=<Environment>, agent=<Defender id:0 resources:1>, game=<Game values:[[1, 7, 1], [1, 1, 12], [12, 1, 1], [1, 1, 2], [2, 2, 3]] time_horizon:5>),\n",
       " experiment(environment=<Environment>, agent=<Defender id:0 resources:1>, game=<Game values:[[1.0, 1.0], [1.0, 1.0], [1.0, 1.0], [1.0, 1.0], [1.0, 1.0]] time_horizon:3>),\n",
       " experiment(environment=<Environment>, agent=<StUDefender id:0 resources:1>, game=<Game values:[[1.0, 1.0], [3.0, 3.0], [1.0, 1.0], [2.0, 2.0], [1.0, 1.0]] time_horizon:6>),\n",
       " experiment(environment=<Environment>, agent=<Defender id:0 resources:1>, game=<Game values:[[1.0, 1.0, 1.0], [12.0, 12.0, 12.0], [13.0, 13.0, 13.0], [1.0, 1.0, 1.0], [1.0, 1.0, 1.0]] time_horizon:5>)]"
      ]
     },
     "execution_count": 387,
     "metadata": {},
     "output_type": "execute_result"
    }
   ],
   "source": [
    "r.batches[0].experiments"
   ]
  },
  {
   "cell_type": "code",
   "execution_count": 389,
   "metadata": {
    "collapsed": false
   },
   "outputs": [
    {
     "data": {
      "text/plain": [
       "[{0: [0, 1, 0, 0, 0], 1: [0, 0, 0, 1, 0]},\n",
       " {0: [0.0, 0.6, 0.0, 0.4, 0.0], 1: [0, 1, 0, 0, 0]},\n",
       " {0: [0.0, 0.6, 0.0, 0.4, 0.0], 1: [0, 1, 0, 0, 0]},\n",
       " {0: [0.0, 0.6, 0.0, 0.4, 0.0], 1: [0, 1, 0, 0, 0]},\n",
       " {0: [0.0, 0.6, 0.0, 0.4, 0.0], 1: [0, 1, 0, 0, 0]},\n",
       " {0: [0.0, 0.6, 0.0, 0.4, 0.0], 1: [0, 1, 0, 0, 0]}]"
      ]
     },
     "execution_count": 389,
     "metadata": {},
     "output_type": "execute_result"
    }
   ],
   "source": [
    "r.batches[0].experiments[2].game.strategy_history"
   ]
  },
  {
   "cell_type": "code",
   "execution_count": 388,
   "metadata": {
    "collapsed": false
   },
   "outputs": [
    {
     "data": {
      "text/plain": [
       "[{0: -0.0, 1: -0.0, 2: -0.0, 3: -2.0, 4: -0.0},\n",
       " {0: -0.0, 1: -3.0, 2: -0.0, 3: -0.0, 4: -0.0},\n",
       " {0: -0.0, 1: -0.0, 2: -0.0, 3: -0.0, 4: -0.0},\n",
       " {0: -0.0, 1: -0.0, 2: -0.0, 3: -0.0, 4: -0.0},\n",
       " {0: -0.0, 1: -0.0, 2: -0.0, 3: -0.0, 4: -0.0},\n",
       " {0: -0.0, 1: -3.0, 2: -0.0, 3: -0.0, 4: -0.0}]"
      ]
     },
     "execution_count": 388,
     "metadata": {},
     "output_type": "execute_result"
    }
   ],
   "source": [
    "r.batches[0].experiments[2].agent.feedbacks"
   ]
  },
  {
   "cell_type": "code",
   "execution_count": 390,
   "metadata": {
    "collapsed": false
   },
   "outputs": [
    {
     "data": {
      "text/plain": [
       "[{0: [1], 1: [3]},\n",
       " {0: [3], 1: [1]},\n",
       " {0: [1], 1: [1]},\n",
       " {0: [1], 1: [1]},\n",
       " {0: [1], 1: [1]},\n",
       " {0: [3], 1: [1]}]"
      ]
     },
     "execution_count": 390,
     "metadata": {},
     "output_type": "execute_result"
    }
   ],
   "source": [
    "r.batches[0].experiments[2].game.history"
   ]
  },
  {
   "cell_type": "code",
   "execution_count": 382,
   "metadata": {
    "collapsed": false
   },
   "outputs": [
    {
     "data": {
      "text/plain": [
       "<module 'source.runner' from '../source/runner.py'>"
      ]
     },
     "execution_count": 382,
     "metadata": {},
     "output_type": "execute_result"
    }
   ],
   "source": [
    "# if you change something in the files, don't forget to reload\n",
    "reload(errors)\n",
    "reload(player)\n",
    "reload(parsers)\n",
    "reload(game)\n",
    "reload(environment)\n",
    "reload(runner)\n"
   ]
  },
  {
   "cell_type": "code",
   "execution_count": 391,
   "metadata": {
    "collapsed": true
   },
   "outputs": [],
   "source": [
    "import random"
   ]
  },
  {
   "cell_type": "code",
   "execution_count": 444,
   "metadata": {
    "collapsed": false
   },
   "outputs": [
    {
     "name": "stdout",
     "output_type": "stream",
     "text": [
      "0.13013363010328816\n"
     ]
    }
   ],
   "source": [
    "random.seed()\n",
    "seed = random.random()\n",
    "print(seed)"
   ]
  },
  {
   "cell_type": "code",
   "execution_count": 455,
   "metadata": {
    "collapsed": true
   },
   "outputs": [],
   "source": [
    "random.seed(seed)"
   ]
  },
  {
   "cell_type": "code",
   "execution_count": 459,
   "metadata": {
    "collapsed": false
   },
   "outputs": [
    {
     "data": {
      "text/plain": [
       "0.5510505440806545"
      ]
     },
     "execution_count": 459,
     "metadata": {},
     "output_type": "execute_result"
    }
   ],
   "source": [
    "random.random()"
   ]
  }
 ],
 "metadata": {
  "kernelspec": {
   "display_name": "Python 3",
   "language": "python",
   "name": "python3"
  },
  "language_info": {
   "codemirror_mode": {
    "name": "ipython",
    "version": 3
   },
   "file_extension": ".py",
   "mimetype": "text/x-python",
   "name": "python",
   "nbconvert_exporter": "python",
   "pygments_lexer": "ipython3",
   "version": "3.5.2"
  }
 },
 "nbformat": 4,
 "nbformat_minor": 0
}
