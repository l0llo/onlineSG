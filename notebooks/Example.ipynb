{
 "cells": [
  {
   "cell_type": "code",
   "execution_count": 1,
   "metadata": {
    "collapsed": true
   },
   "outputs": [],
   "source": [
    "import sys\n",
    "sys.path.append('../')"
   ]
  },
  {
   "cell_type": "code",
   "execution_count": 2,
   "metadata": {
    "collapsed": false
   },
   "outputs": [],
   "source": [
    "import source.game as game\n",
    "import source.player as player\n",
    "import source.environment as environment\n",
    "import source.parsers as parsers\n",
    "import source.runner as runner\n",
    "import numpy as np\n",
    "import pandas as pd\n",
    "from importlib import *"
   ]
  },
  {
   "cell_type": "code",
   "execution_count": 3,
   "metadata": {
    "collapsed": false
   },
   "outputs": [
    {
     "data": {
      "text/plain": [
       "2"
      ]
     },
     "execution_count": 3,
     "metadata": {},
     "output_type": "execute_result"
    }
   ],
   "source": [
    "values = [(1, 1), (2, 2), (3, 3)]\n",
    "targets = range(len(values))\n",
    "max(targets, key=lambda x: values[x][0])"
   ]
  },
  {
   "cell_type": "markdown",
   "metadata": {},
   "source": [
    "let's initialize a game with a Stackelberg attacker and a Uniform defender"
   ]
  },
  {
   "cell_type": "code",
   "execution_count": 4,
   "metadata": {
    "collapsed": false
   },
   "outputs": [],
   "source": [
    "g = game.Game(((1, 1), (2, 2), (3, 3)), 10)\n",
    "d = player.Defender(g, 0, 1)\n",
    "a = player.StackelbergAttacker(g, 1, 1)\n",
    "g.players[0] = d\n",
    "g.players[1] = a\n",
    "g.defenders.append(0)\n",
    "g.attackers.append(1)\n",
    "e = environment.Environment(g, 0)\n",
    "agent = d"
   ]
  },
  {
   "cell_type": "markdown",
   "metadata": {},
   "source": [
    "we can now play the game"
   ]
  },
  {
   "cell_type": "code",
   "execution_count": 5,
   "metadata": {
    "collapsed": false
   },
   "outputs": [],
   "source": [
    "for t in range(g.time_horizon):\n",
    "    strategy = agent.compute_strategy()\n",
    "    e.observe_strategy(strategy)\n",
    "    realization = agent.sample_strategy()\n",
    "    e.observe_realization(realization)\n",
    "    feedback = e.feedback(\"expert\")\n",
    "    agent.receive_feedback(feedback)"
   ]
  },
  {
   "cell_type": "code",
   "execution_count": 6,
   "metadata": {
    "collapsed": false
   },
   "outputs": [
    {
     "data": {
      "text/plain": [
       "[{0: 0, 1: 0, 2: -3},\n",
       " {0: 0, 1: 0, 2: 0},\n",
       " {0: 0, 1: 0, 2: -3},\n",
       " {0: 0, 1: 0, 2: -3},\n",
       " {0: 0, 1: 0, 2: -3},\n",
       " {0: 0, 1: 0, 2: 0},\n",
       " {0: 0, 1: 0, 2: -3},\n",
       " {0: 0, 1: 0, 2: 0},\n",
       " {0: 0, 1: 0, 2: 0},\n",
       " {0: 0, 1: 0, 2: -3}]"
      ]
     },
     "execution_count": 6,
     "metadata": {},
     "output_type": "execute_result"
    }
   ],
   "source": [
    "agent.feedbacks"
   ]
  },
  {
   "cell_type": "markdown",
   "metadata": {},
   "source": [
    "and here is how it has gone"
   ]
  },
  {
   "cell_type": "code",
   "execution_count": 7,
   "metadata": {
    "collapsed": false
   },
   "outputs": [
    {
     "data": {
      "text/plain": [
       "[{0: [1], 1: [2]},\n",
       " {0: [2], 1: [2]},\n",
       " {0: [1], 1: [2]},\n",
       " {0: [1], 1: [2]},\n",
       " {0: [0], 1: [2]},\n",
       " {0: [2], 1: [2]},\n",
       " {0: [1], 1: [2]},\n",
       " {0: [2], 1: [2]},\n",
       " {0: [2], 1: [2]},\n",
       " {0: [0], 1: [2]}]"
      ]
     },
     "execution_count": 7,
     "metadata": {},
     "output_type": "execute_result"
    }
   ],
   "source": [
    "g.history"
   ]
  },
  {
   "cell_type": "code",
   "execution_count": 8,
   "metadata": {
    "collapsed": false
   },
   "outputs": [
    {
     "data": {
      "text/plain": [
       "[{0: [0.3333333333333333, 0.3333333333333333, 0.3333333333333333],\n",
       "  1: [0, 0, 1]},\n",
       " {0: [0.3333333333333333, 0.3333333333333333, 0.3333333333333333],\n",
       "  1: [0, 0, 1]},\n",
       " {0: [0.3333333333333333, 0.3333333333333333, 0.3333333333333333],\n",
       "  1: [0, 0, 1]},\n",
       " {0: [0.3333333333333333, 0.3333333333333333, 0.3333333333333333],\n",
       "  1: [0, 0, 1]},\n",
       " {0: [0.3333333333333333, 0.3333333333333333, 0.3333333333333333],\n",
       "  1: [0, 0, 1]},\n",
       " {0: [0.3333333333333333, 0.3333333333333333, 0.3333333333333333],\n",
       "  1: [0, 0, 1]},\n",
       " {0: [0.3333333333333333, 0.3333333333333333, 0.3333333333333333],\n",
       "  1: [0, 0, 1]},\n",
       " {0: [0.3333333333333333, 0.3333333333333333, 0.3333333333333333],\n",
       "  1: [0, 0, 1]},\n",
       " {0: [0.3333333333333333, 0.3333333333333333, 0.3333333333333333],\n",
       "  1: [0, 0, 1]},\n",
       " {0: [0.3333333333333333, 0.3333333333333333, 0.3333333333333333],\n",
       "  1: [0, 0, 1]}]"
      ]
     },
     "execution_count": 8,
     "metadata": {},
     "output_type": "execute_result"
    }
   ],
   "source": [
    "g.strategy_history"
   ]
  },
  {
   "cell_type": "markdown",
   "metadata": {},
   "source": [
    "## Configuration Files\n",
    "\n",
    "we can also set a configuration file as below"
   ]
  },
  {
   "cell_type": "code",
   "execution_count": 9,
   "metadata": {
    "collapsed": false
   },
   "outputs": [],
   "source": [
    "df = pd.read_csv(\"../games/conf.csv\")"
   ]
  },
  {
   "cell_type": "code",
   "execution_count": 10,
   "metadata": {
    "collapsed": false
   },
   "outputs": [
    {
     "data": {
      "text/html": [
       "<div>\n",
       "<table border=\"1\" class=\"dataframe\">\n",
       "  <thead>\n",
       "    <tr style=\"text-align: right;\">\n",
       "      <th></th>\n",
       "      <th>T</th>\n",
       "      <th>0</th>\n",
       "      <th>1</th>\n",
       "      <th>2</th>\n",
       "      <th>3</th>\n",
       "      <th>4</th>\n",
       "      <th>Defender</th>\n",
       "      <th>Attacker</th>\n",
       "      <th>Attacker.1</th>\n",
       "    </tr>\n",
       "  </thead>\n",
       "  <tbody>\n",
       "    <tr>\n",
       "      <th>0</th>\n",
       "      <td>5</td>\n",
       "      <td>2</td>\n",
       "      <td>1</td>\n",
       "      <td>3</td>\n",
       "      <td>1</td>\n",
       "      <td>1</td>\n",
       "      <td>defender</td>\n",
       "      <td>player</td>\n",
       "      <td>stackelberg</td>\n",
       "    </tr>\n",
       "    <tr>\n",
       "      <th>1</th>\n",
       "      <td>3</td>\n",
       "      <td>1</td>\n",
       "      <td>1</td>\n",
       "      <td>1</td>\n",
       "      <td>1</td>\n",
       "      <td>1</td>\n",
       "      <td>defender</td>\n",
       "      <td>NaN</td>\n",
       "      <td>stackelberg</td>\n",
       "    </tr>\n",
       "    <tr>\n",
       "      <th>2</th>\n",
       "      <td>6</td>\n",
       "      <td>1</td>\n",
       "      <td>3</td>\n",
       "      <td>1</td>\n",
       "      <td>2</td>\n",
       "      <td>1</td>\n",
       "      <td>stu_defender</td>\n",
       "      <td>stackelberg</td>\n",
       "      <td>NaN</td>\n",
       "    </tr>\n",
       "    <tr>\n",
       "      <th>3</th>\n",
       "      <td>5</td>\n",
       "      <td>1</td>\n",
       "      <td>12</td>\n",
       "      <td>13</td>\n",
       "      <td>1</td>\n",
       "      <td>1</td>\n",
       "      <td>defender</td>\n",
       "      <td>player</td>\n",
       "      <td>stackelberg</td>\n",
       "    </tr>\n",
       "  </tbody>\n",
       "</table>\n",
       "</div>"
      ],
      "text/plain": [
       "   T  0   1   2  3  4      Defender     Attacker   Attacker.1\n",
       "0  5  2   1   3  1  1      defender       player  stackelberg\n",
       "1  3  1   1   1  1  1      defender          NaN  stackelberg\n",
       "2  6  1   3   1  2  1  stu_defender  stackelberg          NaN\n",
       "3  5  1  12  13  1  1      defender       player  stackelberg"
      ]
     },
     "execution_count": 10,
     "metadata": {},
     "output_type": "execute_result"
    }
   ],
   "source": [
    "df"
   ]
  },
  {
   "cell_type": "code",
   "execution_count": 11,
   "metadata": {
    "collapsed": true
   },
   "outputs": [],
   "source": [
    "mypath = \"/home/lorenzo/Scrivania/Polimi/Thesis/code/onlineSG/games\""
   ]
  },
  {
   "cell_type": "markdown",
   "metadata": {},
   "source": [
    "and use the *Runner* class to run all the configuration files in a folder"
   ]
  },
  {
   "cell_type": "code",
   "execution_count": 116,
   "metadata": {
    "collapsed": false
   },
   "outputs": [],
   "source": [
    "r = runner.Runner(mypath)"
   ]
  },
  {
   "cell_type": "code",
   "execution_count": 117,
   "metadata": {
    "collapsed": false
   },
   "outputs": [
    {
     "name": "stdout",
     "output_type": "stream",
     "text": [
      "Optimize a model with 6 rows, 6 columns and 30 nonzeros\n",
      "Coefficient statistics:\n",
      "  Matrix range     [1e+00, 3e+00]\n",
      "  Objective range  [1e+00, 1e+00]\n",
      "  Bounds range     [0e+00, 0e+00]\n",
      "  RHS range        [1e+00, 1e+00]\n",
      "Presolve time: 0.01s\n",
      "Presolved: 6 rows, 6 columns, 30 nonzeros\n",
      "\n",
      "Iteration    Objective       Primal Inf.    Dual Inf.      Time\n",
      "       0      handle free variables                          0s\n",
      "       4   -1.2000000e+00   0.000000e+00   0.000000e+00      0s\n",
      "\n",
      "Solved in 4 iterations and 0.03 seconds\n",
      "Optimal objective -1.200000000e+00\n",
      "Optimize a model with 6 rows, 6 columns and 30 nonzeros\n",
      "Coefficient statistics:\n",
      "  Matrix range     [1e+00, 3e+00]\n",
      "  Objective range  [1e+00, 1e+00]\n",
      "  Bounds range     [0e+00, 0e+00]\n",
      "  RHS range        [1e+00, 1e+00]\n",
      "Presolve time: 0.01s\n",
      "Presolved: 6 rows, 6 columns, 30 nonzeros\n",
      "\n",
      "Iteration    Objective       Primal Inf.    Dual Inf.      Time\n",
      "       0      handle free variables                          0s\n",
      "       4   -1.2000000e+00   0.000000e+00   0.000000e+00      0s\n",
      "\n",
      "Solved in 4 iterations and 0.03 seconds\n",
      "Optimal objective -1.200000000e+00\n",
      "Optimize a model with 6 rows, 6 columns and 30 nonzeros\n",
      "Coefficient statistics:\n",
      "  Matrix range     [1e+00, 3e+00]\n",
      "  Objective range  [1e+00, 1e+00]\n",
      "  Bounds range     [0e+00, 0e+00]\n",
      "  RHS range        [1e+00, 1e+00]\n",
      "Presolve time: 0.02s\n",
      "Presolved: 6 rows, 6 columns, 30 nonzeros\n",
      "\n",
      "Iteration    Objective       Primal Inf.    Dual Inf.      Time\n",
      "       0      handle free variables                          0s\n",
      "       4   -1.2000000e+00   0.000000e+00   0.000000e+00      0s\n",
      "\n",
      "Solved in 4 iterations and 0.03 seconds\n",
      "Optimal objective -1.200000000e+00\n",
      "Optimize a model with 6 rows, 6 columns and 30 nonzeros\n",
      "Coefficient statistics:\n",
      "  Matrix range     [1e+00, 3e+00]\n",
      "  Objective range  [1e+00, 1e+00]\n",
      "  Bounds range     [0e+00, 0e+00]\n",
      "  RHS range        [1e+00, 1e+00]\n",
      "Presolve time: 0.01s\n",
      "Presolved: 6 rows, 6 columns, 30 nonzeros\n",
      "\n",
      "Iteration    Objective       Primal Inf.    Dual Inf.      Time\n",
      "       0      handle free variables                          0s\n",
      "       4   -1.2000000e+00   0.000000e+00   0.000000e+00      0s\n",
      "\n",
      "Solved in 4 iterations and 0.03 seconds\n",
      "Optimal objective -1.200000000e+00\n",
      "Optimize a model with 6 rows, 6 columns and 30 nonzeros\n",
      "Coefficient statistics:\n",
      "  Matrix range     [1e+00, 3e+00]\n",
      "  Objective range  [1e+00, 1e+00]\n",
      "  Bounds range     [0e+00, 0e+00]\n",
      "  RHS range        [1e+00, 1e+00]\n",
      "Presolve time: 0.02s\n",
      "Presolved: 6 rows, 6 columns, 30 nonzeros\n",
      "\n",
      "Iteration    Objective       Primal Inf.    Dual Inf.      Time\n",
      "       0      handle free variables                          0s\n",
      "       4   -1.2000000e+00   0.000000e+00   0.000000e+00      0s\n",
      "\n",
      "Solved in 4 iterations and 0.03 seconds\n",
      "Optimal objective -1.200000000e+00\n"
     ]
    }
   ],
   "source": [
    "r.run()"
   ]
  },
  {
   "cell_type": "code",
   "execution_count": 112,
   "metadata": {
    "collapsed": false
   },
   "outputs": [
    {
     "data": {
      "text/plain": [
       "[{0: [0, 1, 0, 0, 0], 1: [0, 0, 0, 1, 0]},\n",
       " {0: [0.0, 0.6, 0.0, 0.4, 0.0], 1: [0, 1, 0, 0, 0]},\n",
       " {0: [0.0, 0.6, 0.0, 0.4, 0.0], 1: [0, 1, 0, 0, 0]},\n",
       " {0: [0.0, 0.6, 0.0, 0.4, 0.0], 1: [0, 1, 0, 0, 0]},\n",
       " {0: [0.0, 0.6, 0.0, 0.4, 0.0], 1: [0, 1, 0, 0, 0]},\n",
       " {0: [0.0, 0.6, 0.0, 0.4, 0.0], 1: [0, 1, 0, 0, 0]}]"
      ]
     },
     "execution_count": 112,
     "metadata": {},
     "output_type": "execute_result"
    }
   ],
   "source": [
    "r.batches[0].experiments[2].game.strategy_history"
   ]
  },
  {
   "cell_type": "code",
   "execution_count": 113,
   "metadata": {
    "collapsed": false
   },
   "outputs": [
    {
     "data": {
      "text/plain": [
       "[{0: 0, 1: 0, 2: 0, 3: -2, 4: 0},\n",
       " {0: 0, 1: 0, 2: 0, 3: 0, 4: 0},\n",
       " {0: 0, 1: 0, 2: 0, 3: 0, 4: 0},\n",
       " {0: 0, 1: 0, 2: 0, 3: 0, 4: 0},\n",
       " {0: 0, 1: -3, 2: 0, 3: 0, 4: 0},\n",
       " {0: 0, 1: -3, 2: 0, 3: 0, 4: 0}]"
      ]
     },
     "execution_count": 113,
     "metadata": {},
     "output_type": "execute_result"
    }
   ],
   "source": [
    "r.batches[0].experiments[2].agent.feedbacks"
   ]
  },
  {
   "cell_type": "code",
   "execution_count": 114,
   "metadata": {
    "collapsed": false
   },
   "outputs": [
    {
     "data": {
      "text/plain": [
       "[{0: [1], 1: [3]},\n",
       " {0: [1], 1: [1]},\n",
       " {0: [1], 1: [1]},\n",
       " {0: [1], 1: [1]},\n",
       " {0: [3], 1: [1]},\n",
       " {0: [3], 1: [1]}]"
      ]
     },
     "execution_count": 114,
     "metadata": {},
     "output_type": "execute_result"
    }
   ],
   "source": [
    "r.batches[0].experiments[2].game.history"
   ]
  },
  {
   "cell_type": "code",
   "execution_count": 115,
   "metadata": {
    "collapsed": false
   },
   "outputs": [
    {
     "data": {
      "text/plain": [
       "<module 'source.runner' from '../source/runner.py'>"
      ]
     },
     "execution_count": 115,
     "metadata": {},
     "output_type": "execute_result"
    }
   ],
   "source": [
    "# if you change something in the files, don't forget to reload\n",
    "\n",
    "reload(player)\n",
    "reload(parsers)\n",
    "reload(game)\n",
    "reload(environment)\n",
    "reload(runner)"
   ]
  }
 ],
 "metadata": {
  "kernelspec": {
   "display_name": "Python 3",
   "language": "python",
   "name": "python3"
  },
  "language_info": {
   "codemirror_mode": {
    "name": "ipython",
    "version": 3
   },
   "file_extension": ".py",
   "mimetype": "text/x-python",
   "name": "python",
   "nbconvert_exporter": "python",
   "pygments_lexer": "ipython3",
   "version": "3.5.2"
  }
 },
 "nbformat": 4,
 "nbformat_minor": 0
}
