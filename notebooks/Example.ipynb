{
 "cells": [
  {
   "cell_type": "markdown",
   "metadata": {},
   "source": [
    "# Example\n",
    "of the last added functionalities in onlineSG"
   ]
  },
  {
   "cell_type": "code",
   "execution_count": 366,
   "metadata": {
    "collapsed": true
   },
   "outputs": [],
   "source": [
    "import sys\n",
    "sys.path.append('../')  # uncomment to add the path to the onlineSG folder \n",
    "# You have to change the path if you move this file.\n",
    "# Alternatevely add the onlineSG folder to your PYTHONPATH\n",
    "# e.g. On Linux add this line on .bashrc:\n",
    "# export PYTHONPATH=\"<absolute-path-to-onlineSG>:PYTHONPATH\"\n",
    "# then you can use onlineSG library from everywhere"
   ]
  },
  {
   "cell_type": "code",
   "execution_count": 33,
   "metadata": {
    "collapsed": false
   },
   "outputs": [],
   "source": [
    "import source.game as game\n",
    "import source.player as player\n",
    "import source.environment as environment\n",
    "import source.runner as runner\n",
    "import source.errors as errors\n",
    "import source.parsers as parsers\n",
    "import numpy as np\n",
    "import pandas as pd\n",
    "from importlib import *"
   ]
  },
  {
   "cell_type": "markdown",
   "metadata": {},
   "source": [
    "initialize a Game"
   ]
  },
  {
   "cell_type": "code",
   "execution_count": 367,
   "metadata": {
    "collapsed": true
   },
   "outputs": [],
   "source": [
    "values = ((1, 1), (2, 2), (3, 3))\n",
    "time_horizon = 1000\n",
    "g = game.Game(values, time_horizon)\n",
    "agent = player.AWESOMS_UCB(g, 0, 1, 0.1, 0.6, 0.2)\n",
    "attacker = player.StackelbergAttacker(g, 1, 1)\n",
    "g.set_players([agent], [attacker])"
   ]
  },
  {
   "cell_type": "markdown",
   "metadata": {},
   "source": [
    "and create an *Experiment*"
   ]
  },
  {
   "cell_type": "code",
   "execution_count": 368,
   "metadata": {
    "collapsed": false
   },
   "outputs": [],
   "source": [
    "exp = runner.Experiment(g)"
   ]
  },
  {
   "cell_type": "code",
   "execution_count": 369,
   "metadata": {
    "collapsed": false
   },
   "outputs": [],
   "source": [
    "exp.run()"
   ]
  },
  {
   "cell_type": "code",
   "execution_count": 370,
   "metadata": {
    "collapsed": false
   },
   "outputs": [
    {
     "data": {
      "text/plain": [
       "[{0: [0.0, 0.4, 0.6], 1: [0, 0, 1]},\n",
       " {0: [0.0, 0.4, 0.6], 1: [0, 0, 1]},\n",
       " {0: [0.0, 0.4, 0.6], 1: [0, 0, 1]},\n",
       " {0: [0.0, 0.4, 0.6], 1: [0, 0, 1]},\n",
       " {0: [0.0, 0.4, 0.6], 1: [0, 0, 1]},\n",
       " {0: [0.0, 0.4, 0.6], 1: [0, 0, 1]},\n",
       " {0: [0.0, 0.4, 0.6], 1: [0, 0, 1]},\n",
       " {0: [0.0, 0.4, 0.6], 1: [0, 0, 1]},\n",
       " {0: [0.0, 0.4, 0.6], 1: [0, 0, 1]},\n",
       " {0: [0.0, 0.4, 0.6], 1: [0, 0, 1]}]"
      ]
     },
     "execution_count": 370,
     "metadata": {},
     "output_type": "execute_result"
    }
   ],
   "source": [
    "exp.game.strategy_history[-10:]"
   ]
  },
  {
   "cell_type": "code",
   "execution_count": 371,
   "metadata": {
    "collapsed": false
   },
   "outputs": [
    {
     "data": {
      "text/plain": [
       "[{0: 0, 1: 0, 2: 0},\n",
       " {0: 0, 1: 0, 2: 0},\n",
       " {0: 0, 1: 0, 2: 0},\n",
       " {0: 0, 1: 0, 2: -3},\n",
       " {0: 0, 1: 0, 2: 0},\n",
       " {0: 0, 1: 0, 2: -3},\n",
       " {0: 0, 1: 0, 2: 0},\n",
       " {0: 0, 1: 0, 2: 0},\n",
       " {0: 0, 1: 0, 2: -3},\n",
       " {0: 0, 1: 0, 2: -3}]"
      ]
     },
     "execution_count": 371,
     "metadata": {},
     "output_type": "execute_result"
    }
   ],
   "source": [
    "exp.agent.feedbacks[-10:]"
   ]
  },
  {
   "cell_type": "code",
   "execution_count": 372,
   "metadata": {
    "collapsed": false
   },
   "outputs": [
    {
     "data": {
      "text/plain": [
       "True"
      ]
     },
     "execution_count": 372,
     "metadata": {},
     "output_type": "execute_result"
    }
   ],
   "source": [
    "agent.stackelberg"
   ]
  },
  {
   "cell_type": "code",
   "execution_count": 373,
   "metadata": {
    "collapsed": true
   },
   "outputs": [],
   "source": [
    "t = time_horizon"
   ]
  },
  {
   "cell_type": "code",
   "execution_count": 374,
   "metadata": {
    "collapsed": true
   },
   "outputs": [],
   "source": [
    "average_reward = sum([sum(f.values()) for f in agent.feedbacks]) / t"
   ]
  },
  {
   "cell_type": "code",
   "execution_count": 375,
   "metadata": {
    "collapsed": false
   },
   "outputs": [
    {
     "data": {
      "text/plain": [
       "-0.951"
      ]
     },
     "execution_count": 375,
     "metadata": {},
     "output_type": "execute_result"
    }
   ],
   "source": [
    "average_reward"
   ]
  },
  {
   "cell_type": "code",
   "execution_count": 378,
   "metadata": {
    "collapsed": false
   },
   "outputs": [
    {
     "data": {
      "text/plain": [
       "0.11753940002383997"
      ]
     },
     "execution_count": 378,
     "metadata": {},
     "output_type": "execute_result"
    }
   ],
   "source": [
    "bound = sqrt(2 * log(t) / t)\n",
    "bound"
   ]
  },
  {
   "cell_type": "code",
   "execution_count": 365,
   "metadata": {
    "collapsed": false
   },
   "outputs": [
    {
     "data": {
      "text/plain": [
       "-0.15599999999999992"
      ]
     },
     "execution_count": 365,
     "metadata": {},
     "output_type": "execute_result"
    }
   ],
   "source": [
    "agent.maxmin-average_reward"
   ]
  },
  {
   "cell_type": "code",
   "execution_count": 256,
   "metadata": {
    "collapsed": false
   },
   "outputs": [
    {
     "data": {
      "text/plain": [
       "<module 'source.environment' from '/home/lorenzo/Scrivania/Polimi/Thesis/code/onlineSG/source/environment.py'>"
      ]
     },
     "execution_count": 256,
     "metadata": {},
     "output_type": "execute_result"
    }
   ],
   "source": [
    "# if you change something in the files, don't forget to reload\n",
    "\n",
    "reload(errors)\n",
    "reload(runner)\n",
    "reload(player)\n",
    "reload(parsers)\n",
    "reload(game)\n",
    "reload(environment)"
   ]
  }
 ],
 "metadata": {
  "kernelspec": {
   "display_name": "Python 3",
   "language": "python",
   "name": "python3"
  },
  "language_info": {
   "codemirror_mode": {
    "name": "ipython",
    "version": 3
   },
   "file_extension": ".py",
   "mimetype": "text/x-python",
   "name": "python",
   "nbconvert_exporter": "python",
   "pygments_lexer": "ipython3",
   "version": "3.5.2"
  }
 },
 "nbformat": 4,
 "nbformat_minor": 0
}
