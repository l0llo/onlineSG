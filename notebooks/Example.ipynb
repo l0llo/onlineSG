{
 "cells": [
  {
   "cell_type": "markdown",
   "metadata": {
    "collapsed": true,
    "deletable": true,
    "editable": true,
    "slideshow": {
     "slide_type": "-"
    }
   },
   "source": [
    "# Example\n",
    "of the last added functionalities in onlineSG"
   ]
  },
  {
   "cell_type": "code",
   "execution_count": 1,
   "metadata": {
    "collapsed": false,
    "deletable": true,
    "editable": true
   },
   "outputs": [
    {
     "data": {
      "text/html": [
       "<style>.container { width:100% !important; }</style>"
      ],
      "text/plain": [
       "<IPython.core.display.HTML object>"
      ]
     },
     "metadata": {},
     "output_type": "display_data"
    }
   ],
   "source": [
    "from IPython.core.display import display, HTML\n",
    "display(HTML(\"<style>.container { width:100% !important; }</style>\"))"
   ]
  },
  {
   "cell_type": "code",
   "execution_count": 1,
   "metadata": {
    "collapsed": true,
    "deletable": true,
    "editable": true
   },
   "outputs": [],
   "source": [
    "import sys\n",
    "sys.path.append('../')  # uncomment to add the path to the onlineSG folder \n",
    "# You have to change the path if you move this file.\n",
    "# Alternatevely add the onlineSG folder to your PYTHONPATH\n",
    "# e.g. On Linux add this line on .bashrc:\n",
    "# export PYTHONPATH=\"<absolute-path-to-onlineSG>:PYTHONPATH\"\n",
    "# then you can use onlineSG library from everywhere"
   ]
  },
  {
   "cell_type": "code",
   "execution_count": 1,
   "metadata": {
    "collapsed": false,
    "deletable": true,
    "editable": true
   },
   "outputs": [],
   "source": [
    "import source.game as game\n",
    "import source.player as player\n",
    "import source.environment as environment\n",
    "import source.errors as errors\n",
    "import source.parsers as parsers\n",
    "import source.players.attackers as attackers\n",
    "import source.players.base_defenders as base_defenders\n",
    "import source.players.defenders as defenders\n",
    "import source.runner as runner\n",
    "import source.players.detection as detection \n",
    "import source.util as util\n",
    "\n",
    "from source.util import *\n",
    "import numpy as np\n",
    "import pandas as pd\n",
    "from importlib import *\n",
    "import time"
   ]
  },
  {
   "cell_type": "code",
   "execution_count": 94,
   "metadata": {
    "collapsed": false,
    "deletable": true,
    "editable": true
   },
   "outputs": [
    {
     "data": {
      "text/plain": [
       "<module 'source.util' from '/home/lorenzo/Scrivania/Polimi/Thesis/code/onlineSG/source/util.py'>"
      ]
     },
     "execution_count": 94,
     "metadata": {},
     "output_type": "execute_result"
    }
   ],
   "source": [
    "# if you change something in the files, don't forget to reload\n",
    "reload(player)\n",
    "reload(base_defenders)\n",
    "reload(attackers)\n",
    "reload(defenders)\n",
    "reload(errors)\n",
    "reload(runner)\n",
    "reload(parsers)\n",
    "reload(game)\n",
    "#reload(environment)\n",
    "reload(detection)\n",
    "reload(util)"
   ]
  },
  {
   "cell_type": "code",
   "execution_count": 2,
   "metadata": {
    "collapsed": false
   },
   "outputs": [],
   "source": [
    "targets_dict = {i:[] for i in range(2,13)}\n",
    "T = 15 #np.random.randint(2,10)\n",
    "time_horizon =1000\n",
    "while sum([len(targets_dict[x]) for x in range(2,13)]) < 9:\n",
    "    targets = [round(x,3) for x in util.gen_norm_targets(T)]\n",
    "    values = tuple((v, v) for v in targets)\n",
    "    g = game.Game(values, time_horizon)\n",
    "    g.attackers = [1]\n",
    "    g.defenders = [0]\n",
    "    s = util.support(g)\n",
    "    if len(targets_dict[len(s)])==0:\n",
    "        targets_dict[len(s)].append(s)"
   ]
  },
  {
   "cell_type": "code",
   "execution_count": 98,
   "metadata": {
    "collapsed": false
   },
   "outputs": [],
   "source": [
    "T = 10\n",
    "P = 2\n",
    "targets = translate(targets_dict[T][0])\n",
    "distributions = []\n",
    "for i in range(P):\n",
    "    distributions.append(tuple(gen_distr(T)))\n",
    "values = tuple((v, v) for v in targets)\n",
    "g = game.Game(values, time_horizon)\n",
    "#print(T, targets)\n",
    "profiles = [attackers.StackelbergAttacker(g, 1)]\n",
    "for d in distributions:\n",
    "    #print(d)\n",
    "    profiles.append(attackers.StochasticAttacker(g, 1, 1, *d))\n",
    "agent = detection.HOLMES(g, 0, 1, 1)\n",
    "attacker = profiles[0]\n",
    "g.set_players([agent], [attacker], [p for p in profiles if p != attacker])"
   ]
  },
  {
   "cell_type": "code",
   "execution_count": 33,
   "metadata": {
    "collapsed": false
   },
   "outputs": [
    {
     "data": {
      "text/plain": [
       "456"
      ]
     },
     "execution_count": 33,
     "metadata": {},
     "output_type": "execute_result"
    }
   ],
   "source": [
    "T = 6\n",
    "P * P * T + T * T * T * P"
   ]
  },
  {
   "cell_type": "code",
   "execution_count": 34,
   "metadata": {
    "collapsed": false
   },
   "outputs": [
    {
     "data": {
      "text/plain": [
       "13.818181818181818"
      ]
     },
     "execution_count": 34,
     "metadata": {},
     "output_type": "execute_result"
    }
   ],
   "source": [
    "1 * (456 / 33)"
   ]
  },
  {
   "cell_type": "code",
   "execution_count": 99,
   "metadata": {
    "collapsed": true,
    "deletable": true,
    "editable": true
   },
   "outputs": [],
   "source": [
    "e = runner.Experiment(g)"
   ]
  },
  {
   "cell_type": "code",
   "execution_count": 101,
   "metadata": {
    "collapsed": false,
    "deletable": true,
    "editable": true,
    "scrolled": false
   },
   "outputs": [
    {
     "name": "stdout",
     "output_type": "stream",
     "text": [
      "5.467822313308716\n",
      " \t \t \t \t□\t \t \t \t \t \t\n",
      "0.946\t0.841\t0.948\t0.924\t0.939\t0.968\t0.875\t0.829\t0.942\t0.949\t\n",
      " \t \t \t \t \t△\t \t \t \t \t\n",
      "----------------------------------------------------------------------\n",
      "□\t \t \t \t \t \t \t \t \t \t\n",
      "0.946\t0.841\t0.948\t0.924\t0.939\t0.968\t0.875\t0.829\t0.942\t0.949\t\n",
      " \t \t \t \t \t \t \t△\t \t \t\n",
      "{<StochasticAttacker id:1 resources:1>: 4.8584924907380388e-05, <StackelbergAttacker id:1 resources:1>: 0.96330742561762162, <StochasticAttacker id:1 resources:1>: 0.036643989457471077}\n",
      "{0: (0.13083354170947906, 0.022315789674063023, 0.13266724533539395, 0.1101388865027252, 0.12435406499937716, 0.15058753077047146, 0.06030615676486166, 0.008163414223364602, 0.12705217124434545, 0.13358119877591845), 1: [0, 0, 0, 0, 0, 0, 0, 1, 0, 0]}\n"
     ]
    }
   ],
   "source": [
    "start_time = time.time()\n",
    "e.run_interaction()\n",
    "print(time.time() - start_time)\n",
    "print(game_str(e.game, lenght=7))\n",
    "print(e.agent.belief)\n",
    "print(e.game.strategy_history[-1])\n"
   ]
  },
  {
   "cell_type": "code",
   "execution_count": null,
   "metadata": {
    "collapsed": true
   },
   "outputs": [],
   "source": []
  },
  {
   "cell_type": "code",
   "execution_count": 88,
   "metadata": {
    "collapsed": true
   },
   "outputs": [],
   "source": [
    "from copy import deepcopy"
   ]
  },
  {
   "cell_type": "code",
   "execution_count": 89,
   "metadata": {
    "collapsed": false
   },
   "outputs": [
    {
     "data": {
      "text/plain": [
       "{<StochasticAttacker id:1 resources:1>: <KnownStochasticDefender id:0 resources:1>,\n",
       " <StochasticAttacker id:1 resources:1>: <KnownStochasticDefender id:0 resources:1>,\n",
       " <StackelbergAttacker id:1 resources:1>: <StackelbergDefender id:0 resources:1>}"
      ]
     },
     "execution_count": 89,
     "metadata": {},
     "output_type": "execute_result"
    }
   ],
   "source": []
  },
  {
   "cell_type": "code",
   "execution_count": 93,
   "metadata": {
    "collapsed": false
   },
   "outputs": [
    {
     "name": "stdout",
     "output_type": "stream",
     "text": [
      "2.8848648071289062e-05\n",
      "4.291534423828125e-05\n",
      "3.552436828613281e-05\n"
     ]
    }
   ],
   "source": [
    "for k in e.agent.profiles:\n",
    "    start_time = time.time()\n",
    "    k.get_best_responder()\n",
    "    print(time.time() - start_time)"
   ]
  },
  {
   "cell_type": "code",
   "execution_count": null,
   "metadata": {
    "collapsed": true
   },
   "outputs": [],
   "source": []
  },
  {
   "cell_type": "code",
   "execution_count": 83,
   "metadata": {
    "collapsed": false,
    "editable": true,
    "scrolled": false
   },
   "outputs": [
    {
     "name": "stdout",
     "output_type": "stream",
     "text": [
      "3 0.1614851951599121\n",
      "2 0.12384796142578125\n",
      "2 0.13333487510681152\n",
      "4 0.11460113525390625\n",
      "4 0.1505756378173828\n",
      "5 0.11072969436645508\n",
      "5 0.2053072452545166\n",
      "5 0.12882423400878906\n",
      "0 0.10135197639465332\n",
      "0 0.14489126205444336\n",
      "0 0.11942005157470703\n",
      "0 0.11493778228759766\n",
      "0 0.10756826400756836\n",
      "0 0.10907673835754395\n",
      "1 0.12592172622680664\n",
      "1 0.1139230728149414\n",
      "1 0.11368942260742188\n",
      "1 0.1501328945159912\n",
      "1 0.20796728134155273\n",
      "1 0.1350266933441162\n",
      "2 0.1182558536529541\n",
      "2 0.14227032661437988\n",
      "2 0.13663363456726074\n",
      "2 0.12044191360473633\n",
      "2 0.135117769241333\n",
      "2 0.13111209869384766\n",
      "3 0.12725615501403809\n",
      "3 0.14376473426818848\n",
      "3 0.19898462295532227\n",
      "3 0.22863268852233887\n",
      "3 0.1897735595703125\n",
      "3 0.20658540725708008\n",
      "4 0.14933109283447266\n",
      "4 0.18760180473327637\n",
      "4 0.1394650936126709\n",
      "4 0.15960359573364258\n",
      "4 0.1792283058166504\n",
      "4 0.14325928688049316\n",
      "5 0.14247345924377441\n",
      "5 0.15726852416992188\n",
      "5 0.24408602714538574\n",
      "5 0.23748445510864258\n",
      "5 0.1849346160888672\n",
      "5 0.19228911399841309\n",
      "0 0.21271991729736328\n",
      "0 0.15095949172973633\n",
      "0 0.1654987335205078\n",
      "0 0.1760551929473877\n",
      "0 0.17176246643066406\n",
      "0 0.26879024505615234\n",
      "1 0.16248011589050293\n",
      "1 0.16803717613220215\n",
      "1 0.17930126190185547\n",
      "1 0.1842331886291504\n",
      "1 0.16307663917541504\n",
      "1 0.1871175765991211\n",
      "2 0.1690077781677246\n",
      "2 0.28243017196655273\n",
      "2 0.16989803314208984\n",
      "2 0.19905734062194824\n",
      "2 0.1769700050354004\n",
      "2 0.18427205085754395\n",
      "3 0.18656301498413086\n",
      "3 0.1965961456298828\n",
      "3 0.2905454635620117\n",
      "3 0.33269357681274414\n",
      "3 0.22004389762878418\n",
      "3 0.1943037509918213\n",
      "4 0.24033331871032715\n",
      "4 0.2744898796081543\n",
      "4 0.19694066047668457\n",
      "4 0.22936630249023438\n",
      "4 0.4609560966491699\n",
      "4 0.3218975067138672\n",
      "5 0.1866605281829834\n",
      "5 0.20360493659973145\n",
      "5 0.21081113815307617\n",
      "5 0.21547389030456543\n",
      "5 0.22494769096374512\n",
      "5 0.2942664623260498\n",
      "0 0.2039318084716797\n",
      "0 0.2211458683013916\n",
      "0 0.24150991439819336\n",
      "0 0.2183370590209961\n",
      "0 0.21577095985412598\n",
      "0 0.3000612258911133\n",
      "1 0.223219633102417\n",
      "1 0.2293844223022461\n",
      "1 0.2138984203338623\n",
      "1 0.2186880111694336\n",
      "1 0.2172071933746338\n",
      "1 0.2542533874511719\n",
      "2 0.35981035232543945\n",
      "2 0.2125403881072998\n",
      "2 0.3078019618988037\n",
      "2 0.2667815685272217\n",
      "2 0.22525286674499512\n",
      "2 0.31037068367004395\n",
      "3 0.3629732131958008\n",
      "3 0.2732727527618408\n",
      "3 0.23243403434753418\n",
      "3 0.25181031227111816\n",
      "3 0.23853492736816406\n",
      "3 0.33983802795410156\n",
      "4 0.2316298484802246\n",
      "4 0.33864355087280273\n",
      "4 0.2609579563140869\n",
      "4 0.31567978858947754\n",
      "4 0.32328319549560547\n",
      "4 0.36260986328125\n",
      "5 0.35610508918762207\n",
      "5 0.31651854515075684\n",
      "5 0.2426445484161377\n",
      "5 0.43209052085876465\n",
      "5 0.39380764961242676\n",
      "5 0.2391517162322998\n",
      "0 0.28502464294433594\n",
      "0 0.282146692276001\n",
      "0 0.2556288242340088\n",
      "0 0.4328184127807617\n",
      "0 0.2738659381866455\n",
      "0 0.2683422565460205\n",
      "1 0.2956814765930176\n",
      "1 0.2704911231994629\n",
      "1 0.4049091339111328\n",
      "1 0.3181135654449463\n",
      "1 0.27990031242370605\n",
      "1 0.3030247688293457\n",
      "2 0.2693047523498535\n",
      "2 0.419919490814209\n",
      "2 0.31844663619995117\n",
      "2 0.267366886138916\n",
      "2 0.30864548683166504\n",
      "2 0.30562925338745117\n",
      "3 0.3879256248474121\n",
      "3 0.3104841709136963\n",
      "3 0.3173074722290039\n",
      "3 0.32690930366516113\n",
      "3 0.34857177734375\n",
      "3 0.49982666969299316\n",
      "4 0.30286312103271484\n",
      "4 0.3236525058746338\n",
      "4 0.30130553245544434\n",
      "4 0.4169638156890869\n",
      "4 0.301271915435791\n",
      "4 0.3392333984375\n",
      "5 0.3170771598815918\n",
      "5 0.3269486427307129\n",
      "5 0.4712493419647217\n",
      "5 0.3163759708404541\n",
      "5 0.3209877014160156\n",
      "5 0.3119323253631592\n",
      "2 0.42548179626464844\n",
      "2 0.36772918701171875\n",
      "2 0.3615875244140625\n",
      "2 0.3579096794128418\n",
      "2 0.5267477035522461\n",
      "2 0.386737585067749\n",
      "3 0.3734254837036133\n",
      "3 0.3871593475341797\n",
      "3 0.43309473991394043\n",
      "3 0.4594411849975586\n",
      "3 0.33876490592956543\n",
      "3 0.3788766860961914\n",
      "45.33897352218628\n",
      " \t \t \t \t \t□\t\n",
      "0.47\t0.506\t0.577\t0.577\t0.535\t0.8089999999999999\t\n",
      "△\t \t \t \t \t \t\n",
      "{<StochasticAttacker id:1 resources:1>: 0.13522480490494246, <StochasticAttacker id:1 resources:1>: 0.061538002674926678, <StackelbergAttacker id:1 resources:1>: 0.80323719242013081}\n",
      "{0: (0.0034825689780815777, 0.07433982947281186, 0.18827998475198482, 0.18827998475198476, 0.12455562476636341, 0.4210620072787736), 1: [1, 0, 0, 0, 0, 0]}\n"
     ]
    }
   ],
   "source": [
    "start_time = time.time()\n",
    "e.run_interaction()\n",
    "print(time.time() - start_time)\n",
    "print(game_str(e.game, lenght=7))\n",
    "print(e.agent.belief)\n",
    "print(e.game.strategy_history[-1])\n"
   ]
  },
  {
   "cell_type": "code",
   "execution_count": 77,
   "metadata": {
    "collapsed": false,
    "editable": true,
    "scrolled": false
   },
   "outputs": [
    {
     "name": "stdout",
     "output_type": "stream",
     "text": [
      "5 0.10023260116577148\n",
      "0 0.12727952003479004\n",
      "0 0.1606607437133789\n",
      "0 0.12775063514709473\n",
      "1 0.11857318878173828\n",
      "1 0.11449837684631348\n",
      "2 0.12177371978759766\n",
      "3 0.10972452163696289\n",
      "3 0.10124850273132324\n",
      "4 0.1665353775024414\n",
      "4 0.10376882553100586\n",
      "4 0.21407008171081543\n",
      "4 0.12234997749328613\n",
      "5 0.10926699638366699\n",
      "5 0.12927746772766113\n",
      "5 0.17539024353027344\n",
      "5 0.10990071296691895\n",
      "5 0.11029887199401855\n",
      "5 0.17348337173461914\n",
      "0 0.1103827953338623\n",
      "0 0.11120414733886719\n",
      "0 0.13007712364196777\n",
      "0 0.257218599319458\n",
      "0 0.12633252143859863\n",
      "0 0.11751651763916016\n",
      "1 0.18093466758728027\n",
      "1 0.11615347862243652\n",
      "1 0.11476969718933105\n",
      "1 0.12985491752624512\n",
      "1 0.17724108695983887\n",
      "1 0.21025371551513672\n",
      "2 0.2185661792755127\n",
      "2 0.13093066215515137\n",
      "2 0.13569355010986328\n",
      "2 0.24854636192321777\n",
      "2 0.13298654556274414\n",
      "2 0.13535690307617188\n",
      "3 0.14589619636535645\n",
      "3 0.14407825469970703\n",
      "3 0.1370389461517334\n",
      "3 0.14382481575012207\n",
      "3 0.15672636032104492\n",
      "3 0.14872217178344727\n",
      "4 0.14051246643066406\n",
      "4 0.1767728328704834\n",
      "4 0.2178363800048828\n",
      "4 0.14540719985961914\n",
      "4 0.20415854454040527\n",
      "4 0.1486225128173828\n",
      "5 0.19472599029541016\n",
      "5 0.1538381576538086\n",
      "5 0.15590429306030273\n",
      "5 0.15577435493469238\n",
      "5 0.16285157203674316\n",
      "5 0.24289751052856445\n",
      "0 0.2076737880706787\n",
      "0 0.15508389472961426\n",
      "0 0.16034436225891113\n",
      "0 0.20851612091064453\n",
      "0 0.15631389617919922\n",
      "0 0.18694305419921875\n",
      "1 0.17920207977294922\n",
      "1 0.17215561866760254\n",
      "1 0.27211427688598633\n",
      "1 0.17908287048339844\n",
      "1 0.23700189590454102\n",
      "1 0.17644023895263672\n",
      "2 0.17770981788635254\n",
      "2 0.21660661697387695\n",
      "2 0.1927812099456787\n",
      "2 0.2228381633758545\n",
      "2 0.27495408058166504\n",
      "2 0.22722196578979492\n",
      "3 0.1806340217590332\n",
      "3 0.18074917793273926\n",
      "3 0.23726749420166016\n",
      "3 0.20149540901184082\n",
      "3 0.24770498275756836\n",
      "3 0.18230390548706055\n",
      "4 0.34525108337402344\n",
      "4 0.1923065185546875\n",
      "4 0.24271488189697266\n",
      "4 0.30493783950805664\n",
      "4 0.24672961235046387\n",
      "4 0.21013116836547852\n",
      "5 0.2525959014892578\n",
      "5 0.30133700370788574\n",
      "5 0.21694684028625488\n",
      "5 0.196425199508667\n",
      "5 0.253429651260376\n",
      "5 0.20566654205322266\n",
      "0 0.2090137004852295\n",
      "0 0.21959900856018066\n",
      "0 0.3446192741394043\n",
      "0 0.20931077003479004\n",
      "0 0.22668194770812988\n",
      "0 0.21736860275268555\n",
      "1 0.2690868377685547\n",
      "1 0.22529077529907227\n",
      "1 0.3667261600494385\n",
      "1 0.32155895233154297\n",
      "1 0.2942543029785156\n",
      "1 0.2126598358154297\n",
      "2 0.260911226272583\n",
      "2 0.2198495864868164\n",
      "2 0.36586689949035645\n",
      "2 0.2759287357330322\n",
      "2 0.23402166366577148\n",
      "2 0.28858399391174316\n",
      "3 0.23327422142028809\n",
      "3 0.28241539001464844\n",
      "3 0.3459298610687256\n",
      "3 0.25847482681274414\n",
      "3 0.25233888626098633\n",
      "3 0.25006556510925293\n",
      "4 0.27912473678588867\n",
      "4 0.3593456745147705\n",
      "4 0.27118396759033203\n",
      "4 0.24286270141601562\n",
      "4 0.2864680290222168\n",
      "4 0.24014067649841309\n",
      "5 0.37738823890686035\n",
      "5 0.36601853370666504\n",
      "5 0.2470259666442871\n",
      "5 0.2705984115600586\n",
      "5 0.24926495552062988\n",
      "5 0.28281068801879883\n",
      "0 0.39849209785461426\n",
      "0 0.24218511581420898\n",
      "0 0.29691267013549805\n",
      "0 0.2623744010925293\n",
      "0 0.285524845123291\n",
      "0 0.3903796672821045\n",
      "1 0.27103734016418457\n",
      "1 0.26806020736694336\n",
      "1 0.271970272064209\n",
      "1 0.2967085838317871\n",
      "1 0.37236976623535156\n",
      "1 0.29717254638671875\n",
      "2 0.31640005111694336\n",
      "2 0.33196425437927246\n",
      "2 0.2713143825531006\n",
      "2 0.40867066383361816\n",
      "2 0.31942200660705566\n",
      "2 0.2806267738342285\n",
      "3 0.3083670139312744\n",
      "3 0.2811574935913086\n",
      "3 0.49007558822631836\n",
      "3 0.3144266605377197\n",
      "3 0.3031032085418701\n",
      "3 0.2834796905517578\n",
      "4 0.4082159996032715\n",
      "4 0.3278312683105469\n",
      "4 0.4028034210205078\n",
      "4 0.3169975280761719\n",
      "4 0.3388843536376953\n",
      "4 0.4634575843811035\n",
      "5 0.2870361804962158\n",
      "5 0.3533296585083008\n",
      "5 0.34760451316833496\n",
      "5 0.43282389640808105\n",
      "5 0.3078734874725342\n",
      "5 0.37506556510925293\n",
      "2 0.320972204208374\n",
      "2 0.29982829093933105\n",
      "2 0.4748976230621338\n",
      "2 0.3177666664123535\n",
      "2 0.31437110900878906\n",
      "2 0.3499014377593994\n",
      "1 0.4099006652832031\n",
      "1 0.32251405715942383\n",
      "1 0.3187994956970215\n",
      "1 0.3316023349761963\n",
      "1 0.506209135055542\n",
      "1 0.3607652187347412\n",
      "45.476211071014404\n",
      " \t \t \t□\t \t \t\n",
      "0.481\t0.517\t0.588\t0.588\t0.546\t0.82\t\n",
      "△\t \t \t \t \t \t\n",
      "{<StochasticAttacker id:1 resources:1>: 0.11279738460303446, <StackelbergAttacker id:1 resources:1>: 0.76223643734491819, <StochasticAttacker id:1 resources:1>: 0.12496617805204728}\n",
      "{0: (0.006759607737204153, 0.07592235404625082, 0.18750478739849236, 0.1875047873984923, 0.12500411779599035, 0.4173043456235701), 1: [1, 0, 0, 0, 0, 0]}\n"
     ]
    }
   ],
   "source": [
    "start_time = time.time()\n",
    "e.run_interaction()\n",
    "print(time.time() - start_time)\n",
    "print(game_str(e.game, lenght=7))\n",
    "print(e.agent.belief)\n",
    "print(e.game.strategy_history[-1])\n"
   ]
  },
  {
   "cell_type": "code",
   "execution_count": 73,
   "metadata": {
    "collapsed": false
   },
   "outputs": [
    {
     "data": {
      "text/plain": [
       "[(-0.0003953316692775887,\n",
       "  0.07925975740110955,\n",
       "  0.18881587316117843,\n",
       "  0.18881587316117837,\n",
       "  0.12738829523450437,\n",
       "  0.41611553271130686),\n",
       " (0.011604668330722412,\n",
       "  0.06725975740110955,\n",
       "  0.18881587316117843,\n",
       "  0.18881587316117837,\n",
       "  0.12738829523450437,\n",
       "  0.41611553271130686),\n",
       " (0.011604668330722412,\n",
       "  0.07925975740110955,\n",
       "  0.17681587316117842,\n",
       "  0.18881587316117837,\n",
       "  0.12738829523450437,\n",
       "  0.41611553271130686),\n",
       " (0.011604668330722412,\n",
       "  0.07925975740110955,\n",
       "  0.18881587316117843,\n",
       "  0.17681587316117836,\n",
       "  0.12738829523450437,\n",
       "  0.41611553271130686),\n",
       " (0.011604668330722412,\n",
       "  0.07925975740110955,\n",
       "  0.18881587316117843,\n",
       "  0.18881587316117837,\n",
       "  0.11538829523450438,\n",
       "  0.41611553271130686),\n",
       " (0.011604668330722412,\n",
       "  0.07925975740110955,\n",
       "  0.18881587316117843,\n",
       "  0.18881587316117837,\n",
       "  0.12738829523450437,\n",
       "  0.40411553271130685)]"
      ]
     },
     "execution_count": 73,
     "metadata": {},
     "output_type": "execute_result"
    }
   ],
   "source": [
    "e.agent.get_t_strategies()"
   ]
  },
  {
   "cell_type": "code",
   "execution_count": 67,
   "metadata": {
    "collapsed": false
   },
   "outputs": [
    {
     "data": {
      "text/plain": [
       "[0, 0, 0, 0, 1, 0]"
      ]
     },
     "execution_count": 67,
     "metadata": {},
     "output_type": "execute_result"
    }
   ],
   "source": [
    "e.game.profiles[1].get_best_responder().compute_strategy()"
   ]
  },
  {
   "cell_type": "code",
   "execution_count": 68,
   "metadata": {
    "collapsed": false
   },
   "outputs": [
    {
     "data": {
      "text/plain": [
       "[0, 0, 0, 0, 0, 1]"
      ]
     },
     "execution_count": 68,
     "metadata": {},
     "output_type": "execute_result"
    }
   ],
   "source": [
    "e.game.profiles[2].get_best_responder().compute_strategy()"
   ]
  },
  {
   "cell_type": "code",
   "execution_count": 15,
   "metadata": {
    "collapsed": false
   },
   "outputs": [
    {
     "data": {
      "text/plain": [
       "[{0: (0.28555077452667826, 0.48176419965576583, 0.23268502581755596),\n",
       "  1: [0, 0, 1]},\n",
       " {0: (0.28555077452667826, 0.48176419965576583, 0.23268502581755596),\n",
       "  1: [0, 0, 1]}]"
      ]
     },
     "execution_count": 15,
     "metadata": {},
     "output_type": "execute_result"
    }
   ],
   "source": [
    "e.agent.profiles[0].game.strategy_history"
   ]
  },
  {
   "cell_type": "code",
   "execution_count": 16,
   "metadata": {
    "collapsed": false
   },
   "outputs": [
    {
     "data": {
      "text/plain": [
       "[{0: (0.28555077452667826, 0.48176419965576583, 0.23268502581755596),\n",
       "  1: [0, 0, 1]},\n",
       " {0: (0.28555077452667826, 0.48176419965576583, 0.23268502581755596),\n",
       "  1: [0, 0, 1]}]"
      ]
     },
     "execution_count": 16,
     "metadata": {},
     "output_type": "execute_result"
    }
   ],
   "source": [
    "e.game.strategy_history"
   ]
  },
  {
   "cell_type": "code",
   "execution_count": 89,
   "metadata": {
    "collapsed": true
   },
   "outputs": [],
   "source": [
    "e.run_interaction()"
   ]
  },
  {
   "cell_type": "code",
   "execution_count": 79,
   "metadata": {
    "collapsed": false
   },
   "outputs": [
    {
     "data": {
      "text/plain": [
       "{0: (0.3690684156632389, 0.4282480801547355, 0.20268350418202563),\n",
       " 1: [0, 0, 1]}"
      ]
     },
     "execution_count": 79,
     "metadata": {},
     "output_type": "execute_result"
    }
   ],
   "source": [
    "e.game.players[1].game.strategy_history[-1]"
   ]
  },
  {
   "cell_type": "code",
   "execution_count": 80,
   "metadata": {
    "collapsed": false
   },
   "outputs": [
    {
     "data": {
      "text/plain": [
       "{0: (0.3690684156632389, 0.4282480801547355, 0.20268350418202563),\n",
       " 1: [0, 0, 1]}"
      ]
     },
     "execution_count": 80,
     "metadata": {},
     "output_type": "execute_result"
    }
   ],
   "source": [
    "e.game.strategy_history[-1]"
   ]
  },
  {
   "cell_type": "code",
   "execution_count": 78,
   "metadata": {
    "collapsed": false
   },
   "outputs": [
    {
     "data": {
      "text/plain": [
       "{0: (0, 1, 0), 1: [0, 0, 1]}"
      ]
     },
     "execution_count": 78,
     "metadata": {},
     "output_type": "execute_result"
    }
   ],
   "source": [
    "e.agent.profiles[0].game.strategy_history[-1]"
   ]
  },
  {
   "cell_type": "code",
   "execution_count": 65,
   "metadata": {
    "collapsed": false
   },
   "outputs": [
    {
     "data": {
      "text/plain": [
       "{0: (0.07000285365649891,\n",
       "  0.30581066825329867,\n",
       "  0.14416530551802176,\n",
       "  0.3511386294556226,\n",
       "  0.1288825431165581),\n",
       " 1: [1, 0, 0, 0, 0]}"
      ]
     },
     "execution_count": 65,
     "metadata": {},
     "output_type": "execute_result"
    }
   ],
   "source": [
    "e.game.strategy_history[-1] "
   ]
  },
  {
   "cell_type": "code",
   "execution_count": 37,
   "metadata": {
    "collapsed": false,
    "deletable": true,
    "editable": true
   },
   "outputs": [
    {
     "name": "stdout",
     "output_type": "stream",
     "text": [
      "378.01570677757263\n"
     ]
    }
   ],
   "source": [
    "start_time = time.time()\n",
    "e.run()\n",
    "print(time.time() - start_time)"
   ]
  },
  {
   "cell_type": "code",
   "execution_count": null,
   "metadata": {
    "collapsed": true,
    "deletable": true,
    "editable": true
   },
   "outputs": [],
   "source": [
    "start_time = time.time()"
   ]
  },
  {
   "cell_type": "code",
   "execution_count": 24,
   "metadata": {
    "collapsed": false,
    "deletable": true,
    "editable": true
   },
   "outputs": [],
   "source": [
    "time_horizon = 100\n",
    "targets = (1,2,3)\n",
    "values = tuple((v, v) for v in targets)\n",
    "distribution1 = (0,0.5,0.5)\n",
    "distribution2 = (0,0.1,0.9)\n",
    "g = game.Game(values, time_horizon)\n",
    "#profiles = [attackers.StackelbergAttacker(g, 1, 1)] #,\n",
    "profiles = [attackers.StochasticAttacker(g, 1, 1, *distribution1)]#, attackers.StochasticAttacker(g, 1, 1, *distribution2)] #,\n",
    "agent = detection.StrategyAwareDetector(g, 0, 1)\n",
    "attacker = attackers.StackelbergAttacker(g, 1, 1)\n",
    "#attacker = attackers.StochasticAttacker(g, 1, 1, *distribution1)\n",
    "g.set_players([agent], [attacker], profiles)"
   ]
  },
  {
   "cell_type": "code",
   "execution_count": 26,
   "metadata": {
    "collapsed": false,
    "deletable": true,
    "editable": true
   },
   "outputs": [],
   "source": [
    "c = runner.Configuration(g, \"concurrent\", \"prova\", False)"
   ]
  },
  {
   "cell_type": "code",
   "execution_count": 25,
   "metadata": {
    "collapsed": true,
    "deletable": true,
    "editable": true
   },
   "outputs": [],
   "source": [
    "rm -rf concurrent"
   ]
  },
  {
   "cell_type": "code",
   "execution_count": 27,
   "metadata": {
    "collapsed": false,
    "deletable": true,
    "editable": true
   },
   "outputs": [],
   "source": [
    "c.run(3)"
   ]
  },
  {
   "cell_type": "code",
   "execution_count": 724,
   "metadata": {
    "collapsed": true,
    "deletable": true,
    "editable": true
   },
   "outputs": [],
   "source": [
    "e = runner.Experiment(g)"
   ]
  },
  {
   "cell_type": "code",
   "execution_count": 756,
   "metadata": {
    "collapsed": false,
    "deletable": true,
    "editable": true,
    "scrolled": true
   },
   "outputs": [
    {
     "name": "stdout",
     "output_type": "stream",
     "text": [
      "[0, 0.9, 0.1]\n",
      "0.0\n",
      "False\n",
      "0.5\n",
      "False\n",
      "0.5\n",
      "False\n",
      "{<StochasticAttacker id:1 resources:1>: 1.853020188851843e-17, <StackelbergAttacker id:1 resources:1>: 1.0} None\n",
      "{0: [0.0, 0.39, 0.61], 1: [0, 1, 0]}\n"
     ]
    }
   ],
   "source": [
    "e.run_interaction()\n",
    "#print(game_str(e.game, lenght=7))\n",
    "print(e.agent.belief, e.agent.detection)\n",
    "print(e.game.strategy_history[-1])"
   ]
  },
  {
   "cell_type": "code",
   "execution_count": 757,
   "metadata": {
    "collapsed": false,
    "deletable": true,
    "editable": true
   },
   "outputs": [
    {
     "data": {
      "text/plain": [
       "32"
      ]
     },
     "execution_count": 757,
     "metadata": {},
     "output_type": "execute_result"
    }
   ],
   "source": [
    "e.agent.tau"
   ]
  },
  {
   "cell_type": "code",
   "execution_count": 720,
   "metadata": {
    "collapsed": false,
    "deletable": true,
    "editable": true
   },
   "outputs": [
    {
     "name": "stdout",
     "output_type": "stream",
     "text": [
      "[0, 0.01, 0.99]\n",
      "0.0\n",
      "False\n",
      "1.0\n",
      "False\n",
      "0.0\n",
      "False\n",
      "[0, 0.01, 0.99]\n",
      "0.0\n",
      "False\n",
      "1.0\n",
      "False\n",
      "0.0\n",
      "False\n",
      "[0, 0.01, 0.99]\n",
      "0.0\n",
      "False\n",
      "1.0\n",
      "False\n",
      "0.0\n",
      "False\n",
      "[0, 0.01, 0.99]\n",
      "0.0\n",
      "False\n",
      "1.0\n",
      "False\n",
      "0.0\n",
      "False\n",
      "[0, 0.01, 0.99]\n",
      "0.0\n",
      "False\n",
      "1.0\n",
      "False\n",
      "0.0\n",
      "False\n",
      "[0, 0.01, 0.99]\n",
      "0.0\n",
      "False\n",
      "1.0\n",
      "False\n",
      "0.0\n",
      "False\n",
      "[0, 0.01, 0.99]\n",
      "0.0\n",
      "False\n",
      "1.0\n",
      "False\n",
      "0.0\n",
      "False\n",
      "[0, 0.01, 0.99]\n",
      "0.0\n",
      "False\n",
      "1.0\n",
      "False\n",
      "0.0\n",
      "False\n",
      "[0, 0.01, 0.99]\n",
      "0.0\n",
      "False\n",
      "1.0\n",
      "False\n",
      "0.0\n",
      "False\n",
      "[0, 0.01, 0.99]\n",
      "0.0\n",
      "False\n",
      "1.0\n",
      "False\n",
      "0.0\n",
      "False\n",
      "[0, 0.01, 0.99]\n",
      "0.0\n",
      "False\n",
      "1.0\n",
      "False\n",
      "0.0\n",
      "False\n",
      "[0, 0.01, 0.99]\n",
      "0.0\n",
      "False\n",
      "1.0\n",
      "False\n",
      "0.0\n",
      "False\n",
      "[0, 0.01, 0.99]\n",
      "0.0\n",
      "False\n",
      "1.0\n",
      "False\n",
      "0.0\n",
      "False\n",
      "[0, 0.01, 0.99]\n",
      "0.0\n",
      "False\n",
      "1.0\n",
      "False\n",
      "0.0\n",
      "False\n",
      "[0, 0.01, 0.99]\n",
      "0.0\n",
      "False\n",
      "1.0\n",
      "False\n",
      "0.0\n",
      "False\n",
      "[0, 0.01, 0.99]\n",
      "0.0\n",
      "False\n",
      "1.0\n",
      "False\n",
      "0.0\n",
      "False\n",
      "[0, 0.01, 0.99]\n",
      "0.0\n",
      "False\n",
      "1.0\n",
      "False\n",
      "0.0\n",
      "False\n",
      "[0, 0.01, 0.99]\n",
      "0.0\n",
      "False\n",
      "1.0\n",
      "False\n",
      "0.0\n",
      "False\n",
      "[0, 0.01, 0.99]\n",
      "0.0\n",
      "False\n",
      "1.0\n",
      "False\n",
      "0.0\n",
      "False\n",
      "[0, 0.01, 0.99]\n",
      "0.0\n",
      "False\n",
      "1.0\n",
      "False\n",
      "0.0\n",
      "False\n",
      "[0, 0.01, 0.99]\n",
      "0.0\n",
      "False\n",
      "1.0\n",
      "False\n",
      "0.0\n",
      "False\n",
      "[0, 0.01, 0.99]\n",
      "0.0\n",
      "False\n",
      "1.0\n",
      "False\n",
      "0.0\n",
      "False\n",
      "[0, 0.01, 0.99]\n",
      "0.0\n",
      "False\n",
      "1.0\n",
      "False\n",
      "0.0\n",
      "False\n",
      "[0, 0.01, 0.99]\n",
      "0.0\n",
      "False\n",
      "1.0\n",
      "False\n",
      "0.0\n",
      "False\n",
      "[0, 0.01, 0.99]\n",
      "0.0\n",
      "False\n",
      "1.0\n",
      "True\n",
      "0.0\n",
      "True\n"
     ]
    }
   ],
   "source": [
    "e.run()"
   ]
  },
  {
   "cell_type": "code",
   "execution_count": 74,
   "metadata": {
    "collapsed": false,
    "deletable": true,
    "editable": true
   },
   "outputs": [],
   "source": [
    "time_horizon = 100\n",
    "T = 4\n",
    "targets = (5,4,8,1)\n",
    "values = tuple((v, v) for v in targets)\n",
    "distribution1 = (0.17,0.8, 0.01, 0.02)\n",
    "g = game.Game(values, time_horizon)\n",
    "\n",
    "other_kinds = [attackers.StochasticAttacker(g, 1, 1, *distribution1)] #,\n",
    "strategy_aware = attackers.StackelbergAttacker(g, 1, 1)\n",
    "L = 2\n",
    "agent = detection.StrategyAwareDetector.parse(\"sad1-0.01@stackelberg@stochastic_attacker1-0.17-0.8-0.01-0.02\", g, 0) \n",
    "#agent = detection.HOLMES(g, 0, 1, strategy_aware, other_kinds, L)\n",
    "# attacker = attackers.StackelbergAttacker(g, 1, 1)\n",
    "attacker = attackers.StochasticAttacker(g, 1, 1, *distribution1)\n",
    "g.set_players([agent], [attacker])"
   ]
  },
  {
   "cell_type": "code",
   "execution_count": 76,
   "metadata": {
    "collapsed": true,
    "deletable": true,
    "editable": true
   },
   "outputs": [],
   "source": [
    "e1 = runner.Experiment(g)"
   ]
  },
  {
   "cell_type": "code",
   "execution_count": 77,
   "metadata": {
    "collapsed": false,
    "deletable": true,
    "editable": true
   },
   "outputs": [
    {
     "name": "stdout",
     "output_type": "stream",
     "text": [
      "□\t \t \t \t\n",
      "5\t4\t8\t1\t\n",
      " \t△\t \t \t\n",
      "{<StackelbergAttacker id:1 resources:1>: 0.0, <StochasticAttacker id:1 resources:1>: 1.0}\n",
      "{0: [0.30934782608695643, 0.13543478260869565, 0.5552173913043479, 0.0], 1: [0.17, 0.8, 0.01, 0.02]}\n"
     ]
    }
   ],
   "source": [
    "e1.run_interaction()\n",
    "print(game_str(e1.game, lenght=7))\n",
    "print(e1.agent.belief)\n",
    "print(e1.game.strategy_history[-1])"
   ]
  }
 ],
 "metadata": {
  "kernelspec": {
   "display_name": "Python 3",
   "language": "python",
   "name": "python3"
  },
  "language_info": {
   "codemirror_mode": {
    "name": "ipython",
    "version": 3
   },
   "file_extension": ".py",
   "mimetype": "text/x-python",
   "name": "python",
   "nbconvert_exporter": "python",
   "pygments_lexer": "ipython3",
   "version": "3.5.2"
  }
 },
 "nbformat": 4,
 "nbformat_minor": 0
}
