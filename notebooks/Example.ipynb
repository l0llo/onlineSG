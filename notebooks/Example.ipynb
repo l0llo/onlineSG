{
 "cells": [
  {
   "cell_type": "code",
   "execution_count": null,
   "metadata": {
    "collapsed": true,
    "slideshow": {
     "slide_type": "-"
    }
   },
   "outputs": [],
   "source": [
    "# Example\n",
    "of the last added functionalities in onlineSG"
   ]
  },
  {
   "cell_type": "code",
   "execution_count": 1,
   "metadata": {
    "collapsed": false
   },
   "outputs": [
    {
     "data": {
      "text/html": [
       "<style>.container { width:100% !important; }</style>"
      ],
      "text/plain": [
       "<IPython.core.display.HTML object>"
      ]
     },
     "metadata": {},
     "output_type": "display_data"
    }
   ],
   "source": [
    "from IPython.core.display import display, HTML\n",
    "display(HTML(\"<style>.container { width:100% !important; }</style>\"))"
   ]
  },
  {
   "cell_type": "code",
   "execution_count": 1,
   "metadata": {
    "collapsed": true
   },
   "outputs": [],
   "source": [
    "import sys\n",
    "sys.path.append('../')  # uncomment to add the path to the onlineSG folder \n",
    "# You have to change the path if you move this file.\n",
    "# Alternatevely add the onlineSG folder to your PYTHONPATH\n",
    "# e.g. On Linux add this line on .bashrc:\n",
    "# export PYTHONPATH=\"<absolute-path-to-onlineSG>:PYTHONPATH\"\n",
    "# then you can use onlineSG library from everywhere"
   ]
  },
  {
   "cell_type": "code",
   "execution_count": 31,
   "metadata": {
    "collapsed": false
   },
   "outputs": [],
   "source": [
    "import source.game as game\n",
    "import source.player as player\n",
    "import source.environment as environment\n",
    "import source.errors as errors\n",
    "import source.parsers as parsers\n",
    "import source.players.attackers as attackers\n",
    "import source.players.base_defenders as base_defenders\n",
    "import source.players.defenders as defenders\n",
    "import source.runner as runner\n",
    "import source.players.detection as detection \n",
    "\n",
    "from source.util import *\n",
    "import numpy as np\n",
    "import pandas as pd\n",
    "from importlib import *\n",
    "from source.util import *\n",
    "import time"
   ]
  },
  {
   "cell_type": "code",
   "execution_count": null,
   "metadata": {
    "collapsed": true
   },
   "outputs": [],
   "source": [
    "print(\"ciao\")"
   ]
  },
  {
   "cell_type": "code",
   "execution_count": 20,
   "metadata": {
    "collapsed": false
   },
   "outputs": [],
   "source": [
    "#c = runner.Configuration(g, \"detector\", print_results=False)"
   ]
  },
  {
   "cell_type": "code",
   "execution_count": 23,
   "metadata": {
    "collapsed": false
   },
   "outputs": [
    {
     "data": {
      "text/plain": [
       "<module 'source.players.detection' from '/home/lorenzo/Scrivania/Polimi/Thesis/code/onlineSG/source/players/detection.py'>"
      ]
     },
     "execution_count": 23,
     "metadata": {},
     "output_type": "execute_result"
    }
   ],
   "source": [
    "# if you change something in the files, don't forget to reload\n",
    "reload(player)\n",
    "reload(base_defenders)\n",
    "reload(attackers)\n",
    "reload(defenders)\n",
    "reload(errors)\n",
    "reload(runner)\n",
    "reload(parsers)\n",
    "reload(game)\n",
    "#reload(environment)\n",
    "reload(detection)"
   ]
  },
  {
   "cell_type": "code",
   "execution_count": 35,
   "metadata": {
    "collapsed": false
   },
   "outputs": [],
   "source": [
    "time_horizon = 100\n",
    "T = 4\n",
    "targets = (5,4,8,1)\n",
    "values = tuple((v, v) for v in targets)\n",
    "distribution1 = (0.17,0.8, 0.01, 0.02)\n",
    "g = game.Game(values, time_horizon)\n",
    "agent = detection.HOLMES(g, 0, 1, 1)\n",
    "#profiles = [attackers.StackelbergAttacker(g, 1, 1)] #,\n",
    "profiles = [attackers.StochasticAttacker(g, 1, 1, *distribution1)]#, attackers.StochasticAttacker(g, 1, 1, *distribution2)] #,\n",
    "attacker = attackers.StackelbergAttacker(g, 1, 1)\n",
    "#attacker = attackers.StochasticAttacker(g, 1, 1, *distribution1)\n",
    "g.set_players([agent], [attacker], profiles)"
   ]
  },
  {
   "cell_type": "code",
   "execution_count": 36,
   "metadata": {
    "collapsed": true
   },
   "outputs": [],
   "source": [
    "e = runner.Experiment(g)"
   ]
  },
  {
   "cell_type": "code",
   "execution_count": 32,
   "metadata": {
    "collapsed": false,
    "scrolled": true
   },
   "outputs": [
    {
     "name": "stdout",
     "output_type": "stream",
     "text": [
      "□\t \t \t \t\n",
      "5\t4\t8\t1\t\n",
      " \t△\t \t \t\n",
      "----------------------------\n",
      " \t□\t \t \t\n",
      "5\t4\t8\t1\t\n",
      " \t△\t \t \t\n",
      "{<StochasticAttacker id:1 resources:1>: 1.0, <StackelbergAttacker id:1 resources:1>: 0.0}\n",
      "{0: (0.30434782608695643, 0.13043478260869565, 0.5652173913043479, 0.0), 1: [0, 1, 0, 0]}\n",
      "2.4693214893341064\n"
     ]
    }
   ],
   "source": [
    "start_time = time.time()\n",
    "e.run_interaction()\n",
    "print(game_str(e.game, lenght=7))\n",
    "print(e.agent.belief)\n",
    "print(e.game.strategy_history[-1])\n",
    "print(time.time() - start_time)"
   ]
  },
  {
   "cell_type": "code",
   "execution_count": 37,
   "metadata": {
    "collapsed": false
   },
   "outputs": [
    {
     "name": "stdout",
     "output_type": "stream",
     "text": [
      "378.01570677757263\n"
     ]
    }
   ],
   "source": [
    "start_time = time.time()\n",
    "e.run()\n",
    "print(time.time() - start_time)"
   ]
  },
  {
   "cell_type": "code",
   "execution_count": null,
   "metadata": {
    "collapsed": true
   },
   "outputs": [],
   "source": [
    "start_time = time.time()"
   ]
  },
  {
   "cell_type": "code",
   "execution_count": 24,
   "metadata": {
    "collapsed": false
   },
   "outputs": [],
   "source": [
    "time_horizon = 100\n",
    "targets = (1,2,3)\n",
    "values = tuple((v, v) for v in targets)\n",
    "distribution1 = (0,0.5,0.5)\n",
    "distribution2 = (0,0.1,0.9)\n",
    "g = game.Game(values, time_horizon)\n",
    "#profiles = [attackers.StackelbergAttacker(g, 1, 1)] #,\n",
    "profiles = [attackers.StochasticAttacker(g, 1, 1, *distribution1)]#, attackers.StochasticAttacker(g, 1, 1, *distribution2)] #,\n",
    "agent = detection.StrategyAwareDetector(g, 0, 1)\n",
    "attacker = attackers.StackelbergAttacker(g, 1, 1)\n",
    "#attacker = attackers.StochasticAttacker(g, 1, 1, *distribution1)\n",
    "g.set_players([agent], [attacker], profiles)"
   ]
  },
  {
   "cell_type": "code",
   "execution_count": 26,
   "metadata": {
    "collapsed": false
   },
   "outputs": [],
   "source": [
    "c = runner.Configuration(g, \"concurrent\", \"prova\", False)"
   ]
  },
  {
   "cell_type": "code",
   "execution_count": 25,
   "metadata": {
    "collapsed": true
   },
   "outputs": [],
   "source": [
    "rm -rf concurrent"
   ]
  },
  {
   "cell_type": "code",
   "execution_count": 27,
   "metadata": {
    "collapsed": false
   },
   "outputs": [],
   "source": [
    "c.run(3)"
   ]
  },
  {
   "cell_type": "code",
   "execution_count": 724,
   "metadata": {
    "collapsed": true
   },
   "outputs": [],
   "source": [
    "e = runner.Experiment(g)"
   ]
  },
  {
   "cell_type": "code",
   "execution_count": 756,
   "metadata": {
    "collapsed": false,
    "scrolled": true
   },
   "outputs": [
    {
     "name": "stdout",
     "output_type": "stream",
     "text": [
      "[0, 0.9, 0.1]\n",
      "0.0\n",
      "False\n",
      "0.5\n",
      "False\n",
      "0.5\n",
      "False\n",
      "{<StochasticAttacker id:1 resources:1>: 1.853020188851843e-17, <StackelbergAttacker id:1 resources:1>: 1.0} None\n",
      "{0: [0.0, 0.39, 0.61], 1: [0, 1, 0]}\n"
     ]
    }
   ],
   "source": [
    "e.run_interaction()\n",
    "#print(game_str(e.game, lenght=7))\n",
    "print(e.agent.belief, e.agent.detection)\n",
    "print(e.game.strategy_history[-1])"
   ]
  },
  {
   "cell_type": "code",
   "execution_count": 757,
   "metadata": {
    "collapsed": false
   },
   "outputs": [
    {
     "data": {
      "text/plain": [
       "32"
      ]
     },
     "execution_count": 757,
     "metadata": {},
     "output_type": "execute_result"
    }
   ],
   "source": [
    "e.agent.tau"
   ]
  },
  {
   "cell_type": "code",
   "execution_count": 720,
   "metadata": {
    "collapsed": false
   },
   "outputs": [
    {
     "name": "stdout",
     "output_type": "stream",
     "text": [
      "[0, 0.01, 0.99]\n",
      "0.0\n",
      "False\n",
      "1.0\n",
      "False\n",
      "0.0\n",
      "False\n",
      "[0, 0.01, 0.99]\n",
      "0.0\n",
      "False\n",
      "1.0\n",
      "False\n",
      "0.0\n",
      "False\n",
      "[0, 0.01, 0.99]\n",
      "0.0\n",
      "False\n",
      "1.0\n",
      "False\n",
      "0.0\n",
      "False\n",
      "[0, 0.01, 0.99]\n",
      "0.0\n",
      "False\n",
      "1.0\n",
      "False\n",
      "0.0\n",
      "False\n",
      "[0, 0.01, 0.99]\n",
      "0.0\n",
      "False\n",
      "1.0\n",
      "False\n",
      "0.0\n",
      "False\n",
      "[0, 0.01, 0.99]\n",
      "0.0\n",
      "False\n",
      "1.0\n",
      "False\n",
      "0.0\n",
      "False\n",
      "[0, 0.01, 0.99]\n",
      "0.0\n",
      "False\n",
      "1.0\n",
      "False\n",
      "0.0\n",
      "False\n",
      "[0, 0.01, 0.99]\n",
      "0.0\n",
      "False\n",
      "1.0\n",
      "False\n",
      "0.0\n",
      "False\n",
      "[0, 0.01, 0.99]\n",
      "0.0\n",
      "False\n",
      "1.0\n",
      "False\n",
      "0.0\n",
      "False\n",
      "[0, 0.01, 0.99]\n",
      "0.0\n",
      "False\n",
      "1.0\n",
      "False\n",
      "0.0\n",
      "False\n",
      "[0, 0.01, 0.99]\n",
      "0.0\n",
      "False\n",
      "1.0\n",
      "False\n",
      "0.0\n",
      "False\n",
      "[0, 0.01, 0.99]\n",
      "0.0\n",
      "False\n",
      "1.0\n",
      "False\n",
      "0.0\n",
      "False\n",
      "[0, 0.01, 0.99]\n",
      "0.0\n",
      "False\n",
      "1.0\n",
      "False\n",
      "0.0\n",
      "False\n",
      "[0, 0.01, 0.99]\n",
      "0.0\n",
      "False\n",
      "1.0\n",
      "False\n",
      "0.0\n",
      "False\n",
      "[0, 0.01, 0.99]\n",
      "0.0\n",
      "False\n",
      "1.0\n",
      "False\n",
      "0.0\n",
      "False\n",
      "[0, 0.01, 0.99]\n",
      "0.0\n",
      "False\n",
      "1.0\n",
      "False\n",
      "0.0\n",
      "False\n",
      "[0, 0.01, 0.99]\n",
      "0.0\n",
      "False\n",
      "1.0\n",
      "False\n",
      "0.0\n",
      "False\n",
      "[0, 0.01, 0.99]\n",
      "0.0\n",
      "False\n",
      "1.0\n",
      "False\n",
      "0.0\n",
      "False\n",
      "[0, 0.01, 0.99]\n",
      "0.0\n",
      "False\n",
      "1.0\n",
      "False\n",
      "0.0\n",
      "False\n",
      "[0, 0.01, 0.99]\n",
      "0.0\n",
      "False\n",
      "1.0\n",
      "False\n",
      "0.0\n",
      "False\n",
      "[0, 0.01, 0.99]\n",
      "0.0\n",
      "False\n",
      "1.0\n",
      "False\n",
      "0.0\n",
      "False\n",
      "[0, 0.01, 0.99]\n",
      "0.0\n",
      "False\n",
      "1.0\n",
      "False\n",
      "0.0\n",
      "False\n",
      "[0, 0.01, 0.99]\n",
      "0.0\n",
      "False\n",
      "1.0\n",
      "False\n",
      "0.0\n",
      "False\n",
      "[0, 0.01, 0.99]\n",
      "0.0\n",
      "False\n",
      "1.0\n",
      "False\n",
      "0.0\n",
      "False\n",
      "[0, 0.01, 0.99]\n",
      "0.0\n",
      "False\n",
      "1.0\n",
      "True\n",
      "0.0\n",
      "True\n"
     ]
    }
   ],
   "source": [
    "e.run()"
   ]
  },
  {
   "cell_type": "code",
   "execution_count": 74,
   "metadata": {
    "collapsed": false
   },
   "outputs": [],
   "source": [
    "time_horizon = 100\n",
    "T = 4\n",
    "targets = (5,4,8,1)\n",
    "values = tuple((v, v) for v in targets)\n",
    "distribution1 = (0.17,0.8, 0.01, 0.02)\n",
    "g = game.Game(values, time_horizon)\n",
    "\n",
    "other_kinds = [attackers.StochasticAttacker(g, 1, 1, *distribution1)] #,\n",
    "strategy_aware = attackers.StackelbergAttacker(g, 1, 1)\n",
    "L = 2\n",
    "agent = detection.StrategyAwareDetector.parse(\"sad1-0.01@stackelberg@stochastic_attacker1-0.17-0.8-0.01-0.02\", g, 0) \n",
    "#agent = detection.HOLMES(g, 0, 1, strategy_aware, other_kinds, L)\n",
    "# attacker = attackers.StackelbergAttacker(g, 1, 1)\n",
    "attacker = attackers.StochasticAttacker(g, 1, 1, *distribution1)\n",
    "g.set_players([agent], [attacker])"
   ]
  },
  {
   "cell_type": "code",
   "execution_count": 76,
   "metadata": {
    "collapsed": true
   },
   "outputs": [],
   "source": [
    "e1 = runner.Experiment(g)"
   ]
  },
  {
   "cell_type": "code",
   "execution_count": 77,
   "metadata": {
    "collapsed": false
   },
   "outputs": [
    {
     "name": "stdout",
     "output_type": "stream",
     "text": [
      "□\t \t \t \t\n",
      "5\t4\t8\t1\t\n",
      " \t△\t \t \t\n",
      "{<StackelbergAttacker id:1 resources:1>: 0.0, <StochasticAttacker id:1 resources:1>: 1.0}\n",
      "{0: [0.30934782608695643, 0.13543478260869565, 0.5552173913043479, 0.0], 1: [0.17, 0.8, 0.01, 0.02]}\n"
     ]
    }
   ],
   "source": [
    "e1.run_interaction()\n",
    "print(game_str(e1.game, lenght=7))\n",
    "print(e1.agent.belief)\n",
    "print(e1.game.strategy_history[-1])"
   ]
  }
 ],
 "metadata": {
  "kernelspec": {
   "display_name": "Python 3",
   "language": "python",
   "name": "python3"
  },
  "language_info": {
   "codemirror_mode": {
    "name": "ipython",
    "version": 3
   },
   "file_extension": ".py",
   "mimetype": "text/x-python",
   "name": "python",
   "nbconvert_exporter": "python",
   "pygments_lexer": "ipython3",
   "version": "3.5.2"
  }
 },
 "nbformat": 4,
 "nbformat_minor": 0
}
