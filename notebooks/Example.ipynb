{
 "cells": [
  {
   "cell_type": "markdown",
   "metadata": {
    "collapsed": true,
    "deletable": true,
    "editable": true,
    "slideshow": {
     "slide_type": "-"
    }
   },
   "source": [
    "# Example\n",
    "of the last added functionalities in onlineSG"
   ]
  },
  {
   "cell_type": "code",
   "execution_count": 38,
   "metadata": {
    "collapsed": false
   },
   "outputs": [],
   "source": [
    "g = game.example_game2()"
   ]
  },
  {
   "cell_type": "code",
   "execution_count": 40,
   "metadata": {
    "collapsed": false
   },
   "outputs": [
    {
     "data": {
      "text/plain": [
       "'10,1,2,player1,player1,player1'"
      ]
     },
     "execution_count": 40,
     "metadata": {},
     "output_type": "execute_result"
    }
   ],
   "source": [
    "'gioco' + ',' + str(g)"
   ]
  },
  {
   "cell_type": "code",
   "execution_count": 32,
   "metadata": {
    "collapsed": false
   },
   "outputs": [
    {
     "data": {
      "text/plain": [
       "'b2bw2w1'"
      ]
     },
     "execution_count": 32,
     "metadata": {},
     "output_type": "execute_result"
    }
   ],
   "source": []
  },
  {
   "cell_type": "code",
   "execution_count": 34,
   "metadata": {
    "collapsed": false
   },
   "outputs": [
    {
     "data": {
      "text/plain": [
       "<B2BW2W id:0 resources:1>"
      ]
     },
     "execution_count": 34,
     "metadata": {},
     "output_type": "execute_result"
    }
   ],
   "source": []
  },
  {
   "cell_type": "code",
   "execution_count": null,
   "metadata": {
    "collapsed": true
   },
   "outputs": [],
   "source": []
  },
  {
   "cell_type": "code",
   "execution_count": 11,
   "metadata": {
    "collapsed": false
   },
   "outputs": [
    {
     "name": "stdout",
     "output_type": "stream",
     "text": [
      "<Game values:((1, 1), (2, 2)) players{} time_horizon:10>\n"
     ]
    }
   ],
   "source": [
    "print(g)"
   ]
  },
  {
   "cell_type": "code",
   "execution_count": 1,
   "metadata": {
    "collapsed": false,
    "deletable": true,
    "editable": true
   },
   "outputs": [
    {
     "data": {
      "text/html": [
       "<style>.container { width:100% !important; }</style>"
      ],
      "text/plain": [
       "<IPython.core.display.HTML object>"
      ]
     },
     "metadata": {},
     "output_type": "display_data"
    }
   ],
   "source": [
    "from IPython.core.display import display, HTML\n",
    "display(HTML(\"<style>.container { width:100% !important; }</style>\"))"
   ]
  },
  {
   "cell_type": "code",
   "execution_count": 1,
   "metadata": {
    "collapsed": true,
    "deletable": true,
    "editable": true
   },
   "outputs": [],
   "source": [
    "import sys\n",
    "sys.path.append('../')  # uncomment to add the path to the onlineSG folder \n",
    "# You have to change the path if you move this file.\n",
    "# Alternatevely add the onlineSG folder to your PYTHONPATH\n",
    "# e.g. On Linux add this line on .bashrc:\n",
    "# export PYTHONPATH=\"<absolute-path-to-onlineSG>:PYTHONPATH\"\n",
    "# then you can use onlineSG library from everywhere"
   ]
  },
  {
   "cell_type": "code",
   "execution_count": 26,
   "metadata": {
    "collapsed": false,
    "deletable": true,
    "editable": true
   },
   "outputs": [],
   "source": [
    "import source.game as game\n",
    "import source.player as player\n",
    "import source.environment as environment\n",
    "import source.errors as errors\n",
    "import source.parsers as parsers\n",
    "import source.players.attackers as attackers\n",
    "import source.players.base_defenders as base_defenders\n",
    "import source.players.defenders as defenders\n",
    "import source.runner as runner\n",
    "import source.players.detection as detection \n",
    "import source.util as util\n",
    "\n",
    "from source.util import *\n",
    "import numpy as np\n",
    "import pandas as pd\n",
    "from importlib import *\n",
    "import time"
   ]
  },
  {
   "cell_type": "code",
   "execution_count": 37,
   "metadata": {
    "collapsed": false,
    "deletable": true,
    "editable": true
   },
   "outputs": [
    {
     "data": {
      "text/plain": [
       "<module 'source.util' from '/home/lorenzo/Scrivania/Polimi/Thesis/code/onlineSG/source/util.py'>"
      ]
     },
     "execution_count": 37,
     "metadata": {},
     "output_type": "execute_result"
    }
   ],
   "source": [
    "# if you change something in the files, don't forget to reload\n",
    "reload(player)\n",
    "reload(base_defenders)\n",
    "reload(attackers)\n",
    "reload(defenders)\n",
    "reload(errors)\n",
    "reload(runner)\n",
    "reload(parsers)\n",
    "reload(game)\n",
    "#reload(environment)\n",
    "reload(detection)\n",
    "reload(util)"
   ]
  },
  {
   "cell_type": "code",
   "execution_count": 7,
   "metadata": {
    "collapsed": false
   },
   "outputs": [],
   "source": [
    "targets_dict = {i:[] for i in range(2,13)}\n",
    "T = 15 #np.random.randint(2,10)\n",
    "time_horizon =1000\n",
    "while sum([len(targets_dict[x]) for x in range(2,13)]) < 9:\n",
    "    targets = [round(x,3) for x in util.gen_norm_targets(T)]\n",
    "    values = tuple((v, v) for v in targets)\n",
    "    g = game.Game(values, time_horizon)\n",
    "    g.attackers = [1]\n",
    "    g.defenders = [0]\n",
    "    s = util.support(g)\n",
    "    if len(targets_dict[len(s)])==0:\n",
    "        targets_dict[len(s)].append(s)"
   ]
  },
  {
   "cell_type": "code",
   "execution_count": 8,
   "metadata": {
    "collapsed": false
   },
   "outputs": [
    {
     "data": {
      "text/plain": [
       "{2: [[0.922, 0.793]],\n",
       " 3: [[0.61, 0.944, 0.997]],\n",
       " 4: [[0.81, 0.618, 0.949, 0.834]],\n",
       " 5: [[0.891, 0.692, 0.781, 0.939, 0.617]],\n",
       " 6: [[0.914, 0.957, 0.724, 0.814, 0.781, 0.857]],\n",
       " 7: [[0.875, 0.769, 0.916, 0.734, 0.796, 0.93, 0.918]],\n",
       " 8: [[0.758, 0.919, 0.967, 0.871, 0.759, 0.929, 0.751, 0.757]],\n",
       " 9: [[0.857, 0.958, 0.881, 0.811, 0.745, 0.808, 0.894, 0.781, 0.772]],\n",
       " 10: [[0.818, 0.786, 0.932, 0.825, 0.987, 0.97, 0.93, 0.88, 0.82, 0.807]],\n",
       " 11: [],\n",
       " 12: []}"
      ]
     },
     "execution_count": 8,
     "metadata": {},
     "output_type": "execute_result"
    }
   ],
   "source": [
    "targets_dict"
   ]
  },
  {
   "cell_type": "code",
   "execution_count": 9,
   "metadata": {
    "collapsed": false
   },
   "outputs": [],
   "source": [
    "T = 2\n",
    "P = 1\n",
    "targets = translate(targets_dict[T][0])\n",
    "distributions = []\n",
    "for i in range(P):\n",
    "    distributions.append(tuple(gen_distr(T)))\n",
    "values = tuple((v, v) for v in targets)\n",
    "g = game.Game(values, time_horizon)\n",
    "#print(T, targets)\n",
    "profiles = [attackers.StackelbergAttacker(g, 1),\n",
    "            attackers.UnknownStochasticAttacker(g, 1)]\n",
    "for d in distributions[1:]:\n",
    "    #print(d)\n",
    "    profiles.append(attackers.StochasticAttacker(g, 1, 1, *d))\n",
    "agent = detection.HOLMES(g, 0, 1, 1)\n",
    "attacker = attackers.StochasticAttacker(g, 1, 1, *distributions[0])\n",
    "g.set_players([agent], [attacker], profiles)"
   ]
  },
  {
   "cell_type": "code",
   "execution_count": 11,
   "metadata": {
    "collapsed": true
   },
   "outputs": [],
   "source": [
    "from copy import deepcopy"
   ]
  },
  {
   "cell_type": "code",
   "execution_count": 12,
   "metadata": {
    "collapsed": false,
    "deletable": true,
    "editable": true
   },
   "outputs": [],
   "source": [
    "e = runner.Experiment(deepcopy(g), 454641)"
   ]
  },
  {
   "cell_type": "code",
   "execution_count": 18,
   "metadata": {
    "collapsed": false
   },
   "outputs": [
    {
     "data": {
      "text/plain": [
       "454641"
      ]
     },
     "execution_count": 18,
     "metadata": {},
     "output_type": "execute_result"
    }
   ],
   "source": [
    "e.seed"
   ]
  },
  {
   "cell_type": "code",
   "execution_count": 27,
   "metadata": {
    "collapsed": false
   },
   "outputs": [
    {
     "data": {
      "text/plain": [
       "<Game values:((0.09200000000000008, 0.09200000000000008), (0.07200000000000006, 0.07200000000000006)) players{0: <HOLMES id:0 resources:1>, 1: <StochasticAttacker id:1 resources:1>} time_horizon:1000>"
      ]
     },
     "execution_count": 27,
     "metadata": {},
     "output_type": "execute_result"
    }
   ],
   "source": [
    "e.game"
   ]
  },
  {
   "cell_type": "code",
   "execution_count": 13,
   "metadata": {
    "collapsed": false,
    "deletable": true,
    "editable": true
   },
   "outputs": [
    {
     "name": "stdout",
     "output_type": "stream",
     "text": [
      "0.07503485679626465\n",
      "□\t \t\n",
      "0.864\t0.735\t\n",
      "△\t \t\n",
      "{<UnknownStochasticAttacker id:1 resources:1>: 1.0, <StackelbergAttacker id:1 resources:1>: 0.0}\n",
      "{0: (0.5413377110694184, 0.4586622889305816), 1: [0.90856520774493654, 0.091434792255063443]}\n"
     ]
    }
   ],
   "source": [
    "start_time = time.time()\n",
    "e.run_interaction()\n",
    "print(time.time() - start_time)\n",
    "print(game_str(e.game, lenght=7))\n",
    "print(e.agent.belief)\n",
    "print(e.game.strategy_history[-1])\n"
   ]
  },
  {
   "cell_type": "code",
   "execution_count": 52,
   "metadata": {
    "collapsed": false
   },
   "outputs": [
    {
     "data": {
      "text/plain": [
       "[0.2811565304087737, 0.7188434695912264]"
      ]
     },
     "execution_count": 52,
     "metadata": {},
     "output_type": "execute_result"
    }
   ],
   "source": [
    "list(e.agent.arms.items())[0][1].mock_sto.last_strategy"
   ]
  },
  {
   "cell_type": "code",
   "execution_count": 50,
   "metadata": {
    "collapsed": true
   },
   "outputs": [],
   "source": [
    "e.run()"
   ]
  },
  {
   "cell_type": "code",
   "execution_count": null,
   "metadata": {
    "collapsed": true
   },
   "outputs": [],
   "source": [
    "e."
   ]
  },
  {
   "cell_type": "code",
   "execution_count": 88,
   "metadata": {
    "collapsed": true
   },
   "outputs": [
    {
     "name": "stdout",
     "output_type": "stream",
     "text": [
      " state  b: [1.0, 0.0] r: 0 p: 1\n",
      " branches:\n",
      "\n",
      " (0, 1)\n",
      "\t exp_regret  -0.005333333333333339\n",
      "\t branches:\n",
      "\n",
      "\t (1, 0)\n",
      "\t\t state  b: [1.0, 0.0] r: -0.09200000000000008 p: 0.3333333333333333\n",
      "\t (1, 1)\n",
      "\t\t state  b: [1.0, 0.0] r: 0.0 p: 0.6666666666666666\n",
      " (0.5709756097560976, 0.42902439024390243)\n",
      "\t exp_regret  0.004563577235772363\n",
      "\t branches:\n",
      "\n",
      "\t (0, 1)\n",
      "\t\t state  b: [1.0, 0.0] r: -0.07200000000000006 p: 0.38065040650406506\n",
      "\t (1, 0)\n",
      "\t\t state  b: [1.0, 0.0] r: -0.09200000000000008 p: 0.1430081300813008\n",
      "\t (0, 0)\n",
      "\t\t state  b: [1.0, 0.0] r: 0.0 p: 0.19032520325203253\n",
      "\t (1, 1)\n",
      "\t\t state  b: [1.0, 0.0] r: 0.0 p: 0.2860162601626016\n",
      " (0.5509756097560976, 0.44902439024390245)\n",
      "\t exp_regret  0.004216910569105696\n",
      "\t branches:\n",
      "\n",
      "\t (0, 1)\n",
      "\t\t state  b: [1.0, 0.0] r: -0.07200000000000006 p: 0.3673170731707317\n",
      "\t (1, 0)\n",
      "\t\t state  b: [1.0, 0.0] r: -0.09200000000000008 p: 0.14967479674796746\n",
      "\t (0, 0)\n",
      "\t\t state  b: [1.0, 0.0] r: 0.0 p: 0.18365853658536585\n",
      "\t (1, 1)\n",
      "\t\t state  b: [1.0, 0.0] r: 0.0 p: 0.29934959349593493\n"
     ]
    }
   ],
   "source": [
    "e.agent.tree.print_tree(end=1)"
   ]
  },
  {
   "cell_type": "code",
   "execution_count": 33,
   "metadata": {
    "collapsed": false
   },
   "outputs": [
    {
     "data": {
      "text/plain": [
       "[{0: [0], 1: [1]},\n",
       " {0: [1], 1: [0]},\n",
       " {0: [0], 1: [1]},\n",
       " {0: [1], 1: [1]},\n",
       " {0: [1], 1: [0]},\n",
       " {0: [0], 1: [1]},\n",
       " {0: [1], 1: [0]},\n",
       " {0: [0], 1: [1]},\n",
       " {0: [1], 1: [0]},\n",
       " {0: [1], 1: [1]}]"
      ]
     },
     "execution_count": 33,
     "metadata": {},
     "output_type": "execute_result"
    }
   ],
   "source": [
    "e.game.history"
   ]
  },
  {
   "cell_type": "code",
   "execution_count": 39,
   "metadata": {
    "collapsed": false
   },
   "outputs": [
    {
     "data": {
      "text/plain": [
       "[0.4166666666666667, 0.5833333333333334]"
      ]
     },
     "execution_count": 39,
     "metadata": {},
     "output_type": "execute_result"
    }
   ],
   "source": [
    "self = e.game.players[1]\n",
    "targets = list(range(len(self.game.values)))\n",
    "weights = {t: 1 for t in targets}\n",
    "for h in self.game.history:\n",
    "    weights[h[self.id][0]] += 1\n",
    "norm = sum([weights[t] for t in targets])\n",
    "[weights[t] / norm for t in targets]"
   ]
  },
  {
   "cell_type": "code",
   "execution_count": 35,
   "metadata": {
    "collapsed": false
   },
   "outputs": [
    {
     "data": {
      "text/plain": [
       "[0.28062068656839628, 0.71937931343160377]"
      ]
     },
     "execution_count": 35,
     "metadata": {},
     "output_type": "execute_result"
    }
   ],
   "source": [
    "e.game.players[1].get_best_responder().compute_strategy()"
   ]
  },
  {
   "cell_type": "code",
   "execution_count": 31,
   "metadata": {
    "collapsed": false
   },
   "outputs": [
    {
     "data": {
      "text/plain": [
       "{<FixedActionDefender id:0 resources:1>: -0.4975833333333334,\n",
       " <FixedActionDefender id:0 resources:1>: -0.385}"
      ]
     },
     "execution_count": 31,
     "metadata": {},
     "output_type": "execute_result"
    }
   ],
   "source": [
    "list(e.agent.arms.items())[0][1].avg_rewards"
   ]
  },
  {
   "cell_type": "code",
   "execution_count": 89,
   "metadata": {
    "collapsed": false
   },
   "outputs": [
    {
     "data": {
      "text/plain": [
       "[0.36, 0.64]"
      ]
     },
     "execution_count": 89,
     "metadata": {},
     "output_type": "execute_result"
    }
   ],
   "source": [
    "e.agent.profiles[1].last_strategy"
   ]
  },
  {
   "cell_type": "code",
   "execution_count": 67,
   "metadata": {
    "collapsed": false
   },
   "outputs": [
    {
     "data": {
      "text/plain": [
       "[<StackelbergAttacker id:1 resources:1>,\n",
       " <UnknownStochasticAttacker id:1 resources:1>]"
      ]
     },
     "execution_count": 67,
     "metadata": {},
     "output_type": "execute_result"
    }
   ],
   "source": [
    "e.game.profiles"
   ]
  },
  {
   "cell_type": "code",
   "execution_count": 41,
   "metadata": {
    "collapsed": true
   },
   "outputs": [],
   "source": [
    "print('ciao')"
   ]
  }
 ],
 "metadata": {
  "kernelspec": {
   "display_name": "Python 3",
   "language": "python",
   "name": "python3"
  },
  "language_info": {
   "codemirror_mode": {
    "name": "ipython",
    "version": 3
   },
   "file_extension": ".py",
   "mimetype": "text/x-python",
   "name": "python",
   "nbconvert_exporter": "python",
   "pygments_lexer": "ipython3",
   "version": "3.5.2"
  }
 },
 "nbformat": 4,
 "nbformat_minor": 0
}
