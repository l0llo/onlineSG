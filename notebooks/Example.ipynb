{
 "cells": [
  {
   "cell_type": "code",
   "execution_count": 1,
   "metadata": {
    "collapsed": true
   },
   "outputs": [],
   "source": [
    "import sys\n",
    "# sys.path.append('../')  # uncomment to add the path to the onlineSG folder \n",
    "# You have to change the path if you move this file.\n",
    "# Alternatevely add the onlineSG folder to your PYTHONPATH\n",
    "# e.g. On Linux add this line on .bashrc:\n",
    "# export PYTHONPATH=\"<absolute-path-to-onlineSG>:PYTHONPATH\"\n",
    "# then you can use onlineSG library from everywhere"
   ]
  },
  {
   "cell_type": "code",
   "execution_count": 2,
   "metadata": {
    "collapsed": false
   },
   "outputs": [],
   "source": [
    "import source.game as game\n",
    "import source.player as player\n",
    "import source.environment as environment\n",
    "import source.runner as runner\n",
    "import source.errors as errors\n",
    "import numpy as np\n",
    "import pandas as pd\n",
    "from importlib import *"
   ]
  },
  {
   "cell_type": "markdown",
   "metadata": {},
   "source": [
    "initialize a Game"
   ]
  },
  {
   "cell_type": "code",
   "execution_count": 92,
   "metadata": {
    "collapsed": true
   },
   "outputs": [],
   "source": [
    "values = ((1, 1), (2, 2), (3, 3))\n",
    "time_horizon = 10\n",
    "g = game.Game(values, time_horizon)\n",
    "agent = player.Defender(g, 0, 1)\n",
    "attacker = player.StackelbergAttacker(g, 1, 1)\n",
    "g.set_players([agent], [attacker])"
   ]
  },
  {
   "cell_type": "markdown",
   "metadata": {},
   "source": [
    "and create an *Experiment*"
   ]
  },
  {
   "cell_type": "code",
   "execution_count": 81,
   "metadata": {
    "collapsed": false
   },
   "outputs": [],
   "source": [
    "exp = runner.Experiment(g)"
   ]
  },
  {
   "cell_type": "code",
   "execution_count": 9,
   "metadata": {
    "collapsed": true
   },
   "outputs": [],
   "source": [
    "exp.run()"
   ]
  },
  {
   "cell_type": "code",
   "execution_count": 10,
   "metadata": {
    "collapsed": false
   },
   "outputs": [
    {
     "data": {
      "text/plain": [
       "0.8214966000090281"
      ]
     },
     "execution_count": 10,
     "metadata": {},
     "output_type": "execute_result"
    }
   ],
   "source": [
    "exp.seed"
   ]
  },
  {
   "cell_type": "code",
   "execution_count": 96,
   "metadata": {
    "collapsed": false
   },
   "outputs": [
    {
     "data": {
      "text/plain": [
       "<Game values:((1, 1), (2, 2), (3, 3)) players{0: <Defender id:0 resources:1>, 1: <StackelbergAttacker id:1 resources:1>} time_horizon:10>"
      ]
     },
     "execution_count": 96,
     "metadata": {},
     "output_type": "execute_result"
    }
   ],
   "source": [
    "exp.game"
   ]
  },
  {
   "cell_type": "markdown",
   "metadata": {},
   "source": [
    "## Serialization"
   ]
  },
  {
   "cell_type": "markdown",
   "metadata": {},
   "source": [
    "We can serialize a game in 2 different ways:\n",
    "- with a Python pickle\n",
    "- with json"
   ]
  },
  {
   "cell_type": "markdown",
   "metadata": {},
   "source": [
    "### Pickle\n",
    "the standard Python serialiazion method"
   ]
  },
  {
   "cell_type": "code",
   "execution_count": 103,
   "metadata": {
    "collapsed": false
   },
   "outputs": [
    {
     "data": {
      "text/plain": [
       "139787236751792"
      ]
     },
     "execution_count": 103,
     "metadata": {},
     "output_type": "execute_result"
    }
   ],
   "source": [
    "id(g)"
   ]
  },
  {
   "cell_type": "code",
   "execution_count": 104,
   "metadata": {
    "collapsed": false
   },
   "outputs": [
    {
     "data": {
      "text/plain": [
       "<Game values:((1, 1), (2, 2), (3, 3)) players{0: <Defender id:0 resources:1>, 1: <StackelbergAttacker id:1 resources:1>} time_horizon:10>"
      ]
     },
     "execution_count": 104,
     "metadata": {},
     "output_type": "execute_result"
    }
   ],
   "source": [
    "g"
   ]
  },
  {
   "cell_type": "code",
   "execution_count": 101,
   "metadata": {
    "collapsed": false
   },
   "outputs": [],
   "source": [
    "g.dump(\"prova_pickle\") # serialize in a file"
   ]
  },
  {
   "cell_type": "code",
   "execution_count": 105,
   "metadata": {
    "collapsed": true
   },
   "outputs": [],
   "source": [
    "g2 = game.load(\"prova_pickle\")"
   ]
  },
  {
   "cell_type": "code",
   "execution_count": 108,
   "metadata": {
    "collapsed": false
   },
   "outputs": [
    {
     "data": {
      "text/plain": [
       "139787237361536"
      ]
     },
     "execution_count": 108,
     "metadata": {},
     "output_type": "execute_result"
    }
   ],
   "source": [
    "id(g2) # different object"
   ]
  },
  {
   "cell_type": "code",
   "execution_count": 109,
   "metadata": {
    "collapsed": false
   },
   "outputs": [
    {
     "data": {
      "text/plain": [
       "<Game values:((1, 1), (2, 2), (3, 3)) players{0: <Defender id:0 resources:1>, 1: <StackelbergAttacker id:1 resources:1>} time_horizon:10>"
      ]
     },
     "execution_count": 109,
     "metadata": {},
     "output_type": "execute_result"
    }
   ],
   "source": [
    "g2 # same content"
   ]
  },
  {
   "cell_type": "markdown",
   "metadata": {},
   "source": [
    "### JSON"
   ]
  },
  {
   "cell_type": "code",
   "execution_count": 110,
   "metadata": {
    "collapsed": true
   },
   "outputs": [],
   "source": [
    "g.dumpjson(\"prova_json\") # only the encoding has been provided"
   ]
  },
  {
   "cell_type": "code",
   "execution_count": 112,
   "metadata": {
    "collapsed": false
   },
   "outputs": [
    {
     "name": "stdout",
     "output_type": "stream",
     "text": [
      "{\n",
      "    \"attackers\": [\n",
      "        1\n",
      "    ],\n",
      "    \"defenders\": [\n",
      "        0\n",
      "    ],\n",
      "    \"history\": [],\n",
      "    \"players\": {\n",
      "        \"0\": {\n",
      "            \"class_name\": \"Defender\",\n",
      "            \"feedbacks\": [],\n",
      "            \"id\": 0,\n",
      "            \"resources\": 1\n",
      "        },\n",
      "        \"1\": {\n",
      "            \"class_name\": \"StackelbergAttacker\",\n",
      "            \"id\": 1,\n",
      "            \"resources\": 1\n",
      "        }\n",
      "    },\n",
      "    \"strategy_history\": [],\n",
      "    \"time_horizon\": 10,\n",
      "    \"values\": [\n",
      "        [\n",
      "            1,\n",
      "            1\n",
      "        ],\n",
      "        [\n",
      "            2,\n",
      "            2\n",
      "        ],\n",
      "        [\n",
      "            3,\n",
      "            3\n",
      "        ]\n",
      "    ]\n",
      "}\n"
     ]
    }
   ],
   "source": [
    "with open(\"prova_json\", mode=\"r\") as f:\n",
    "    print(f.read())"
   ]
  },
  {
   "cell_type": "markdown",
   "metadata": {},
   "source": [
    "## Configuration Files\n",
    "\n",
    "we can also use configuration files"
   ]
  },
  {
   "cell_type": "code",
   "execution_count": 12,
   "metadata": {
    "collapsed": true
   },
   "outputs": [],
   "source": [
    "mypath = \"/home/lorenzo/Scrivania/Polimi/Thesis/code/onlineSG/games\""
   ]
  },
  {
   "cell_type": "code",
   "execution_count": 13,
   "metadata": {
    "collapsed": true
   },
   "outputs": [],
   "source": [
    "resultspath = \"/home/lorenzo/Scrivania/Polimi/Thesis/code/onlineSG/results2\""
   ]
  },
  {
   "cell_type": "markdown",
   "metadata": {},
   "source": [
    "and use the *Runner* class to run all the configuration files in a folder"
   ]
  },
  {
   "cell_type": "code",
   "execution_count": 15,
   "metadata": {
    "collapsed": false
   },
   "outputs": [],
   "source": [
    "r = runner.Runner(mypath, resultspath)"
   ]
  },
  {
   "cell_type": "code",
   "execution_count": 16,
   "metadata": {
    "collapsed": false
   },
   "outputs": [],
   "source": [
    "r.run()"
   ]
  },
  {
   "cell_type": "markdown",
   "metadata": {},
   "source": [
    "Or run a single *Batch*"
   ]
  },
  {
   "cell_type": "code",
   "execution_count": 20,
   "metadata": {
    "collapsed": false
   },
   "outputs": [],
   "source": [
    "results = \"/home/lorenzo/Scrivania/Polimi/Thesis/code/onlineSG/results3\""
   ]
  },
  {
   "cell_type": "code",
   "execution_count": 21,
   "metadata": {
    "collapsed": true
   },
   "outputs": [],
   "source": [
    "conf = \"/home/lorenzo/Scrivania/Polimi/Thesis/code/onlineSG/games/conf.csv\""
   ]
  },
  {
   "cell_type": "code",
   "execution_count": 22,
   "metadata": {
    "collapsed": false
   },
   "outputs": [],
   "source": [
    "b = runner.Batch(conf, results)"
   ]
  },
  {
   "cell_type": "code",
   "execution_count": 23,
   "metadata": {
    "collapsed": true
   },
   "outputs": [],
   "source": [
    "b.parse_batch()"
   ]
  },
  {
   "cell_type": "code",
   "execution_count": 24,
   "metadata": {
    "collapsed": true
   },
   "outputs": [],
   "source": [
    "b.run()"
   ]
  },
  {
   "cell_type": "code",
   "execution_count": 91,
   "metadata": {
    "collapsed": false
   },
   "outputs": [
    {
     "data": {
      "text/plain": [
       "<module 'source.environment' from '/home/lorenzo/Scrivania/Polimi/Thesis/code/onlineSG/source/environment.py'>"
      ]
     },
     "execution_count": 91,
     "metadata": {},
     "output_type": "execute_result"
    }
   ],
   "source": [
    "# if you change something in the files, don't forget to reload\n",
    "\n",
    "reload(errors)\n",
    "reload(runner)\n",
    "reload(player)\n",
    "reload(parsers)\n",
    "reload(game)\n",
    "reload(environment)"
   ]
  }
 ],
 "metadata": {
  "kernelspec": {
   "display_name": "Python 3",
   "language": "python",
   "name": "python3"
  },
  "language_info": {
   "codemirror_mode": {
    "name": "ipython",
    "version": 3
   },
   "file_extension": ".py",
   "mimetype": "text/x-python",
   "name": "python",
   "nbconvert_exporter": "python",
   "pygments_lexer": "ipython3",
   "version": "3.5.2"
  }
 },
 "nbformat": 4,
 "nbformat_minor": 0
}
