{
 "cells": [
  {
   "cell_type": "markdown",
   "metadata": {
    "collapsed": true,
    "deletable": true,
    "editable": true,
    "slideshow": {
     "slide_type": "-"
    }
   },
   "source": [
    "# Example\n",
    "of the last added functionalities in onlineSG"
   ]
  },
  {
   "cell_type": "code",
   "execution_count": 38,
   "metadata": {
    "collapsed": false
   },
   "outputs": [],
   "source": [
    "g = game.example_game2()"
   ]
  },
  {
   "cell_type": "code",
   "execution_count": 40,
   "metadata": {
    "collapsed": false
   },
   "outputs": [
    {
     "data": {
      "text/plain": [
       "'10,1,2,player1,player1,player1'"
      ]
     },
     "execution_count": 40,
     "metadata": {},
     "output_type": "execute_result"
    }
   ],
   "source": [
    "'gioco' + ',' + str(g)"
   ]
  },
  {
   "cell_type": "code",
   "execution_count": 32,
   "metadata": {
    "collapsed": false
   },
   "outputs": [
    {
     "data": {
      "text/plain": [
       "'b2bw2w1'"
      ]
     },
     "execution_count": 32,
     "metadata": {},
     "output_type": "execute_result"
    }
   ],
   "source": []
  },
  {
   "cell_type": "code",
   "execution_count": 34,
   "metadata": {
    "collapsed": false
   },
   "outputs": [
    {
     "data": {
      "text/plain": [
       "<B2BW2W id:0 resources:1>"
      ]
     },
     "execution_count": 34,
     "metadata": {},
     "output_type": "execute_result"
    }
   ],
   "source": []
  },
  {
   "cell_type": "code",
   "execution_count": null,
   "metadata": {
    "collapsed": true
   },
   "outputs": [],
   "source": []
  },
  {
   "cell_type": "code",
   "execution_count": 11,
   "metadata": {
    "collapsed": false
   },
   "outputs": [
    {
     "name": "stdout",
     "output_type": "stream",
     "text": [
      "<Game values:((1, 1), (2, 2)) players{} time_horizon:10>\n"
     ]
    }
   ],
   "source": [
    "print(g)"
   ]
  },
  {
   "cell_type": "code",
   "execution_count": 1,
   "metadata": {
    "collapsed": false,
    "deletable": true,
    "editable": true
   },
   "outputs": [
    {
     "data": {
      "text/html": [
       "<style>.container { width:100% !important; }</style>"
      ],
      "text/plain": [
       "<IPython.core.display.HTML object>"
      ]
     },
     "metadata": {},
     "output_type": "display_data"
    }
   ],
   "source": [
    "from IPython.core.display import display, HTML\n",
    "display(HTML(\"<style>.container { width:100% !important; }</style>\"))"
   ]
  },
  {
   "cell_type": "code",
   "execution_count": 1,
   "metadata": {
    "collapsed": true,
    "deletable": true,
    "editable": true
   },
   "outputs": [],
   "source": [
    "import sys\n",
    "sys.path.append('../')  # uncomment to add the path to the onlineSG folder \n",
    "# You have to change the path if you move this file.\n",
    "# Alternatevely add the onlineSG folder to your PYTHONPATH\n",
    "# e.g. On Linux add this line on .bashrc:\n",
    "# export PYTHONPATH=\"<absolute-path-to-onlineSG>:PYTHONPATH\"\n",
    "# then you can use onlineSG library from everywhere"
   ]
  },
  {
   "cell_type": "code",
   "execution_count": 1,
   "metadata": {
    "collapsed": false,
    "deletable": true,
    "editable": true
   },
   "outputs": [],
   "source": [
    "import source.game as game\n",
    "import source.player as player\n",
    "import source.environment as environment\n",
    "import source.errors as errors\n",
    "import source.parsers as parsers\n",
    "import source.players.attackers as attackers\n",
    "import source.players.base_defenders as base_defenders\n",
    "import source.players.defenders as defenders\n",
    "import source.runner as runner\n",
    "import source.players.detection as detection \n",
    "import source.util as util\n",
    "\n",
    "from source.util import *\n",
    "import numpy as np\n",
    "import pandas as pd\n",
    "from importlib import *\n",
    "import time"
   ]
  },
  {
   "cell_type": "code",
   "execution_count": 25,
   "metadata": {
    "collapsed": false,
    "deletable": true,
    "editable": true
   },
   "outputs": [
    {
     "data": {
      "text/plain": [
       "<module 'source.util' from '/home/lorenzo/Scrivania/Polimi/Thesis/code/onlineSG/source/util.py'>"
      ]
     },
     "execution_count": 25,
     "metadata": {},
     "output_type": "execute_result"
    }
   ],
   "source": [
    "# if you change something in the files, don't forget to reload\n",
    "reload(player)\n",
    "reload(base_defenders)\n",
    "reload(attackers)\n",
    "reload(defenders)\n",
    "reload(errors)\n",
    "reload(runner)\n",
    "reload(parsers)\n",
    "reload(game)\n",
    "#reload(environment)\n",
    "reload(detection)\n",
    "reload(util)"
   ]
  },
  {
   "cell_type": "code",
   "execution_count": 2,
   "metadata": {
    "collapsed": false
   },
   "outputs": [],
   "source": [
    "targets_dict = {i:[] for i in range(2,13)}\n",
    "T = 15 #np.random.randint(2,10)\n",
    "time_horizon =1000\n",
    "while sum([len(targets_dict[x]) for x in range(2,13)]) < 9:\n",
    "    targets = [round(x,3) for x in util.gen_norm_targets(T)]\n",
    "    values = tuple((v, v) for v in targets)\n",
    "    g = game.Game(values, time_horizon)\n",
    "    g.attackers = [1]\n",
    "    g.defenders = [0]\n",
    "    s = util.support(g)\n",
    "    if len(targets_dict[len(s)])==0:\n",
    "        targets_dict[len(s)].append(s)"
   ]
  },
  {
   "cell_type": "code",
   "execution_count": 3,
   "metadata": {
    "collapsed": false
   },
   "outputs": [
    {
     "data": {
      "text/plain": [
       "{2: [[0.839, 0.978]],\n",
       " 3: [[0.863, 0.919, 0.737]],\n",
       " 4: [[0.646, 0.885, 0.954, 0.748]],\n",
       " 5: [[0.723, 0.769, 0.66, 0.825, 0.697]],\n",
       " 6: [[0.726, 0.861, 0.814, 0.704, 0.728, 0.707]],\n",
       " 7: [[0.976, 0.913, 0.851, 0.98, 0.791, 0.828, 0.955]],\n",
       " 8: [[0.636, 0.661, 0.888, 0.69, 0.717, 0.637, 0.687, 0.897]],\n",
       " 9: [[0.819, 0.849, 0.829, 0.848, 0.912, 0.83, 0.899, 0.955, 0.81]],\n",
       " 10: [[0.846, 0.888, 0.797, 0.79, 0.759, 0.822, 0.865, 0.883, 0.999, 0.803]],\n",
       " 11: [],\n",
       " 12: []}"
      ]
     },
     "execution_count": 3,
     "metadata": {},
     "output_type": "execute_result"
    }
   ],
   "source": [
    "targets_dict"
   ]
  },
  {
   "cell_type": "code",
   "execution_count": 31,
   "metadata": {
    "collapsed": false
   },
   "outputs": [],
   "source": [
    "T = 2\n",
    "P = 1\n",
    "targets = translate(targets_dict[T][0])\n",
    "distributions = []\n",
    "for i in range(P):\n",
    "    distributions.append(tuple(gen_distr(T)))\n",
    "values = tuple((v, v) for v in targets)\n",
    "g = game.Game(values, time_horizon)\n",
    "#print(T, targets)\n",
    "profiles = [attackers.StackelbergAttacker(g, 1),\n",
    "            attackers.UnknownStochasticAttacker(g, 1)]\n",
    "for d in distributions[1:]:\n",
    "    #print(d)\n",
    "    profiles.append(attackers.StochasticAttacker(g, 1, 1, *d))\n",
    "agent = defenders.BR_MAB(g, 0, 1)\n",
    "#agent = detection.HOLMES(g, 0, 1, 1)\n",
    "attacker = attackers.StochasticAttacker(g, 1, 1, *distributions[0])\n",
    "g.set_players([agent], [attacker], profiles)"
   ]
  },
  {
   "cell_type": "code",
   "execution_count": 5,
   "metadata": {
    "collapsed": true
   },
   "outputs": [],
   "source": [
    "from copy import deepcopy"
   ]
  },
  {
   "cell_type": "code",
   "execution_count": 34,
   "metadata": {
    "collapsed": false
   },
   "outputs": [],
   "source": [
    "c = runner.Configuration(deepcopy(g), \"trial\", \"trial\", False)"
   ]
  },
  {
   "cell_type": "code",
   "execution_count": 18,
   "metadata": {
    "collapsed": true
   },
   "outputs": [],
   "source": [
    "c2 = runner.Configuration(deepcopy(g), \"trial\", \"trial2\", False)"
   ]
  },
  {
   "cell_type": "code",
   "execution_count": 33,
   "metadata": {
    "collapsed": false
   },
   "outputs": [],
   "source": [
    "rm -rf trial/trial"
   ]
  },
  {
   "cell_type": "code",
   "execution_count": 13,
   "metadata": {
    "collapsed": false,
    "deletable": true,
    "editable": true
   },
   "outputs": [
    {
     "name": "stdout",
     "output_type": "stream",
     "text": [
      "0.07503485679626465\n",
      "□\t \t\n",
      "0.864\t0.735\t\n",
      "△\t \t\n",
      "{<UnknownStochasticAttacker id:1 resources:1>: 1.0, <StackelbergAttacker id:1 resources:1>: 0.0}\n",
      "{0: (0.5413377110694184, 0.4586622889305816), 1: [0.90856520774493654, 0.091434792255063443]}\n"
     ]
    }
   ],
   "source": [
    "start_time = time.time()\n",
    "e.run_interaction()\n",
    "print(time.time() - start_time)\n",
    "print(game_str(e.game, lenght=7))\n",
    "print(e.agent.belief)\n",
    "print(e.game.strategy_history[-1])\n"
   ]
  },
  {
   "cell_type": "code",
   "execution_count": 35,
   "metadata": {
    "collapsed": true
   },
   "outputs": [],
   "source": [
    "c.run(1)"
   ]
  },
  {
   "cell_type": "code",
   "execution_count": 12,
   "metadata": {
    "collapsed": true
   },
   "outputs": [],
   "source": [
    "rm -rf trials"
   ]
  },
  {
   "cell_type": "code",
   "execution_count": 11,
   "metadata": {
    "collapsed": true
   },
   "outputs": [],
   "source": [
    "import pickle"
   ]
  },
  {
   "cell_type": "code",
   "execution_count": 41,
   "metadata": {
    "collapsed": false
   },
   "outputs": [],
   "source": [
    "comp = [c, c2]\n",
    "name = None\n",
    "fun_str = \"exp_regret\"\n",
    "path = \"trial\"\n",
    "fig = plt.figure()\n",
    "ax = fig.add_axes([0.1, 0.1, 0.6, 0.75])\n",
    "cmap = plt.get_cmap('gnuplot')\n",
    "colors = [cmap(i) for i in np.linspace(0, 1, len(comp))]\n",
    "z = 1.96\n",
    "if name is None:\n",
    "    name = fun_str\n",
    "for i, c in enumerate(comp):\n",
    "    f = [e.__dict__[fun_str] for e in c.experiments]\n",
    "    avg_f = (sum(f, np.zeros(len(f[0]))) / len(f))\n",
    "    variances = (sum([[(p - avg_f[j]) * (p - avg_f[j])\n",
    "                       for j, p in enumerate(f[i])]\n",
    "                      for i, e in enumerate(c.experiments)],\n",
    "                     np.zeros(len(f[0]))) / (len(f) - 1))\n",
    "    upper_bound = [a + z * sqrt(variances[i] / len(f))\n",
    "                   for i, a in enumerate(avg_f)]\n",
    "    lower_bound = [a - z * sqrt(variances[i] / len(f))\n",
    "                   for i, a in enumerate(avg_f)]\n",
    "    ax.plot(avg_f, label=c.name,\n",
    "             color=colors[i])\n",
    "    ax.fill_between(list(range(len(lower_bound))), upper_bound,\n",
    "                     lower_bound, color=colors[i], alpha=0.3, label=c.name)\n"
   ]
  },
  {
   "cell_type": "code",
   "execution_count": 51,
   "metadata": {
    "collapsed": true
   },
   "outputs": [],
   "source": [
    "handles, labels = ax.get_legend_handles_labels()\n",
    "handles = [h for h in handles if isinstance(h,matplotlib.lines.Line2D )]\n",
    "labels = [h._label for h in handles]"
   ]
  },
  {
   "cell_type": "code",
   "execution_count": 52,
   "metadata": {
    "collapsed": false
   },
   "outputs": [
    {
     "data": {
      "text/plain": [
       "([<matplotlib.lines.Line2D at 0x7fc9fd766d30>,\n",
       "  <matplotlib.lines.Line2D at 0x7fc9fd2da780>],\n",
       " ['trial2', 'trial2'])"
      ]
     },
     "execution_count": 52,
     "metadata": {},
     "output_type": "execute_result"
    }
   ],
   "source": [
    "handles, labels"
   ]
  },
  {
   "cell_type": "code",
   "execution_count": 54,
   "metadata": {
    "collapsed": false
   },
   "outputs": [
    {
     "data": {
      "text/plain": [
       "<matplotlib.legend.Legend at 0x7fc9fd1fe630>"
      ]
     },
     "execution_count": 54,
     "metadata": {},
     "output_type": "execute_result"
    }
   ],
   "source": [
    "ax.legend(handles=handles, labels=labels, bbox_to_anchor=(1.05, 1), loc=2, borderaxespad=0.)\n"
   ]
  },
  {
   "cell_type": "code",
   "execution_count": 47,
   "metadata": {
    "collapsed": false
   },
   "outputs": [],
   "source": []
  },
  {
   "cell_type": "code",
   "execution_count": 50,
   "metadata": {
    "collapsed": false
   },
   "outputs": [],
   "source": []
  },
  {
   "cell_type": "code",
   "execution_count": 46,
   "metadata": {
    "collapsed": true
   },
   "outputs": [],
   "source": [
    "import matplotlib"
   ]
  },
  {
   "cell_type": "code",
   "execution_count": 55,
   "metadata": {
    "collapsed": true
   },
   "outputs": [],
   "source": [
    "ax.set_ylabel(fun_str)\n",
    "ax.set_title(path + \"/\" + name + \".png\" + \"\\n\")  # +\n",
    "          #str([v[0] for v in comp[0].game.values]))\n",
    "fig.savefig(path + \"/\" + name + \".png\",\n",
    "            bbox_inches='tight')\n",
    "with open(\"plot\", mode='w+b') as file:\n",
    "    pickle.dump(fig, file)"
   ]
  },
  {
   "cell_type": "code",
   "execution_count": 56,
   "metadata": {
    "collapsed": false
   },
   "outputs": [
    {
     "data": {
      "image/png": "[encoded data removed]",
      "text/plain": [
       "<matplotlib.figure.Figure at 0x7fc9fd2b2240>"
      ]
     },
     "metadata": {},
     "output_type": "display_data"
    }
   ],
   "source": [
    "plt.show()"
   ]
  }
 ],
 "metadata": {
  "kernelspec": {
   "display_name": "Python 3",
   "language": "python",
   "name": "python3"
  },
  "language_info": {
   "codemirror_mode": {
    "name": "ipython",
    "version": 3
   },
   "file_extension": ".py",
   "mimetype": "text/x-python",
   "name": "python",
   "nbconvert_exporter": "python",
   "pygments_lexer": "ipython3",
   "version": "3.5.2"
  }
 },
 "nbformat": 4,
 "nbformat_minor": 0
}
