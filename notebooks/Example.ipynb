{
 "cells": [
  {
   "cell_type": "markdown",
   "metadata": {
    "collapsed": true,
    "slideshow": {
     "slide_type": "-"
    }
   },
   "source": [
    "# Example\n",
    "of the last added functionalities in onlineSG"
   ]
  },
  {
   "cell_type": "code",
   "execution_count": 2,
   "metadata": {},
   "outputs": [
    {
     "data": {
      "text/html": [
       "<style>.container { width:100% !important; }</style>"
      ],
      "text/plain": [
       "<IPython.core.display.HTML object>"
      ]
     },
     "metadata": {},
     "output_type": "display_data"
    }
   ],
   "source": [
    "from IPython.core.display import display, HTML\n",
    "display(HTML(\"<style>.container { width:100% !important; }</style>\"))"
   ]
  },
  {
   "cell_type": "code",
   "execution_count": 1,
   "metadata": {
    "collapsed": true
   },
   "outputs": [],
   "source": [
    "import source.players as pl"
   ]
  },
  {
   "cell_type": "code",
   "execution_count": 3,
   "metadata": {
    "collapsed": true
   },
   "outputs": [],
   "source": [
    "import pkgutil"
   ]
  },
  {
   "cell_type": "code",
   "execution_count": 5,
   "metadata": {
    "collapsed": true
   },
   "outputs": [],
   "source": [
    "import source.parsers as parsers"
   ]
  },
  {
   "cell_type": "code",
   "execution_count": 1,
   "metadata": {
    "collapsed": true
   },
   "outputs": [],
   "source": [
    "import sys\n",
    "sys.path.append('../')  # uncomment to add the path to the onlineSG folder \n",
    "# You have to change the path if you move this file.\n",
    "# Alternatevely add the onlineSG folder to your PYTHONPATH\n",
    "# e.g. On Linux add this line on .bashrc:\n",
    "# export PYTHONPATH=\"<absolute-path-to-onlineSG>:PYTHONPATH\"\n",
    "# then you can use onlineSG library from everywhere"
   ]
  },
  {
   "cell_type": "code",
   "execution_count": 5,
   "metadata": {},
   "outputs": [],
   "source": [
    "import source.game as game\n",
    "import source.player as player\n",
    "import source.environment as environment\n",
    "import source.errors as errors\n",
    "import source.parsers as parsers\n",
    "import source.players.attackers as attackers\n",
    "import source.players.base_defenders as base_defenders\n",
    "import source.players.defenders as defenders\n",
    "import source.runner as runner\n",
    "import source.players.holmes as holmes\n",
    "import source.players.sad as sad\n",
    "import source.players.b2bw2w as b2bw2w\n",
    "import source.util as util\n",
    "\n",
    "import logging\n",
    "import sys\n",
    "from source.util import *\n",
    "import numpy as np\n",
    "import pandas as pd\n",
    "from importlib import *\n",
    "import time\n",
    "from copy import deepcopy\n"
   ]
  },
  {
   "cell_type": "code",
   "execution_count": 2,
   "metadata": {
    "collapsed": true
   },
   "outputs": [],
   "source": [
    "lvl = logging.DEBUG\n",
    "logger = logging.getLogger(\"source\")\n",
    "logger.setLevel(lvl)\n",
    "ch = logging.StreamHandler(sys.stdout)\n",
    "ch.setLevel(lvl)\n",
    "#formatter = logging.Formatter('%(asctime)s - %(name)s - %(levelname)s - %(message)s')\n",
    "formatter = logging.Formatter('%(message)s')\n",
    "ch.setFormatter(formatter)\n",
    "logger.addHandler(ch)"
   ]
  },
  {
   "cell_type": "code",
   "execution_count": 4,
   "metadata": {
    "collapsed": true
   },
   "outputs": [],
   "source": [
    "lvl = logging.WARNING\n",
    "logger.setLevel(lvl)\n",
    "ch.setLevel(lvl)"
   ]
  },
  {
   "cell_type": "code",
   "execution_count": 17,
   "metadata": {},
   "outputs": [
    {
     "data": {
      "text/plain": [
       "<module 'source.util' from '/home/lorenzo/Scrivania/Polimi/Thesis/code/onlineSG/source/util.py'>"
      ]
     },
     "execution_count": 17,
     "metadata": {},
     "output_type": "execute_result"
    }
   ],
   "source": [
    "# if you change something in the files, don't forget to reload\n",
    "reload(player)\n",
    "reload(base_defenders)\n",
    "reload(attackers)\n",
    "reload(defenders)\n",
    "reload(errors)\n",
    "reload(environment)\n",
    "reload(runner)\n",
    "reload(parsers)\n",
    "reload(game)\n",
    "reload(holmes)\n",
    "reload(sad)\n",
    "reload(b2bw2w)\n",
    "reload(util)"
   ]
  },
  {
   "cell_type": "code",
   "execution_count": 48,
   "metadata": {},
   "outputs": [],
   "source": [
    "T, P1, P2 = 10, 5, 5\n",
    "g = game.zs_game(util.gen_tar_with_len(T), 10) #targets_dict[10][0]\n",
    "d = holmes.HOLMES(g, 0, 1, L=1, exploration=False)\n",
    "#d = b2bw2w.BeliefMaximizer(g, 0, 1)\n",
    "targets = util.gen_tar_with_len(T)\n",
    "profiles = util.gen_profiles(targets, [(attackers.UnknownStochasticAttacker, 1),\n",
    "                                       (attackers.StackelbergAttacker, 1),\n",
    "                                       (attackers.SUQR, P1),\n",
    "                                       (attackers.StochasticAttacker, P2)])\n",
    "#a = np.random.choice(profiles, 1, replace=False)[0]\n",
    "#a = attackers.StackelbergAttacker(g, 1)\n",
    "a = profiles[-1]\n",
    "a.game = g\n",
    "g.set_players([d], [a], profiles)"
   ]
  },
  {
   "cell_type": "code",
   "execution_count": 18,
   "metadata": {},
   "outputs": [],
   "source": [
    "T, P1, P2 = 3, 5, 5\n",
    "g = game.zs_game(util.gen_tar_with_len(T), 10) #targets_dict[10][0]\n",
    "d = holmes.HOLMES(g, 0, 1, L=1, exploration=False)\n",
    "#d = b2bw2w.BeliefMaximizer(g, 0, 1)\n",
    "targets = util.gen_tar_with_len(T)\n",
    "profiles = util.gen_profiles(targets, [(attackers.UnknownStochasticAttacker, 1),\n",
    "                                       (attackers.StackelbergAttacker, 1),\n",
    "                                       (attackers.SUQR, P1),\n",
    "                                       (attackers.StochasticAttacker, P2)])\n",
    "#a = np.random.choice(profiles, 1, replace=False)[0]\n",
    "#a = attackers.StackelbergAttacker(g, 1)\n",
    "a = profiles[-1]\n",
    "a.game = g\n",
    "g.set_players([d], [a], profiles)"
   ]
  },
  {
   "cell_type": "code",
   "execution_count": 19,
   "metadata": {},
   "outputs": [],
   "source": [
    "e = runner.Experiment(deepcopy(g), env = \"rt\")"
   ]
  },
  {
   "cell_type": "code",
   "execution_count": 24,
   "metadata": {},
   "outputs": [
    {
     "name": "stdout",
     "output_type": "stream",
     "text": [
      "insert a valid strategy\n",
      "4\n",
      "insert a valid strategy\n",
      "23\n",
      "insert a valid strategy\n",
      "pupu?\n",
      "insert a valid strategy\n",
      "3\n",
      "insert a valid strategy\n",
      "2\n"
     ]
    }
   ],
   "source": [
    "e.run_interaction()"
   ]
  },
  {
   "cell_type": "code",
   "execution_count": 25,
   "metadata": {},
   "outputs": [
    {
     "data": {
      "text/plain": [
       "[{0: (0.23055815818396624, 0.40286718232333191, 0.36657465949270185),\n",
       "  1: [0, 1, 0]},\n",
       " {0: (0, 1, 0), 1: [1, 0, 0]},\n",
       " {0: (0, 1, 0), 1: [0, 0, 1]}]"
      ]
     },
     "execution_count": 25,
     "metadata": {},
     "output_type": "execute_result"
    }
   ],
   "source": [
    "e.game.strategy_history"
   ]
  },
  {
   "cell_type": "code",
   "execution_count": 97,
   "metadata": {
    "collapsed": true
   },
   "outputs": [],
   "source": [
    "i = 0"
   ]
  },
  {
   "cell_type": "code",
   "execution_count": 166,
   "metadata": {
    "collapsed": true
   },
   "outputs": [],
   "source": [
    "i +=1"
   ]
  },
  {
   "cell_type": "code",
   "execution_count": 38,
   "metadata": {},
   "outputs": [],
   "source": [
    "e = runner.Experiment(deepcopy(g))"
   ]
  },
  {
   "cell_type": "code",
   "execution_count": 41,
   "metadata": {},
   "outputs": [
    {
     "name": "stdout",
     "output_type": "stream",
     "text": [
      " \t \t□\t \t \t\n",
      "0.527\t0.699\t0.698\t0.746\t0.624\t\n",
      " \t \t \t \t△\t\n",
      "----------------------------------------\n",
      " \t \t \t \t□\t\n",
      "0.527\t0.699\t0.698\t0.746\t0.624\t\n",
      " \t \t \t \t△\t\n",
      "----------------------------------------\n",
      " \t \t \t \t□\t\n",
      "0.527\t0.699\t0.698\t0.746\t0.624\t\n",
      " \t \t \t \t△\t\n",
      "usto_defV21 [0, 0, 0, 0, 1]\n"
     ]
    }
   ],
   "source": [
    "#start = time.time()\n",
    "e.run_interaction()\n",
    "print(util.game_str(e.game))\n",
    "print(e.agent.sel_arm, e.game.strategy_history[-1][0])\n",
    "#print(time.time() - start)"
   ]
  }
 ],
 "metadata": {
  "kernelspec": {
   "display_name": "Python 3",
   "language": "python",
   "name": "python3"
  },
  "language_info": {
   "codemirror_mode": {
    "name": "ipython",
    "version": 3
   },
   "file_extension": ".py",
   "mimetype": "text/x-python",
   "name": "python",
   "nbconvert_exporter": "python",
   "pygments_lexer": "ipython3",
   "version": "3.7.0"
  }
 },
 "nbformat": 4,
 "nbformat_minor": 1
}
