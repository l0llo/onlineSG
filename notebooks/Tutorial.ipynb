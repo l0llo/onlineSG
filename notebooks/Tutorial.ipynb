{
 "cells": [
  {
   "cell_type": "markdown",
   "metadata": {},
   "source": [
    "# Tutorial for onlineSG\n",
    "\n",
    "this is a Jupyter notebook, it's like a console but with cells that can be run with the play button above or with Ctrl+Enter. Run cells in a sequential way to follow the tutorial in the correct way."
   ]
  },
  {
   "cell_type": "markdown",
   "metadata": {},
   "source": [
    "## Game and Player\n",
    "\n",
    "Game and Player are the two fundamental classes of onlineSG.\n",
    "\n",
    "The Game class represent a game from Game Theory."
   ]
  },
  {
   "cell_type": "code",
   "execution_count": 2,
   "metadata": {
    "collapsed": true
   },
   "outputs": [],
   "source": [
    "import sys"
   ]
  },
  {
   "cell_type": "code",
   "execution_count": null,
   "metadata": {
    "collapsed": true
   },
   "outputs": [],
   "source": [
    "sys.path.append(\"../\")"
   ]
  },
  {
   "cell_type": "markdown",
   "metadata": {},
   "source": [
    "Game takes as arguments the *values* and the *time_horizon*. They are called values and not payoffs, because they represent the value that defenders/attackers give to a target. Payoffs are computed from the values with this convention:\n",
    "\n",
    "For attackers, for each attacked target:\n",
    "- covered target payoffs: *0* \n",
    "- uncovered target payoff: *attacker value*\n",
    "\n",
    "For defenders, for each attacked target:\n",
    "- covered target payoffs: *0* \n",
    "- uncovered target payoff: *-defender value*\n",
    "\n",
    "Let's see an example of game:"
   ]
  },
  {
   "cell_type": "code",
   "execution_count": 35,
   "metadata": {
    "collapsed": true
   },
   "outputs": [],
   "source": [
    "from source.game import Game\n",
    "from source.player import *"
   ]
  },
  {
   "cell_type": "code",
   "execution_count": 42,
   "metadata": {},
   "outputs": [],
   "source": [
    "values = ((1,1),(2,2),(3,3))\n",
    "time_horizon = 5\n",
    "g = Game(values, time_horizon)\n",
    "defender = Defender(g, 0, 1)\n",
    "attacker = StackelbergAttacker(g, 1, 1)\n",
    "g.set_players([defender], [attacker])"
   ]
  },
  {
   "cell_type": "markdown",
   "metadata": {},
   "source": [
    "each game has some players that can be either attackers or defenders. \n",
    "\n",
    "This is a simple example in which the defender is a Stochastic player and his adversary is a Stackelberg player\n",
    "\n",
    "Now let's see a game round"
   ]
  },
  {
   "cell_type": "code",
   "execution_count": 43,
   "metadata": {},
   "outputs": [],
   "source": [
    "g.strategy_history.append(dict()) # initialize the strategy history of this round\n",
    "g.strategy_history[-1][defender.id] = defender.compute_strategy() # defender compute his strategy\n",
    "g.strategy_history[-1][attacker.id] = attacker.compute_strategy() # attacker possibly observe and compute his strategy\n",
    "g.history.append(dict()) # initialize the history of this round\n",
    "for p in g.players: # each player sample a realization of its strategy\n",
    "    g.history[-1][p] = g.players[p].sample_strategy()"
   ]
  },
  {
   "cell_type": "markdown",
   "metadata": {},
   "source": [
    "Each game has a strategy_history attribute"
   ]
  },
  {
   "cell_type": "code",
   "execution_count": 45,
   "metadata": {},
   "outputs": [
    {
     "data": {
      "text/plain": [
       "[{0: [0.3333333333333333, 0.3333333333333333, 0.3333333333333333],\n",
       "  1: [0, 0, 1]}]"
      ]
     },
     "execution_count": 45,
     "metadata": {},
     "output_type": "execute_result"
    }
   ],
   "source": [
    "g.strategy_history"
   ]
  },
  {
   "cell_type": "markdown",
   "metadata": {},
   "source": [
    "and a history attribute"
   ]
  },
  {
   "cell_type": "code",
   "execution_count": 44,
   "metadata": {},
   "outputs": [
    {
     "data": {
      "text/plain": [
       "[{0: [2], 1: [2]}]"
      ]
     },
     "execution_count": 44,
     "metadata": {},
     "output_type": "execute_result"
    }
   ],
   "source": [
    "g.history"
   ]
  },
  {
   "cell_type": "markdown",
   "metadata": {},
   "source": [
    "This procedure is complex and takes into account the possibility of multiple defenders. In most of the cases we have to deal with only a defender and in general multiple attacker. Therefore it is useful to make an abstraction layer in which we only have one *agent* and the his adversaries are modeled as the *environment*."
   ]
  },
  {
   "cell_type": "code",
   "execution_count": 48,
   "metadata": {
    "collapsed": true
   },
   "outputs": [],
   "source": [
    "from source.environment import Environment"
   ]
  },
  {
   "cell_type": "code",
   "execution_count": 62,
   "metadata": {},
   "outputs": [],
   "source": [
    "values = ((1, 1), (2, 2), (3, 3))\n",
    "time_horizon = 5\n",
    "g = Game(values, time_horizon)\n",
    "agent = Defender(g, 0, 1)\n",
    "attacker = StackelbergAttacker(g, 1, 1)\n",
    "g.set_players([agent], [attacker])\n",
    "e = Environment(g, 0)"
   ]
  },
  {
   "cell_type": "markdown",
   "metadata": {},
   "source": [
    "then the interaction becomes"
   ]
  },
  {
   "cell_type": "code",
   "execution_count": 63,
   "metadata": {},
   "outputs": [],
   "source": [
    "strategy = agent.compute_strategy()\n",
    "e.observe_strategy(strategy)\n",
    "realization = agent.sample_strategy()\n",
    "e.observe_realization(realization)\n",
    "feedback = e.feedback(\"expert\")\n",
    "agent.receive_feedback(feedback)"
   ]
  },
  {
   "cell_type": "code",
   "execution_count": 64,
   "metadata": {},
   "outputs": [
    {
     "data": {
      "text/plain": [
       "[{0: [1], 1: [2]}]"
      ]
     },
     "execution_count": 64,
     "metadata": {},
     "output_type": "execute_result"
    }
   ],
   "source": [
    "g.history"
   ]
  },
  {
   "cell_type": "markdown",
   "metadata": {},
   "source": [
    "to run the game till the end then:"
   ]
  },
  {
   "cell_type": "code",
   "execution_count": 65,
   "metadata": {
    "collapsed": true
   },
   "outputs": [],
   "source": [
    "for t in range(g.time_horizon):\n",
    "    strategy = agent.compute_strategy()\n",
    "    e.observe_strategy(strategy)\n",
    "    realization = agent.sample_strategy()\n",
    "    e.observe_realization(realization)\n",
    "    feedback = e.feedback(\"expert\")\n",
    "    agent.receive_feedback(feedback)"
   ]
  },
  {
   "cell_type": "markdown",
   "metadata": {},
   "source": [
    "and this is what happened"
   ]
  },
  {
   "cell_type": "code",
   "execution_count": 66,
   "metadata": {},
   "outputs": [
    {
     "data": {
      "text/plain": [
       "[{0: [0.3333333333333333, 0.3333333333333333, 0.3333333333333333],\n",
       "  1: [0, 0, 1]},\n",
       " {0: [0.3333333333333333, 0.3333333333333333, 0.3333333333333333],\n",
       "  1: [0, 0, 1]},\n",
       " {0: [0.3333333333333333, 0.3333333333333333, 0.3333333333333333],\n",
       "  1: [0, 0, 1]},\n",
       " {0: [0.3333333333333333, 0.3333333333333333, 0.3333333333333333],\n",
       "  1: [0, 0, 1]},\n",
       " {0: [0.3333333333333333, 0.3333333333333333, 0.3333333333333333],\n",
       "  1: [0, 0, 1]},\n",
       " {0: [0.3333333333333333, 0.3333333333333333, 0.3333333333333333],\n",
       "  1: [0, 0, 1]}]"
      ]
     },
     "execution_count": 66,
     "metadata": {},
     "output_type": "execute_result"
    }
   ],
   "source": [
    "g.strategy_history"
   ]
  },
  {
   "cell_type": "code",
   "execution_count": 67,
   "metadata": {},
   "outputs": [
    {
     "data": {
      "text/plain": [
       "[{0: [1], 1: [2]},\n",
       " {0: [1], 1: [2]},\n",
       " {0: [1], 1: [2]},\n",
       " {0: [2], 1: [2]},\n",
       " {0: [2], 1: [2]},\n",
       " {0: [2], 1: [2]}]"
      ]
     },
     "execution_count": 67,
     "metadata": {},
     "output_type": "execute_result"
    }
   ],
   "source": [
    "g.history"
   ]
  },
  {
   "cell_type": "code",
   "execution_count": 68,
   "metadata": {},
   "outputs": [
    {
     "data": {
      "text/plain": [
       "[{0: 0, 1: 0, 2: -3},\n",
       " {0: 0, 1: 0, 2: -3},\n",
       " {0: 0, 1: 0, 2: -3},\n",
       " {0: 0, 1: 0, 2: 0},\n",
       " {0: 0, 1: 0, 2: 0},\n",
       " {0: 0, 1: 0, 2: 0}]"
      ]
     },
     "execution_count": 68,
     "metadata": {},
     "output_type": "execute_result"
    }
   ],
   "source": [
    "agent.feedbacks"
   ]
  },
  {
   "cell_type": "markdown",
   "metadata": {},
   "source": [
    "## Experiment\n",
    "In order to run interactions in an easier way we can use the class Experiment as a wrapper"
   ]
  },
  {
   "cell_type": "code",
   "execution_count": 69,
   "metadata": {
    "collapsed": true
   },
   "outputs": [],
   "source": [
    "from source.runner import Experiment"
   ]
  },
  {
   "cell_type": "code",
   "execution_count": 87,
   "metadata": {},
   "outputs": [],
   "source": [
    "values = ((1, 1), (2, 2), (3, 3))\n",
    "time_horizon = 5\n",
    "g = Game(values, time_horizon)\n",
    "agent = Defender(g, 0, 1)\n",
    "attacker = StackelbergAttacker(g, 1, 1)\n",
    "g.set_players([agent], [attacker])\n",
    "experiment = Experiment(g)\n",
    "experiment.run()"
   ]
  },
  {
   "cell_type": "code",
   "execution_count": 88,
   "metadata": {},
   "outputs": [
    {
     "data": {
      "text/plain": [
       "[{0: [1], 1: [2]},\n",
       " {0: [1], 1: [2]},\n",
       " {0: [2], 1: [2]},\n",
       " {0: [2], 1: [2]},\n",
       " {0: [0], 1: [2]}]"
      ]
     },
     "execution_count": 88,
     "metadata": {},
     "output_type": "execute_result"
    }
   ],
   "source": [
    "experiment.game.history"
   ]
  },
  {
   "cell_type": "code",
   "execution_count": 89,
   "metadata": {},
   "outputs": [
    {
     "data": {
      "text/plain": [
       "<Defender id:0 resources:1>"
      ]
     },
     "execution_count": 89,
     "metadata": {},
     "output_type": "execute_result"
    }
   ],
   "source": [
    "experiment.agent"
   ]
  },
  {
   "cell_type": "code",
   "execution_count": 90,
   "metadata": {},
   "outputs": [
    {
     "data": {
      "text/plain": [
       "<Environment>"
      ]
     },
     "execution_count": 90,
     "metadata": {},
     "output_type": "execute_result"
    }
   ],
   "source": [
    "experiment.environment"
   ]
  },
  {
   "cell_type": "markdown",
   "metadata": {},
   "source": [
    "The *Experiment* class assumes that there is only one defender (the first player) and computes the Environment with the remaining players.\n",
    "\n",
    "The experiment class handles also the seed initialization of the pseudo-random number generation:"
   ]
  },
  {
   "cell_type": "code",
   "execution_count": 91,
   "metadata": {},
   "outputs": [
    {
     "data": {
      "text/plain": [
       "0.8631987818666238"
      ]
     },
     "execution_count": 91,
     "metadata": {},
     "output_type": "execute_result"
    }
   ],
   "source": [
    "experiment.seed"
   ]
  },
  {
   "cell_type": "markdown",
   "metadata": {},
   "source": [
    "if no seed is given as argument then it automatically initialize it, otherwise it is possible to pass it to the object, for example to run again an experiment:"
   ]
  },
  {
   "cell_type": "code",
   "execution_count": 92,
   "metadata": {},
   "outputs": [
    {
     "data": {
      "text/plain": [
       "[{0: [1], 1: [2]},\n",
       " {0: [2], 1: [2]},\n",
       " {0: [1], 1: [2]},\n",
       " {0: [1], 1: [2]},\n",
       " {0: [0], 1: [2]}]"
      ]
     },
     "execution_count": 92,
     "metadata": {},
     "output_type": "execute_result"
    }
   ],
   "source": [
    "# different random seed from before\n",
    "values = ((1, 1), (2, 2), (3, 3))\n",
    "time_horizon = 5\n",
    "g = Game(values, time_horizon)\n",
    "agent = Defender(g, 0, 1)\n",
    "attacker = StackelbergAttacker(g, 1, 1)\n",
    "g.set_players([agent], [attacker])\n",
    "experiment2 = Experiment(g)\n",
    "experiment2.run()\n",
    "experiment2.game.history"
   ]
  },
  {
   "cell_type": "code",
   "execution_count": 96,
   "metadata": {},
   "outputs": [
    {
     "data": {
      "text/plain": [
       "0.346289571348973"
      ]
     },
     "execution_count": 96,
     "metadata": {},
     "output_type": "execute_result"
    }
   ],
   "source": [
    "experiment2.seed"
   ]
  },
  {
   "cell_type": "code",
   "execution_count": 94,
   "metadata": {},
   "outputs": [
    {
     "data": {
      "text/plain": [
       "[{0: [1], 1: [2]},\n",
       " {0: [1], 1: [2]},\n",
       " {0: [2], 1: [2]},\n",
       " {0: [2], 1: [2]},\n",
       " {0: [0], 1: [2]}]"
      ]
     },
     "execution_count": 94,
     "metadata": {},
     "output_type": "execute_result"
    }
   ],
   "source": [
    "# same seed from the first case, which give the same results\n",
    "values = ((1, 1), (2, 2), (3, 3))\n",
    "time_horizon = 5\n",
    "g = Game(values, time_horizon)\n",
    "agent = Defender(g, 0, 1)\n",
    "attacker = StackelbergAttacker(g, 1, 1)\n",
    "g.set_players([agent], [attacker])\n",
    "experiment3 = Experiment(g, experiment.seed)\n",
    "experiment3.run()\n",
    "experiment3.game.history"
   ]
  },
  {
   "cell_type": "code",
   "execution_count": 95,
   "metadata": {},
   "outputs": [
    {
     "data": {
      "text/plain": [
       "0.8631987818666238"
      ]
     },
     "execution_count": 95,
     "metadata": {},
     "output_type": "execute_result"
    }
   ],
   "source": [
    "experiment3.seed"
   ]
  },
  {
   "cell_type": "markdown",
   "metadata": {},
   "source": [
    "## Run games from configurations files\n",
    "Configuration files can be created to load many games at the same time. Configuration files are csv file with a format like this:"
   ]
  },
  {
   "cell_type": "code",
   "execution_count": 135,
   "metadata": {},
   "outputs": [
    {
     "name": "stdout",
     "output_type": "stream",
     "text": [
      "T,0,1,2,3,4,Defender,Attacker,Attacker\n",
      "5,(1 7 1),(1 1 12),(12 1 1),(1 1 2),(2 2 3),defender,player,stackelberg\n",
      "3,1,1,1,1,1,defender,,stackelberg\n",
      "6,1,3,1,2,1,stu_defender,stackelberg,\n",
      "5,1,12,13,1,1,defender,player,stackelberg\n",
      "\n"
     ]
    }
   ],
   "source": [
    "with open(\"../games/conf.csv\", \"r\") as f:\n",
    "    print(f.read())"
   ]
  },
  {
   "cell_type": "markdown",
   "metadata": {},
   "source": [
    "the first row is the header in which we have three groups of column types:\n",
    "- time horizon (1 column)\n",
    "- target values (many)\n",
    "- Defender (in general many, for now 1 column)\n",
    "- Attacker (many) \n",
    "\n",
    "Attackers headers represent the maximum number of attackers, but the relative cells could also be void"
   ]
  },
  {
   "cell_type": "code",
   "execution_count": 77,
   "metadata": {
    "collapsed": true
   },
   "outputs": [],
   "source": [
    "from source.runner import Batch"
   ]
  },
  {
   "cell_type": "markdown",
   "metadata": {},
   "source": [
    "The *Batch* object use the *Parser* object to parse each row and then produce a related *Configuration* object."
   ]
  },
  {
   "cell_type": "code",
   "execution_count": 102,
   "metadata": {},
   "outputs": [],
   "source": [
    "conf = \"../games/conf.csv\"\n",
    "b = Batch(conf, \".\", print_results=False)\n",
    "b.parse_batch()"
   ]
  },
  {
   "cell_type": "code",
   "execution_count": 80,
   "metadata": {},
   "outputs": [
    {
     "data": {
      "text/plain": [
       "4"
      ]
     },
     "execution_count": 80,
     "metadata": {},
     "output_type": "execute_result"
    }
   ],
   "source": [
    "len(b.configurations) # configurations obtained from the file"
   ]
  },
  {
   "cell_type": "code",
   "execution_count": 81,
   "metadata": {},
   "outputs": [
    {
     "data": {
      "text/plain": [
       "<Configuration game:<Game values:[[1, 7, 1], [1, 1, 12], [12, 1, 1], [1, 1, 2], [2, 2, 3]] players{0: <Defender id:0 resources:1>, 1: <Attacker id:1 resources:1>, 2: <StackelbergAttacker id:2 resources:1>} time_horizon:5> experiments:[]>"
      ]
     },
     "execution_count": 81,
     "metadata": {},
     "output_type": "execute_result"
    }
   ],
   "source": [
    "b.configurations[0] # the first configuration"
   ]
  },
  {
   "cell_type": "markdown",
   "metadata": {},
   "source": [
    "The *Configuration* object contains the initial setting of the game and the relative players, and it is able to run and store multiple experiments with different seeds."
   ]
  },
  {
   "cell_type": "code",
   "execution_count": 103,
   "metadata": {
    "collapsed": true
   },
   "outputs": [],
   "source": [
    "c = b.configurations[2]"
   ]
  },
  {
   "cell_type": "code",
   "execution_count": 104,
   "metadata": {
    "collapsed": true
   },
   "outputs": [],
   "source": [
    "c.run_an_experiment()\n",
    "c.run_an_experiment()\n",
    "c.run_an_experiment()"
   ]
  },
  {
   "cell_type": "code",
   "execution_count": 105,
   "metadata": {},
   "outputs": [
    {
     "data": {
      "text/plain": [
       "[<Experiment seed:0.037158469196690413>,\n",
       " <Experiment seed:0.026354299819451588>,\n",
       " <Experiment seed:0.6106033959583529>]"
      ]
     },
     "execution_count": 105,
     "metadata": {},
     "output_type": "execute_result"
    }
   ],
   "source": [
    "c.experiments"
   ]
  },
  {
   "cell_type": "markdown",
   "metadata": {},
   "source": [
    "In order to run once all the configurations of a batch we can use:"
   ]
  },
  {
   "cell_type": "code",
   "execution_count": 106,
   "metadata": {
    "collapsed": true
   },
   "outputs": [],
   "source": [
    "b.run()"
   ]
  },
  {
   "cell_type": "code",
   "execution_count": 110,
   "metadata": {},
   "outputs": [
    {
     "name": "stdout",
     "output_type": "stream",
     "text": [
      "0 :  [<Experiment seed:0.06882945117146566>]\n",
      "1 :  [<Experiment seed:0.23790797623136462>]\n",
      "2 :  [<Experiment seed:0.037158469196690413>, <Experiment seed:0.026354299819451588>, <Experiment seed:0.6106033959583529>, <Experiment seed:0.16881640098522077>]\n",
      "3 :  [<Experiment seed:0.6749084098352461>]\n"
     ]
    }
   ],
   "source": [
    "for i,c in enumerate(b.configurations):\n",
    "    print(i, \": \", c.experiments)"
   ]
  },
  {
   "cell_type": "markdown",
   "metadata": {},
   "source": [
    "### WARNING:\n",
    "The seed initialization mechanism is guaranteed to generate identical experiments provide that they are run in a **SEQUENTIAL** way: in fact there could be problem with parallelization"
   ]
  },
  {
   "cell_type": "markdown",
   "metadata": {},
   "source": [
    "## Run configuration files from a folder and save output"
   ]
  },
  {
   "cell_type": "code",
   "execution_count": 112,
   "metadata": {
    "collapsed": true
   },
   "outputs": [],
   "source": [
    "from source.runner import Runner"
   ]
  },
  {
   "cell_type": "markdown",
   "metadata": {},
   "source": [
    "Use the class Runner to load all the configuration files of a folder in the respective Batch objects. It takes as arguments the path of the folder and the location where you want to store the results (it should not be an already existing folder!)."
   ]
  },
  {
   "cell_type": "code",
   "execution_count": 114,
   "metadata": {},
   "outputs": [],
   "source": [
    "mypath = \"../games/\"\n",
    "resultspath = \"results\"\n",
    "r = Runner(mypath, resultspath)\n",
    "r.run()"
   ]
  },
  {
   "cell_type": "code",
   "execution_count": 116,
   "metadata": {},
   "outputs": [
    {
     "data": {
      "text/plain": [
       "1"
      ]
     },
     "execution_count": 116,
     "metadata": {},
     "output_type": "execute_result"
    }
   ],
   "source": [
    "len(r.batches) # loaded batches"
   ]
  },
  {
   "cell_type": "code",
   "execution_count": 128,
   "metadata": {},
   "outputs": [],
   "source": [
    "import os"
   ]
  },
  {
   "cell_type": "code",
   "execution_count": 131,
   "metadata": {},
   "outputs": [
    {
     "data": {
      "text/plain": [
       "['conf',\n",
       " '.ipynb_checkpoints',\n",
       " 'prova_json',\n",
       " 'Stackerlberg Best Response.ipynb',\n",
       " 'Linear Programming Examples.ipynb',\n",
       " 'Tutorial.ipynb',\n",
       " 'results',\n",
       " 'prova',\n",
       " 'Example.ipynb',\n",
       " 'gurobi.log']"
      ]
     },
     "execution_count": 131,
     "metadata": {},
     "output_type": "execute_result"
    }
   ],
   "source": [
    "os.listdir() # let's see what have been saved"
   ]
  },
  {
   "cell_type": "markdown",
   "metadata": {},
   "source": [
    "a folder is generated for each configuration file in the folder"
   ]
  },
  {
   "cell_type": "code",
   "execution_count": 132,
   "metadata": {},
   "outputs": [
    {
     "data": {
      "text/plain": [
       "['conf']"
      ]
     },
     "execution_count": 132,
     "metadata": {},
     "output_type": "execute_result"
    }
   ],
   "source": [
    "os.listdir(\"results\")"
   ]
  },
  {
   "cell_type": "markdown",
   "metadata": {},
   "source": [
    "a folder is generated for each row of the file"
   ]
  },
  {
   "cell_type": "code",
   "execution_count": 133,
   "metadata": {},
   "outputs": [
    {
     "data": {
      "text/plain": [
       "['1', '2', 'batch.csv', '3', '0']"
      ]
     },
     "execution_count": 133,
     "metadata": {},
     "output_type": "execute_result"
    }
   ],
   "source": [
    "os.listdir(\"results/conf\")"
   ]
  },
  {
   "cell_type": "markdown",
   "metadata": {},
   "source": [
    "each row corresponds to a configuration and in its folder there are:\n",
    "- 'seeds.txt': a file with the used seeds\n",
    "- 'json.txt': a file with a json of the Configuration\n",
    "- 'game': a binary pickle file with the Configuration object\n",
    "- #seed csv files with the output of the relative experiments\n",
    "\n",
    "let's see in detail each file"
   ]
  },
  {
   "cell_type": "code",
   "execution_count": 158,
   "metadata": {},
   "outputs": [
    {
     "data": {
      "text/plain": [
       "['seeds.txt', '0.43507662667582414', 'json.txt', 'game']"
      ]
     },
     "execution_count": 158,
     "metadata": {},
     "output_type": "execute_result"
    }
   ],
   "source": [
    "os.listdir(\"results/conf/1\")"
   ]
  },
  {
   "cell_type": "code",
   "execution_count": 194,
   "metadata": {},
   "outputs": [
    {
     "name": "stdout",
     "output_type": "stream",
     "text": [
      "0.43507662667582414\n"
     ]
    }
   ],
   "source": [
    "# seed.txt\n",
    "with open(\"results/conf/1/seeds.txt\", \"r\") as f:\n",
    "    seed = f.read().rstrip()\n",
    "    print(seed)"
   ]
  },
  {
   "cell_type": "code",
   "execution_count": 160,
   "metadata": {},
   "outputs": [
    {
     "name": "stdout",
     "output_type": "stream",
     "text": [
      "{\n",
      "    \"attackers\": [\n",
      "        1\n",
      "    ],\n",
      "    \"defenders\": [\n",
      "        0\n",
      "    ],\n",
      "    \"history\": [],\n",
      "    \"players\": {\n",
      "        \"0\": {\n",
      "            \"class_name\": \"Defender\",\n",
      "            \"feedbacks\": [],\n",
      "            \"id\": 0,\n",
      "            \"resources\": 1\n",
      "        },\n",
      "        \"1\": {\n",
      "            \"class_name\": \"StackelbergAttacker\",\n",
      "            \"id\": 1,\n",
      "            \"resources\": 1\n",
      "        }\n",
      "    },\n",
      "    \"strategy_history\": [],\n",
      "    \"time_horizon\": 3,\n",
      "    \"values\": [\n",
      "        [\n",
      "            1.0,\n",
      "            1.0\n",
      "        ],\n",
      "        [\n",
      "            1.0,\n",
      "            1.0\n",
      "        ],\n",
      "        [\n",
      "            1.0,\n",
      "            1.0\n",
      "        ],\n",
      "        [\n",
      "            1.0,\n",
      "            1.0\n",
      "        ],\n",
      "        [\n",
      "            1.0,\n",
      "            1.0\n",
      "        ]\n",
      "    ]\n",
      "}\n"
     ]
    }
   ],
   "source": [
    "# json.txt\n",
    "with open(\"results/conf/1/json.txt\", \"r\") as f:\n",
    "    print(f.read())"
   ]
  },
  {
   "cell_type": "code",
   "execution_count": 195,
   "metadata": {},
   "outputs": [
    {
     "data": {
      "text/html": [
       "<div>\n",
       "<table border=\"1\" class=\"dataframe\">\n",
       "  <thead>\n",
       "    <tr style=\"text-align: right;\">\n",
       "      <th></th>\n",
       "      <th>Unnamed: 0</th>\n",
       "      <th>defender-0</th>\n",
       "      <th>stackelberg-1</th>\n",
       "      <th>feedback target 0</th>\n",
       "      <th>feedback target 1</th>\n",
       "      <th>feedback target 2</th>\n",
       "      <th>feedback target 3</th>\n",
       "      <th>feedback target 4</th>\n",
       "    </tr>\n",
       "  </thead>\n",
       "  <tbody>\n",
       "    <tr>\n",
       "      <th>0</th>\n",
       "      <td>0</td>\n",
       "      <td>([0.2, 0.2, 0.2, 0.2, 0.2], [3])</td>\n",
       "      <td>([1, 0, 0, 0, 0], [0])</td>\n",
       "      <td>-1</td>\n",
       "      <td>-0</td>\n",
       "      <td>-0</td>\n",
       "      <td>-0</td>\n",
       "      <td>-0</td>\n",
       "    </tr>\n",
       "    <tr>\n",
       "      <th>1</th>\n",
       "      <td>1</td>\n",
       "      <td>([0.2, 0.2, 0.2, 0.2, 0.2], [3])</td>\n",
       "      <td>([1, 0, 0, 0, 0], [0])</td>\n",
       "      <td>-1</td>\n",
       "      <td>-0</td>\n",
       "      <td>-0</td>\n",
       "      <td>-0</td>\n",
       "      <td>-0</td>\n",
       "    </tr>\n",
       "    <tr>\n",
       "      <th>2</th>\n",
       "      <td>2</td>\n",
       "      <td>([0.2, 0.2, 0.2, 0.2, 0.2], [2])</td>\n",
       "      <td>([1, 0, 0, 0, 0], [0])</td>\n",
       "      <td>-1</td>\n",
       "      <td>-0</td>\n",
       "      <td>-0</td>\n",
       "      <td>-0</td>\n",
       "      <td>-0</td>\n",
       "    </tr>\n",
       "  </tbody>\n",
       "</table>\n",
       "</div>"
      ],
      "text/plain": [
       "   Unnamed: 0                        defender-0           stackelberg-1  \\\n",
       "0           0  ([0.2, 0.2, 0.2, 0.2, 0.2], [3])  ([1, 0, 0, 0, 0], [0])   \n",
       "1           1  ([0.2, 0.2, 0.2, 0.2, 0.2], [3])  ([1, 0, 0, 0, 0], [0])   \n",
       "2           2  ([0.2, 0.2, 0.2, 0.2, 0.2], [2])  ([1, 0, 0, 0, 0], [0])   \n",
       "\n",
       "   feedback target 0  feedback target 1  feedback target 2  feedback target 3  \\\n",
       "0                 -1                 -0                 -0                 -0   \n",
       "1                 -1                 -0                 -0                 -0   \n",
       "2                 -1                 -0                 -0                 -0   \n",
       "\n",
       "   feedback target 4  \n",
       "0                 -0  \n",
       "1                 -0  \n",
       "2                 -0  "
      ]
     },
     "execution_count": 195,
     "metadata": {},
     "output_type": "execute_result"
    }
   ],
   "source": [
    "# 0.8865257094040085 csv file \n",
    "import pandas as pd\n",
    "\n",
    "# for each player column we have a pair (strategy-realization)\n",
    "pd.read_csv(\"results/conf/1/\"+seed)"
   ]
  },
  {
   "cell_type": "markdown",
   "metadata": {},
   "source": [
    "Finally it is possible to recover the initial game in python using the serialized file 'game'"
   ]
  },
  {
   "cell_type": "code",
   "execution_count": 146,
   "metadata": {
    "collapsed": true
   },
   "outputs": [],
   "source": [
    "from source.game import load"
   ]
  },
  {
   "cell_type": "code",
   "execution_count": 263,
   "metadata": {},
   "outputs": [
    {
     "data": {
      "text/plain": [
       "<Game values:[[1.0, 1.0], [1.0, 1.0], [1.0, 1.0], [1.0, 1.0], [1.0, 1.0]] players{0: <Defender id:0 resources:1>, 1: <StackelbergAttacker id:1 resources:1>} time_horizon:3>"
      ]
     },
     "execution_count": 263,
     "metadata": {},
     "output_type": "execute_result"
    }
   ],
   "source": [
    "game = load(\"results/conf/1/game\")\n",
    "game"
   ]
  },
  {
   "cell_type": "code",
   "execution_count": 264,
   "metadata": {},
   "outputs": [
    {
     "data": {
      "text/plain": [
       "[]"
      ]
     },
     "execution_count": 264,
     "metadata": {},
     "output_type": "execute_result"
    }
   ],
   "source": [
    "game.history # the game is saved before it is played"
   ]
  },
  {
   "cell_type": "markdown",
   "metadata": {},
   "source": [
    "if we want we can try it with the same seed as before:"
   ]
  },
  {
   "cell_type": "code",
   "execution_count": 265,
   "metadata": {},
   "outputs": [],
   "source": [
    "with open(\"results/conf/1/seeds.txt\", \"r\") as f:\n",
    "    seed = float(f.read().rstrip())"
   ]
  },
  {
   "cell_type": "code",
   "execution_count": 266,
   "metadata": {},
   "outputs": [],
   "source": [
    "experiment = Experiment(game, seed)\n",
    "experiment.run()"
   ]
  },
  {
   "cell_type": "code",
   "execution_count": 267,
   "metadata": {},
   "outputs": [
    {
     "data": {
      "text/plain": [
       "[{0: [3], 1: [0]}, {0: [3], 1: [0]}, {0: [2], 1: [0]}]"
      ]
     },
     "execution_count": 267,
     "metadata": {},
     "output_type": "execute_result"
    }
   ],
   "source": [
    "experiment.game.history"
   ]
  },
  {
   "cell_type": "code",
   "execution_count": 268,
   "metadata": {},
   "outputs": [
    {
     "data": {
      "text/plain": [
       "0.43507662667582414"
      ]
     },
     "execution_count": 268,
     "metadata": {},
     "output_type": "execute_result"
    }
   ],
   "source": [
    "experiment.seed"
   ]
  },
  {
   "cell_type": "markdown",
   "metadata": {},
   "source": [
    "or with another one"
   ]
  },
  {
   "cell_type": "code",
   "execution_count": 269,
   "metadata": {
    "collapsed": true
   },
   "outputs": [],
   "source": [
    "game = load(\"results/conf/1/game\") # reload the game\n",
    "experiment = Experiment(game)\n",
    "experiment.run()"
   ]
  },
  {
   "cell_type": "code",
   "execution_count": 270,
   "metadata": {},
   "outputs": [
    {
     "data": {
      "text/plain": [
       "[{0: [0], 1: [0]}, {0: [4], 1: [0]}, {0: [3], 1: [0]}]"
      ]
     },
     "execution_count": 270,
     "metadata": {},
     "output_type": "execute_result"
    }
   ],
   "source": [
    "experiment.game.history"
   ]
  },
  {
   "cell_type": "code",
   "execution_count": 271,
   "metadata": {},
   "outputs": [
    {
     "data": {
      "text/plain": [
       "0.5104161566816114"
      ]
     },
     "execution_count": 271,
     "metadata": {},
     "output_type": "execute_result"
    }
   ],
   "source": [
    "experiment.seed"
   ]
  }
 ],
 "metadata": {
  "kernelspec": {
   "display_name": "Python 3",
   "language": "python",
   "name": "python3"
  },
  "language_info": {
   "codemirror_mode": {
    "name": "ipython",
    "version": 3
   },
   "file_extension": ".py",
   "mimetype": "text/x-python",
   "name": "python",
   "nbconvert_exporter": "python",
   "pygments_lexer": "ipython3",
   "version": "3.7.0"
  }
 },
 "nbformat": 4,
 "nbformat_minor": 1
}
