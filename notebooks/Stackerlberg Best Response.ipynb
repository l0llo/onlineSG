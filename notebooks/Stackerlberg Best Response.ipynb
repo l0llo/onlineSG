{
 "cells": [
  {
   "cell_type": "markdown",
   "metadata": {},
   "source": [
    "# Stackelberg Best Response\n",
    "## (in a 2 player, 2 targets SG)"
   ]
  },
  {
   "cell_type": "markdown",
   "metadata": {},
   "source": [
    "This notebook finds with linear programming the maxmin solution to a 2 players-2 targets SG, which correspond to the best response to a Stackelberg adversary. Analitical solution to this problem can be found here: https://www.overleaf.com/read/xmcpdzwsmrty\n",
    "\n",
    "According to that calculations, calling $V_m$ and $V_M$ the minimum and the maximum targets values respectively, the defender best strategy is $(\\frac{V_m}{V_m+V_M},\\frac{V_M}{V_m+V_M})$ and the relative payoff is: $\\frac{-V_MV_m}{V_m+V_M}$"
   ]
  },
  {
   "cell_type": "code",
   "execution_count": 3,
   "metadata": {
    "collapsed": true
   },
   "outputs": [],
   "source": [
    "from gurobipy import *"
   ]
  },
  {
   "cell_type": "markdown",
   "metadata": {},
   "source": [
    "The approach used here is taken from \"Introduction to Operative Research\" by Hillier & Lieberman (section 14.5)"
   ]
  },
  {
   "cell_type": "code",
   "execution_count": 2,
   "metadata": {
    "collapsed": false
   },
   "outputs": [
    {
     "name": "stdout",
     "output_type": "stream",
     "text": [
      "Optimize a model with 3 rows, 3 columns and 6 nonzeros\n",
      "Coefficient statistics:\n",
      "  Matrix range     [1e+00, 6e+00]\n",
      "  Objective range  [1e+00, 1e+00]\n",
      "  Bounds range     [0e+00, 0e+00]\n",
      "  RHS range        [1e+00, 1e+00]\n",
      "Presolve removed 2 rows and 1 columns\n",
      "Presolve time: 0.02s\n",
      "Presolved: 1 rows, 2 columns, 2 nonzeros\n",
      "\n",
      "Iteration    Objective       Primal Inf.    Dual Inf.      Time\n",
      "       0   -0.0000000e+00   3.750000e-01   0.000000e+00      0s\n",
      "       1   -2.7272727e+00   0.000000e+00   0.000000e+00      0s\n",
      "\n",
      "Solved in 1 iterations and 0.03 seconds\n",
      "Optimal objective -2.727272727e+00\n",
      "x1 0.4545454545454546\n",
      "x2 0.5454545454545454\n",
      "x3 -2.7272727272727275\n",
      "Obj: -2.7272727272727275\n"
     ]
    }
   ],
   "source": [
    "try:\n",
    "\n",
    "    # Create a new model\n",
    "    m = Model(\"SSG\")\n",
    "\n",
    "    # Create variables\n",
    "    x1 = m.addVar(vtype=GRB.CONTINUOUS, name=\"x1\")\n",
    "    x2 = m.addVar(vtype=GRB.CONTINUOUS, name=\"x2\")\n",
    "    x3 = m.addVar(lb=-GRB.INFINITY, vtype=GRB.CONTINUOUS, name=\"x3\")\n",
    "    v_m = 5\n",
    "    v_M = 6\n",
    "    # Set objective\n",
    "    m.setObjective(x3, GRB.MAXIMIZE)\n",
    "\n",
    "    # Add constraint:\n",
    "    m.addConstr(x1 + x2 == 1, \"c0\")\n",
    "    m.addConstr(-v_m * x2 >= x3, \"c1\")\n",
    "    m.addConstr(-v_M * x1 >= x3, \"c2\")\n",
    "\n",
    "    m.optimize()\n",
    "\n",
    "    for v in m.getVars():\n",
    "        print(v.varName, v.x)\n",
    "\n",
    "    print('Obj:', m.objVal)\n",
    "\n",
    "except GurobiError:\n",
    "    print('Error reported')"
   ]
  },
  {
   "cell_type": "markdown",
   "metadata": {},
   "source": [
    "We can compare these results with the analytical ones:"
   ]
  },
  {
   "cell_type": "code",
   "execution_count": 3,
   "metadata": {
    "collapsed": false
   },
   "outputs": [
    {
     "name": "stdout",
     "output_type": "stream",
     "text": [
      "0.45454545454545453 0.5454545454545454 -2.727272727272727\n"
     ]
    }
   ],
   "source": [
    "analitycal_obj = -(v_M * v_m)/(v_m + v_M)\n",
    "analitycal_x1 = v_m / (v_m + v_M)\n",
    "analitycal_x2 = v_M / (v_m + v_M)\n",
    "print(analitycal_x1 ,analitycal_x2 , analitycal_obj)"
   ]
  },
  {
   "cell_type": "code",
   "execution_count": 35,
   "metadata": {
    "collapsed": true
   },
   "outputs": [],
   "source": [
    "values = (1,3,1,2,1,3)"
   ]
  },
  {
   "cell_type": "code",
   "execution_count": 36,
   "metadata": {
    "collapsed": false
   },
   "outputs": [
    {
     "name": "stdout",
     "output_type": "stream",
     "text": [
      "x0 0.0\n",
      "x1 0.4285714285714286\n",
      "x2 0.0\n",
      "x3 0.14285714285714285\n",
      "x4 0.0\n",
      "x5 0.4285714285714286\n",
      "v -1.7142857142857142\n",
      "Obj: -1.7142857142857142\n",
      "[0.0, 0.4285714285714286, 0.0, 0.14285714285714285, 0.0, 0.4285714285714286]\n"
     ]
    }
   ],
   "source": [
    "m = Model(\"SSG\")\n",
    "targets = list(range(len(values)))\n",
    "strategy = []\n",
    "for t in targets:\n",
    "    strategy.append(m.addVar(vtype=GRB.CONTINUOUS, name=\"x\"+str(t)))\n",
    "v = m.addVar(lb=-GRB.INFINITY, vtype=GRB.CONTINUOUS, name=\"v\")\n",
    "m.setObjective(v, GRB.MAXIMIZE)\n",
    "for t in targets:\n",
    "    terms = [-values[t]*strategy[i] for i in targets if i != t]\n",
    "    m.addConstr(sum(terms) - v >= 0, \"c\"+str(t))\n",
    "m.addConstr(sum(strategy) == 1, \"c\"+str(len(targets)))\n",
    "m.params.outputflag = 0\n",
    "m.optimize()\n",
    "for v in m.getVars():\n",
    "    print(v.varName, v.x)\n",
    "\n",
    "print('Obj:', m.objVal)\n",
    "print([float(s.x) for s in strategy])"
   ]
  },
  {
   "cell_type": "code",
   "execution_count": 8,
   "metadata": {
    "collapsed": false
   },
   "outputs": [
    {
     "data": {
      "text/plain": [
       "[0.0, 0.4285714285714286, 0.0, 0.14285714285714285, 0.0, 0.4285714285714286]"
      ]
     },
     "execution_count": 8,
     "metadata": {},
     "output_type": "execute_result"
    }
   ],
   "source": [
    "[float(s.x) for s in strategy]"
   ]
  },
  {
   "cell_type": "code",
   "execution_count": 30,
   "metadata": {
    "collapsed": true
   },
   "outputs": [],
   "source": [
    "f = 5"
   ]
  },
  {
   "cell_type": "code",
   "execution_count": 31,
   "metadata": {
    "collapsed": true
   },
   "outputs": [],
   "source": [
    "terms = [-values[f]*strategy[i].x for i in targets if i != f]"
   ]
  },
  {
   "cell_type": "code",
   "execution_count": 32,
   "metadata": {
    "collapsed": false
   },
   "outputs": [
    {
     "data": {
      "text/plain": [
       "-1.7142857142857144"
      ]
     },
     "execution_count": 32,
     "metadata": {},
     "output_type": "execute_result"
    }
   ],
   "source": [
    "sum(terms)"
   ]
  },
  {
   "cell_type": "code",
   "execution_count": null,
   "metadata": {
    "collapsed": false
   },
   "outputs": [],
   "source": []
  }
 ],
 "metadata": {
  "kernelspec": {
   "display_name": "Python 3",
   "language": "python",
   "name": "python3"
  },
  "language_info": {
   "codemirror_mode": {
    "name": "ipython",
    "version": 3
   },
   "file_extension": ".py",
   "mimetype": "text/x-python",
   "name": "python",
   "nbconvert_exporter": "python",
   "pygments_lexer": "ipython3",
   "version": "3.5.2"
  }
 },
 "nbformat": 4,
 "nbformat_minor": 0
}
