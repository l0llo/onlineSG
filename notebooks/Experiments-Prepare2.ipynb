{
 "cells": [
  {
   "cell_type": "markdown",
   "metadata": {
    "collapsed": true,
    "slideshow": {
     "slide_type": "-"
    }
   },
   "source": [
    "## Experiments-Prepare v2\n",
    "\n",
    "Notebook used to prepare a batch of configurations"
   ]
  },
  {
   "cell_type": "code",
   "execution_count": 2,
   "metadata": {},
   "outputs": [
    {
     "data": {
      "text/html": [
       "<style>.container { width:100% !important; }</style>"
      ],
      "text/plain": [
       "<IPython.core.display.HTML object>"
      ]
     },
     "metadata": {},
     "output_type": "display_data"
    }
   ],
   "source": [
    "from IPython.core.display import display, HTML\n",
    "display(HTML(\"<style>.container { width:100% !important; }</style>\"))"
   ]
  },
  {
   "cell_type": "code",
   "execution_count": 4,
   "metadata": {},
   "outputs": [],
   "source": [
    "import source.parsers as parsers\n",
    "import source.players.attackers as atk\n",
    "import source.util as util\n",
    "import source.game as game\n",
    "\n",
    "import numpy as np\n",
    "import pandas as pd\n",
    "from importlib import *\n",
    "from copy import deepcopy, copy\n",
    "import os"
   ]
  },
  {
   "cell_type": "code",
   "execution_count": 12,
   "metadata": {},
   "outputs": [
    {
     "data": {
      "text/plain": [
       "<module 'source.players.attackers' from '/home/lorenzo/Scrivania/Polimi/Thesis/code/onlineSG/source/players/attackers.py'>"
      ]
     },
     "execution_count": 12,
     "metadata": {},
     "output_type": "execute_result"
    }
   ],
   "source": [
    "reload(atk)"
   ]
  },
  {
   "cell_type": "markdown",
   "metadata": {},
   "source": [
    "## Writing batch file"
   ]
  },
  {
   "cell_type": "code",
   "execution_count": 12,
   "metadata": {},
   "outputs": [
    {
     "name": "stdout",
     "output_type": "stream",
     "text": [
      "T  5\n",
      "P1  1 P2  1\n",
      "0 done\n",
      "1 done\n",
      "2 done\n",
      "3 done\n",
      "4 done\n"
     ]
    }
   ],
   "source": [
    "experiment_folder = \"../NewExperiments\"\n",
    "time_horizon = 100\n",
    "att_incl = False\n",
    "defender = [\"FB1\", \"FB1-1\" , \"MAB1\",\"EXP1\"] # \"FR1-1\",\n",
    "#attacker = [\"sta1\"]\n",
    "if not os.path.exists(experiment_folder):\n",
    "    os.makedirs(experiment_folder)\n",
    "for T in [5]:#, 10]:\n",
    "    print(\"T \", T)\n",
    "    for P1,P2 in [(1,1)]: #, (5,5)]: #[(0, 1),(1,0), (1,1), (0,5), (5,0), (5,5)]:\n",
    "        print(\"P1 \",P1,\"P2 \",P2)\n",
    "        for i in range(5):\n",
    "            print(i,\"done\")\n",
    "            targets = util.gen_tar_with_len(T)\n",
    "            mock_game = game.zs_game(targets, time_horizon)\n",
    "            adversaries = [\"usto\",\n",
    "                           \"sta\",\n",
    "                           \"suqr\",\n",
    "                           \"sto\",\n",
    "                           \"fp\",\n",
    "                           \"usuqr\"]\n",
    "\n",
    "            # choose the profiles\n",
    "            plist = [\"usto\",\n",
    "                     \"sta\",\n",
    "                     \"suqr\",\n",
    "                     \"sto\",\n",
    "                     \"fp\",\n",
    "                     \"usuqr\"]\n",
    "            pdict = util.gen_pdict(mock_game, plist)\n",
    "            profiles = [pdict[p].prof for p in pdict]\n",
    "            #profiles = util.gen_profiles(targets, [(atk.UnknownStochasticAttacker, 1),\n",
    "            #                                       (atk.StackelbergAttacker, 1),\n",
    "            #                                       (atk.SUQR, P1),\n",
    "            #                                       (atk.StochasticAttacker, P2)])\n",
    "            #poss_atk = profiles[1:] #+ util.gen_profiles(targets,[(atk.StochasticAttacker, 1)])\n",
    "            #a = np.random.choice(poss_atk, 1, replace=False)[0]\n",
    "            adv = \"usuqr\"\n",
    "            #adv = np.random.choice(adversaries, 1)[0]\n",
    "            if pdict[adv].adv is not None:\n",
    "                a = deepcopy(pdict[adv].adv)\n",
    "            else:\n",
    "                a = deepcopy(pdict[adv].prof)\n",
    "            folder = experiment_folder + \"/t\" + str(T) + \"/p\" + str(P1)+ \"p\" + str(P2)+ \"/i\" + str(i)\n",
    "            if not os.path.exists(folder):\n",
    "                os.makedirs(folder)\n",
    "            batch_name = \"_\".join(defender)\n",
    "            batch_file = batch_name + \".csv\"\n",
    "            batch_path = folder + \"/\" + batch_file\n",
    "            with open(batch_path, \"w+\") as f:\n",
    "                f.write(util.print_header(targets, len(profiles), att_incl))\n",
    "                for d in defender: \n",
    "                    f.write(util.gen_conf_row(d + \" vs \" + a.__class__.name, time_horizon, targets, d, str(a),\n",
    "                                              [str(p) for p in profiles], att_incl))        "
   ]
  },
  {
   "cell_type": "code",
   "execution_count": 11,
   "metadata": {},
   "outputs": [],
   "source": [
    "rm -rf $experiment_folder"
   ]
  }
 ],
 "metadata": {
  "kernelspec": {
   "display_name": "Python 3",
   "language": "python",
   "name": "python3"
  },
  "language_info": {
   "codemirror_mode": {
    "name": "ipython",
    "version": 3
   },
   "file_extension": ".py",
   "mimetype": "text/x-python",
   "name": "python",
   "nbconvert_exporter": "python",
   "pygments_lexer": "ipython3",
   "version": "3.7.0"
  }
 },
 "nbformat": 4,
 "nbformat_minor": 1
}
