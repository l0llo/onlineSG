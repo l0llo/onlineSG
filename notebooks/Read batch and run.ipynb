{
 "cells": [
  {
   "cell_type": "markdown",
   "metadata": {},
   "source": [
    "### Load source code"
   ]
  },
  {
   "cell_type": "code",
   "execution_count": 105,
   "metadata": {},
   "outputs": [
    {
     "data": {
      "text/html": [
       "<style>.container { width:100% !important; }</style>"
      ],
      "text/plain": [
       "<IPython.core.display.HTML object>"
      ]
     },
     "metadata": {},
     "output_type": "display_data"
    }
   ],
   "source": [
    "from IPython.core.display import display, HTML\n",
    "display(HTML(\"<style>.container { width:100% !important; }</style>\"))"
   ]
  },
  {
   "cell_type": "code",
   "execution_count": 106,
   "metadata": {},
   "outputs": [],
   "source": [
    "import sys\n",
    "sys.path.append('../')"
   ]
  },
  {
   "cell_type": "code",
   "execution_count": 149,
   "metadata": {},
   "outputs": [],
   "source": [
    "import source.players as pl\n",
    "import source.parsers as parsers\n",
    "import source.game as game\n",
    "import source.player as player\n",
    "import source.environment as environment\n",
    "import source.errors as errors\n",
    "import source.runner as runner\n",
    "import source.util as util\n",
    "import source.players.attackers as attackers\n",
    "import source.players.base_defenders as base_defenders\n",
    "import source.players.defenders as defenders\n",
    "import source.players.holmes as holmes\n",
    "import source.players.sad as sad\n",
    "import source.players.b2bw2w as b2bw2w\n",
    "import source.players.belief_max as bm\n",
    "import source.players.dmd as dmd\n",
    "import source.players.bayesian_approximator\n",
    "import source.belief as belief\n",
    "\n",
    "import concurrent.futures\n",
    "import pkgutil\n",
    "import logging\n",
    "import sys\n",
    "from source.util import *\n",
    "import numpy as np\n",
    "import pandas as pd\n",
    "from importlib import *\n",
    "import time\n",
    "import os\n",
    "import shutil\n",
    "import re\n",
    "from copy import deepcopy, copy\n",
    "import datetime\n",
    "from contextlib import redirect_stdout\n",
    "from random import shuffle"
   ]
  },
  {
   "cell_type": "code",
   "execution_count": 150,
   "metadata": {},
   "outputs": [],
   "source": [
    "# run once\n",
    "\n",
    "lvl = logging.DEBUG\n",
    "logger = logging.getLogger(\"source\")\n",
    "logger.setLevel(lvl)\n",
    "#ch = logging.StreamHandler(sys.stdout)\n",
    "ch = logging.FileHandler(\"status\", mode='w')\n",
    "ch.setLevel(lvl)\n",
    "#formatter = logging.Formatter('%(asctime)s - %(name)s - %(levelname)s - %(message)s')\n",
    "formatter = logging.Formatter('%(message)s')\n",
    "ch.setFormatter(formatter)\n",
    "logger.addHandler(ch)"
   ]
  },
  {
   "cell_type": "code",
   "execution_count": 151,
   "metadata": {},
   "outputs": [],
   "source": [
    "lvl = logging.WARNING\n",
    "logger.setLevel(lvl)\n",
    "ch.setLevel(lvl)"
   ]
  },
  {
   "cell_type": "code",
   "execution_count": 185,
   "metadata": {},
   "outputs": [
    {
     "data": {
      "text/plain": [
       "<module 'source.belief' from '..\\\\source\\\\belief.py'>"
      ]
     },
     "execution_count": 185,
     "metadata": {},
     "output_type": "execute_result"
    }
   ],
   "source": [
    "# if you change something in the files, don't forget to reload\n",
    "reload(player)\n",
    "reload(base_defenders)\n",
    "reload(attackers)\n",
    "reload(defenders)\n",
    "reload(errors)\n",
    "reload(environment)\n",
    "reload(runner)\n",
    "reload(parsers)\n",
    "reload(game)\n",
    "reload(holmes)\n",
    "reload(sad)\n",
    "reload(b2bw2w)\n",
    "reload(util)\n",
    "reload(bm)\n",
    "reload(dmd)\n",
    "reload(belief)"
   ]
  },
  {
   "cell_type": "markdown",
   "metadata": {},
   "source": [
    "### Set batch path, batch folder need not to already exist"
   ]
  },
  {
   "cell_type": "code",
   "execution_count": 186,
   "metadata": {},
   "outputs": [],
   "source": [
    "experiments_folder = \"../NewExperiments\"\n",
    "exp_subfolder = \"/Multi_prof\" #insert folder where batch is\n",
    "batch_name = \"test1\" #insert batch name\n",
    "batch_file = batch_name + \".csv\"\n",
    "batch_path = experiments_folder + exp_subfolder + \"/\" + batch_file"
   ]
  },
  {
   "cell_type": "markdown",
   "metadata": {},
   "source": [
    "### Parsing the csv to generate a batch containing the configurations and running them"
   ]
  },
  {
   "cell_type": "code",
   "execution_count": 187,
   "metadata": {},
   "outputs": [],
   "source": [
    "b = runner.Batch(batch_path, experiments_folder + exp_subfolder)"
   ]
  },
  {
   "cell_type": "code",
   "execution_count": 188,
   "metadata": {},
   "outputs": [],
   "source": [
    "if os.path.isdir(experiments_folder + exp_subfolder + \"/\" + batch_name):\n",
    "    shutil.rmtree(experiments_folder + exp_subfolder + \"/\" + batch_name)\n",
    "b.parse_batch()"
   ]
  },
  {
   "cell_type": "code",
   "execution_count": 189,
   "metadata": {},
   "outputs": [],
   "source": [
    "batches = []\n",
    "batches.append(b)"
   ]
  },
  {
   "cell_type": "code",
   "execution_count": 190,
   "metadata": {},
   "outputs": [],
   "source": [
    "with concurrent.futures.ProcessPoolExecutor(None) as executor:\n",
    "    futures = {}\n",
    "    logger.info(str(datetime.datetime.now()))\n",
    "    for b in batches:\n",
    "        b.run(futures, executor, n=2)"
   ]
  },
  {
   "cell_type": "markdown",
   "metadata": {},
   "source": [
    "### Collecting results of the runs"
   ]
  },
  {
   "cell_type": "code",
   "execution_count": 191,
   "metadata": {},
   "outputs": [
    {
     "ename": "ZeroDivisionError",
     "evalue": "division by zero",
     "output_type": "error",
     "traceback": [
      "\u001b[1;31m---------------------------------------------------------------------------\u001b[0m",
      "\u001b[1;31mZeroDivisionError\u001b[0m                         Traceback (most recent call last)",
      "\u001b[1;32m<ipython-input-191-ba30b20874c9>\u001b[0m in \u001b[0;36m<module>\u001b[1;34m()\u001b[0m\n\u001b[0;32m      2\u001b[0m     \u001b[1;32mwith\u001b[0m \u001b[0mredirect_stdout\u001b[0m\u001b[1;33m(\u001b[0m\u001b[0mf\u001b[0m\u001b[1;33m)\u001b[0m\u001b[1;33m:\u001b[0m\u001b[1;33m\u001b[0m\u001b[0m\n\u001b[0;32m      3\u001b[0m         \u001b[1;32mfor\u001b[0m \u001b[0mb\u001b[0m \u001b[1;32min\u001b[0m \u001b[0mbatches\u001b[0m\u001b[1;33m:\u001b[0m\u001b[1;33m\u001b[0m\u001b[0m\n\u001b[1;32m----> 4\u001b[1;33m             \u001b[0mb\u001b[0m\u001b[1;33m.\u001b[0m\u001b[0mcollect\u001b[0m\u001b[1;33m(\u001b[0m\u001b[0mfutures\u001b[0m\u001b[1;33m)\u001b[0m\u001b[1;33m\u001b[0m\u001b[0m\n\u001b[0m\u001b[0;32m      5\u001b[0m             \u001b[0mconfs\u001b[0m \u001b[1;33m=\u001b[0m \u001b[0mb\u001b[0m\u001b[1;33m.\u001b[0m\u001b[0mconfigurations\u001b[0m\u001b[1;33m\u001b[0m\u001b[0m\n\u001b[0;32m      6\u001b[0m             \u001b[0mprint\u001b[0m\u001b[1;33m(\u001b[0m\u001b[0mb\u001b[0m\u001b[1;33m.\u001b[0m\u001b[0mresults_folder_path\u001b[0m\u001b[1;33m)\u001b[0m\u001b[1;33m\u001b[0m\u001b[0m\n",
      "\u001b[1;32m~\\Desktop\\Mattia\\Git\\onlineSG\\source\\runner.py\u001b[0m in \u001b[0;36mcollect\u001b[1;34m(self, futures)\u001b[0m\n\u001b[0;32m     92\u001b[0m     \u001b[1;32mdef\u001b[0m \u001b[0mcollect\u001b[0m\u001b[1;33m(\u001b[0m\u001b[0mself\u001b[0m\u001b[1;33m,\u001b[0m \u001b[0mfutures\u001b[0m\u001b[1;33m)\u001b[0m\u001b[1;33m:\u001b[0m\u001b[1;33m\u001b[0m\u001b[0m\n\u001b[0;32m     93\u001b[0m         \u001b[1;32mfor\u001b[0m \u001b[0mc\u001b[0m \u001b[1;32min\u001b[0m \u001b[0mself\u001b[0m\u001b[1;33m.\u001b[0m\u001b[0mconfigurations\u001b[0m\u001b[1;33m:\u001b[0m\u001b[1;33m\u001b[0m\u001b[0m\n\u001b[1;32m---> 94\u001b[1;33m             \u001b[0mc\u001b[0m\u001b[1;33m.\u001b[0m\u001b[0mcollect\u001b[0m\u001b[1;33m(\u001b[0m\u001b[0mfutures\u001b[0m\u001b[1;33m)\u001b[0m\u001b[1;33m\u001b[0m\u001b[0m\n\u001b[0m\u001b[0;32m     95\u001b[0m \u001b[1;33m\u001b[0m\u001b[0m\n\u001b[0;32m     96\u001b[0m     \u001b[1;32mdef\u001b[0m \u001b[0m__str__\u001b[0m\u001b[1;33m(\u001b[0m\u001b[0mself\u001b[0m\u001b[1;33m)\u001b[0m\u001b[1;33m:\u001b[0m\u001b[1;33m\u001b[0m\u001b[0m\n",
      "\u001b[1;32m~\\Desktop\\Mattia\\Git\\onlineSG\\source\\runner.py\u001b[0m in \u001b[0;36mcollect\u001b[1;34m(self, futures)\u001b[0m\n\u001b[0;32m    222\u001b[0m             \u001b[0mresult\u001b[0m \u001b[1;33m=\u001b[0m \u001b[0mfuture\u001b[0m\u001b[1;33m.\u001b[0m\u001b[0mresult\u001b[0m\u001b[1;33m(\u001b[0m\u001b[1;33m)\u001b[0m\u001b[1;33m\u001b[0m\u001b[0m\n\u001b[0;32m    223\u001b[0m             \u001b[0mself\u001b[0m\u001b[1;33m.\u001b[0m\u001b[0mexperiments\u001b[0m\u001b[1;33m.\u001b[0m\u001b[0mappend\u001b[0m\u001b[1;33m(\u001b[0m\u001b[0mresult\u001b[0m\u001b[1;33m)\u001b[0m\u001b[1;33m\u001b[0m\u001b[0m\n\u001b[1;32m--> 224\u001b[1;33m         \u001b[0mself\u001b[0m\u001b[1;33m.\u001b[0m\u001b[0mcompute_stats\u001b[0m\u001b[1;33m(\u001b[0m\u001b[1;33m)\u001b[0m\u001b[1;33m\u001b[0m\u001b[0m\n\u001b[0m\u001b[0;32m    225\u001b[0m         \u001b[1;32mif\u001b[0m \u001b[0mself\u001b[0m\u001b[1;33m.\u001b[0m\u001b[0mprint_results\u001b[0m\u001b[1;33m:\u001b[0m\u001b[1;33m\u001b[0m\u001b[0m\n\u001b[0;32m    226\u001b[0m             \u001b[0mself\u001b[0m\u001b[1;33m.\u001b[0m\u001b[0mprint_stats_file\u001b[0m\u001b[1;33m(\u001b[0m\u001b[1;33m)\u001b[0m\u001b[1;33m\u001b[0m\u001b[0m\n",
      "\u001b[1;32m~\\Desktop\\Mattia\\Git\\onlineSG\\source\\runner.py\u001b[0m in \u001b[0;36mcompute_stats\u001b[1;34m(self)\u001b[0m\n\u001b[0;32m    160\u001b[0m         lst = [np.array(e.exp_regret) for e in self.experiments\n\u001b[0;32m    161\u001b[0m                if isinstance(e, Experiment)]\n\u001b[1;32m--> 162\u001b[1;33m         \u001b[0mavgs\u001b[0m \u001b[1;33m=\u001b[0m \u001b[0msum\u001b[0m\u001b[1;33m(\u001b[0m\u001b[0mlst\u001b[0m\u001b[1;33m)\u001b[0m \u001b[1;33m/\u001b[0m \u001b[0mlen\u001b[0m\u001b[1;33m(\u001b[0m\u001b[0mlst\u001b[0m\u001b[1;33m)\u001b[0m\u001b[1;33m\u001b[0m\u001b[0m\n\u001b[0m\u001b[0;32m    163\u001b[0m         var = [np.array([(r - avgs[i]) ** 2\n\u001b[0;32m    164\u001b[0m                          for i, r in enumerate(ls)])\n",
      "\u001b[1;31mZeroDivisionError\u001b[0m: division by zero"
     ]
    }
   ],
   "source": [
    "with open('progress', 'w') as f:\n",
    "    with redirect_stdout(f):\n",
    "        for b in batches:\n",
    "            b.collect(futures)\n",
    "            confs = b.configurations\n",
    "            print(b.results_folder_path)\n",
    "            dlist = [{\"name\": c.game.players[0].__class__.name,\n",
    "                      \"avgs\": c.stats[\"exp_regret\"], \n",
    "                      \"lb\": c.stats[\"lb_exp_regret\"],\n",
    "                      \"ub\": c.stats[\"ub_exp_regret\"],\n",
    "                      \"tb\": c.stats[\"theoretical_bound\"]}\n",
    "                     for c in confs]\n",
    "            util.plot_dicts(dlist, ylabel=\"$exp\\_reg(t)$\", xlabel=\"$t$\", save=True, show=False, semilog=False,\n",
    "                            path=b.results_folder_path,\n",
    "                            title=confs[0].game.players[0].__class__.name + \" vs \" + confs[0].game.players[1].__class__.name)"
   ]
  },
  {
   "cell_type": "markdown",
   "metadata": {},
   "source": [
    "### Checking everything was fine by running the configuration \"step-by-step\""
   ]
  },
  {
   "cell_type": "code",
   "execution_count": 192,
   "metadata": {},
   "outputs": [],
   "source": [
    "gm = deepcopy(batches[0].configurations[0].game)"
   ]
  },
  {
   "cell_type": "code",
   "execution_count": 193,
   "metadata": {},
   "outputs": [],
   "source": [
    "e = runner.Experiment(gm)"
   ]
  },
  {
   "cell_type": "code",
   "execution_count": 194,
   "metadata": {},
   "outputs": [
    {
     "ename": "TypeError",
     "evalue": "unsupported operand type(s) for -: 'float' and 'NoneType'",
     "output_type": "error",
     "traceback": [
      "\u001b[1;31m---------------------------------------------------------------------------\u001b[0m",
      "\u001b[1;31mTypeError\u001b[0m                                 Traceback (most recent call last)",
      "\u001b[1;32m<ipython-input-194-80b637314ab4>\u001b[0m in \u001b[0;36m<module>\u001b[1;34m()\u001b[0m\n\u001b[0;32m      1\u001b[0m \u001b[1;32mfor\u001b[0m \u001b[0mi\u001b[0m \u001b[1;32min\u001b[0m \u001b[0mrange\u001b[0m\u001b[1;33m(\u001b[0m\u001b[1;36m50\u001b[0m\u001b[1;33m)\u001b[0m\u001b[1;33m:\u001b[0m\u001b[1;33m\u001b[0m\u001b[0m\n\u001b[1;32m----> 2\u001b[1;33m     \u001b[0me\u001b[0m\u001b[1;33m.\u001b[0m\u001b[0mrun_multi_profile_interaction\u001b[0m\u001b[1;33m(\u001b[0m\u001b[1;33m)\u001b[0m\u001b[1;33m\u001b[0m\u001b[0m\n\u001b[0m\u001b[0;32m      3\u001b[0m     \u001b[1;31m#e.run_partial_feedback_interaction()\u001b[0m\u001b[1;33m\u001b[0m\u001b[1;33m\u001b[0m\u001b[0m\n\u001b[0;32m      4\u001b[0m     \u001b[1;31m#e.run_interaction()\u001b[0m\u001b[1;33m\u001b[0m\u001b[1;33m\u001b[0m\u001b[0m\n\u001b[0;32m      5\u001b[0m     \u001b[0mprint\u001b[0m\u001b[1;33m(\u001b[0m\u001b[0me\u001b[0m\u001b[1;33m.\u001b[0m\u001b[0mgame\u001b[0m\u001b[1;33m.\u001b[0m\u001b[0mplayers\u001b[0m\u001b[1;33m[\u001b[0m\u001b[1;36m1\u001b[0m\u001b[1;33m]\u001b[0m\u001b[1;33m)\u001b[0m\u001b[1;33m\u001b[0m\u001b[0m\n",
      "\u001b[1;32m~\\Desktop\\Mattia\\Git\\onlineSG\\source\\runner.py\u001b[0m in \u001b[0;36mrun_multi_profile_interaction\u001b[1;34m(self)\u001b[0m\n\u001b[0;32m    304\u001b[0m         \u001b[1;32mif\u001b[0m \u001b[0mself\u001b[0m\u001b[1;33m.\u001b[0m\u001b[0mgame\u001b[0m\u001b[1;33m.\u001b[0m\u001b[0mhistory\u001b[0m\u001b[1;33m:\u001b[0m\u001b[1;33m\u001b[0m\u001b[0m\n\u001b[0;32m    305\u001b[0m             \u001b[0mself\u001b[0m\u001b[1;33m.\u001b[0m\u001b[0mgame\u001b[0m\u001b[1;33m.\u001b[0m\u001b[0mset_attacker_profiles\u001b[0m\u001b[1;33m(\u001b[0m\u001b[1;33m)\u001b[0m\u001b[1;33m\u001b[0m\u001b[0m\n\u001b[1;32m--> 306\u001b[1;33m         \u001b[0mself\u001b[0m\u001b[1;33m.\u001b[0m\u001b[0mrun_partial_feedback_interaction\u001b[0m\u001b[1;33m(\u001b[0m\u001b[1;33m)\u001b[0m\u001b[1;33m\u001b[0m\u001b[0m\n\u001b[0m\u001b[0;32m    307\u001b[0m \u001b[1;33m\u001b[0m\u001b[0m\n\u001b[0;32m    308\u001b[0m     \u001b[1;32mdef\u001b[0m \u001b[0mupdate_stats\u001b[0m\u001b[1;33m(\u001b[0m\u001b[0mself\u001b[0m\u001b[1;33m)\u001b[0m\u001b[1;33m:\u001b[0m\u001b[1;33m\u001b[0m\u001b[0m\n",
      "\u001b[1;32m~\\Desktop\\Mattia\\Git\\onlineSG\\source\\runner.py\u001b[0m in \u001b[0;36mrun_partial_feedback_interaction\u001b[1;34m(self)\u001b[0m\n\u001b[0;32m    299\u001b[0m         \u001b[1;31m#self.game.set_perceived_target()\u001b[0m\u001b[1;33m\u001b[0m\u001b[1;33m\u001b[0m\u001b[0m\n\u001b[0;32m    300\u001b[0m         \u001b[0mself\u001b[0m\u001b[1;33m.\u001b[0m\u001b[0magent\u001b[0m\u001b[1;33m.\u001b[0m\u001b[0mreceive_feedback\u001b[0m\u001b[1;33m(\u001b[0m\u001b[0mfeedback\u001b[0m\u001b[1;33m)\u001b[0m\u001b[1;33m\u001b[0m\u001b[0m\n\u001b[1;32m--> 301\u001b[1;33m         \u001b[0mself\u001b[0m\u001b[1;33m.\u001b[0m\u001b[0mupdate_stats\u001b[0m\u001b[1;33m(\u001b[0m\u001b[1;33m)\u001b[0m\u001b[1;33m\u001b[0m\u001b[0m\n\u001b[0m\u001b[0;32m    302\u001b[0m \u001b[1;33m\u001b[0m\u001b[0m\n\u001b[0;32m    303\u001b[0m     \u001b[1;32mdef\u001b[0m \u001b[0mrun_multi_profile_interaction\u001b[0m\u001b[1;33m(\u001b[0m\u001b[0mself\u001b[0m\u001b[1;33m)\u001b[0m\u001b[1;33m:\u001b[0m\u001b[1;33m\u001b[0m\u001b[0m\n",
      "\u001b[1;32m~\\Desktop\\Mattia\\Git\\onlineSG\\source\\runner.py\u001b[0m in \u001b[0;36mupdate_stats\u001b[1;34m(self)\u001b[0m\n\u001b[0;32m    313\u001b[0m             \u001b[0mself\u001b[0m\u001b[1;33m.\u001b[0m\u001b[0mexp_loss\u001b[0m\u001b[1;33m.\u001b[0m\u001b[0mappend\u001b[0m\u001b[1;33m(\u001b[0m\u001b[0mel\u001b[0m\u001b[1;33m)\u001b[0m\u001b[1;33m\u001b[0m\u001b[0m\n\u001b[0;32m    314\u001b[0m             \u001b[1;32mif\u001b[0m \u001b[1;32mnot\u001b[0m \u001b[0mself\u001b[0m\u001b[1;33m.\u001b[0m\u001b[0mexp_regret\u001b[0m\u001b[1;33m:\u001b[0m\u001b[1;33m\u001b[0m\u001b[0m\n\u001b[1;32m--> 315\u001b[1;33m                 \u001b[0mself\u001b[0m\u001b[1;33m.\u001b[0m\u001b[0mexp_regret\u001b[0m\u001b[1;33m.\u001b[0m\u001b[0mappend\u001b[0m\u001b[1;33m(\u001b[0m\u001b[0mel\u001b[0m \u001b[1;33m-\u001b[0m \u001b[0mol\u001b[0m\u001b[1;33m)\u001b[0m\u001b[1;33m\u001b[0m\u001b[0m\n\u001b[0m\u001b[0;32m    316\u001b[0m             \u001b[1;32melse\u001b[0m\u001b[1;33m:\u001b[0m\u001b[1;33m\u001b[0m\u001b[0m\n\u001b[0;32m    317\u001b[0m                 \u001b[0mself\u001b[0m\u001b[1;33m.\u001b[0m\u001b[0mexp_regret\u001b[0m\u001b[1;33m.\u001b[0m\u001b[0mappend\u001b[0m\u001b[1;33m(\u001b[0m\u001b[0mself\u001b[0m\u001b[1;33m.\u001b[0m\u001b[0mexp_regret\u001b[0m\u001b[1;33m[\u001b[0m\u001b[1;33m-\u001b[0m\u001b[1;36m1\u001b[0m\u001b[1;33m]\u001b[0m \u001b[1;33m+\u001b[0m \u001b[1;33m(\u001b[0m\u001b[0mel\u001b[0m \u001b[1;33m-\u001b[0m \u001b[0mol\u001b[0m\u001b[1;33m)\u001b[0m\u001b[1;33m)\u001b[0m\u001b[1;33m\u001b[0m\u001b[0m\n",
      "\u001b[1;31mTypeError\u001b[0m: unsupported operand type(s) for -: 'float' and 'NoneType'"
     ]
    }
   ],
   "source": [
    "for i in range(50):\n",
    "    e.run_multi_profile_interaction()\n",
    "    #e.run_partial_feedback_interaction()\n",
    "    #e.run_interaction()\n",
    "    print(e.game.players[1])\n",
    "    print(e.game.strategy_history[-1])\n",
    "    #print(util.game_str(e.game, lenght=7))\n",
    "    print(e.game.history[-1])\n",
    "    #print(list(e.agent.belief.pr.items())[2])"
   ]
  },
  {
   "cell_type": "code",
   "execution_count": 163,
   "metadata": {},
   "outputs": [
    {
     "name": "stdout",
     "output_type": "stream",
     "text": [
      "{(<StochasticAttacker id:1 resources:1>, <StochasticAttacker id:1 resources:1>): -1.2729841680429828, (<StochasticAttacker id:1 resources:1>, <StochasticAttacker id:1 resources:1>): -1.3984172590529413, (<StochasticAttacker id:1 resources:1>, <StochasticAttacker id:1 resources:1>): -1.3250210195694612, (<StochasticAttacker id:1 resources:1>, <StackelbergAttacker id:1 resources:1>): -0.7599894782683073, (<StochasticAttacker id:1 resources:1>, <StochasticAttacker id:1 resources:1>): -1.2811185803976612, (<StochasticAttacker id:1 resources:1>, <StochasticAttacker id:1 resources:1>): -0.9852982359988631, (<StochasticAttacker id:1 resources:1>, <StochasticAttacker id:1 resources:1>): -1.2544455091754825, (<StochasticAttacker id:1 resources:1>, <StochasticAttacker id:1 resources:1>): -1.3205924467048396, (<StochasticAttacker id:1 resources:1>, <StochasticAttacker id:1 resources:1>): -1.342946264648846, (<StochasticAttacker id:1 resources:1>, <StackelbergAttacker id:1 resources:1>): -0.9411845656064345, (<StochasticAttacker id:1 resources:1>, <StochasticAttacker id:1 resources:1>): -1.315007590339636, (<StochasticAttacker id:1 resources:1>, <StochasticAttacker id:1 resources:1>): -1.0012136951442838, (<StochasticAttacker id:1 resources:1>, <StochasticAttacker id:1 resources:1>): -1.2328641803768203, (<StochasticAttacker id:1 resources:1>, <StochasticAttacker id:1 resources:1>): -1.4633314480365232, (<StochasticAttacker id:1 resources:1>, <StackelbergAttacker id:1 resources:1>): -0.9374563666217742, (<StochasticAttacker id:1 resources:1>, <StochasticAttacker id:1 resources:1>): -1.5060748078195019, (<StochasticAttacker id:1 resources:1>, <StochasticAttacker id:1 resources:1>): -1.166380543362003, (<StochasticAttacker id:1 resources:1>, <StochasticAttacker id:1 resources:1>): -1.4765164123055743, (<StochasticAttacker id:1 resources:1>, <StackelbergAttacker id:1 resources:1>): -0.9274978474502562, (<StochasticAttacker id:1 resources:1>, <StochasticAttacker id:1 resources:1>): -1.4462221415339302, (<StochasticAttacker id:1 resources:1>, <StochasticAttacker id:1 resources:1>): -1.1423066761186589, (<StochasticAttacker id:1 resources:1>, <StochasticAttacker id:1 resources:1>): -1.3799417647384273, (<StackelbergAttacker id:1 resources:1>, <StochasticAttacker id:1 resources:1>): -1.030040263957825, (<StackelbergAttacker id:1 resources:1>, <StochasticAttacker id:1 resources:1>): -2.201903194093231, (<StackelbergAttacker id:1 resources:1>, <StochasticAttacker id:1 resources:1>): -1.698355692606535, (<StochasticAttacker id:1 resources:1>, <StochasticAttacker id:1 resources:1>): -1.2697436479766022, (<StochasticAttacker id:1 resources:1>, <StochasticAttacker id:1 resources:1>): -1.5066556318013589, (<StochasticAttacker id:1 resources:1>, <StochasticAttacker id:1 resources:1>): -1.9291597645854386}\n"
     ]
    }
   ],
   "source": [
    "print(gm.players[0].belief.loglk)"
   ]
  },
  {
   "cell_type": "code",
   "execution_count": 164,
   "metadata": {},
   "outputs": [
    {
     "name": "stdout",
     "output_type": "stream",
     "text": [
      "(((<StochasticAttacker id:1 resources:1>, 0.7), (<StackelbergAttacker id:1 resources:1>, 0.3)),)\n"
     ]
    }
   ],
   "source": [
    "print(gm.profile_distribution)"
   ]
  },
  {
   "cell_type": "code",
   "execution_count": 165,
   "metadata": {},
   "outputs": [
    {
     "name": "stdout",
     "output_type": "stream",
     "text": [
      "[['sto1-0.029000000000000005-0.15900000000000003-0.48600000000000004-0.11100000000000002-0.21500000000000002'], ['sta1'], ['sto1-0.029000000000000005-0.15900000000000003-0.48600000000000004-0.11100000000000002-0.21500000000000002'], ['sto1-0.029000000000000005-0.15900000000000003-0.48600000000000004-0.11100000000000002-0.21500000000000002'], ['sto1-0.029000000000000005-0.15900000000000003-0.48600000000000004-0.11100000000000002-0.21500000000000002'], ['sto1-0.029000000000000005-0.15900000000000003-0.48600000000000004-0.11100000000000002-0.21500000000000002'], ['sto1-0.029000000000000005-0.15900000000000003-0.48600000000000004-0.11100000000000002-0.21500000000000002'], ['sto1-0.029000000000000005-0.15900000000000003-0.48600000000000004-0.11100000000000002-0.21500000000000002'], ['sto1-0.029000000000000005-0.15900000000000003-0.48600000000000004-0.11100000000000002-0.21500000000000002'], ['sta1'], ['sto1-0.029000000000000005-0.15900000000000003-0.48600000000000004-0.11100000000000002-0.21500000000000002'], ['sta1'], ['sto1-0.029000000000000005-0.15900000000000003-0.48600000000000004-0.11100000000000002-0.21500000000000002'], ['sto1-0.029000000000000005-0.15900000000000003-0.48600000000000004-0.11100000000000002-0.21500000000000002'], ['sto1-0.029000000000000005-0.15900000000000003-0.48600000000000004-0.11100000000000002-0.21500000000000002'], ['sto1-0.029000000000000005-0.15900000000000003-0.48600000000000004-0.11100000000000002-0.21500000000000002'], ['sta1'], ['sto1-0.029000000000000005-0.15900000000000003-0.48600000000000004-0.11100000000000002-0.21500000000000002'], ['sto1-0.029000000000000005-0.15900000000000003-0.48600000000000004-0.11100000000000002-0.21500000000000002'], ['sto1-0.029000000000000005-0.15900000000000003-0.48600000000000004-0.11100000000000002-0.21500000000000002'], ['sto1-0.029000000000000005-0.15900000000000003-0.48600000000000004-0.11100000000000002-0.21500000000000002'], ['sto1-0.029000000000000005-0.15900000000000003-0.48600000000000004-0.11100000000000002-0.21500000000000002'], ['sto1-0.029000000000000005-0.15900000000000003-0.48600000000000004-0.11100000000000002-0.21500000000000002'], ['sto1-0.029000000000000005-0.15900000000000003-0.48600000000000004-0.11100000000000002-0.21500000000000002'], ['sta1'], ['sto1-0.029000000000000005-0.15900000000000003-0.48600000000000004-0.11100000000000002-0.21500000000000002'], ['sto1-0.029000000000000005-0.15900000000000003-0.48600000000000004-0.11100000000000002-0.21500000000000002'], ['sta1'], ['sta1'], ['sto1-0.029000000000000005-0.15900000000000003-0.48600000000000004-0.11100000000000002-0.21500000000000002'], ['sta1'], ['sta1'], ['sta1'], ['sto1-0.029000000000000005-0.15900000000000003-0.48600000000000004-0.11100000000000002-0.21500000000000002'], ['sto1-0.029000000000000005-0.15900000000000003-0.48600000000000004-0.11100000000000002-0.21500000000000002'], ['sto1-0.029000000000000005-0.15900000000000003-0.48600000000000004-0.11100000000000002-0.21500000000000002'], ['sta1'], ['sto1-0.029000000000000005-0.15900000000000003-0.48600000000000004-0.11100000000000002-0.21500000000000002'], ['sta1'], ['sto1-0.029000000000000005-0.15900000000000003-0.48600000000000004-0.11100000000000002-0.21500000000000002'], ['sta1'], ['sta1'], ['sto1-0.029000000000000005-0.15900000000000003-0.48600000000000004-0.11100000000000002-0.21500000000000002'], ['sta1'], ['sto1-0.029000000000000005-0.15900000000000003-0.48600000000000004-0.11100000000000002-0.21500000000000002'], ['sto1-0.029000000000000005-0.15900000000000003-0.48600000000000004-0.11100000000000002-0.21500000000000002'], ['sta1'], ['sto1-0.029000000000000005-0.15900000000000003-0.48600000000000004-0.11100000000000002-0.21500000000000002'], ['sta1'], ['sto1-0.029000000000000005-0.15900000000000003-0.48600000000000004-0.11100000000000002-0.21500000000000002']]\n"
     ]
    }
   ],
   "source": [
    "print(gm.profiles_history)"
   ]
  },
  {
   "cell_type": "code",
   "execution_count": 166,
   "metadata": {},
   "outputs": [
    {
     "name": "stdout",
     "output_type": "stream",
     "text": [
      "['sto1-0.029000000000000005-0.15900000000000003-0.48600000000000004-0.11100000000000002-0.21500000000000002|sta1', 'sto1-0.029000000000000005-0.15900000000000003-0.48600000000000004-0.11100000000000002-0.21500000000000002|sto1-0.521-0.007-0.018-0.19-0.264', 'sta1|sto1-0.521-0.007-0.018-0.19-0.264', 'sta1|sto1-0.521-0.007-0.018-0.19-0.264', 'sta1|sto1-0.521-0.007-0.018-0.19-0.264', 'sto1-0.029000000000000005-0.15900000000000003-0.48600000000000004-0.11100000000000002-0.21500000000000002|sta1', 'sto1-0.1861861861861862-0.19319319319319322-0.29129129129129133-0.07707707707707709-0.2522522522522523|sta1', 'sto1-0.029000000000000005-0.15900000000000003-0.48600000000000004-0.11100000000000002-0.21500000000000002|sta1', 'sto1-0.029000000000000005-0.15900000000000003-0.48600000000000004-0.11100000000000002-0.21500000000000002|sta1', 'sto1-0.029000000000000005-0.15900000000000003-0.48600000000000004-0.11100000000000002-0.21500000000000002|sta1', 'sto1-0.029000000000000005-0.15900000000000003-0.48600000000000004-0.11100000000000002-0.21500000000000002|sta1', 'sto1-0.029000000000000005-0.15900000000000003-0.48600000000000004-0.11100000000000002-0.21500000000000002|sta1', 'sto1-0.029000000000000005-0.15900000000000003-0.48600000000000004-0.11100000000000002-0.21500000000000002|sta1', 'sto1-0.029000000000000005-0.15900000000000003-0.48600000000000004-0.11100000000000002-0.21500000000000002|sta1', 'sto1-0.029000000000000005-0.15900000000000003-0.48600000000000004-0.11100000000000002-0.21500000000000002|sta1', 'sto1-0.029000000000000005-0.15900000000000003-0.48600000000000004-0.11100000000000002-0.21500000000000002|sta1', 'sto1-0.029000000000000005-0.15900000000000003-0.48600000000000004-0.11100000000000002-0.21500000000000002|sta1', 'sto1-0.029000000000000005-0.15900000000000003-0.48600000000000004-0.11100000000000002-0.21500000000000002|sta1', 'sto1-0.029000000000000005-0.15900000000000003-0.48600000000000004-0.11100000000000002-0.21500000000000002|sta1', 'sto1-0.029000000000000005-0.15900000000000003-0.48600000000000004-0.11100000000000002-0.21500000000000002|sta1', 'sto1-0.029000000000000005-0.15900000000000003-0.48600000000000004-0.11100000000000002-0.21500000000000002|sta1', 'sto1-0.029000000000000005-0.15900000000000003-0.48600000000000004-0.11100000000000002-0.21500000000000002|sta1', 'sto1-0.029000000000000005-0.15900000000000003-0.48600000000000004-0.11100000000000002-0.21500000000000002|sta1', 'sto1-0.029000000000000005-0.15900000000000003-0.48600000000000004-0.11100000000000002-0.21500000000000002|sta1', 'sto1-0.029000000000000005-0.15900000000000003-0.48600000000000004-0.11100000000000002-0.21500000000000002|sta1', 'sto1-0.029000000000000005-0.15900000000000003-0.48600000000000004-0.11100000000000002-0.21500000000000002|sta1', 'sto1-0.029000000000000005-0.15900000000000003-0.48600000000000004-0.11100000000000002-0.21500000000000002|sta1', 'sto1-0.029000000000000005-0.15900000000000003-0.48600000000000004-0.11100000000000002-0.21500000000000002|sta1', 'sto1-0.029000000000000005-0.15900000000000003-0.48600000000000004-0.11100000000000002-0.21500000000000002|sta1', 'sto1-0.029000000000000005-0.15900000000000003-0.48600000000000004-0.11100000000000002-0.21500000000000002|sta1', 'sto1-0.029000000000000005-0.15900000000000003-0.48600000000000004-0.11100000000000002-0.21500000000000002|sta1', 'sto1-0.029000000000000005-0.15900000000000003-0.48600000000000004-0.11100000000000002-0.21500000000000002|sta1', 'sto1-0.029000000000000005-0.15900000000000003-0.48600000000000004-0.11100000000000002-0.21500000000000002|sta1', 'sto1-0.029000000000000005-0.15900000000000003-0.48600000000000004-0.11100000000000002-0.21500000000000002|sta1', 'sto1-0.029000000000000005-0.15900000000000003-0.48600000000000004-0.11100000000000002-0.21500000000000002|sta1', 'sto1-0.029000000000000005-0.15900000000000003-0.48600000000000004-0.11100000000000002-0.21500000000000002|sta1', 'sto1-0.029000000000000005-0.15900000000000003-0.48600000000000004-0.11100000000000002-0.21500000000000002|sta1', 'sto1-0.029000000000000005-0.15900000000000003-0.48600000000000004-0.11100000000000002-0.21500000000000002|sta1', 'sto1-0.029000000000000005-0.15900000000000003-0.48600000000000004-0.11100000000000002-0.21500000000000002|sta1', 'sto1-0.029000000000000005-0.15900000000000003-0.48600000000000004-0.11100000000000002-0.21500000000000002|sta1', 'sto1-0.029000000000000005-0.15900000000000003-0.48600000000000004-0.11100000000000002-0.21500000000000002|sta1', 'sto1-0.029000000000000005-0.15900000000000003-0.48600000000000004-0.11100000000000002-0.21500000000000002|sta1', 'sto1-0.029000000000000005-0.15900000000000003-0.48600000000000004-0.11100000000000002-0.21500000000000002|sta1', 'sto1-0.029000000000000005-0.15900000000000003-0.48600000000000004-0.11100000000000002-0.21500000000000002|sta1', 'sto1-0.029000000000000005-0.15900000000000003-0.48600000000000004-0.11100000000000002-0.21500000000000002|sta1', 'sto1-0.029000000000000005-0.15900000000000003-0.48600000000000004-0.11100000000000002-0.21500000000000002|sta1', 'sto1-0.029000000000000005-0.15900000000000003-0.48600000000000004-0.11100000000000002-0.21500000000000002|sta1', 'sto1-0.029000000000000005-0.15900000000000003-0.48600000000000004-0.11100000000000002-0.21500000000000002|sta1', 'sto1-0.029000000000000005-0.15900000000000003-0.48600000000000004-0.11100000000000002-0.21500000000000002|sta1', 'sto1-0.029000000000000005-0.15900000000000003-0.48600000000000004-0.11100000000000002-0.21500000000000002|sta1']\n"
     ]
    }
   ],
   "source": [
    "print(gm.players[0].learning_history)"
   ]
  },
  {
   "cell_type": "code",
   "execution_count": 167,
   "metadata": {},
   "outputs": [
    {
     "name": "stdout",
     "output_type": "stream",
     "text": [
      "{(<StochasticAttacker id:1 resources:1>, <StochasticAttacker id:1 resources:1>): [27, 23], (<StochasticAttacker id:1 resources:1>, <StochasticAttacker id:1 resources:1>): [24, 26], (<StochasticAttacker id:1 resources:1>, <StochasticAttacker id:1 resources:1>): [21, 29], (<StochasticAttacker id:1 resources:1>, <StackelbergAttacker id:1 resources:1>): [32, 18], (<StochasticAttacker id:1 resources:1>, <StochasticAttacker id:1 resources:1>): [24, 26], (<StochasticAttacker id:1 resources:1>, <StochasticAttacker id:1 resources:1>): [25, 25], (<StochasticAttacker id:1 resources:1>, <StochasticAttacker id:1 resources:1>): [18, 32], (<StochasticAttacker id:1 resources:1>, <StochasticAttacker id:1 resources:1>): [41, 9], (<StochasticAttacker id:1 resources:1>, <StochasticAttacker id:1 resources:1>): [44, 6], (<StochasticAttacker id:1 resources:1>, <StackelbergAttacker id:1 resources:1>): [32, 18], (<StochasticAttacker id:1 resources:1>, <StochasticAttacker id:1 resources:1>): [41, 9], (<StochasticAttacker id:1 resources:1>, <StochasticAttacker id:1 resources:1>): [25, 25], (<StochasticAttacker id:1 resources:1>, <StochasticAttacker id:1 resources:1>): [34, 16], (<StochasticAttacker id:1 resources:1>, <StochasticAttacker id:1 resources:1>): [10, 40], (<StochasticAttacker id:1 resources:1>, <StackelbergAttacker id:1 resources:1>): [32, 18], (<StochasticAttacker id:1 resources:1>, <StochasticAttacker id:1 resources:1>): [28, 22], (<StochasticAttacker id:1 resources:1>, <StochasticAttacker id:1 resources:1>): [28, 22], (<StochasticAttacker id:1 resources:1>, <StochasticAttacker id:1 resources:1>): [18, 32], (<StochasticAttacker id:1 resources:1>, <StackelbergAttacker id:1 resources:1>): [32, 18], (<StochasticAttacker id:1 resources:1>, <StochasticAttacker id:1 resources:1>): [24, 26], (<StochasticAttacker id:1 resources:1>, <StochasticAttacker id:1 resources:1>): [25, 25], (<StochasticAttacker id:1 resources:1>, <StochasticAttacker id:1 resources:1>): [40, 10], (<StackelbergAttacker id:1 resources:1>, <StochasticAttacker id:1 resources:1>): [18, 32], (<StackelbergAttacker id:1 resources:1>, <StochasticAttacker id:1 resources:1>): [18, 32], (<StackelbergAttacker id:1 resources:1>, <StochasticAttacker id:1 resources:1>): [18, 32], (<StochasticAttacker id:1 resources:1>, <StochasticAttacker id:1 resources:1>): [28, 22], (<StochasticAttacker id:1 resources:1>, <StochasticAttacker id:1 resources:1>): [34, 16], (<StochasticAttacker id:1 resources:1>, <StochasticAttacker id:1 resources:1>): [22, 28]}\n"
     ]
    }
   ],
   "source": [
    "print(gm.players[0].belief.freq)"
   ]
  },
  {
   "cell_type": "code",
   "execution_count": 148,
   "metadata": {},
   "outputs": [
    {
     "name": "stdout",
     "output_type": "stream",
     "text": [
      "(((<StochasticAttacker id:1 resources:1>, 0.7), (<StackelbergAttacker id:1 resources:1>, 0.3)),)\n"
     ]
    }
   ],
   "source": [
    "print(gm.profile_distribution)"
   ]
  },
  {
   "cell_type": "code",
   "execution_count": 195,
   "metadata": {},
   "outputs": [
    {
     "name": "stdout",
     "output_type": "stream",
     "text": [
      "0.6597999999999999\n"
     ]
    }
   ],
   "source": [
    "print(e.environment.last_exp_loss)"
   ]
  },
  {
   "cell_type": "code",
   "execution_count": 196,
   "metadata": {},
   "outputs": [
    {
     "name": "stdout",
     "output_type": "stream",
     "text": [
      "None\n"
     ]
    }
   ],
   "source": [
    "print(e.environment.last_opt_loss)"
   ]
  },
  {
   "cell_type": "code",
   "execution_count": null,
   "metadata": {},
   "outputs": [],
   "source": []
  }
 ],
 "metadata": {
  "kernelspec": {
   "display_name": "Python 3",
   "language": "python",
   "name": "python3"
  },
  "language_info": {
   "codemirror_mode": {
    "name": "ipython",
    "version": 3
   },
   "file_extension": ".py",
   "mimetype": "text/x-python",
   "name": "python",
   "nbconvert_exporter": "python",
   "pygments_lexer": "ipython3",
   "version": "3.7.0"
  }
 },
 "nbformat": 4,
 "nbformat_minor": 2
}
