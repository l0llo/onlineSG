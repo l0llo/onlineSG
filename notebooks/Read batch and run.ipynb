{
 "cells": [
  {
   "cell_type": "markdown",
   "metadata": {},
   "source": [
    "### Load source code"
   ]
  },
  {
   "cell_type": "code",
   "execution_count": 40,
   "metadata": {},
   "outputs": [
    {
     "data": {
      "text/html": [
       "<style>.container { width:100% !important; }</style>"
      ],
      "text/plain": [
       "<IPython.core.display.HTML object>"
      ]
     },
     "metadata": {},
     "output_type": "display_data"
    }
   ],
   "source": [
    "from IPython.core.display import display, HTML\n",
    "display(HTML(\"<style>.container { width:100% !important; }</style>\"))"
   ]
  },
  {
   "cell_type": "code",
   "execution_count": 41,
   "metadata": {},
   "outputs": [],
   "source": [
    "import sys\n",
    "sys.path.append('../')"
   ]
  },
  {
   "cell_type": "code",
   "execution_count": 42,
   "metadata": {},
   "outputs": [],
   "source": [
    "import source.players as pl\n",
    "import source.parsers as parsers\n",
    "import source.game as game\n",
    "import source.player as player\n",
    "import source.environment as environment\n",
    "import source.errors as errors\n",
    "import source.runner as runner\n",
    "import source.util as util\n",
    "import source.players.attackers as attackers\n",
    "import source.players.base_defenders as base_defenders\n",
    "import source.players.defenders as defenders\n",
    "import source.players.holmes as holmes\n",
    "import source.players.sad as sad\n",
    "import source.players.b2bw2w as b2bw2w\n",
    "import source.players.belief_max as bm\n",
    "import source.players.dmd as dmd\n",
    "\n",
    "import concurrent.futures\n",
    "import pkgutil\n",
    "import logging\n",
    "import sys\n",
    "from source.util import *\n",
    "import numpy as np\n",
    "import pandas as pd\n",
    "from importlib import *\n",
    "import time\n",
    "import os\n",
    "import shutil\n",
    "import re\n",
    "from copy import deepcopy, copy\n",
    "import datetime\n",
    "from contextlib import redirect_stdout\n",
    "from random import shuffle"
   ]
  },
  {
   "cell_type": "code",
   "execution_count": 43,
   "metadata": {},
   "outputs": [],
   "source": [
    "# run once\n",
    "\n",
    "lvl = logging.DEBUG\n",
    "logger = logging.getLogger(\"source\")\n",
    "logger.setLevel(lvl)\n",
    "#ch = logging.StreamHandler(sys.stdout)\n",
    "ch = logging.FileHandler(\"status\", mode='w')\n",
    "ch.setLevel(lvl)\n",
    "#formatter = logging.Formatter('%(asctime)s - %(name)s - %(levelname)s - %(message)s')\n",
    "formatter = logging.Formatter('%(message)s')\n",
    "ch.setFormatter(formatter)\n",
    "logger.addHandler(ch)"
   ]
  },
  {
   "cell_type": "code",
   "execution_count": 44,
   "metadata": {},
   "outputs": [],
   "source": [
    "lvl = logging.WARNING\n",
    "logger.setLevel(lvl)\n",
    "ch.setLevel(lvl)"
   ]
  },
  {
   "cell_type": "code",
   "execution_count": 45,
   "metadata": {},
   "outputs": [
    {
     "data": {
      "text/plain": [
       "<module 'source.players.dmd' from '..\\\\source\\\\players\\\\dmd.py'>"
      ]
     },
     "execution_count": 45,
     "metadata": {},
     "output_type": "execute_result"
    }
   ],
   "source": [
    "# if you change something in the files, don't forget to reload\n",
    "reload(player)\n",
    "reload(base_defenders)\n",
    "reload(attackers)\n",
    "reload(defenders)\n",
    "reload(errors)\n",
    "reload(environment)\n",
    "reload(runner)\n",
    "reload(parsers)\n",
    "reload(game)\n",
    "reload(holmes)\n",
    "reload(sad)\n",
    "reload(b2bw2w)\n",
    "reload(util)\n",
    "reload(bm)\n",
    "reload(dmd)"
   ]
  },
  {
   "cell_type": "markdown",
   "metadata": {},
   "source": [
    "### Set batch path, batch folder need not to already exist"
   ]
  },
  {
   "cell_type": "code",
   "execution_count": 46,
   "metadata": {},
   "outputs": [],
   "source": [
    "experiments_folder = \"../NewExperiments\"\n",
    "exp_subfolder = \"/Bayesian vs FB\" #insert folder where batch is\n",
    "batch_name = \"bd_vs_sto_3\" #insert batch name\n",
    "batch_file = batch_name + \".csv\"\n",
    "batch_path = experiments_folder + exp_subfolder + \"/\" + batch_file"
   ]
  },
  {
   "cell_type": "markdown",
   "metadata": {},
   "source": [
    "### Parsing the csv to generate a batch containing the configurations and running them"
   ]
  },
  {
   "cell_type": "code",
   "execution_count": 47,
   "metadata": {},
   "outputs": [],
   "source": [
    "b = runner.Batch(batch_path, experiments_folder + exp_subfolder)"
   ]
  },
  {
   "cell_type": "code",
   "execution_count": 48,
   "metadata": {},
   "outputs": [],
   "source": [
    "if os.path.isdir(experiments_folder + exp_subfolder + \"/\" + batch_name):\n",
    "    shutil.rmtree(experiments_folder + exp_subfolder + \"/\" + batch_name)\n",
    "b.parse_batch()"
   ]
  },
  {
   "cell_type": "code",
   "execution_count": 49,
   "metadata": {},
   "outputs": [],
   "source": [
    "batches = []\n",
    "batches.append(b)"
   ]
  },
  {
   "cell_type": "code",
   "execution_count": 50,
   "metadata": {},
   "outputs": [],
   "source": [
    "with concurrent.futures.ProcessPoolExecutor(None) as executor:\n",
    "    futures = {}\n",
    "    logger.info(str(datetime.datetime.now()))\n",
    "    for b in batches:\n",
    "        b.run(futures, executor, n=2)"
   ]
  },
  {
   "cell_type": "markdown",
   "metadata": {},
   "source": [
    "### Collecting results of the runs"
   ]
  },
  {
   "cell_type": "code",
   "execution_count": 51,
   "metadata": {},
   "outputs": [],
   "source": [
    "with open('progress', 'w') as f:\n",
    "    with redirect_stdout(f):\n",
    "        for b in batches:\n",
    "            b.collect(futures)\n",
    "            confs = b.configurations\n",
    "            print(b.results_folder_path)\n",
    "            dlist = [{\"name\": c.game.players[0].__class__.name,\n",
    "                      \"avgs\": c.stats[\"exp_regret\"], \n",
    "                      \"lb\": c.stats[\"lb_exp_regret\"],\n",
    "                      \"ub\": c.stats[\"ub_exp_regret\"]}\n",
    "                     for c in confs]\n",
    "            util.plot_dicts(dlist, save=True, show=False, semilog=False,\n",
    "                            path=b.results_folder_path,\n",
    "                            title=confs[0].game.players[1].__class__.name)"
   ]
  },
  {
   "cell_type": "markdown",
   "metadata": {},
   "source": [
    "### Checking everything was fine by running the configuration \"step-by-step\""
   ]
  },
  {
   "cell_type": "code",
   "execution_count": 13,
   "metadata": {},
   "outputs": [],
   "source": [
    "gm = deepcopy(batches[0].configurations[0].game)"
   ]
  },
  {
   "cell_type": "code",
   "execution_count": 14,
   "metadata": {},
   "outputs": [],
   "source": [
    "e = runner.Experiment(gm)"
   ]
  },
  {
   "cell_type": "code",
   "execution_count": 15,
   "metadata": {},
   "outputs": [
    {
     "name": "stdout",
     "output_type": "stream",
     "text": [
      "{0: (0, 0, 0, 0, 1, 0), 1: [0.011, 0.016, 0.127, 0.096, 0.314, 0.436]}\n",
      "{1: [4], 0: [4]}\n",
      "{0: (0, 0, 0, 0, 1, 0), 1: [0.011, 0.016, 0.127, 0.096, 0.314, 0.436]}\n",
      "{1: [5], 0: [4]}\n",
      "{0: (0, 0, 0, 0, 1, 0), 1: [0.011, 0.016, 0.127, 0.096, 0.314, 0.436]}\n",
      "{1: [3], 0: [4]}\n",
      "{0: (0, 0, 0, 0, 1, 0), 1: [0.011, 0.016, 0.127, 0.096, 0.314, 0.436]}\n",
      "{1: [5], 0: [4]}\n",
      "{0: (0, 0, 0, 0, 1, 0), 1: [0.011, 0.016, 0.127, 0.096, 0.314, 0.436]}\n",
      "{1: [4], 0: [4]}\n",
      "{0: (0, 0, 0, 0, 1, 0), 1: [0.011, 0.016, 0.127, 0.096, 0.314, 0.436]}\n",
      "{1: [2], 0: [4]}\n",
      "{0: (0, 0, 0, 0, 1, 0), 1: [0.011, 0.016, 0.127, 0.096, 0.314, 0.436]}\n",
      "{1: [4], 0: [4]}\n",
      "{0: (0, 0, 0, 0, 1, 0), 1: [0.011, 0.016, 0.127, 0.096, 0.314, 0.436]}\n",
      "{1: [4], 0: [4]}\n",
      "{0: (0, 0, 0, 0, 1, 0), 1: [0.011, 0.016, 0.127, 0.096, 0.314, 0.436]}\n",
      "{1: [5], 0: [4]}\n",
      "{0: (0, 0, 0, 0, 1, 0), 1: [0.011, 0.016, 0.127, 0.096, 0.314, 0.436]}\n",
      "{1: [5], 0: [4]}\n",
      "{0: (0, 0, 0, 0, 1, 0), 1: [0.011, 0.016, 0.127, 0.096, 0.314, 0.436]}\n",
      "{1: [4], 0: [4]}\n",
      "{0: (0, 0, 0, 0, 1, 0), 1: [0.011, 0.016, 0.127, 0.096, 0.314, 0.436]}\n",
      "{1: [3], 0: [4]}\n",
      "{0: (0, 0, 0, 0, 1, 0), 1: [0.011, 0.016, 0.127, 0.096, 0.314, 0.436]}\n",
      "{1: [5], 0: [4]}\n",
      "{0: (0, 0, 0, 0, 1, 0), 1: [0.011, 0.016, 0.127, 0.096, 0.314, 0.436]}\n",
      "{1: [5], 0: [4]}\n",
      "{0: (0, 0, 0, 0, 1, 0), 1: [0.011, 0.016, 0.127, 0.096, 0.314, 0.436]}\n",
      "{1: [5], 0: [4]}\n",
      "{0: (0, 0, 0, 0, 1, 0), 1: [0.011, 0.016, 0.127, 0.096, 0.314, 0.436]}\n",
      "{1: [5], 0: [4]}\n",
      "{0: (0, 0, 0, 0, 1, 0), 1: [0.011, 0.016, 0.127, 0.096, 0.314, 0.436]}\n",
      "{1: [5], 0: [4]}\n",
      "{0: (0, 0, 0, 0, 1, 0), 1: [0.011, 0.016, 0.127, 0.096, 0.314, 0.436]}\n",
      "{1: [1], 0: [4]}\n",
      "{0: (0, 0, 0, 0, 1, 0), 1: [0.011, 0.016, 0.127, 0.096, 0.314, 0.436]}\n",
      "{1: [4], 0: [4]}\n",
      "{0: (0, 0, 0, 0, 1, 0), 1: [0.011, 0.016, 0.127, 0.096, 0.314, 0.436]}\n",
      "{1: [4], 0: [4]}\n",
      "{0: (0, 0, 0, 0, 1, 0), 1: [0.011, 0.016, 0.127, 0.096, 0.314, 0.436]}\n",
      "{1: [4], 0: [4]}\n",
      "{0: (0, 0, 0, 0, 1, 0), 1: [0.011, 0.016, 0.127, 0.096, 0.314, 0.436]}\n",
      "{1: [5], 0: [4]}\n",
      "{0: (0, 0, 0, 0, 1, 0), 1: [0.011, 0.016, 0.127, 0.096, 0.314, 0.436]}\n",
      "{1: [4], 0: [4]}\n",
      "{0: (0, 0, 0, 0, 1, 0), 1: [0.011, 0.016, 0.127, 0.096, 0.314, 0.436]}\n",
      "{1: [5], 0: [4]}\n",
      "{0: (0, 0, 0, 0, 1, 0), 1: [0.011, 0.016, 0.127, 0.096, 0.314, 0.436]}\n",
      "{1: [5], 0: [4]}\n",
      "{0: (0, 0, 0, 0, 1, 0), 1: [0.011, 0.016, 0.127, 0.096, 0.314, 0.436]}\n",
      "{1: [5], 0: [4]}\n",
      "{0: (0, 0, 0, 0, 1, 0), 1: [0.011, 0.016, 0.127, 0.096, 0.314, 0.436]}\n",
      "{1: [3], 0: [4]}\n",
      "{0: (0, 0, 0, 0, 1, 0), 1: [0.011, 0.016, 0.127, 0.096, 0.314, 0.436]}\n",
      "{1: [5], 0: [4]}\n",
      "{0: (0, 0, 0, 0, 1, 0), 1: [0.011, 0.016, 0.127, 0.096, 0.314, 0.436]}\n",
      "{1: [4], 0: [4]}\n",
      "{0: (0, 0, 0, 0, 1, 0), 1: [0.011, 0.016, 0.127, 0.096, 0.314, 0.436]}\n",
      "{1: [5], 0: [4]}\n",
      "{0: (0, 0, 0, 0, 1, 0), 1: [0.011, 0.016, 0.127, 0.096, 0.314, 0.436]}\n",
      "{1: [5], 0: [4]}\n",
      "{0: (0, 0, 0, 0, 1, 0), 1: [0.011, 0.016, 0.127, 0.096, 0.314, 0.436]}\n",
      "{1: [2], 0: [4]}\n",
      "{0: (0, 0, 0, 0, 1, 0), 1: [0.011, 0.016, 0.127, 0.096, 0.314, 0.436]}\n",
      "{1: [2], 0: [4]}\n",
      "{0: (0, 0, 0, 0, 1, 0), 1: [0.011, 0.016, 0.127, 0.096, 0.314, 0.436]}\n",
      "{1: [4], 0: [4]}\n",
      "{0: (0, 0, 0, 0, 1, 0), 1: [0.011, 0.016, 0.127, 0.096, 0.314, 0.436]}\n",
      "{1: [5], 0: [4]}\n",
      "{0: (0, 0, 0, 0, 1, 0), 1: [0.011, 0.016, 0.127, 0.096, 0.314, 0.436]}\n",
      "{1: [4], 0: [4]}\n",
      "{0: (0, 0, 0, 0, 1, 0), 1: [0.011, 0.016, 0.127, 0.096, 0.314, 0.436]}\n",
      "{1: [2], 0: [4]}\n",
      "{0: (0, 0, 0, 0, 1, 0), 1: [0.011, 0.016, 0.127, 0.096, 0.314, 0.436]}\n",
      "{1: [2], 0: [4]}\n",
      "{0: (0, 0, 0, 0, 1, 0), 1: [0.011, 0.016, 0.127, 0.096, 0.314, 0.436]}\n",
      "{1: [5], 0: [4]}\n",
      "{0: (0, 0, 0, 0, 1, 0), 1: [0.011, 0.016, 0.127, 0.096, 0.314, 0.436]}\n",
      "{1: [3], 0: [4]}\n",
      "{0: (0, 0, 0, 0, 1, 0), 1: [0.011, 0.016, 0.127, 0.096, 0.314, 0.436]}\n",
      "{1: [5], 0: [4]}\n",
      "{0: (0, 0, 0, 0, 1, 0), 1: [0.011, 0.016, 0.127, 0.096, 0.314, 0.436]}\n",
      "{1: [2], 0: [4]}\n",
      "{0: (0, 0, 0, 0, 1, 0), 1: [0.011, 0.016, 0.127, 0.096, 0.314, 0.436]}\n",
      "{1: [0], 0: [4]}\n",
      "{0: (0, 0, 0, 0, 1, 0), 1: [0.011, 0.016, 0.127, 0.096, 0.314, 0.436]}\n",
      "{1: [5], 0: [4]}\n",
      "{0: (0, 0, 0, 0, 1, 0), 1: [0.011, 0.016, 0.127, 0.096, 0.314, 0.436]}\n",
      "{1: [4], 0: [4]}\n",
      "{0: (0, 0, 0, 0, 1, 0), 1: [0.011, 0.016, 0.127, 0.096, 0.314, 0.436]}\n",
      "{1: [4], 0: [4]}\n",
      "{0: (0, 0, 0, 0, 1, 0), 1: [0.011, 0.016, 0.127, 0.096, 0.314, 0.436]}\n",
      "{1: [5], 0: [4]}\n",
      "{0: (0, 0, 0, 0, 1, 0), 1: [0.011, 0.016, 0.127, 0.096, 0.314, 0.436]}\n",
      "{1: [3], 0: [4]}\n",
      "{0: (0, 0, 0, 0, 1, 0), 1: [0.011, 0.016, 0.127, 0.096, 0.314, 0.436]}\n",
      "{1: [5], 0: [4]}\n",
      "{0: (0, 0, 0, 0, 1, 0), 1: [0.011, 0.016, 0.127, 0.096, 0.314, 0.436]}\n",
      "{1: [5], 0: [4]}\n"
     ]
    }
   ],
   "source": [
    "for i in range(50):\n",
    "    #e.run_interaction_with_observations()\n",
    "    e.run_interaction()\n",
    "    print(e.game.strategy_history[-1])\n",
    "    #print(util.game_str(e.game, lenght=7))\n",
    "    print(e.game.history[-1])\n",
    "    #print(list(e.agent.belief.pr.items())[2])"
   ]
  },
  {
   "cell_type": "code",
   "execution_count": null,
   "metadata": {},
   "outputs": [],
   "source": [
    "gm.players"
   ]
  }
 ],
 "metadata": {
  "kernelspec": {
   "display_name": "Python 3",
   "language": "python",
   "name": "python3"
  },
  "language_info": {
   "codemirror_mode": {
    "name": "ipython",
    "version": 3
   },
   "file_extension": ".py",
   "mimetype": "text/x-python",
   "name": "python",
   "nbconvert_exporter": "python",
   "pygments_lexer": "ipython3",
   "version": "3.7.0"
  }
 },
 "nbformat": 4,
 "nbformat_minor": 2
}
