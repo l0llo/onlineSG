{
 "cells": [
  {
   "cell_type": "markdown",
   "metadata": {
    "collapsed": true,
    "slideshow": {
     "slide_type": "-"
    }
   },
   "source": [
    "# Experiments - B2BW2W compared with Experts and Mab\n",
    "of the last added functionalities in onlineSG"
   ]
  },
  {
   "cell_type": "code",
   "execution_count": 3,
   "metadata": {},
   "outputs": [
    {
     "data": {
      "text/html": [
       "<style>.container { width:100% !important; }</style>"
      ],
      "text/plain": [
       "<IPython.core.display.HTML object>"
      ]
     },
     "metadata": {},
     "output_type": "display_data"
    }
   ],
   "source": [
    "from IPython.core.display import display, HTML\n",
    "display(HTML(\"<style>.container { width:100% !important; }</style>\"))"
   ]
  },
  {
   "cell_type": "code",
   "execution_count": 1,
   "metadata": {},
   "outputs": [],
   "source": [
    "import source.game as game\n",
    "import source.player as player\n",
    "import source.environment as environment\n",
    "import source.errors as errors\n",
    "import source.parsers as parsers\n",
    "import source.players.attackers as attackers\n",
    "import source.players.base_defenders as base_defenders\n",
    "import source.players.defenders as defenders\n",
    "import source.runner as runner\n",
    "import source.players.detection as detection \n",
    "\n",
    "import source.util as util\n",
    "import numpy as np\n",
    "import pandas as pd\n",
    "from importlib import *\n",
    "import source.util as util\n",
    "from copy import deepcopy, copy"
   ]
  },
  {
   "cell_type": "code",
   "execution_count": 32,
   "metadata": {},
   "outputs": [
    {
     "data": {
      "text/plain": [
       "<module 'source.util' from '/home/lorenzo/Scrivania/Polimi/Thesis/code/onlineSG/source/util.py'>"
      ]
     },
     "execution_count": 32,
     "metadata": {},
     "output_type": "execute_result"
    }
   ],
   "source": [
    "# if you change something in the files, don't forget to reload\n",
    "reload(player)\n",
    "reload(base_defenders)\n",
    "reload(attackers)\n",
    "reload(defenders)\n",
    "reload(errors)\n",
    "reload(runner)\n",
    "reload(parsers)\n",
    "reload(game)\n",
    "reload(environment)\n",
    "reload(detection)\n",
    "reload(util)"
   ]
  },
  {
   "cell_type": "markdown",
   "metadata": {},
   "source": [
    "## Generating game and distributions"
   ]
  },
  {
   "cell_type": "code",
   "execution_count": 4,
   "metadata": {
    "collapsed": true
   },
   "outputs": [],
   "source": [
    "time_horizon = 1000"
   ]
  },
  {
   "cell_type": "code",
   "execution_count": 6,
   "metadata": {
    "collapsed": true
   },
   "outputs": [
    {
     "name": "stdout",
     "output_type": "stream",
     "text": [
      "5 [5, 8, 6, 4, 3]\n",
      "(0.01, 0.9, 0.05, 0.01, 0.03)\n",
      "(0.24, 0.05, 0.04, 0.55, 0.12)\n",
      "(0.42, 0.19, 0.19, 0.09, 0.11)\n",
      "(0.03, 0.13, 0.73, 0.0, 0.11)\n",
      "(0.04, 0.11, 0.2, 0.63, 0.02)\n",
      "(0.96, 0.02, 0.01, 0.0, 0.01)\n",
      "(0.2, 0.03, 0.16, 0.43, 0.18)\n",
      "(0.57, 0.06, 0.22, 0.03, 0.12)\n",
      "(0.16, 0.04, 0.04, 0.01, 0.75)\n",
      "(0.0, 0.95, 0.04, 0.01, 0.0)\n",
      "(0.0, 0.13, 0.18, 0.48, 0.21)\n",
      "(0.02, 0.4, 0.23, 0.03, 0.32)\n",
      "(0.44, 0.02, 0.09, 0.42, 0.03)\n",
      "(0.01, 0.0, 0.35, 0.64, 0.0)\n",
      "(0.11, 0.11, 0.11, 0.11, 0.56)\n",
      "(0.01, 0.69, 0.07, 0.05, 0.18)\n",
      "(0.01, 0.28, 0.21, 0.3, 0.2)\n",
      "(0.13, 0.78, 0.07, 0.01, 0.01)\n",
      "(0.52, 0.08, 0.25, 0.13, 0.02)\n",
      "(0.02, 0.06, 0.33, 0.32, 0.27)\n"
     ]
    }
   ],
   "source": [
    "T = 5 #np.random.randint(2,10)\n",
    "targets = util.gen_targets(T, low=1, high=10)\n",
    "distributions = []\n",
    "for i in range(20):\n",
    "    distributions.append(tuple(util.gen_distr(T)))\n",
    "values = tuple((v, v) for v in targets)\n",
    "g = game.Game(values, time_horizon)\n",
    "g.attackers = [1]\n",
    "g.defenders = [0]\n",
    "print(T, targets)\n",
    "att = [attackers.StackelbergAttacker(g, 1)]\n",
    "br = [att[0].get_best_responder().compute_strategy()]\n",
    "for d in distributions:\n",
    "    print(d)\n",
    "    att.append(attackers.StochasticAttacker(g, 1, 1, *d))\n",
    "    br.append(att[-1].get_best_responder().compute_strategy())"
   ]
  },
  {
   "cell_type": "markdown",
   "metadata": {},
   "source": [
    "## Loss gap"
   ]
  },
  {
   "cell_type": "code",
   "execution_count": 74,
   "metadata": {},
   "outputs": [
    {
     "name": "stdout",
     "output_type": "stream",
     "text": [
      "0.12779296519045005\n",
      "0.12473118279569893\n",
      "0.3741935483870967\n",
      "0.2064516129032257\n",
      "0.3741935483870967\n",
      "0.0\n",
      "0.3741935483870967\n",
      "0.0\n",
      "0.38064516129032255\n",
      "0.12473118279569893\n",
      "0.3741935483870967\n",
      "0.12473118279569893\n",
      "0.0\n",
      "0.3741935483870967\n",
      "0.38064516129032255\n",
      "0.12473118279569893\n",
      "0.12473118279569893\n",
      "0.12473118279569893\n",
      "0.0\n",
      "0.2064516129032257\n"
     ]
    }
   ],
   "source": [
    "a = att[3]\n",
    "norm = max([v[0] for v in a.game.values]) - a.opt_loss()\n",
    "for b in att:\n",
    "    if a != b:\n",
    "        print(util.difficulty(a,b).gap/norm)#, br[att.index(a)], br[att.index(b)])"
   ]
  },
  {
   "cell_type": "markdown",
   "metadata": {},
   "source": [
    "## Loss gap of Stackelberg against True Stochastic"
   ]
  },
  {
   "cell_type": "code",
   "execution_count": 4,
   "metadata": {},
   "outputs": [
    {
     "name": "stdout",
     "output_type": "stream",
     "text": [
      "Difficulty(gap=2.9657627118644063, norm_gap=0.4261153321644262, similarity=0) 1\n",
      "Difficulty(gap=1.0450847457627117, norm_gap=0.20859974965323588, similarity=0) 2\n",
      "Difficulty(gap=3.987796610169492, norm_gap=0.5035096730011985, similarity=0) 3\n",
      "Difficulty(gap=3.67406779661017, norm_gap=0.4790179656597353, similarity=0) 4\n",
      "Difficulty(gap=1.8072881355932195, norm_gap=0.25598982090555517, similarity=0) 5\n",
      "Difficulty(gap=3.3040677966101692, norm_gap=0.43646866533819934, similarity=0) 6\n",
      "Difficulty(gap=3.4044067796610173, norm_gap=0.45452693987463516, similarity=0) 7\n",
      "Difficulty(gap=0.4642372881355934, norm_gap=0.07427796610169494, similarity=0) 8\n",
      "Difficulty(gap=2.53271186440678, norm_gap=0.33950561185077477, similarity=0) 9\n",
      "Difficulty(gap=0.09372881355932217, norm_gap=0.022585256279354735, similarity=0) 10\n",
      "Difficulty(gap=1.2552542372881355, norm_gap=0.20713766291883426, similarity=0) 11\n",
      "Difficulty(gap=0.6223728813559322, norm_gap=0.12966101694915255, similarity=0) 12\n",
      "Difficulty(gap=0.9272881355932201, norm_gap=0.1873309364834788, similarity=0) 13\n",
      "Difficulty(gap=0.6230508474576273, norm_gap=0.09555994592908394, similarity=0) 14\n",
      "Difficulty(gap=1.1235593220338986, norm_gap=0.17721755868042566, similarity=0) 15\n",
      "Difficulty(gap=2.965084745762712, norm_gap=0.42601792324176896, similarity=0) 16\n",
      "Difficulty(gap=0.2620338983050843, norm_gap=0.05996199045882936, similarity=0) 17\n",
      "Difficulty(gap=2.6735593220338973, norm_gap=0.39667052255695806, similarity=0) 18\n",
      "Difficulty(gap=2.444237288135593, norm_gap=0.3557841758567093, similarity=0) 19\n",
      "Difficulty(gap=0.26542372881355947, norm_gap=0.05795277921693438, similarity=0) 20\n"
     ]
    }
   ],
   "source": [
    "for i,a in enumerate(att[1:]):\n",
    "    print(difficulty(a, att[0]), i+1)"
   ]
  },
  {
   "cell_type": "markdown",
   "metadata": {},
   "source": [
    "## Sorted Loss gap"
   ]
  },
  {
   "cell_type": "code",
   "execution_count": 98,
   "metadata": {},
   "outputs": [],
   "source": [
    "a = att[0]\n",
    "others = sorted([o for o in att if o!=a], key=lambda x: util.difficulty(a,x).gap)"
   ]
  },
  {
   "cell_type": "code",
   "execution_count": 111,
   "metadata": {},
   "outputs": [
    {
     "data": {
      "text/plain": [
       "<StackelbergAttacker id:1 resources:1>"
      ]
     },
     "execution_count": 111,
     "metadata": {},
     "output_type": "execute_result"
    }
   ],
   "source": [
    "a"
   ]
  },
  {
   "cell_type": "code",
   "execution_count": 99,
   "metadata": {},
   "outputs": [
    {
     "data": {
      "text/plain": [
       "[(1,\n",
       "  Difficulty(gap=1.9322033898305078, norm_gap=0.4913793103448275, similarity=0)),\n",
       " (10,\n",
       "  Difficulty(gap=1.9322033898305078, norm_gap=0.4913793103448275, similarity=0)),\n",
       " (12,\n",
       "  Difficulty(gap=1.9322033898305078, norm_gap=0.4913793103448275, similarity=0)),\n",
       " (16,\n",
       "  Difficulty(gap=1.9322033898305078, norm_gap=0.4913793103448275, similarity=0)),\n",
       " (17,\n",
       "  Difficulty(gap=1.9322033898305078, norm_gap=0.4913793103448275, similarity=0)),\n",
       " (18,\n",
       "  Difficulty(gap=1.9322033898305078, norm_gap=0.4913793103448275, similarity=0)),\n",
       " (2, Difficulty(gap=3.9322033898305078, norm_gap=1.0, similarity=0)),\n",
       " (3, Difficulty(gap=3.9322033898305078, norm_gap=1.0, similarity=0)),\n",
       " (4, Difficulty(gap=3.9322033898305078, norm_gap=1.0, similarity=0)),\n",
       " (5, Difficulty(gap=3.9322033898305078, norm_gap=1.0, similarity=0)),\n",
       " (6, Difficulty(gap=3.9322033898305078, norm_gap=1.0, similarity=0)),\n",
       " (7, Difficulty(gap=3.9322033898305078, norm_gap=1.0, similarity=0)),\n",
       " (8, Difficulty(gap=3.9322033898305078, norm_gap=1.0, similarity=0)),\n",
       " (9, Difficulty(gap=3.9322033898305078, norm_gap=1.0, similarity=0)),\n",
       " (11, Difficulty(gap=3.9322033898305078, norm_gap=1.0, similarity=0)),\n",
       " (13, Difficulty(gap=3.9322033898305078, norm_gap=1.0, similarity=0)),\n",
       " (14, Difficulty(gap=3.9322033898305078, norm_gap=1.0, similarity=0)),\n",
       " (15, Difficulty(gap=3.9322033898305078, norm_gap=1.0, similarity=0)),\n",
       " (19, Difficulty(gap=3.9322033898305078, norm_gap=1.0, similarity=0)),\n",
       " (20, Difficulty(gap=3.9322033898305078, norm_gap=1.0, similarity=0))]"
      ]
     },
     "execution_count": 99,
     "metadata": {},
     "output_type": "execute_result"
    }
   ],
   "source": [
    "[(att.index(o), util.difficulty(a, o)) for o in others]"
   ]
  },
  {
   "cell_type": "code",
   "execution_count": 100,
   "metadata": {},
   "outputs": [
    {
     "data": {
      "text/plain": [
       "[Difficulty(gap=3.9322033898305078, norm_gap=1.0, similarity=0),\n",
       " Difficulty(gap=3.9322033898305078, norm_gap=1.0, similarity=0),\n",
       " Difficulty(gap=3.9322033898305078, norm_gap=1.0, similarity=0),\n",
       " Difficulty(gap=1.9322033898305078, norm_gap=0.4913793103448275, similarity=0)]"
      ]
     },
     "execution_count": 100,
     "metadata": {},
     "output_type": "execute_result"
    }
   ],
   "source": [
    "chosen = [4,11,13, 18]\n",
    "[util.difficulty(a, o) for i,o in enumerate(att) if i in chosen]"
   ]
  },
  {
   "cell_type": "markdown",
   "metadata": {},
   "source": [
    "## Choosing Profiles"
   ]
  },
  {
   "cell_type": "code",
   "execution_count": 1,
   "metadata": {},
   "outputs": [],
   "source": [
    "def print_header(targets, profiles):\n",
    "    return \"Name,T,\" + \",\".join(str(i) for i in range(len(targets))) + \",Defender,Attacker,\" + \",\".join([\"Profile\" for x in range(len(profiles[0]['others']))])+\"\\n\" "
   ]
  },
  {
   "cell_type": "code",
   "execution_count": 45,
   "metadata": {
    "collapsed": true
   },
   "outputs": [],
   "source": [
    "def print_row(targets, time_horizon,d,p):\n",
    "    return \",\".join([str(i) for i in ([d+\"_vs_\"+str(p[\"i\"])] + [time_horizon] + targets + [d] + [p[\"attacker\"]] + [x for x in p[\"others\"]]) ])+\"\\n\""
   ]
  },
  {
   "cell_type": "code",
   "execution_count": 185,
   "metadata": {
    "collapsed": true
   },
   "outputs": [],
   "source": [
    "distr1 = [0.18644067796610167, 0.49152542372881375, 0.3220338983050846, 0.0, 0.0]\n",
    "distr2 = [1/3, 1/3, 1/3, 0.0, 0.0]\n",
    "sto1 = attackers.StochasticAttacker(g, 1, 1, *distr1)\n",
    "sto2 = attackers.StochasticAttacker(g, 1, 1, *distr2)"
   ]
  },
  {
   "cell_type": "code",
   "execution_count": 186,
   "metadata": {},
   "outputs": [],
   "source": [
    "profiles = []\n",
    "#profiles.append({\"attacker\": print_adv(a), \"profile1\": print_sto(att[19]), \"profile2\": print_sto(att[4])})\n",
    "profiles.append({\"attacker\": util.print_adv(att[0]), \n",
    "                 \"others\": [util.print_adv(sto1),\n",
    "                            util.print_adv(sto2)], \"i\": 3})\n",
    "#profiles.append({\"attacker\": util.print_adv(att[11]), \"profile1\": util.print_adv(att[0]), \"i\": 11})\n",
    "#profiles.append({\"attacker\": util.print_adv(att[4]), \"profile1\": util.print_adv(att[0]), \"i\": 4})\n",
    "#for l in chosen:\n",
    " #   profiles.append({\"attacker\": print_adv(a), \"profile1\": print_adv(others[l]), \"i\": l})"
   ]
  },
  {
   "cell_type": "code",
   "execution_count": 202,
   "metadata": {},
   "outputs": [
    {
     "data": {
      "text/plain": [
       "'Name,T,0,1,2,3,4,Defender,Attacker,Profile,Profile,Profile\\n'"
      ]
     },
     "execution_count": 202,
     "metadata": {},
     "output_type": "execute_result"
    }
   ],
   "source": [
    "(print_header(targets, profiles))"
   ]
  },
  {
   "cell_type": "code",
   "execution_count": 188,
   "metadata": {
    "collapsed": true
   },
   "outputs": [],
   "source": [
    "defender = [\"br_mab1-1\", \"br_expert1-1-1\",\"b2bw2w1\"] #,\"holmes1-1\"]"
   ]
  },
  {
   "cell_type": "markdown",
   "metadata": {},
   "source": [
    "### Writing batch file"
   ]
  },
  {
   "cell_type": "code",
   "execution_count": 59,
   "metadata": {},
   "outputs": [],
   "source": [
    "mkdir ../Experiments/Experiment1"
   ]
  },
  {
   "cell_type": "code",
   "execution_count": 213,
   "metadata": {
    "collapsed": true
   },
   "outputs": [],
   "source": [
    "folder = \"../Experiments/Experiment1\"\n",
    "batch_name = \"expert_mab4\"\n",
    "batch_file = batch_name + \".csv\"\n",
    "batch_path = folder + \"/\" + batch_file"
   ]
  },
  {
   "cell_type": "code",
   "execution_count": 214,
   "metadata": {},
   "outputs": [],
   "source": [
    "with open(batch_path, \"w+\") as f:\n",
    "    #f.write(\"Name,T,0,1,2,3,4,Defender,Attacker,Profile,Profile\\n\")\n",
    "    f.write(print_header(targets, profiles))\n",
    "    for p in profiles :\n",
    "        for d in defender: \n",
    "            f.write(print_row(targets, time_horizon,d,p))\n",
    "            #f.write(\",\".join([str(i) for i in ([d] + [time_horizon] + targets + [d] + [p[\"attacker\"]] +[p[\"profile1\"]] + [p[\"profile2\"]])])+ \"\\n\")"
   ]
  },
  {
   "cell_type": "code",
   "execution_count": 215,
   "metadata": {},
   "outputs": [
    {
     "data": {
      "text/html": [
       "<div>\n",
       "<table border=\"1\" class=\"dataframe\">\n",
       "  <thead>\n",
       "    <tr style=\"text-align: right;\">\n",
       "      <th></th>\n",
       "      <th>Name</th>\n",
       "      <th>T</th>\n",
       "      <th>0</th>\n",
       "      <th>1</th>\n",
       "      <th>2</th>\n",
       "      <th>3</th>\n",
       "      <th>4</th>\n",
       "      <th>Defender</th>\n",
       "      <th>Attacker</th>\n",
       "      <th>Profile</th>\n",
       "      <th>Profile.1</th>\n",
       "    </tr>\n",
       "  </thead>\n",
       "  <tbody>\n",
       "    <tr>\n",
       "      <th>0</th>\n",
       "      <td>br_mab1-1_vs_3</td>\n",
       "      <td>1000</td>\n",
       "      <td>5</td>\n",
       "      <td>8</td>\n",
       "      <td>6</td>\n",
       "      <td>4</td>\n",
       "      <td>3</td>\n",
       "      <td>br_mab1-1</td>\n",
       "      <td>stackelberg1</td>\n",
       "      <td>stochastic_attacker1-0.18644067796610167-0.491...</td>\n",
       "      <td>stochastic_attacker1-0.3333333333333333-0.3333...</td>\n",
       "    </tr>\n",
       "    <tr>\n",
       "      <th>1</th>\n",
       "      <td>br_expert1-1-1_vs_3</td>\n",
       "      <td>1000</td>\n",
       "      <td>5</td>\n",
       "      <td>8</td>\n",
       "      <td>6</td>\n",
       "      <td>4</td>\n",
       "      <td>3</td>\n",
       "      <td>br_expert1-1-1</td>\n",
       "      <td>stackelberg1</td>\n",
       "      <td>stochastic_attacker1-0.18644067796610167-0.491...</td>\n",
       "      <td>stochastic_attacker1-0.3333333333333333-0.3333...</td>\n",
       "    </tr>\n",
       "    <tr>\n",
       "      <th>2</th>\n",
       "      <td>b2bw2w1_vs_3</td>\n",
       "      <td>1000</td>\n",
       "      <td>5</td>\n",
       "      <td>8</td>\n",
       "      <td>6</td>\n",
       "      <td>4</td>\n",
       "      <td>3</td>\n",
       "      <td>b2bw2w1</td>\n",
       "      <td>stackelberg1</td>\n",
       "      <td>stochastic_attacker1-0.18644067796610167-0.491...</td>\n",
       "      <td>stochastic_attacker1-0.3333333333333333-0.3333...</td>\n",
       "    </tr>\n",
       "  </tbody>\n",
       "</table>\n",
       "</div>"
      ],
      "text/plain": [
       "                  Name     T  0  1  2  3  4        Defender      Attacker  \\\n",
       "0       br_mab1-1_vs_3  1000  5  8  6  4  3       br_mab1-1  stackelberg1   \n",
       "1  br_expert1-1-1_vs_3  1000  5  8  6  4  3  br_expert1-1-1  stackelberg1   \n",
       "2         b2bw2w1_vs_3  1000  5  8  6  4  3         b2bw2w1  stackelberg1   \n",
       "\n",
       "                                             Profile  \\\n",
       "0  stochastic_attacker1-0.18644067796610167-0.491...   \n",
       "1  stochastic_attacker1-0.18644067796610167-0.491...   \n",
       "2  stochastic_attacker1-0.18644067796610167-0.491...   \n",
       "\n",
       "                                           Profile.1  \n",
       "0  stochastic_attacker1-0.3333333333333333-0.3333...  \n",
       "1  stochastic_attacker1-0.3333333333333333-0.3333...  \n",
       "2  stochastic_attacker1-0.3333333333333333-0.3333...  "
      ]
     },
     "execution_count": 215,
     "metadata": {},
     "output_type": "execute_result"
    }
   ],
   "source": [
    "pd.read_csv(batch_path)"
   ]
  },
  {
   "cell_type": "markdown",
   "metadata": {},
   "source": [
    "# Run"
   ]
  },
  {
   "cell_type": "code",
   "execution_count": 216,
   "metadata": {},
   "outputs": [],
   "source": [
    "b = runner.Batch(batch_path, folder)"
   ]
  },
  {
   "cell_type": "code",
   "execution_count": 218,
   "metadata": {},
   "outputs": [],
   "source": [
    "b.parse_batch()"
   ]
  },
  {
   "cell_type": "code",
   "execution_count": 224,
   "metadata": {},
   "outputs": [],
   "source": [
    "b.run(10, True)\n",
    "c = b.configurations\n",
    "end_sound()"
   ]
  },
  {
   "cell_type": "code",
   "execution_count": null,
   "metadata": {},
   "outputs": [],
   "source": []
  },
  {
   "cell_type": "markdown",
   "metadata": {},
   "source": [
    "## Plots"
   ]
  },
  {
   "cell_type": "code",
   "execution_count": 227,
   "metadata": {},
   "outputs": [
    {
     "data": {
      "image/png": "[encoded data removed]",
      "text/plain": [
       "<matplotlib.figure.Figure at 0x7f4169c50828>"
      ]
     },
     "metadata": {},
     "output_type": "display_data"
    }
   ],
   "source": [
    "util.plot_conf(\"exp_regret\", c[1:], b.results_folder_path, \"expert-b2bw2w\")"
   ]
  },
  {
   "cell_type": "markdown",
   "metadata": {},
   "source": [
    "## Experiments"
   ]
  },
  {
   "cell_type": "code",
   "execution_count": 278,
   "metadata": {
    "collapsed": true
   },
   "outputs": [],
   "source": [
    "g = deepcopy(c[1].game)"
   ]
  },
  {
   "cell_type": "code",
   "execution_count": 279,
   "metadata": {
    "collapsed": true
   },
   "outputs": [],
   "source": [
    "e = runner.Experiment(g)"
   ]
  },
  {
   "cell_type": "code",
   "execution_count": 331,
   "metadata": {},
   "outputs": [
    {
     "name": "stdout",
     "output_type": "stream",
     "text": [
      "{0: [0.18644067796610167, 0.49152542372881375, 0.3220338983050846, 0.0, 0.0], 1: [1, 0, 0, 0, 0]}\n",
      "{<KnownStochasticDefender id:0 resources:1>: -5.058823529411764, <StackelbergDefender id:0 resources:1>: -3.6666666666666665, <KnownStochasticDefender id:0 resources:1>: -5.058823529411764}\n",
      " \t□\t \t \t \t\n",
      "5.0\t8.0\t6.0\t4.0\t3.0\t\n",
      " \t \t△\t \t \t\n",
      "-----------------------------------\n",
      " \t□\t \t \t \t\n",
      "5.0\t8.0\t6.0\t4.0\t3.0\t\n",
      "△\t \t \t \t \t\n",
      "-----------------------------------\n",
      " \t□\t \t \t \t\n",
      "5.0\t8.0\t6.0\t4.0\t3.0\t\n",
      " \t \t△\t \t \t\n",
      "-----------------------------------\n",
      " \t□\t \t \t \t\n",
      "5.0\t8.0\t6.0\t4.0\t3.0\t\n",
      " \t \t△\t \t \t\n",
      "-----------------------------------\n",
      " \t□\t \t \t \t\n",
      "5.0\t8.0\t6.0\t4.0\t3.0\t\n",
      " \t \t△\t \t \t\n",
      "-----------------------------------\n",
      "□\t \t \t \t \t\n",
      "5.0\t8.0\t6.0\t4.0\t3.0\t\n",
      "△\t \t \t \t \t\n",
      "-----------------------------------\n",
      " \t \t□\t \t \t\n",
      "5.0\t8.0\t6.0\t4.0\t3.0\t\n",
      "△\t \t \t \t \t\n",
      "-----------------------------------\n",
      " \t□\t \t \t \t\n",
      "5.0\t8.0\t6.0\t4.0\t3.0\t\n",
      "△\t \t \t \t \t\n",
      "-----------------------------------\n",
      "□\t \t \t \t \t\n",
      "5.0\t8.0\t6.0\t4.0\t3.0\t\n",
      "△\t \t \t \t \t\n",
      "-----------------------------------\n",
      " \t□\t \t \t \t\n",
      "5.0\t8.0\t6.0\t4.0\t3.0\t\n",
      "△\t \t \t \t \t\n",
      "-----------------------------------\n",
      "□\t \t \t \t \t\n",
      "5.0\t8.0\t6.0\t4.0\t3.0\t\n",
      "△\t \t \t \t \t\n",
      "-----------------------------------\n",
      "□\t \t \t \t \t\n",
      "5.0\t8.0\t6.0\t4.0\t3.0\t\n",
      "△\t \t \t \t \t\n",
      "-----------------------------------\n",
      " \t□\t \t \t \t\n",
      "5.0\t8.0\t6.0\t4.0\t3.0\t\n",
      "△\t \t \t \t \t\n",
      "-----------------------------------\n",
      " \t□\t \t \t \t\n",
      "5.0\t8.0\t6.0\t4.0\t3.0\t\n",
      "△\t \t \t \t \t\n",
      "-----------------------------------\n",
      " \t \t□\t \t \t\n",
      "5.0\t8.0\t6.0\t4.0\t3.0\t\n",
      "△\t \t \t \t \t\n",
      "-----------------------------------\n",
      " \t \t□\t \t \t\n",
      "5.0\t8.0\t6.0\t4.0\t3.0\t\n",
      "△\t \t \t \t \t\n",
      "-----------------------------------\n",
      " \t \t□\t \t \t\n",
      "5.0\t8.0\t6.0\t4.0\t3.0\t\n",
      "△\t \t \t \t \t\n",
      "-----------------------------------\n",
      " \t□\t \t \t \t\n",
      "5.0\t8.0\t6.0\t4.0\t3.0\t\n",
      "△\t \t \t \t \t\n",
      "-----------------------------------\n",
      "□\t \t \t \t \t\n",
      "5.0\t8.0\t6.0\t4.0\t3.0\t\n",
      "△\t \t \t \t \t\n",
      "-----------------------------------\n",
      " \t \t□\t \t \t\n",
      "5.0\t8.0\t6.0\t4.0\t3.0\t\n",
      "△\t \t \t \t \t\n",
      "-----------------------------------\n",
      " \t \t□\t \t \t\n",
      "5.0\t8.0\t6.0\t4.0\t3.0\t\n",
      "△\t \t \t \t \t\n",
      "-----------------------------------\n",
      "□\t \t \t \t \t\n",
      "5.0\t8.0\t6.0\t4.0\t3.0\t\n",
      "△\t \t \t \t \t\n",
      "-----------------------------------\n",
      " \t \t□\t \t \t\n",
      "5.0\t8.0\t6.0\t4.0\t3.0\t\n",
      "△\t \t \t \t \t\n",
      "-----------------------------------\n",
      " \t \t□\t \t \t\n",
      "5.0\t8.0\t6.0\t4.0\t3.0\t\n",
      "△\t \t \t \t \t\n",
      "-----------------------------------\n",
      " \t□\t \t \t \t\n",
      "5.0\t8.0\t6.0\t4.0\t3.0\t\n",
      "△\t \t \t \t \t\n",
      "-----------------------------------\n",
      " \t□\t \t \t \t\n",
      "5.0\t8.0\t6.0\t4.0\t3.0\t\n",
      "△\t \t \t \t \t\n",
      "-----------------------------------\n",
      "□\t \t \t \t \t\n",
      "5.0\t8.0\t6.0\t4.0\t3.0\t\n",
      "△\t \t \t \t \t\n",
      "-----------------------------------\n",
      " \t□\t \t \t \t\n",
      "5.0\t8.0\t6.0\t4.0\t3.0\t\n",
      "△\t \t \t \t \t\n",
      "-----------------------------------\n",
      " \t□\t \t \t \t\n",
      "5.0\t8.0\t6.0\t4.0\t3.0\t\n",
      "△\t \t \t \t \t\n",
      "-----------------------------------\n",
      "□\t \t \t \t \t\n",
      "5.0\t8.0\t6.0\t4.0\t3.0\t\n",
      "△\t \t \t \t \t\n",
      "-----------------------------------\n",
      "□\t \t \t \t \t\n",
      "5.0\t8.0\t6.0\t4.0\t3.0\t\n",
      "△\t \t \t \t \t\n",
      "-----------------------------------\n",
      " \t□\t \t \t \t\n",
      "5.0\t8.0\t6.0\t4.0\t3.0\t\n",
      "△\t \t \t \t \t\n",
      "-----------------------------------\n",
      " \t□\t \t \t \t\n",
      "5.0\t8.0\t6.0\t4.0\t3.0\t\n",
      "△\t \t \t \t \t\n",
      "-----------------------------------\n",
      " \t□\t \t \t \t\n",
      "5.0\t8.0\t6.0\t4.0\t3.0\t\n",
      "△\t \t \t \t \t\n",
      "-----------------------------------\n",
      " \t□\t \t \t \t\n",
      "5.0\t8.0\t6.0\t4.0\t3.0\t\n",
      "△\t \t \t \t \t\n",
      "-----------------------------------\n",
      "□\t \t \t \t \t\n",
      "5.0\t8.0\t6.0\t4.0\t3.0\t\n",
      "△\t \t \t \t \t\n",
      "-----------------------------------\n",
      "□\t \t \t \t \t\n",
      "5.0\t8.0\t6.0\t4.0\t3.0\t\n",
      "△\t \t \t \t \t\n",
      "-----------------------------------\n",
      " \t \t□\t \t \t\n",
      "5.0\t8.0\t6.0\t4.0\t3.0\t\n",
      "△\t \t \t \t \t\n",
      "-----------------------------------\n",
      " \t□\t \t \t \t\n",
      "5.0\t8.0\t6.0\t4.0\t3.0\t\n",
      "△\t \t \t \t \t\n",
      "-----------------------------------\n",
      " \t \t□\t \t \t\n",
      "5.0\t8.0\t6.0\t4.0\t3.0\t\n",
      "△\t \t \t \t \t\n",
      "-----------------------------------\n",
      "□\t \t \t \t \t\n",
      "5.0\t8.0\t6.0\t4.0\t3.0\t\n",
      "△\t \t \t \t \t\n",
      "-----------------------------------\n",
      " \t□\t \t \t \t\n",
      "5.0\t8.0\t6.0\t4.0\t3.0\t\n",
      "△\t \t \t \t \t\n",
      "-----------------------------------\n",
      " \t□\t \t \t \t\n",
      "5.0\t8.0\t6.0\t4.0\t3.0\t\n",
      "△\t \t \t \t \t\n",
      "-----------------------------------\n",
      " \t \t□\t \t \t\n",
      "5.0\t8.0\t6.0\t4.0\t3.0\t\n",
      "△\t \t \t \t \t\n",
      "-----------------------------------\n",
      " \t□\t \t \t \t\n",
      "5.0\t8.0\t6.0\t4.0\t3.0\t\n",
      "△\t \t \t \t \t\n",
      "-----------------------------------\n",
      " \t□\t \t \t \t\n",
      "5.0\t8.0\t6.0\t4.0\t3.0\t\n",
      "△\t \t \t \t \t\n",
      "-----------------------------------\n",
      " \t \t□\t \t \t\n",
      "5.0\t8.0\t6.0\t4.0\t3.0\t\n",
      "△\t \t \t \t \t\n",
      "-----------------------------------\n",
      " \t□\t \t \t \t\n",
      "5.0\t8.0\t6.0\t4.0\t3.0\t\n",
      "△\t \t \t \t \t\n",
      "-----------------------------------\n",
      " \t \t□\t \t \t\n",
      "5.0\t8.0\t6.0\t4.0\t3.0\t\n",
      "△\t \t \t \t \t\n",
      "-----------------------------------\n",
      " \t□\t \t \t \t\n",
      "5.0\t8.0\t6.0\t4.0\t3.0\t\n",
      "△\t \t \t \t \t\n",
      "-----------------------------------\n",
      "□\t \t \t \t \t\n",
      "5.0\t8.0\t6.0\t4.0\t3.0\t\n",
      "△\t \t \t \t \t\n",
      "-----------------------------------\n",
      " \t□\t \t \t \t\n",
      "5.0\t8.0\t6.0\t4.0\t3.0\t\n",
      "△\t \t \t \t \t\n"
     ]
    }
   ],
   "source": [
    "e.run_interaction()\n",
    "print(e.game.strategy_history[-1])\n",
    "print(e.agent.avg_rewards)\n",
    "print(util.game_str(e.game, lenght=7))"
   ]
  },
  {
   "cell_type": "code",
   "execution_count": 167,
   "metadata": {
    "scrolled": true
   },
   "outputs": [
    {
     "data": {
      "text/plain": [
       "[[0, 1, 0, 0, 0],\n",
       " [0.03, 0.13, 0.73, 0.0, 0.11],\n",
       " [0.0, 0.13, 0.18, 0.48, 0.21],\n",
       " [0.44, 0.02, 0.09, 0.42, 0.03]]"
      ]
     },
     "execution_count": 167,
     "metadata": {},
     "output_type": "execute_result"
    }
   ],
   "source": [
    "[p.compute_strategy() for p in e.agent.profiles]"
   ]
  },
  {
   "cell_type": "code",
   "execution_count": 176,
   "metadata": {},
   "outputs": [],
   "source": [
    "e.run()"
   ]
  },
  {
   "cell_type": "code",
   "execution_count": 177,
   "metadata": {},
   "outputs": [
    {
     "data": {
      "text/plain": [
       "{'actual_regret': 0.20338983050769333,\n",
       " 'exp_regret': 3.9322033898296205,\n",
       " 'total_rewards': -4068.0}"
      ]
     },
     "execution_count": 177,
     "metadata": {},
     "output_type": "execute_result"
    }
   ],
   "source": []
  },
  {
   "cell_type": "code",
   "execution_count": 184,
   "metadata": {},
   "outputs": [
    {
     "data": {
      "text/plain": [
       "[0.18644067796610167, 0.49152542372881375, 0.3220338983050846, 0.0, 0.0]"
      ]
     },
     "execution_count": 184,
     "metadata": {},
     "output_type": "execute_result"
    }
   ],
   "source": [
    "[v for k,v in e.agent.arms.items()][2].compute_strategy()"
   ]
  },
  {
   "cell_type": "code",
   "execution_count": 229,
   "metadata": {
    "collapsed": true
   },
   "outputs": [],
   "source": [
    "import os"
   ]
  },
  {
   "cell_type": "code",
   "execution_count": 243,
   "metadata": {},
   "outputs": [],
   "source": [
    "def end_sound():\n",
    "    os.system(\"( speaker-test -t sine -f 1000 )& pid=$! ; sleep 0.2s ; kill -9 $pid\")"
   ]
  },
  {
   "cell_type": "code",
   "execution_count": 236,
   "metadata": {},
   "outputs": [
    {
     "name": "stdout",
     "output_type": "stream",
     "text": [
      "\u0007"
     ]
    }
   ],
   "source": [
    "import sys\n",
    "sys.stdout.write('\\a')\n",
    "sys.stdout.flush()"
   ]
  },
  {
   "cell_type": "code",
   "execution_count": 244,
   "metadata": {
    "collapsed": true
   },
   "outputs": [],
   "source": [
    "end_sound()"
   ]
  }
 ],
 "metadata": {
  "kernelspec": {
   "display_name": "Python 3",
   "language": "python",
   "name": "python3"
  },
  "language_info": {
   "codemirror_mode": {
    "name": "ipython",
    "version": 3
   },
   "file_extension": ".py",
   "mimetype": "text/x-python",
   "name": "python",
   "nbconvert_exporter": "python",
   "pygments_lexer": "ipython3",
   "version": "3.7.0"
  }
 },
 "nbformat": 4,
 "nbformat_minor": 1
}
