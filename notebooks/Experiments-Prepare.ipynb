{
 "cells": [
  {
   "cell_type": "markdown",
   "metadata": {
    "collapsed": true,
    "slideshow": {
     "slide_type": "-"
    }
   },
   "source": [
    "# Experiments-Prepare"
   ]
  },
  {
   "cell_type": "code",
   "execution_count": 2,
   "metadata": {
    "collapsed": false
   },
   "outputs": [
    {
     "data": {
      "text/html": [
       "<style>.container { width:100% !important; }</style>"
      ],
      "text/plain": [
       "<IPython.core.display.HTML object>"
      ]
     },
     "metadata": {},
     "output_type": "display_data"
    }
   ],
   "source": [
    "from IPython.core.display import display, HTML\n",
    "display(HTML(\"<style>.container { width:100% !important; }</style>\"))"
   ]
  },
  {
   "cell_type": "code",
   "execution_count": 11,
   "metadata": {
    "collapsed": false
   },
   "outputs": [],
   "source": [
    "import source.game as game\n",
    "import source.player as player\n",
    "import source.environment as environment\n",
    "import source.errors as errors\n",
    "import source.parsers as parsers\n",
    "import source.players.attackers as attackers\n",
    "import source.players.base_defenders as base_defenders\n",
    "import source.players.defenders as defenders\n",
    "import source.runner as runner\n",
    "import source.players.detection as detection\n",
    "import source.players.fabulous as fabulous\n",
    "\n",
    "import source.util as util\n",
    "import numpy as np\n",
    "import pandas as pd\n",
    "from importlib import *\n",
    "import source.util as util\n",
    "from copy import deepcopy, copy\n",
    "import os"
   ]
  },
  {
   "cell_type": "code",
   "execution_count": 12,
   "metadata": {
    "collapsed": false
   },
   "outputs": [
    {
     "data": {
      "text/plain": [
       "<module 'source.util' from '/home/lorenzo/Scrivania/Polimi/Thesis/code/onlineSG/source/util.py'>"
      ]
     },
     "execution_count": 12,
     "metadata": {},
     "output_type": "execute_result"
    }
   ],
   "source": [
    "# if you change something in the files, don't forget to reload\n",
    "reload(player)\n",
    "reload(base_defenders)\n",
    "reload(attackers)\n",
    "reload(defenders)\n",
    "reload(errors)\n",
    "reload(runner)\n",
    "reload(parsers)\n",
    "reload(game)\n",
    "reload(environment)\n",
    "reload(detection)\n",
    "reload(fabulous)\n",
    "reload(util)"
   ]
  },
  {
   "cell_type": "markdown",
   "metadata": {},
   "source": [
    "## Generating Targets"
   ]
  },
  {
   "cell_type": "code",
   "execution_count": 8,
   "metadata": {
    "collapsed": true
   },
   "outputs": [],
   "source": [
    "targets_dict = {i:[] for i in range(2,13)}\n",
    "T = 15 #np.random.randint(2,10)\n",
    "time_horizon =1000\n",
    "while sum([len(targets_dict[x]) for x in range(2,13)]) < 9:\n",
    "    targets = [round(x,3) for x in util.gen_norm_targets(T)]\n",
    "    values = tuple((v, v) for v in targets)\n",
    "    g = game.Game(values, time_horizon)\n",
    "    g.attackers = [1]\n",
    "    g.defenders = [0]\n",
    "    s = util.support(g)\n",
    "    if len(targets_dict[len(s)])==0:\n",
    "        targets_dict[len(s)].append(s)"
   ]
  },
  {
   "cell_type": "code",
   "execution_count": 9,
   "metadata": {
    "collapsed": false
   },
   "outputs": [
    {
     "data": {
      "text/plain": [
       "{2: [[0.991, 0.993]],\n",
       " 3: [[0.942, 0.82, 0.909]],\n",
       " 4: [[0.873, 0.966, 0.951, 0.738]],\n",
       " 5: [[0.788, 0.939, 0.983, 0.713, 0.974]],\n",
       " 6: [[0.781, 0.869, 0.91, 0.977, 0.87, 0.87]],\n",
       " 7: [[0.828, 0.876, 0.973, 0.833, 0.809, 0.874, 0.961]],\n",
       " 8: [[0.674, 0.688, 0.709, 0.79, 0.658, 0.979, 0.785, 0.697]],\n",
       " 9: [[0.74, 0.752, 0.729, 0.797, 0.962, 0.999, 0.854, 0.78, 0.721]],\n",
       " 10: [[0.716, 0.703, 0.719, 0.738, 0.793, 0.89, 0.698, 0.697, 0.886, 0.887]],\n",
       " 11: [],\n",
       " 12: []}"
      ]
     },
     "execution_count": 9,
     "metadata": {},
     "output_type": "execute_result"
    }
   ],
   "source": [
    "targets_dict"
   ]
  },
  {
   "cell_type": "markdown",
   "metadata": {},
   "source": [
    "## Writing batch file"
   ]
  },
  {
   "cell_type": "code",
   "execution_count": 20,
   "metadata": {
    "collapsed": false
   },
   "outputs": [],
   "source": [
    "experiment_folder = \"../Experiments/UnknownStochastic_Fabulous\"\n",
    "time_horizon = 1000\n",
    "att_incl = True\n",
    "defender = [\"fabulous1\"] #[\"br_mab1-1\", \"br_expert1-1\"] #,\"b2bw2w1\",\"holmes1-1\"]\n",
    "#attacker = [\"sta1\"]\n",
    "if not os.path.exists(experiment_folder):\n",
    "    os.makedirs(experiment_folder)\n",
    "for T in range(2,5,2):\n",
    "    if not os.path.exists(experiment_folder + \"/t\" + str(T)):\n",
    "        os.makedirs(experiment_folder + \"/t\" + str(T))\n",
    "    targets = util.translate(targets_dict[T][0])\n",
    "    mock_g = game.zs_game(targets, time_horizon)\n",
    "    attacker = [str(attackers.StochasticAttacker(mock_g,1,1))]\n",
    "    for P in range(1,4):\n",
    "        profiles = util.gen_profiles(targets, [#(attackers.UnknownStochasticAttacker, 1),\n",
    "                                               #(attackers.StackelbergAttacker, 1),\n",
    "                                               (attackers.StochasticAttacker, P)])\n",
    "        folder = experiment_folder + \"/t\" + str(T) + \"/p\" + str(P)\n",
    "        if not os.path.exists(folder):\n",
    "            os.makedirs(folder)\n",
    "        batch_name = \"_\".join(defender)\n",
    "        batch_file = batch_name + \".csv\"\n",
    "        batch_path = folder + \"/\" + batch_file\n",
    "        with open(batch_path, \"w+\") as f:\n",
    "            f.write(util.print_header(targets, len(profiles), att_incl))\n",
    "            for a in attacker:\n",
    "                for d in defender: \n",
    "                    f.write(util.gen_conf_row(d + \"_vs_\" + a.split('1')[0], time_horizon, targets, d, a,\n",
    "                                              [str(p) for p in profiles], att_incl))        "
   ]
  },
  {
   "cell_type": "code",
   "execution_count": 19,
   "metadata": {
    "collapsed": false
   },
   "outputs": [],
   "source": [
    "rm -rf $experiment_folder"
   ]
  },
  {
   "cell_type": "code",
   "execution_count": 18,
   "metadata": {
    "collapsed": false
   },
   "outputs": [
    {
     "name": "stdout",
     "output_type": "stream",
     "text": [
      "fabulous.csv\r\n"
     ]
    }
   ],
   "source": [
    " ls $experiment_folder/t2/p3"
   ]
  }
 ],
 "metadata": {
  "kernelspec": {
   "display_name": "Python 3",
   "language": "python",
   "name": "python3"
  },
  "language_info": {
   "codemirror_mode": {
    "name": "ipython",
    "version": 3
   },
   "file_extension": ".py",
   "mimetype": "text/x-python",
   "name": "python",
   "nbconvert_exporter": "python",
   "pygments_lexer": "ipython3",
   "version": "3.5.3"
  }
 },
 "nbformat": 4,
 "nbformat_minor": 0
}
