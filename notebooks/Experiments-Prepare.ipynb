{
 "cells": [
  {
   "cell_type": "markdown",
   "metadata": {
    "collapsed": true,
    "slideshow": {
     "slide_type": "-"
    }
   },
   "source": [
    "# Experiments-Prepare"
   ]
  },
  {
   "cell_type": "code",
   "execution_count": 2,
   "metadata": {
    "collapsed": false
   },
   "outputs": [
    {
     "data": {
      "text/html": [
       "<style>.container { width:100% !important; }</style>"
      ],
      "text/plain": [
       "<IPython.core.display.HTML object>"
      ]
     },
     "metadata": {},
     "output_type": "display_data"
    }
   ],
   "source": [
    "from IPython.core.display import display, HTML\n",
    "display(HTML(\"<style>.container { width:100% !important; }</style>\"))"
   ]
  },
  {
   "cell_type": "code",
   "execution_count": 46,
   "metadata": {
    "collapsed": false
   },
   "outputs": [],
   "source": [
    "import source.game as game\n",
    "import source.player as player\n",
    "import source.environment as environment\n",
    "import source.errors as errors\n",
    "import source.parsers as parsers\n",
    "import source.players.attackers as attackers\n",
    "import source.players.base_defenders as base_defenders\n",
    "import source.players.defenders as defenders\n",
    "import source.runner as runner\n",
    "import source.players.detection as detection \n",
    "\n",
    "import source.util as util\n",
    "import numpy as np\n",
    "import pandas as pd\n",
    "from importlib import *\n",
    "import source.util as util\n",
    "from copy import deepcopy, copy\n",
    "import os"
   ]
  },
  {
   "cell_type": "code",
   "execution_count": 108,
   "metadata": {
    "collapsed": false
   },
   "outputs": [
    {
     "data": {
      "text/plain": [
       "<module 'source.util' from '/home/lorenzo/Scrivania/Polimi/Thesis/code/onlineSG/source/util.py'>"
      ]
     },
     "execution_count": 108,
     "metadata": {},
     "output_type": "execute_result"
    }
   ],
   "source": [
    "# if you change something in the files, don't forget to reload\n",
    "reload(player)\n",
    "reload(base_defenders)\n",
    "reload(attackers)\n",
    "reload(defenders)\n",
    "reload(errors)\n",
    "reload(runner)\n",
    "reload(parsers)\n",
    "reload(game)\n",
    "reload(environment)\n",
    "reload(detection)\n",
    "reload(util)"
   ]
  },
  {
   "cell_type": "markdown",
   "metadata": {},
   "source": [
    "## Generating Targets"
   ]
  },
  {
   "cell_type": "code",
   "execution_count": 72,
   "metadata": {
    "collapsed": true
   },
   "outputs": [],
   "source": [
    "targets_dict = {i:[] for i in range(2,13)}\n",
    "T = 15 #np.random.randint(2,10)\n",
    "time_horizon =1000\n",
    "while sum([len(targets_dict[x]) for x in range(2,13)]) < 9:\n",
    "    targets = [round(x,3) for x in util.gen_norm_targets(T)]\n",
    "    values = tuple((v, v) for v in targets)\n",
    "    g = game.Game(values, time_horizon)\n",
    "    g.attackers = [1]\n",
    "    g.defenders = [0]\n",
    "    s = util.support(g)\n",
    "    if len(targets_dict[len(s)])==0:\n",
    "        targets_dict[len(s)].append(s)"
   ]
  },
  {
   "cell_type": "markdown",
   "metadata": {},
   "source": [
    "## Writing batch file"
   ]
  },
  {
   "cell_type": "code",
   "execution_count": 110,
   "metadata": {
    "collapsed": false
   },
   "outputs": [],
   "source": [
    "experiment_folder = \"../Experiments/Stackelberg_KnownStochastic\"\n",
    "time_horizon = 1000\n",
    "defender = [\"br_mab1-1\", \"br_expert1-1\",\"b2bw2w1\"] #,\"holmes1-1\"]\n",
    "if not os.path.exists(experiment_folder):\n",
    "    os.makedirs(experiment_folder)\n",
    "for T in range(2,11,2):\n",
    "    if not os.path.exists(experiment_folder + \"/\" + str(T)):\n",
    "        os.makedirs(experiment_folder + \"/\" + str(T))\n",
    "    for P in range(1,4):\n",
    "        targets, profiles = util.gen_setting(T, P, targets_dict, time_horizon)\n",
    "        folder = experiment_folder + \"/\" + str(T) + \"/\" + str(P)\n",
    "        if not os.path.exists(folder):\n",
    "            os.makedirs(folder)\n",
    "        batch_name = \"_\".join(defender)\n",
    "        batch_file = batch_name + \".csv\"\n",
    "        batch_path = folder + \"/\" + batch_file\n",
    "        with open(batch_path, \"w+\") as f:\n",
    "            f.write(util.print_header(targets, profiles))\n",
    "            for p in profiles: # modify profiles...\n",
    "                for d in defender: \n",
    "                    f.write(util.print_row(targets, time_horizon,d,p))"
   ]
  }
 ],
 "metadata": {
  "kernelspec": {
   "display_name": "Python 3",
   "language": "python",
   "name": "python3"
  },
  "language_info": {
   "codemirror_mode": {
    "name": "ipython",
    "version": 3
   },
   "file_extension": ".py",
   "mimetype": "text/x-python",
   "name": "python",
   "nbconvert_exporter": "python",
   "pygments_lexer": "ipython3",
   "version": "3.5.2"
  }
 },
 "nbformat": 4,
 "nbformat_minor": 0
}
