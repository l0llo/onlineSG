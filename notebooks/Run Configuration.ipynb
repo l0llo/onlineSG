{
 "cells": [
  {
   "cell_type": "markdown",
   "metadata": {
    "collapsed": true,
    "slideshow": {
     "slide_type": "-"
    }
   },
   "source": [
    "# Run a custom configuration and see results"
   ]
  },
  {
   "cell_type": "code",
   "execution_count": 1,
   "metadata": {
    "collapsed": true
   },
   "outputs": [],
   "source": [
    "import sys\n",
    "sys.path.append('../')  # uncomment to add the path to the onlineSG folder \n",
    "# You have to change the path if you move this file.\n",
    "# Alternatevely add the onlineSG folder to your PYTHONPATH\n",
    "# e.g. On Linux add this line on .bashrc:\n",
    "# export PYTHONPATH=\"<absolute-path-to-onlineSG>:PYTHONPATH\"\n",
    "# then you can use onlineSG library from everywhere"
   ]
  },
  {
   "cell_type": "code",
   "execution_count": 1,
   "metadata": {},
   "outputs": [],
   "source": [
    "import source.game as game\n",
    "import source.player as player\n",
    "import source.environment as environment\n",
    "import source.errors as errors\n",
    "import source.parsers as parsers\n",
    "import source.players.attackers as attackers\n",
    "import source.players.base_defenders as base_defenders\n",
    "import source.players.defenders as defenders\n",
    "import source.runner as runner\n",
    "\n",
    "\n",
    "import numpy as np\n",
    "import pandas as pd\n",
    "from importlib import *"
   ]
  },
  {
   "cell_type": "code",
   "execution_count": 51,
   "metadata": {},
   "outputs": [],
   "source": [
    "def print_move(m):\n",
    "    l1 = \"\"\n",
    "    for i in range(len(g.values)):\n",
    "        if m[0][0] == i:\n",
    "            l1 += \"□\\t\"\n",
    "        else:\n",
    "            l1 += \" \\t\"\n",
    "    l2 = \"\".join([str(i[0])+\"\\t\" for i in g.values])\n",
    "    l3 = \"\"\n",
    "    for i in range(len(g.values)):\n",
    "        if m[1][0] == i:\n",
    "            l3 += \"△\\t\"\n",
    "        else:\n",
    "            l3 += \" \\t\"\n",
    "    print(l1)\n",
    "    print(l2)\n",
    "    print(l3)"
   ]
  },
  {
   "cell_type": "code",
   "execution_count": 11,
   "metadata": {
    "collapsed": true
   },
   "outputs": [],
   "source": [
    "import matplotlib.pyplot as plt\n",
    "%matplotlib inline"
   ]
  },
  {
   "cell_type": "code",
   "execution_count": 2,
   "metadata": {},
   "outputs": [
    {
     "data": {
      "text/plain": [
       "<module 'source.environment' from '/home/lorenzo/Scrivania/Polimi/Thesis/code/onlineSG/source/environment.py'>"
      ]
     },
     "execution_count": 2,
     "metadata": {},
     "output_type": "execute_result"
    }
   ],
   "source": [
    "# if you change something in the files, don't forget to reload\n",
    "reload(player)\n",
    "reload(base_defenders)\n",
    "reload(attackers)\n",
    "reload(defenders)\n",
    "reload(errors)\n",
    "reload(runner)\n",
    "reload(parsers)\n",
    "reload(game)\n",
    "reload(environment)"
   ]
  },
  {
   "cell_type": "code",
   "execution_count": 3,
   "metadata": {},
   "outputs": [],
   "source": [
    "values = ((1, 1), (2, 2), (3, 3))\n",
    "time_horizon = 400\n",
    "g = game.Game(values, time_horizon)\n",
    "#agent = defenders.FABULOUS(g,0,1,0.55,0.35,0.1)\n",
    "experts = [base_defenders.StackelbergDefender(g, 0),\n",
    "           base_defenders.UnknownStochasticDefender(g, 0, algorithm='fpl')]\n",
    "agent = base_defenders.MABDefender(g, 0, 1, 1, experts)\n",
    "#agent = base_defenders.StackelbergDefender(g, 0)\n",
    "#agent = base_defenders.UnknownStochasticDefender(g, 0)\n",
    "#attacker = attackers.StackelbergAttacker(g, 1)\n",
    "attacker = attackers.StochasticAttacker(g, 1, 1,0.55,0.35,0.1)\n",
    "g.set_players([agent], [attacker])"
   ]
  },
  {
   "cell_type": "code",
   "execution_count": 1360,
   "metadata": {
    "collapsed": true
   },
   "outputs": [],
   "source": [
    "e = runner.Experiment(g, seed=732252)"
   ]
  },
  {
   "cell_type": "code",
   "execution_count": 1287,
   "metadata": {},
   "outputs": [
    {
     "name": "stdout",
     "output_type": "stream",
     "text": [
      "482 \n",
      " p[stackelberg_defender] =  0.5 \n",
      " p[unknown_stochastic_defender] =  0.5 \n",
      " last moves:  {0: [1], 1: [0]} \n",
      " last strategies:  {0: [0.0, 0.4, 0.6], 1: (0.55, 0.35, 0.1)} \n",
      " unk last strategy:  [0, 1, 0] \n",
      "\n",
      " \t□\t \t\n",
      "1\t2\t3\t\n",
      "△\t \t \t\n",
      "unk avg_rewards:  {0: -0.9173228346456693, 1: -0.8858267716535433, 2: -1.2125984251968505} \n",
      " avg_r[stackelberg_defender] =  -1.048458149779736 \n",
      " avg_r[unknown_stochastic_defender] =  -0.9294117647058824 \n",
      " w[stackelberg_defender] =  227 \n",
      " w[unknown_stochastic_defender] =  255 \n",
      "\n"
     ]
    }
   ],
   "source": [
    "e.run_interaction()\n",
    "print(e.agent.t, \"\\n\",\n",
    "      #len(e.game.history), \"\\n\",\n",
    "      \"p[\"+ e.agent.experts[0].__class__.name +\"] = \",e.agent.prob[e.agent.experts[0]],\"\\n\",\n",
    "      \"p[\"+ e.agent.experts[1].__class__.name +\"] = \",e.agent.prob[e.agent.experts[1]],\"\\n\",\n",
    "      \"last moves: \",e.game.history[-1], \"\\n\",\n",
    "      \"last strategies: \",e.game.strategy_history[-1], \"\\n\",\n",
    "      \"unk last strategy: \",e.agent.experts[1].last_strategy, \"\\n\",)\n",
    "print_move(e.game.history[-1])\n",
    "#print(\"state\", e.agent.state)\n",
    "print(\"unk avg_rewards: \",e.agent.experts[1].avg_rewards, \"\\n\",\n",
    "      \"avg_r[\"+ e.agent.experts[0].__class__.name +\"] = \",e.agent.avg_rewards[e.agent.experts[0]],\"\\n\",\n",
    "      \"avg_r[\"+ e.agent.experts[1].__class__.name +\"] = \",e.agent.avg_rewards[e.agent.experts[1]],\"\\n\",\n",
    "      \"w[\"+ e.agent.experts[0].__class__.name +\"] = \",e.agent.weight[e.agent.experts[0]],\"\\n\",\n",
    "      \"w[\"+ e.agent.experts[1].__class__.name +\"] = \",e.agent.weight[e.agent.experts[1]],\"\\n\",)"
   ]
  },
  {
   "cell_type": "code",
   "execution_count": 1361,
   "metadata": {},
   "outputs": [],
   "source": [
    "e.run()"
   ]
  },
  {
   "cell_type": "code",
   "execution_count": 1362,
   "metadata": {},
   "outputs": [
    {
     "data": {
      "text/plain": [
       "{'best_action': 1, 'total_rewards': -4230, 'weak_regret': 760}"
      ]
     },
     "execution_count": 1362,
     "metadata": {},
     "output_type": "execute_result"
    }
   ],
   "source": [
    "e.stats"
   ]
  },
  {
   "cell_type": "code",
   "execution_count": 1363,
   "metadata": {},
   "outputs": [
    {
     "data": {
      "text/plain": [
       "{<StackelbergDefender id:0 resources:1>: -10.489510489510497,\n",
       " <UnknownStochasticDefender id:0 resources:1>: -10.789473684210526}"
      ]
     },
     "execution_count": 1363,
     "metadata": {},
     "output_type": "execute_result"
    }
   ],
   "source": [
    "e.agent.avg_rewards"
   ]
  },
  {
   "cell_type": "code",
   "execution_count": 1329,
   "metadata": {},
   "outputs": [
    {
     "data": {
      "text/plain": [
       "-8.926701570680628"
      ]
     },
     "execution_count": 1329,
     "metadata": {},
     "output_type": "execute_result"
    }
   ],
   "source": [
    "not_sta = [f['total'] for i,f in enumerate(e.agent.feedbacks) if e.game.strategy_history[i][0]!=[0.0, 0.4, 0.6]]\n",
    "sum(not_sta) / len(not_sta)"
   ]
  },
  {
   "cell_type": "code",
   "execution_count": 4,
   "metadata": {
    "collapsed": true
   },
   "outputs": [],
   "source": [
    "rm -rf ./detect_with_expert"
   ]
  },
  {
   "cell_type": "code",
   "execution_count": 5,
   "metadata": {
    "scrolled": false
   },
   "outputs": [],
   "source": [
    "c = runner.Configuration(g, \"detect_with_expert\")"
   ]
  },
  {
   "cell_type": "code",
   "execution_count": 6,
   "metadata": {},
   "outputs": [
    {
     "name": "stdout",
     "output_type": "stream",
     "text": [
      "0\n",
      "10\n",
      "20\n",
      "30\n",
      "40\n",
      "50\n",
      "60\n",
      "70\n",
      "80\n",
      "90\n"
     ]
    }
   ],
   "source": [
    "for i in range(100):\n",
    "    c.run_an_experiment()\n",
    "    if not i % 10:\n",
    "        print(i)"
   ]
  },
  {
   "cell_type": "code",
   "execution_count": 7,
   "metadata": {},
   "outputs": [
    {
     "data": {
      "text/plain": [
       "{'avg_total_rewards': -371.15, 'avg_weak_regret': 29.82}"
      ]
     },
     "execution_count": 7,
     "metadata": {},
     "output_type": "execute_result"
    }
   ],
   "source": [
    "c.stats"
   ]
  },
  {
   "cell_type": "code",
   "execution_count": 1371,
   "metadata": {
    "collapsed": true
   },
   "outputs": [],
   "source": [
    "i=0"
   ]
  },
  {
   "cell_type": "code",
   "execution_count": 1383,
   "metadata": {},
   "outputs": [
    {
     "data": {
      "text/html": [
       "<div>\n",
       "<table border=\"1\" class=\"dataframe\">\n",
       "  <thead>\n",
       "    <tr style=\"text-align: right;\">\n",
       "      <th></th>\n",
       "      <th>defender-0</th>\n",
       "      <th>stochastic_attacker-1</th>\n",
       "      <th>feedback target 0</th>\n",
       "      <th>feedback target 1</th>\n",
       "      <th>feedback target 2</th>\n",
       "      <th>total</th>\n",
       "    </tr>\n",
       "  </thead>\n",
       "  <tbody>\n",
       "    <tr>\n",
       "      <th>390</th>\n",
       "      <td>([0.0, 0.4, 0.6], [2])</td>\n",
       "      <td>([0.55, 0.35, 0.1], [0])</td>\n",
       "      <td>-1</td>\n",
       "      <td>0</td>\n",
       "      <td>0</td>\n",
       "      <td>-1</td>\n",
       "    </tr>\n",
       "    <tr>\n",
       "      <th>391</th>\n",
       "      <td>([0, 1, 0], [1])</td>\n",
       "      <td>([0.55, 0.35, 0.1], [0])</td>\n",
       "      <td>-1</td>\n",
       "      <td>0</td>\n",
       "      <td>0</td>\n",
       "      <td>-1</td>\n",
       "    </tr>\n",
       "    <tr>\n",
       "      <th>392</th>\n",
       "      <td>([0.0, 0.4, 0.6], [2])</td>\n",
       "      <td>([0.55, 0.35, 0.1], [0])</td>\n",
       "      <td>-1</td>\n",
       "      <td>0</td>\n",
       "      <td>0</td>\n",
       "      <td>-1</td>\n",
       "    </tr>\n",
       "    <tr>\n",
       "      <th>393</th>\n",
       "      <td>([0, 1, 0], [1])</td>\n",
       "      <td>([0.55, 0.35, 0.1], [0])</td>\n",
       "      <td>-1</td>\n",
       "      <td>0</td>\n",
       "      <td>0</td>\n",
       "      <td>-1</td>\n",
       "    </tr>\n",
       "    <tr>\n",
       "      <th>394</th>\n",
       "      <td>([0.0, 0.4, 0.6], [2])</td>\n",
       "      <td>([0.55, 0.35, 0.1], [0])</td>\n",
       "      <td>-1</td>\n",
       "      <td>0</td>\n",
       "      <td>0</td>\n",
       "      <td>-1</td>\n",
       "    </tr>\n",
       "    <tr>\n",
       "      <th>395</th>\n",
       "      <td>([0, 1, 0], [1])</td>\n",
       "      <td>([0.55, 0.35, 0.1], [1])</td>\n",
       "      <td>0</td>\n",
       "      <td>0</td>\n",
       "      <td>0</td>\n",
       "      <td>0</td>\n",
       "    </tr>\n",
       "    <tr>\n",
       "      <th>396</th>\n",
       "      <td>([0, 1, 0], [1])</td>\n",
       "      <td>([0.55, 0.35, 0.1], [1])</td>\n",
       "      <td>0</td>\n",
       "      <td>0</td>\n",
       "      <td>0</td>\n",
       "      <td>0</td>\n",
       "    </tr>\n",
       "    <tr>\n",
       "      <th>397</th>\n",
       "      <td>([0, 1, 0], [1])</td>\n",
       "      <td>([0.55, 0.35, 0.1], [0])</td>\n",
       "      <td>-1</td>\n",
       "      <td>0</td>\n",
       "      <td>0</td>\n",
       "      <td>-1</td>\n",
       "    </tr>\n",
       "    <tr>\n",
       "      <th>398</th>\n",
       "      <td>([0.0, 0.4, 0.6], [1])</td>\n",
       "      <td>([0.55, 0.35, 0.1], [0])</td>\n",
       "      <td>-1</td>\n",
       "      <td>0</td>\n",
       "      <td>0</td>\n",
       "      <td>-1</td>\n",
       "    </tr>\n",
       "    <tr>\n",
       "      <th>399</th>\n",
       "      <td>([0, 1, 0], [1])</td>\n",
       "      <td>([0.55, 0.35, 0.1], [2])</td>\n",
       "      <td>0</td>\n",
       "      <td>0</td>\n",
       "      <td>-3</td>\n",
       "      <td>-3</td>\n",
       "    </tr>\n",
       "  </tbody>\n",
       "</table>\n",
       "</div>"
      ],
      "text/plain": [
       "                 defender-0     stochastic_attacker-1  feedback target 0  \\\n",
       "390  ([0.0, 0.4, 0.6], [2])  ([0.55, 0.35, 0.1], [0])                 -1   \n",
       "391        ([0, 1, 0], [1])  ([0.55, 0.35, 0.1], [0])                 -1   \n",
       "392  ([0.0, 0.4, 0.6], [2])  ([0.55, 0.35, 0.1], [0])                 -1   \n",
       "393        ([0, 1, 0], [1])  ([0.55, 0.35, 0.1], [0])                 -1   \n",
       "394  ([0.0, 0.4, 0.6], [2])  ([0.55, 0.35, 0.1], [0])                 -1   \n",
       "395        ([0, 1, 0], [1])  ([0.55, 0.35, 0.1], [1])                  0   \n",
       "396        ([0, 1, 0], [1])  ([0.55, 0.35, 0.1], [1])                  0   \n",
       "397        ([0, 1, 0], [1])  ([0.55, 0.35, 0.1], [0])                 -1   \n",
       "398  ([0.0, 0.4, 0.6], [1])  ([0.55, 0.35, 0.1], [0])                 -1   \n",
       "399        ([0, 1, 0], [1])  ([0.55, 0.35, 0.1], [2])                  0   \n",
       "\n",
       "     feedback target 1  feedback target 2  total  \n",
       "390                  0                  0     -1  \n",
       "391                  0                  0     -1  \n",
       "392                  0                  0     -1  \n",
       "393                  0                  0     -1  \n",
       "394                  0                  0     -1  \n",
       "395                  0                  0      0  \n",
       "396                  0                  0      0  \n",
       "397                  0                  0     -1  \n",
       "398                  0                  0     -1  \n",
       "399                  0                 -3     -3  "
      ]
     },
     "execution_count": 1383,
     "metadata": {},
     "output_type": "execute_result"
    }
   ],
   "source": [
    "i+=1\n",
    "c.results_of(i,-10,None)"
   ]
  },
  {
   "cell_type": "code",
   "execution_count": 8,
   "metadata": {},
   "outputs": [
    {
     "data": {
      "text/plain": [
       "-0.8899000000000002"
      ]
     },
     "execution_count": 8,
     "metadata": {},
     "output_type": "execute_result"
    }
   ],
   "source": [
    "last_100 = [sum([f['total'] for f in e.agent.feedbacks][-100:])/100 for e in c.experiments]\n",
    "sum(last_100) / len(last_100)"
   ]
  },
  {
   "cell_type": "code",
   "execution_count": 9,
   "metadata": {},
   "outputs": [
    {
     "data": {
      "text/plain": [
       "{<UnknownStochasticDefender id:0 resources:1>: -0.9178885630498533,\n",
       " <StackelbergDefender id:0 resources:1>: -1.2372881355932202}"
      ]
     },
     "execution_count": 9,
     "metadata": {},
     "output_type": "execute_result"
    }
   ],
   "source": [
    "c.experiments[41].agent.avg_rewards"
   ]
  },
  {
   "cell_type": "code",
   "execution_count": 13,
   "metadata": {},
   "outputs": [
    {
     "data": {
      "image/png": "[encoded data removed]",
      "text/plain": [
       "<matplotlib.figure.Figure at 0x7fabe3b4c0b8>"
      ]
     },
     "metadata": {},
     "output_type": "display_data"
    }
   ],
   "source": [
    "comp = [c]\n",
    "for i,c in enumerate(comp):\n",
    "    payoffs = [np.array([f['total'] for f in e.agent.feedbacks]) for e in c.experiments]\n",
    "    avg_payoffs = sum(payoffs, np.zeros(len(payoffs[0]))) / len(payoffs)\n",
    "    plt.plot(avg_payoffs, label = str(i))\n",
    "plt.plot([-0.85 for i in range(time_horizon)], label=\"optimal\")\n",
    "plt.legend(bbox_to_anchor=(1.05, 1), loc=2, borderaxespad=0.)\n",
    "plt.ylabel('payoffs')\n",
    "plt.show()"
   ]
  }
 ],
 "metadata": {
  "kernelspec": {
   "display_name": "Python 3",
   "language": "python",
   "name": "python3"
  },
  "language_info": {
   "codemirror_mode": {
    "name": "ipython",
    "version": 3
   },
   "file_extension": ".py",
   "mimetype": "text/x-python",
   "name": "python",
   "nbconvert_exporter": "python",
   "pygments_lexer": "ipython3",
   "version": "3.7.0"
  }
 },
 "nbformat": 4,
 "nbformat_minor": 1
}
