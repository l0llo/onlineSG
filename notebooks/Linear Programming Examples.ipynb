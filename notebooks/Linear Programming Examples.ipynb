{
 "cells": [
  {
   "cell_type": "markdown",
   "metadata": {},
   "source": [
    "# Linear Programming Examples\n"
   ]
  },
  {
   "cell_type": "code",
   "execution_count": null,
   "metadata": {
    "collapsed": true
   },
   "outputs": [],
   "source": [
    "from gurobipy import *"
   ]
  },
  {
   "cell_type": "markdown",
   "metadata": {},
   "source": [
    "first gurobi notebook example"
   ]
  },
  {
   "cell_type": "code",
   "execution_count": null,
   "metadata": {
    "collapsed": true
   },
   "outputs": [],
   "source": [
    "m = Model()\n",
    "v0 = m.addVar()\n",
    "v1 = m.addVar()\n",
    "m.update()\n",
    "m.addConstr(v0-v1 <= 4)\n",
    "m.addConstr(v0+v1 <= 4)\n",
    "m.addConstr(-0.25*v0+v1 <= 1)\n",
    "m.setObjective(v1, GRB.MAXIMIZE)\n",
    "m.params.outputflag = 0\n",
    "for v in m.getVars():\n",
    "    print(v.varName, v.x)"
   ]
  },
  {
   "cell_type": "markdown",
   "metadata": {},
   "source": [
    "First linear programming example of the book \"Introduction to Operative Research\" by Hillier & Lieberman (chapter 2)"
   ]
  },
  {
   "cell_type": "code",
   "execution_count": null,
   "metadata": {
    "collapsed": true
   },
   "outputs": [],
   "source": [
    "try:\n",
    "\n",
    "    # Create a new model\n",
    "    m = Model(\"glasses\")\n",
    "\n",
    "    # Create variables\n",
    "    x = m.addVar(vtype=GRB.CONTINUOUS, name=\"x\")\n",
    "    y = m.addVar(vtype=GRB.CONTINUOUS, name=\"y\")\n",
    "\n",
    "    # Set objective\n",
    "    m.setObjective(3 * x + 5 * y, GRB.MAXIMIZE)\n",
    "\n",
    "    # Add constraint:\n",
    "    m.addConstr(x <= 4, \"c0\")\n",
    "\n",
    "    # Add constraint:\n",
    "    m.addConstr(y <= 6, \"c1\")\n",
    "    \n",
    "    # Add constraint:\n",
    "    m.addConstr(3 * x + 2 * y <= 18, \"c2\")\n",
    "\n",
    "    m.optimize()\n",
    "\n",
    "    for v in m.getVars():\n",
    "        print(v.varName, v.x)\n",
    "\n",
    "    print('Obj:', m.objVal)\n",
    "\n",
    "except GurobiError:\n",
    "    print('Error reported')"
   ]
  }
 ],
 "metadata": {
  "kernelspec": {
   "display_name": "Python 3",
   "language": "python",
   "name": "python3"
  },
  "language_info": {
   "codemirror_mode": {
    "name": "ipython",
    "version": 3
   },
   "file_extension": ".py",
   "mimetype": "text/x-python",
   "name": "python",
   "nbconvert_exporter": "python",
   "pygments_lexer": "ipython3",
   "version": "3.5.2"
  }
 },
 "nbformat": 4,
 "nbformat_minor": 0
}
