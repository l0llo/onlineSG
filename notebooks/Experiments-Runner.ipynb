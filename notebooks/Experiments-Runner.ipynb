{
 "cells": [
  {
   "cell_type": "markdown",
   "metadata": {
    "collapsed": true,
    "slideshow": {
     "slide_type": "-"
    }
   },
   "source": [
    "# Run"
   ]
  },
  {
   "cell_type": "code",
   "execution_count": 3,
   "metadata": {
    "collapsed": false
   },
   "outputs": [
    {
     "data": {
      "text/html": [
       "<style>.container { width:100% !important; }</style>"
      ],
      "text/plain": [
       "<IPython.core.display.HTML object>"
      ]
     },
     "metadata": {},
     "output_type": "display_data"
    }
   ],
   "source": [
    "from IPython.core.display import display, HTML\n",
    "display(HTML(\"<style>.container { width:100% !important; }</style>\"))"
   ]
  },
  {
   "cell_type": "code",
   "execution_count": 2,
   "metadata": {
    "collapsed": false
   },
   "outputs": [],
   "source": [
    "import source.game as game\n",
    "import source.player as player\n",
    "import source.environment as environment\n",
    "import source.errors as errors\n",
    "import source.parsers as parsers\n",
    "import source.players.attackers as attackers\n",
    "import source.players.base_defenders as base_defenders\n",
    "import source.players.defenders as defenders\n",
    "import source.runner as runner\n",
    "import source.players.detection as detection \n",
    "\n",
    "import source.util as util\n",
    "import numpy as np\n",
    "import pandas as pd\n",
    "from importlib import *\n",
    "import source.util as util\n",
    "from copy import deepcopy, copy\n",
    "import time \n",
    "import os\n",
    "import re\n",
    "import functools"
   ]
  },
  {
   "cell_type": "code",
   "execution_count": 74,
   "metadata": {
    "collapsed": false
   },
   "outputs": [
    {
     "data": {
      "text/plain": [
       "<module 'source.util' from '/home/lorenzo/Scrivania/Polimi/Thesis/code/onlineSG/source/util.py'>"
      ]
     },
     "execution_count": 74,
     "metadata": {},
     "output_type": "execute_result"
    }
   ],
   "source": [
    "reload(util)"
   ]
  },
  {
   "cell_type": "markdown",
   "metadata": {},
   "source": [
    "# Run"
   ]
  },
  {
   "cell_type": "code",
   "execution_count": 4,
   "metadata": {
    "collapsed": false
   },
   "outputs": [],
   "source": [
    "experiments_folder = \"../Experiments/Stackelberg_KnownStochastic\""
   ]
  },
  {
   "cell_type": "code",
   "execution_count": 106,
   "metadata": {
    "collapsed": false
   },
   "outputs": [],
   "source": [
    "batches = []\n",
    "csv_pattern = re.compile(\"^[A-z]+\\.csv$\")\n",
    "for root, dirs, files in os.walk(experiments_folder):\n",
    "    if files: #and functools.reduce(lambda x,y: x and y, [bool(csv_pattern.match(f)) for f in files]):\n",
    "        for f in files:\n",
    "            if (csv_pattern.match(f) and f != \"batch.csv\" and\n",
    "                f != \"stats.csv\" and f.split('.csv')[0] not in dirs):\n",
    "                print(f)\n",
    "                b = runner.Batch(os.path.join(root, f), root)\n",
    "                b.parse_batch()\n",
    "                batches.append(b)"
   ]
  },
  {
   "cell_type": "code",
   "execution_count": 108,
   "metadata": {
    "collapsed": false
   },
   "outputs": [
    {
     "name": "stdout",
     "output_type": "stream",
     "text": [
      "24.332815647125244\n",
      "24.282313346862793\n",
      "24.19213628768921\n",
      "9.997862339019775\n",
      "10.979803323745728\n",
      "10.850967407226562\n",
      "18.324466228485107\n",
      "18.82166028022766\n",
      "18.252423524856567\n",
      "15.297493934631348\n",
      "15.512878656387329\n",
      "14.962382555007935\n",
      "12.863822221755981\n",
      "13.088488578796387\n",
      "13.037963628768921\n"
     ]
    }
   ],
   "source": [
    "for b in util.log_progress(batches):\n",
    "    start_time = time.time()\n",
    "    b.run(1, True, 2)\n",
    "    print(time.time() - start_time)\n",
    "    c = b.configurations\n",
    "    util.plot_conf(\"exp_regret\", c, b.results_folder_path)\n",
    "util.end_sound()"
   ]
  },
  {
   "cell_type": "code",
   "execution_count": 116,
   "metadata": {
    "collapsed": false
   },
   "outputs": [
    {
     "data": {
      "text/plain": [
       "40.799579660097756"
      ]
     },
     "execution_count": 116,
     "metadata": {},
     "output_type": "execute_result"
    }
   ],
   "source": [
    "(24.332815647125244+\n",
    "24.282313346862793+\n",
    "24.19213628768921+\n",
    "9.997862339019775+\n",
    "10.979803323745728+\n",
    "10.850967407226562+\n",
    "18.324466228485107+\n",
    "18.82166028022766+\n",
    "18.252423524856567+\n",
    "15.297493934631348+\n",
    "15.512878656387329+\n",
    "14.962382555007935+\n",
    "12.863822221755981+\n",
    "13.088488578796387+\n",
    "13.037963628768921)* 10 / 60"
   ]
  },
  {
   "cell_type": "markdown",
   "metadata": {},
   "source": [
    "## Experiments"
   ]
  },
  {
   "cell_type": "code",
   "execution_count": 36,
   "metadata": {
    "collapsed": true
   },
   "outputs": [],
   "source": [
    "g = deepcopy(c[2].game)"
   ]
  },
  {
   "cell_type": "code",
   "execution_count": 37,
   "metadata": {
    "collapsed": true
   },
   "outputs": [],
   "source": [
    "e = runner.Experiment(g)"
   ]
  },
  {
   "cell_type": "code",
   "execution_count": 47,
   "metadata": {
    "collapsed": false
   },
   "outputs": [
    {
     "name": "stdout",
     "output_type": "stream",
     "text": [
      "{0: [0.08623488216544457, 0.0964933345610443, 0.3199888388176667, 0.179268712460748, 0.3180142319950964], 1: [1, 0, 0, 0, 0]}\n",
      "{<StackelbergAttacker id:1 resources:1>: 0.9999999995561333, <StochasticAttacker id:1 resources:1>: 4.43866730999505e-10}\n",
      "{0: [2], 1: [0]}\n"
     ]
    }
   ],
   "source": [
    "e.run_interaction()\n",
    "print(e.game.strategy_history[-1])\n",
    "print(e.agent.belief)\n",
    "#print(util.game_str(e.game, lenght=7))\n",
    "print(e.game.history[-1])"
   ]
  },
  {
   "cell_type": "code",
   "execution_count": 167,
   "metadata": {
    "collapsed": false,
    "scrolled": true
   },
   "outputs": [
    {
     "data": {
      "text/plain": [
       "[[0, 1, 0, 0, 0],\n",
       " [0.03, 0.13, 0.73, 0.0, 0.11],\n",
       " [0.0, 0.13, 0.18, 0.48, 0.21],\n",
       " [0.44, 0.02, 0.09, 0.42, 0.03]]"
      ]
     },
     "execution_count": 167,
     "metadata": {},
     "output_type": "execute_result"
    }
   ],
   "source": [
    "[p.compute_strategy() for p in e.agent.profiles]"
   ]
  },
  {
   "cell_type": "code",
   "execution_count": 176,
   "metadata": {
    "collapsed": false
   },
   "outputs": [],
   "source": [
    "e.run()"
   ]
  }
 ],
 "metadata": {
  "kernelspec": {
   "display_name": "Python 3",
   "language": "python",
   "name": "python3"
  },
  "language_info": {
   "codemirror_mode": {
    "name": "ipython",
    "version": 3
   },
   "file_extension": ".py",
   "mimetype": "text/x-python",
   "name": "python",
   "nbconvert_exporter": "python",
   "pygments_lexer": "ipython3",
   "version": "3.5.2"
  }
 },
 "nbformat": 4,
 "nbformat_minor": 0
}
