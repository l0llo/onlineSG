{
 "cells": [
  {
   "cell_type": "markdown",
   "metadata": {
    "collapsed": true,
    "slideshow": {
     "slide_type": "-"
    }
   },
   "source": [
    "# Run"
   ]
  },
  {
   "cell_type": "code",
   "execution_count": 3,
   "metadata": {
    "collapsed": false
   },
   "outputs": [
    {
     "data": {
      "text/html": [
       "<style>.container { width:100% !important; }</style>"
      ],
      "text/plain": [
       "<IPython.core.display.HTML object>"
      ]
     },
     "metadata": {},
     "output_type": "display_data"
    }
   ],
   "source": [
    "from IPython.core.display import display, HTML\n",
    "display(HTML(\"<style>.container { width:100% !important; }</style>\"))"
   ]
  },
  {
   "cell_type": "code",
   "execution_count": 1,
   "metadata": {
    "collapsed": false
   },
   "outputs": [],
   "source": [
    "import source.game as game\n",
    "import source.player as player\n",
    "import source.environment as environment\n",
    "import source.errors as errors\n",
    "import source.parsers as parsers\n",
    "import source.players.attackers as attackers\n",
    "import source.players.base_defenders as base_defenders\n",
    "import source.players.defenders as defenders\n",
    "import source.runner as runner\n",
    "import source.players.detection as detection \n",
    "import source.players.fabulous as fabulous\n",
    "\n",
    "import source.util as util\n",
    "import numpy as np\n",
    "import pandas as pd\n",
    "from importlib import *\n",
    "import source.util as util\n",
    "from copy import deepcopy, copy\n",
    "from contextlib import redirect_stdout\n",
    "import time \n",
    "import os\n",
    "import re\n",
    "import functools"
   ]
  },
  {
   "cell_type": "code",
   "execution_count": 18,
   "metadata": {
    "collapsed": false
   },
   "outputs": [
    {
     "data": {
      "text/plain": [
       "<module 'source.util' from '/home/lorenzo/Scrivania/Polimi/Thesis/code/onlineSG/source/util.py'>"
      ]
     },
     "execution_count": 18,
     "metadata": {},
     "output_type": "execute_result"
    }
   ],
   "source": [
    "reload(util)"
   ]
  },
  {
   "cell_type": "markdown",
   "metadata": {},
   "source": [
    "# Run"
   ]
  },
  {
   "cell_type": "code",
   "execution_count": 2,
   "metadata": {
    "collapsed": false
   },
   "outputs": [],
   "source": [
    "experiment_folder = \"../Experiments/UnknownStochastic_Fabulous\""
   ]
  },
  {
   "cell_type": "code",
   "execution_count": 5,
   "metadata": {
    "collapsed": false
   },
   "outputs": [],
   "source": [
    "batches = []\n",
    "csv_pattern = re.compile(\"^.+\\.csv$\")\n",
    "for root, dirs, files in os.walk(experiment_folder):\n",
    "    if files: #and functools.reduce(lambda x,y: x and y, [bool(csv_pattern.match(f)) for f in files]):\n",
    "        for f in files:\n",
    "            if (csv_pattern.match(f) and f != \"batch.csv\" and\n",
    "                f != \"stats.csv\" and f.split('.csv')[0] not in dirs):\n",
    "                #print(f)\n",
    "                b = runner.Batch(os.path.join(root, f), root)\n",
    "                b.parse_batch()\n",
    "                batches.append(b)"
   ]
  },
  {
   "cell_type": "code",
   "execution_count": 6,
   "metadata": {
    "collapsed": false
   },
   "outputs": [
    {
     "data": {
      "text/plain": [
       "6"
      ]
     },
     "execution_count": 6,
     "metadata": {},
     "output_type": "execute_result"
    }
   ],
   "source": [
    "len(batches)"
   ]
  },
  {
   "cell_type": "code",
   "execution_count": 10,
   "metadata": {
    "collapsed": false
   },
   "outputs": [
    {
     "name": "stdout",
     "output_type": "stream",
     "text": [
      "\u001b[0m\u001b[01;34mbr_mab1-1_br_expert1-1\u001b[0m/  br_mab1-1_br_expert1-1.csv\r\n"
     ]
    }
   ],
   "source": [
    "ls $experiments_folder/t2/p1"
   ]
  },
  {
   "cell_type": "code",
   "execution_count": 7,
   "metadata": {
    "collapsed": false
   },
   "outputs": [],
   "source": [
    "with open('status.txt', 'w') as f:\n",
    "    with redirect_stdout(f):\n",
    "        for b in batches:\n",
    "            print(b.results_folder_path)\n",
    "            b.run(n=2, show_progress=False, workers=2)\n",
    "            c = b.configurations\n",
    "            util.plot_conf2(\"exp_regret\", c, b.results_folder_path)"
   ]
  },
  {
   "cell_type": "markdown",
   "metadata": {},
   "source": [
    "## Experiments"
   ]
  },
  {
   "cell_type": "code",
   "execution_count": 36,
   "metadata": {
    "collapsed": true
   },
   "outputs": [],
   "source": [
    "g = deepcopy(c[2].game)"
   ]
  },
  {
   "cell_type": "code",
   "execution_count": 37,
   "metadata": {
    "collapsed": true
   },
   "outputs": [],
   "source": [
    "e = runner.Experiment(g)"
   ]
  },
  {
   "cell_type": "code",
   "execution_count": 47,
   "metadata": {
    "collapsed": false
   },
   "outputs": [
    {
     "name": "stdout",
     "output_type": "stream",
     "text": [
      "{0: [0.08623488216544457, 0.0964933345610443, 0.3199888388176667, 0.179268712460748, 0.3180142319950964], 1: [1, 0, 0, 0, 0]}\n",
      "{<StackelbergAttacker id:1 resources:1>: 0.9999999995561333, <StochasticAttacker id:1 resources:1>: 4.43866730999505e-10}\n",
      "{0: [2], 1: [0]}\n"
     ]
    }
   ],
   "source": [
    "e.run_interaction()\n",
    "print(e.game.strategy_history[-1])\n",
    "print(e.agent.belief)\n",
    "#print(util.game_str(e.game, lenght=7))\n",
    "print(e.game.history[-1])"
   ]
  },
  {
   "cell_type": "code",
   "execution_count": 167,
   "metadata": {
    "collapsed": false,
    "scrolled": true
   },
   "outputs": [
    {
     "data": {
      "text/plain": [
       "[[0, 1, 0, 0, 0],\n",
       " [0.03, 0.13, 0.73, 0.0, 0.11],\n",
       " [0.0, 0.13, 0.18, 0.48, 0.21],\n",
       " [0.44, 0.02, 0.09, 0.42, 0.03]]"
      ]
     },
     "execution_count": 167,
     "metadata": {},
     "output_type": "execute_result"
    }
   ],
   "source": [
    "[p.compute_strategy() for p in e.agent.profiles]"
   ]
  },
  {
   "cell_type": "code",
   "execution_count": 176,
   "metadata": {
    "collapsed": false
   },
   "outputs": [],
   "source": [
    "e.run()"
   ]
  }
 ],
 "metadata": {
  "kernelspec": {
   "display_name": "Python 3",
   "language": "python",
   "name": "python3"
  },
  "language_info": {
   "codemirror_mode": {
    "name": "ipython",
    "version": 3
   },
   "file_extension": ".py",
   "mimetype": "text/x-python",
   "name": "python",
   "nbconvert_exporter": "python",
   "pygments_lexer": "ipython3",
   "version": "3.5.3"
  }
 },
 "nbformat": 4,
 "nbformat_minor": 0
}
