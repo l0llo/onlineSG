{
 "cells": [
  {
   "cell_type": "markdown",
   "metadata": {},
   "source": [
    "# Test for game with observabilities"
   ]
  },
  {
   "cell_type": "code",
   "execution_count": 147,
   "metadata": {},
   "outputs": [
    {
     "data": {
      "text/html": [
       "<style>.container { width:100% !important; }</style>"
      ],
      "text/plain": [
       "<IPython.core.display.HTML object>"
      ]
     },
     "metadata": {},
     "output_type": "display_data"
    }
   ],
   "source": [
    "from IPython.core.display import display, HTML\n",
    "display(HTML(\"<style>.container { width:100% !important; }</style>\"))"
   ]
  },
  {
   "cell_type": "code",
   "execution_count": 148,
   "metadata": {},
   "outputs": [],
   "source": [
    "import source.game as game\n",
    "import source.player as player\n",
    "import source.environment as environment\n",
    "import source.errors as errors\n",
    "import source.parsers as parsers\n",
    "import source.players.attackers as attackers\n",
    "import source.players.base_defenders as base_defenders\n",
    "import source.players.defenders as defenders\n",
    "import source.runner as runner\n",
    "\n",
    "import source.util as util\n",
    "import numpy as np\n",
    "import pandas as pd\n",
    "from importlib import *\n",
    "import source.util as util\n",
    "from copy import deepcopy, copy"
   ]
  },
  {
   "cell_type": "code",
   "execution_count": 149,
   "metadata": {},
   "outputs": [
    {
     "data": {
      "text/plain": [
       "<module 'source.util' from 'C:\\\\Users\\\\Mattia\\\\Desktop\\\\Mattia\\\\Git\\\\onlineSG\\\\source\\\\util.py'>"
      ]
     },
     "execution_count": 149,
     "metadata": {},
     "output_type": "execute_result"
    }
   ],
   "source": [
    "# if you change something in the files, don't forget to reload\n",
    "reload(player)\n",
    "reload(base_defenders)\n",
    "reload(attackers)\n",
    "reload(defenders)\n",
    "reload(errors)\n",
    "reload(runner)\n",
    "reload(parsers)\n",
    "reload(game)\n",
    "reload(environment)\n",
    "reload(util)"
   ]
  },
  {
   "cell_type": "code",
   "execution_count": 150,
   "metadata": {},
   "outputs": [],
   "source": [
    "time_horizon = 1000"
   ]
  },
  {
   "cell_type": "code",
   "execution_count": 151,
   "metadata": {},
   "outputs": [
    {
     "name": "stdout",
     "output_type": "stream",
     "text": [
      "((9, 9), (5, 5), (2, 2), (1, 1), (8, 8))\n",
      "5 [9, 5, 2, 1, 8]\n",
      "{0: 0.541, 1: 0.52, 2: 0.848, 3: 0.507, 4: 0.822}\n"
     ]
    }
   ],
   "source": [
    "T = 5 #np.random.randint(2,10)\n",
    "targets = util.gen_targets(T, low=1, high=10)\n",
    "distributions = []\n",
    "for i in range(20):\n",
    "    distributions.append(tuple(util.gen_distr(T)))\n",
    "values = tuple((v, v) for v in targets)\n",
    "print(values)\n",
    "observabilities = util.gen_observabilities_with_len(T)\n",
    "g = game.GameWithObservabilities(values, time_horizon)\n",
    "print(T, targets)\n",
    "print(observabilities)\n",
    "g.set_observabilities(observabilities)\n",
    "attacker = [attackers.ObservingStackelbergAttacker(g, 1, 1)]\n",
    "profiles = []\n",
    "profiles.append(attackers.ObservingStackelbergAttacker(g, 1, 1))\n",
    "for d in distributions:\n",
    "    profiles.append(attackers.StochasticAttacker(g, 1, 1, *d))\n",
    "profiles.append(attackers.StackelbergAttacker(g, 1))\n",
    "defender = [player.Defender(g, 0, 1)]\n",
    "g.set_players(defender, attacker, profiles)"
   ]
  },
  {
   "cell_type": "code",
   "execution_count": 152,
   "metadata": {},
   "outputs": [],
   "source": [
    "e = runner.Experiment(g)"
   ]
  },
  {
   "cell_type": "code",
   "execution_count": 153,
   "metadata": {},
   "outputs": [],
   "source": [
    "e.run_interaction_with_observations()"
   ]
  },
  {
   "cell_type": "code",
   "execution_count": 156,
   "metadata": {},
   "outputs": [
    {
     "name": "stdout",
     "output_type": "stream",
     "text": [
      "{0: [0.2, 0.2, 0.2, 0.2, 0.2], 1: [1, 0, 0, 0, 0]}\n",
      "{1: [0], 0: [1]}\n",
      "[(1, 0)]\n",
      "7.2\n",
      "4.585987261146497\n"
     ]
    }
   ],
   "source": [
    "print(e.game.strategy_history[-1])\n",
    "print(e.game.history[-1])\n",
    "print(e.game.observation_history[-1])\n",
    "print(e.environment.last_exp_loss)\n",
    "print(e.environment.last_opt_loss)"
   ]
  },
  {
   "cell_type": "code",
   "execution_count": null,
   "metadata": {},
   "outputs": [],
   "source": []
  }
 ],
 "metadata": {
  "kernelspec": {
   "display_name": "Python 3",
   "language": "python",
   "name": "python3"
  },
  "language_info": {
   "codemirror_mode": {
    "name": "ipython",
    "version": 3
   },
   "file_extension": ".py",
   "mimetype": "text/x-python",
   "name": "python",
   "nbconvert_exporter": "python",
   "pygments_lexer": "ipython3",
   "version": "3.7.0"
  }
 },
 "nbformat": 4,
 "nbformat_minor": 2
}
