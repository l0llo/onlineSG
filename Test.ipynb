{
 "cells": [
  {
   "cell_type": "markdown",
   "metadata": {},
   "source": [
    "# Test for game with observabilities"
   ]
  },
  {
   "cell_type": "code",
   "execution_count": 22,
   "metadata": {},
   "outputs": [
    {
     "data": {
      "text/html": [
       "<style>.container { width:100% !important; }</style>"
      ],
      "text/plain": [
       "<IPython.core.display.HTML object>"
      ]
     },
     "metadata": {},
     "output_type": "display_data"
    }
   ],
   "source": [
    "from IPython.core.display import display, HTML\n",
    "display(HTML(\"<style>.container { width:100% !important; }</style>\"))"
   ]
  },
  {
   "cell_type": "code",
   "execution_count": 23,
   "metadata": {},
   "outputs": [],
   "source": [
    "import source.game as game\n",
    "import source.player as player\n",
    "import source.environment as environment\n",
    "import source.errors as errors\n",
    "import source.parsers as parsers\n",
    "import source.players.attackers as attackers\n",
    "import source.players.base_defenders as base_defenders\n",
    "import source.players.defenders as defenders\n",
    "import source.runner as runner\n",
    "\n",
    "import source.util as util\n",
    "import numpy as np\n",
    "import pandas as pd\n",
    "from importlib import *\n",
    "import source.util as util\n",
    "from copy import deepcopy, copy"
   ]
  },
  {
   "cell_type": "code",
   "execution_count": 24,
   "metadata": {},
   "outputs": [
    {
     "data": {
      "text/plain": [
       "<module 'source.util' from 'C:\\\\Users\\\\Mattia\\\\Desktop\\\\Mattia\\\\Git\\\\onlineSG\\\\source\\\\util.py'>"
      ]
     },
     "execution_count": 24,
     "metadata": {},
     "output_type": "execute_result"
    }
   ],
   "source": [
    "# if you change something in the files, don't forget to reload\n",
    "reload(player)\n",
    "reload(base_defenders)\n",
    "reload(attackers)\n",
    "reload(defenders)\n",
    "reload(errors)\n",
    "reload(runner)\n",
    "reload(parsers)\n",
    "reload(game)\n",
    "reload(environment)\n",
    "reload(util)"
   ]
  },
  {
   "cell_type": "code",
   "execution_count": 25,
   "metadata": {},
   "outputs": [],
   "source": [
    "time_horizon = 1000"
   ]
  },
  {
   "cell_type": "code",
   "execution_count": 26,
   "metadata": {},
   "outputs": [
    {
     "name": "stdout",
     "output_type": "stream",
     "text": [
      "Values: ((2, 2), (5, 5), (8, 8), (4, 4), (1, 1))\n",
      "Observabilities: {0: 0.5, 1: 0.5, 2: 0.5, 3: 0.5, 4: 0.5}\n"
     ]
    }
   ],
   "source": [
    "T = 5 #np.random.randint(2,10)\n",
    "targets = util.gen_targets(T, low=1, high=10)\n",
    "distributions = []\n",
    "for i in range(20):\n",
    "    distributions.append(tuple(util.gen_distr(T)))\n",
    "values = tuple((v, v) for v in targets)\n",
    "print(\"Values:\", values)\n",
    "observabilities = {0: 0.5, 1: 0.5, 2: 0.5, 3: 0.5, 4: 0.5}\n",
    "print(\"Observabilities:\", observabilities)\n",
    "g = game.Game(values, time_horizon)\n",
    "g_o = game.GameWithObservabilities(values, time_horizon)\n",
    "g_o.set_observabilities(observabilities)\n",
    "\n",
    "#generating attacker, defender and profiles for game without observabilities\n",
    "attacker = [attackers.StackelbergAttacker(g, 1, 1)]\n",
    "profiles = []\n",
    "profiles.append(attackers.StackelbergAttacker(g, 1, 1))\n",
    "for d in distributions:\n",
    "    profiles.append(attackers.StochasticAttacker(g, 1, 1, *d))\n",
    "profiles.append(attackers.StackelbergAttacker(g, 1))\n",
    "defender = [base_defenders.StackelbergDefender(g, 0, 1)]\n",
    "g.set_players(defender, attacker, profiles)\n",
    "\n",
    "#generating attacker, defender and profiles for game with observabilities\n",
    "attacker_o = [attackers.ObservingStackelbergAttacker(g_o, 1, 1)]\n",
    "profiles_o = []\n",
    "profiles_o.append(attackers.ObservingStackelbergAttacker(g_o, 1, 1))\n",
    "for d in distributions:\n",
    "    profiles_o.append(attackers.StochasticAttacker(g_o, 1, 1, *d))\n",
    "#adding standard Stackelberg attacker to compare its behavior wrt Observing one\n",
    "profiles_o.append(attackers.StackelbergAttacker(g_o, 1))\n",
    "defender_o = [base_defenders.StackelbergDefender(g_o, 0, 1)]\n",
    "g_o.set_players(defender_o, attacker_o, profiles_o)"
   ]
  },
  {
   "cell_type": "code",
   "execution_count": 27,
   "metadata": {},
   "outputs": [],
   "source": [
    "e = runner.Experiment(g)\n",
    "e_o = runner.Experiment(g_o)"
   ]
  },
  {
   "cell_type": "code",
   "execution_count": 28,
   "metadata": {},
   "outputs": [
    {
     "name": "stdout",
     "output_type": "stream",
     "text": [
      "[{0: [0.0, 0.30434782608695654, 0.5652173913043479, 0.13043478260869557, 0.0]}]\n",
      "[{0: [0.0, 0.30434782608695654, 0.5652173913043479, 0.13043478260869557, 0.0]}]\n"
     ]
    }
   ],
   "source": [
    "e.run_interaction()\n",
    "e_o.run_interaction_with_observations()"
   ]
  },
  {
   "cell_type": "code",
   "execution_count": 29,
   "metadata": {},
   "outputs": [
    {
     "name": "stdout",
     "output_type": "stream",
     "text": [
      "{0: [0.0, 0.30434782608695654, 0.5652173913043479, 0.13043478260869557, 0.0], 1: [0, 0, 0, 1, 0]}\n",
      "{1: [3], 0: [2]}\n",
      "3.4782608695652177\n",
      "3.478260869565216\n"
     ]
    }
   ],
   "source": [
    "print(e.game.strategy_history[-1])\n",
    "print(e.game.history[-1])\n",
    "print(e.environment.last_exp_loss)\n",
    "print(e.environment.last_opt_loss)"
   ]
  },
  {
   "cell_type": "code",
   "execution_count": 30,
   "metadata": {},
   "outputs": [
    {
     "name": "stdout",
     "output_type": "stream",
     "text": [
      "{0: [0.0, 0.30434782608695654, 0.5652173913043479, 0.13043478260869557, 0.0], 1: [0, 0, 1, 0, 0]}\n",
      "{1: [2], 0: [1]}\n",
      "[(1, 0)]\n",
      "3.478260869565217\n",
      "3.4782608695652177\n"
     ]
    }
   ],
   "source": [
    "print(e_o.game.strategy_history[-1])\n",
    "print(e_o.game.history[-1])\n",
    "print(e_o.game.observation_history[-1])\n",
    "print(e_o.environment.last_exp_loss)\n",
    "print(e_o.environment.last_opt_loss)"
   ]
  },
  {
   "cell_type": "code",
   "execution_count": 10,
   "metadata": {},
   "outputs": [
    {
     "data": {
      "text/plain": [
       "True"
      ]
     },
     "execution_count": 10,
     "metadata": {},
     "output_type": "execute_result"
    }
   ],
   "source": [
    "isinstance(e_o.game, game.GameWithObservabilities)"
   ]
  },
  {
   "cell_type": "code",
   "execution_count": null,
   "metadata": {},
   "outputs": [],
   "source": []
  }
 ],
 "metadata": {
  "kernelspec": {
   "display_name": "Python 3",
   "language": "python",
   "name": "python3"
  },
  "language_info": {
   "codemirror_mode": {
    "name": "ipython",
    "version": 3
   },
   "file_extension": ".py",
   "mimetype": "text/x-python",
   "name": "python",
   "nbconvert_exporter": "python",
   "pygments_lexer": "ipython3",
   "version": "3.7.0"
  }
 },
 "nbformat": 4,
 "nbformat_minor": 2
}
