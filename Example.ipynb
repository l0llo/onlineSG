{
 "cells": [
  {
   "cell_type": "code",
   "execution_count": 1,
   "metadata": {
    "collapsed": true
   },
   "outputs": [],
   "source": [
    "from game import *"
   ]
  },
  {
   "cell_type": "code",
   "execution_count": 2,
   "metadata": {
    "collapsed": true
   },
   "outputs": [],
   "source": [
    "from player import *"
   ]
  },
  {
   "cell_type": "markdown",
   "metadata": {},
   "source": [
    "let's initialize a game with a Stackelberg attacker and a Uniform defender"
   ]
  },
  {
   "cell_type": "code",
   "execution_count": 22,
   "metadata": {
    "collapsed": false
   },
   "outputs": [],
   "source": [
    "g = Game(((1, 1), (2, 2), (3, 3)), 10)\n",
    "d = Player(g, 0, 1)\n",
    "a = StackelbergAttacker(g, 1, 1)\n",
    "g.players[0] = d\n",
    "g.players[1] = a\n",
    "g.defenders.append(0)\n",
    "g.attackers.append(1)"
   ]
  },
  {
   "cell_type": "markdown",
   "metadata": {},
   "source": [
    "we can now play the game"
   ]
  },
  {
   "cell_type": "code",
   "execution_count": 23,
   "metadata": {
    "collapsed": false
   },
   "outputs": [],
   "source": [
    "g.play_game()"
   ]
  },
  {
   "cell_type": "markdown",
   "metadata": {},
   "source": [
    "and here is how it has gone"
   ]
  },
  {
   "cell_type": "code",
   "execution_count": 24,
   "metadata": {
    "collapsed": false
   },
   "outputs": [
    {
     "data": {
      "text/plain": [
       "[{0: [1], 1: [2]},\n",
       " {0: [2], 1: [2]},\n",
       " {0: [1], 1: [2]},\n",
       " {0: [1], 1: [2]},\n",
       " {0: [1], 1: [2]},\n",
       " {0: [2], 1: [2]},\n",
       " {0: [2], 1: [2]},\n",
       " {0: [0], 1: [2]},\n",
       " {0: [2], 1: [2]},\n",
       " {0: [1], 1: [2]}]"
      ]
     },
     "execution_count": 24,
     "metadata": {},
     "output_type": "execute_result"
    }
   ],
   "source": [
    "g.history"
   ]
  },
  {
   "cell_type": "code",
   "execution_count": 26,
   "metadata": {
    "collapsed": false
   },
   "outputs": [
    {
     "data": {
      "text/plain": [
       "[{0: [0.3333333333333333, 0.3333333333333333, 0.3333333333333333],\n",
       "  1: [0, 0, 1]},\n",
       " {0: [0.3333333333333333, 0.3333333333333333, 0.3333333333333333],\n",
       "  1: [0, 0, 1]},\n",
       " {0: [0.3333333333333333, 0.3333333333333333, 0.3333333333333333],\n",
       "  1: [0, 0, 1]},\n",
       " {0: [0.3333333333333333, 0.3333333333333333, 0.3333333333333333],\n",
       "  1: [0, 0, 1]},\n",
       " {0: [0.3333333333333333, 0.3333333333333333, 0.3333333333333333],\n",
       "  1: [0, 0, 1]},\n",
       " {0: [0.3333333333333333, 0.3333333333333333, 0.3333333333333333],\n",
       "  1: [0, 0, 1]},\n",
       " {0: [0.3333333333333333, 0.3333333333333333, 0.3333333333333333],\n",
       "  1: [0, 0, 1]},\n",
       " {0: [0.3333333333333333, 0.3333333333333333, 0.3333333333333333],\n",
       "  1: [0, 0, 1]},\n",
       " {0: [0.3333333333333333, 0.3333333333333333, 0.3333333333333333],\n",
       "  1: [0, 0, 1]},\n",
       " {0: [0.3333333333333333, 0.3333333333333333, 0.3333333333333333],\n",
       "  1: [0, 0, 1]}]"
      ]
     },
     "execution_count": 26,
     "metadata": {},
     "output_type": "execute_result"
    }
   ],
   "source": [
    "g.strategy_history"
   ]
  },
  {
   "cell_type": "markdown",
   "metadata": {},
   "source": [
    "and if we want to know the rewards of player 0 (the defender)"
   ]
  },
  {
   "cell_type": "code",
   "execution_count": 27,
   "metadata": {
    "collapsed": false
   },
   "outputs": [
    {
     "data": {
      "text/plain": [
       "[-3, 0, -3, -3, -3, 0, 0, -3, 0, -3]"
      ]
     },
     "execution_count": 27,
     "metadata": {},
     "output_type": "execute_result"
    }
   ],
   "source": [
    "d.get_rewards()"
   ]
  }
 ],
 "metadata": {
  "kernelspec": {
   "display_name": "Python 3",
   "language": "python",
   "name": "python3"
  },
  "language_info": {
   "codemirror_mode": {
    "name": "ipython",
    "version": 3
   },
   "file_extension": ".py",
   "mimetype": "text/x-python",
   "name": "python",
   "nbconvert_exporter": "python",
   "pygments_lexer": "ipython3",
   "version": "3.5.2"
  }
 },
 "nbformat": 4,
 "nbformat_minor": 0
}
