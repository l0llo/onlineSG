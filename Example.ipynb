{
 "cells": [
  {
   "cell_type": "code",
   "execution_count": 17,
   "metadata": {
    "collapsed": false
   },
   "outputs": [],
   "source": [
    "import game"
   ]
  },
  {
   "cell_type": "code",
   "execution_count": 19,
   "metadata": {
    "collapsed": false
   },
   "outputs": [],
   "source": [
    "from importlib import *"
   ]
  },
  {
   "cell_type": "code",
   "execution_count": 18,
   "metadata": {
    "collapsed": true
   },
   "outputs": [],
   "source": [
    "import player"
   ]
  },
  {
   "cell_type": "code",
   "execution_count": 27,
   "metadata": {
    "collapsed": false
   },
   "outputs": [],
   "source": [
    "import environment"
   ]
  },
  {
   "cell_type": "code",
   "execution_count": 22,
   "metadata": {
    "collapsed": false
   },
   "outputs": [],
   "source": [
    "import numpy as np"
   ]
  },
  {
   "cell_type": "code",
   "execution_count": 23,
   "metadata": {
    "collapsed": true
   },
   "outputs": [],
   "source": [
    "import pandas as pd"
   ]
  },
  {
   "cell_type": "code",
   "execution_count": 48,
   "metadata": {
    "collapsed": false
   },
   "outputs": [
    {
     "data": {
      "text/plain": [
       "<module 'game' from '/home/lorenzo/Scrivania/Polimi/Thesis/code/onlineSG/game.py'>"
      ]
     },
     "execution_count": 48,
     "metadata": {},
     "output_type": "execute_result"
    }
   ],
   "source": [
    "reload(game)"
   ]
  },
  {
   "cell_type": "markdown",
   "metadata": {},
   "source": [
    "let's initialize a game with a Stackelberg attacker and a Uniform defender"
   ]
  },
  {
   "cell_type": "code",
   "execution_count": 56,
   "metadata": {
    "collapsed": false
   },
   "outputs": [],
   "source": [
    "g = game.Game(((1, 1), (2, 2), (3, 3)), 10)\n",
    "d = player.Defender(g, 0, 1)\n",
    "a = player.StackelbergAttacker(g, 1, 1)\n",
    "g.players[0] = d\n",
    "g.players[1] = a\n",
    "g.defenders.append(0)\n",
    "g.attackers.append(1)\n",
    "e = environment.Environment(g, 0)\n",
    "agent = d"
   ]
  },
  {
   "cell_type": "markdown",
   "metadata": {},
   "source": [
    "we can now play the game"
   ]
  },
  {
   "cell_type": "code",
   "execution_count": 57,
   "metadata": {
    "collapsed": false
   },
   "outputs": [],
   "source": [
    "for t in range(g.time_horizon):\n",
    "    strategy = agent.compute_strategy()\n",
    "    e.observe_strategy(strategy)\n",
    "    realization = agent.sample_strategy()\n",
    "    e.observe_realization(realization)\n",
    "    feedback = e.feedback(\"expert\")\n",
    "    agent.receive_feedback(feedback)"
   ]
  },
  {
   "cell_type": "code",
   "execution_count": 58,
   "metadata": {
    "collapsed": false
   },
   "outputs": [
    {
     "data": {
      "text/plain": [
       "[{0: 0, 1: 0, 2: 0},\n",
       " {0: 0, 1: 0, 2: -3},\n",
       " {0: 0, 1: 0, 2: -3},\n",
       " {0: 0, 1: 0, 2: 0},\n",
       " {0: 0, 1: 0, 2: -3},\n",
       " {0: 0, 1: 0, 2: -3},\n",
       " {0: 0, 1: 0, 2: -3},\n",
       " {0: 0, 1: 0, 2: 0},\n",
       " {0: 0, 1: 0, 2: -3},\n",
       " {0: 0, 1: 0, 2: -3}]"
      ]
     },
     "execution_count": 58,
     "metadata": {},
     "output_type": "execute_result"
    }
   ],
   "source": [
    "agent.feedbacks"
   ]
  },
  {
   "cell_type": "markdown",
   "metadata": {},
   "source": [
    "and here is how it has gone"
   ]
  },
  {
   "cell_type": "code",
   "execution_count": 13,
   "metadata": {
    "collapsed": false
   },
   "outputs": [
    {
     "data": {
      "text/plain": [
       "[{0: [1], 1: [2]},\n",
       " {0: [0], 1: [2]},\n",
       " {0: [1], 1: [2]},\n",
       " {0: [0], 1: [2]},\n",
       " {0: [2], 1: [2]},\n",
       " {0: [2], 1: [2]},\n",
       " {0: [0], 1: [2]},\n",
       " {0: [1], 1: [2]},\n",
       " {0: [1], 1: [2]},\n",
       " {0: [2], 1: [2]}]"
      ]
     },
     "execution_count": 13,
     "metadata": {},
     "output_type": "execute_result"
    }
   ],
   "source": [
    "g.history"
   ]
  },
  {
   "cell_type": "code",
   "execution_count": 14,
   "metadata": {
    "collapsed": false
   },
   "outputs": [
    {
     "data": {
      "text/plain": [
       "[{0: [0.3333333333333333, 0.3333333333333333, 0.3333333333333333],\n",
       "  1: [0, 0, 1]},\n",
       " {0: [0.3333333333333333, 0.3333333333333333, 0.3333333333333333],\n",
       "  1: [0, 0, 1]},\n",
       " {0: [0.3333333333333333, 0.3333333333333333, 0.3333333333333333],\n",
       "  1: [0, 0, 1]},\n",
       " {0: [0.3333333333333333, 0.3333333333333333, 0.3333333333333333],\n",
       "  1: [0, 0, 1]},\n",
       " {0: [0.3333333333333333, 0.3333333333333333, 0.3333333333333333],\n",
       "  1: [0, 0, 1]},\n",
       " {0: [0.3333333333333333, 0.3333333333333333, 0.3333333333333333],\n",
       "  1: [0, 0, 1]},\n",
       " {0: [0.3333333333333333, 0.3333333333333333, 0.3333333333333333],\n",
       "  1: [0, 0, 1]},\n",
       " {0: [0.3333333333333333, 0.3333333333333333, 0.3333333333333333],\n",
       "  1: [0, 0, 1]},\n",
       " {0: [0.3333333333333333, 0.3333333333333333, 0.3333333333333333],\n",
       "  1: [0, 0, 1]},\n",
       " {0: [0.3333333333333333, 0.3333333333333333, 0.3333333333333333],\n",
       "  1: [0, 0, 1]}]"
      ]
     },
     "execution_count": 14,
     "metadata": {},
     "output_type": "execute_result"
    }
   ],
   "source": [
    "g.strategy_history"
   ]
  }
 ],
 "metadata": {
  "kernelspec": {
   "display_name": "Python 3",
   "language": "python",
   "name": "python3"
  },
  "language_info": {
   "codemirror_mode": {
    "name": "ipython",
    "version": 3
   },
   "file_extension": ".py",
   "mimetype": "text/x-python",
   "name": "python",
   "nbconvert_exporter": "python",
   "pygments_lexer": "ipython3",
   "version": "3.5.2"
  }
 },
 "nbformat": 4,
 "nbformat_minor": 0
}
